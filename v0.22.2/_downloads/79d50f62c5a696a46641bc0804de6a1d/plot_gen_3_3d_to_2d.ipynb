{
  "cells": [
    {
      "cell_type": "markdown",
      "metadata": {},
      "source": [
        "\n# Convert 3D DC/IP Data to 2D Lines\n\n3D DC/IP surveys are frequently comprised of a set of 2D survey lines.\nIn this case, the 3D survey can be parsed into a list of\n2D surveys; which can be imaged or inverted independently.\nIn this tutorial, we focus on the following:\n\n    - Loading and plotting the distribution of 3D DC/IP data using a 3D pseudo-section\n    - Parsing the 3D survey geometry and associated data to a set a 2D surveys\n    - Plotting data for each 2D survey on a 2D pseudo-section\n    - Including survey topography when plotting pseudo-sections\n\nIn this case, the survey consists of dipole-dipole data for three East-West lines\nand two North-South lines.\n"
      ]
    },
    {
      "cell_type": "markdown",
      "metadata": {},
      "source": [
        "## Import modules\n\n\n"
      ]
    },
    {
      "cell_type": "code",
      "execution_count": null,
      "metadata": {
        "collapsed": false
      },
      "outputs": [],
      "source": [
        "from simpeg import utils\nfrom simpeg.utils.io_utils.io_utils_electromagnetics import read_dcip_xyz\nfrom simpeg.electromagnetics.static.utils.static_utils import (\n    apparent_resistivity_from_voltage,\n    convert_survey_3d_to_2d_lines,\n    plot_pseudosection,\n)\n\nimport os\nimport numpy as np\nimport matplotlib as mpl\nimport matplotlib.pyplot as plt\nimport tarfile\n\nmpl.rcParams.update({\"font.size\": 16})\n\ntry:\n    import plotly\n    from simpeg.electromagnetics.static.utils.static_utils import plot_3d_pseudosection\n\n    has_plotly = True\nexcept ImportError:\n    has_plotly = False\n    pass\n\n# sphinx_gallery_thumbnail_number = 3"
      ]
    },
    {
      "cell_type": "markdown",
      "metadata": {},
      "source": [
        "## Download Assets\n\nHere we provide the file paths to assets we need to run the inversion. The\npath to the true model conductivity and chargeability models are also\nprovided for comparison with the inversion results. These files are stored as a\ntar-file on our google cloud bucket:\n\"https://storage.googleapis.com/simpeg/doc-assets/dcr3d.tar.gz\"\n\n\n\n"
      ]
    },
    {
      "cell_type": "code",
      "execution_count": null,
      "metadata": {
        "collapsed": false
      },
      "outputs": [],
      "source": [
        "# storage bucket where we have the data\ndata_source = \"https://storage.googleapis.com/simpeg/doc-assets/dcr3d.tar.gz\"\n\n# download the data\ndownloaded_data = utils.download(data_source, overwrite=True)\n\n# unzip the tarfile\ntar = tarfile.open(downloaded_data, \"r\")\ntar.extractall()\ntar.close()\n\n# path to the directory containing our data\ndir_path = downloaded_data.split(\".\")[0] + os.path.sep\n\n# files to work with\ntopo_filename = dir_path + \"topo_xyz.txt\"\ndata_filename = dir_path + \"dc_data.xyz\""
      ]
    },
    {
      "cell_type": "markdown",
      "metadata": {},
      "source": [
        "## Load the Data\n\nHere we load the file needed to run the tutorial.\nIn this case, we load the surface topography and an XYZ formatted data file\ncontaining 3D DC resistivity data.\n\n\n"
      ]
    },
    {
      "cell_type": "code",
      "execution_count": null,
      "metadata": {
        "collapsed": false
      },
      "outputs": [],
      "source": [
        "# Load 3D topography\ntopo_xyz = np.loadtxt(str(topo_filename))\n\n# Load 3D data. Here, the data are loaded from an XYZ formatted data file.\n# The user must supply the proper headers for the function to identify the\n# correct column. Using the 'dict_headers' keyword argument, we can load and\n# organize additional columns in the data file as a dictionary.\ndata_3d, out_dict = read_dcip_xyz(\n    data_filename,\n    \"volt\",\n    a_headers=[\"XA\", \"YA\", \"ZA\"],\n    b_headers=[\"XB\", \"YB\", \"ZB\"],\n    m_headers=[\"XM\", \"YM\", \"ZM\"],\n    n_headers=[\"XN\", \"YN\", \"ZN\"],\n    data_header=\"V/A\",\n    uncertainties_header=\"UNCERT\",\n    dict_headers=[\"LINEID\"],\n)"
      ]
    },
    {
      "cell_type": "markdown",
      "metadata": {},
      "source": [
        "## Plot 3D Pseudosection\n\nHere we demonstrate how 3D DC resistivity data can be represented on a 3D\npseudosection plot. To use this utility, you must have Python's *plotly*\npackage. Here, we represent the data as apparent conductivities.\n\n\n"
      ]
    },
    {
      "cell_type": "code",
      "execution_count": null,
      "metadata": {
        "collapsed": false
      },
      "outputs": [],
      "source": [
        "# Extract 3D survey and observed data\nsurvey_3d = data_3d.survey\ndobs_3d = data_3d.dobs\n\n# Convert predicted data to apparent conductivities\napparent_conductivity_3d = 1 / apparent_resistivity_from_voltage(\n    survey_3d, dobs_3d, space_type=\"half space\"\n)\n\nif has_plotly:\n    fig = plot_3d_pseudosection(\n        survey_3d,\n        apparent_conductivity_3d,\n        scale=\"log\",\n        units=\"S/m\",\n    )\n\n    fig.update_layout(\n        title_text=\"Apparent Conductivity\",\n        title_x=0.5,\n        title_font_size=24,\n        width=650,\n        height=500,\n        scene_camera=dict(\n            center=dict(x=0, y=0, z=-0.4), eye=dict(x=1.6, y=-1.6, z=1.8)\n        ),\n    )\n\n    plotly.io.show(fig)\n\nelse:\n    print(\"INSTALL 'PLOTLY' TO VISUALIZE 3D PSEUDOSECTIONS\")"
      ]
    },
    {
      "cell_type": "markdown",
      "metadata": {},
      "source": [
        "## Convert From 3D to 2D\n\nHere, we convert the 3D survey into a list of 2D surveys. A vector containing\na line ID for each datum is required. By setting 'output_indexing' to True,\nwe output a list containing the indices to extract the data for each 2D survey\nfrom vectors associated with the 3D survey.\n\n\n"
      ]
    },
    {
      "cell_type": "code",
      "execution_count": null,
      "metadata": {
        "collapsed": false
      },
      "outputs": [],
      "source": [
        "# Extract line ID from dictionary\nlineID = out_dict[\"LINEID\"]\n\n# Convert 3D survey to a list of 3D surveys\nsurvey_2d_list, index_list = convert_survey_3d_to_2d_lines(\n    survey_3d, lineID, data_type=\"volt\", output_indexing=True\n)\n\n# Create list of 2D apparent conductivities. Note that if you converted observed\n# data then computed apparent conductivities, you would be doing so assuming 2D\n# survey geometry and the values would not match those on the 3D pseudosection plot.\ndobs_2d_list = []\napparent_conductivities_2d = []\nfor ind in index_list:\n    dobs_2d_list.append(dobs_3d[ind])\n    apparent_conductivities_2d.append(apparent_conductivity_3d[ind])"
      ]
    },
    {
      "cell_type": "markdown",
      "metadata": {},
      "source": [
        "## Plot 2D Pseudosections\n\n\n"
      ]
    },
    {
      "cell_type": "code",
      "execution_count": null,
      "metadata": {
        "collapsed": false
      },
      "outputs": [],
      "source": [
        "title_str = [\n    \"East-West Line at Northing = 0 m\",\n    \"North-South Line at Easting = -350 m\",\n    \"North-South Line at Easting = -350 m\",\n]\n\n# Plot apparent conductivity pseudo-section\nfor ii in range(len(survey_2d_list)):\n    vlim = [apparent_conductivity_3d.min(), apparent_conductivity_3d.max()]\n\n    fig = plt.figure(figsize=(12, 5))\n    ax1 = fig.add_axes([0.1, 0.15, 0.75, 0.78])\n    plot_pseudosection(\n        survey_2d_list[ii],\n        dobs=apparent_conductivities_2d[ii],\n        plot_type=\"contourf\",\n        ax=ax1,\n        vlim=vlim,\n        scale=\"log\",\n        cbar_label=\"Apparent Conducitivty [S/m]\",\n        mask_topography=True,\n        contourf_opts={\"levels\": 30, \"cmap\": mpl.cm.viridis},\n    )\n    ax1.set_title(title_str[ii])\n    plt.show()"
      ]
    }
  ],
  "metadata": {
    "kernelspec": {
      "display_name": "Python 3",
      "language": "python",
      "name": "python3"
    },
    "language_info": {
      "codemirror_mode": {
        "name": "ipython",
        "version": 3
      },
      "file_extension": ".py",
      "mimetype": "text/x-python",
      "name": "python",
      "nbconvert_exporter": "python",
      "pygments_lexer": "ipython3",
      "version": "3.8.19"
    }
  },
  "nbformat": 4,
  "nbformat_minor": 0
}