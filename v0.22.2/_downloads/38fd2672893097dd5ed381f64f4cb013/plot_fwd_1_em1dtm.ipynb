{
  "cells": [
    {
      "cell_type": "markdown",
      "metadata": {},
      "source": [
        "\n# 1D Forward Simulation for a Single Sounding\n\nHere we use the module *simpeg.electromangetics.time_domain_1d* to predict\nthe stepoff response for a single sounding over a 1D layered Earth.\nIn this tutorial, we focus on the following:\n\n    - Defining receivers, waveforms, sources and the survey\n    - The units of the model and resulting data\n    - Defining and running the 1D simulation for a single sounding\n\nOur survey geometry consists of a horizontal loop source with a radius of 6 m\nlocated 20 m above the Earth's surface. The receiver is located at the centre\nof the loop and measures the vertical component of the response.\n"
      ]
    },
    {
      "cell_type": "markdown",
      "metadata": {},
      "source": [
        "## Import Modules\n\n\n"
      ]
    },
    {
      "cell_type": "code",
      "execution_count": null,
      "metadata": {
        "collapsed": false
      },
      "outputs": [],
      "source": [
        "import numpy as np\nimport os\nfrom matplotlib import pyplot as plt\n\nfrom simpeg import maps\nimport simpeg.electromagnetics.time_domain as tdem\nfrom simpeg.utils import plot_1d_layer_model\n\nwrite_output = False\nplt.rcParams.update({\"font.size\": 16})\n\n# sphinx_gallery_thumbnail_number = 2"
      ]
    },
    {
      "cell_type": "markdown",
      "metadata": {},
      "source": [
        "## Create Survey\n\nHere we demonstrate a general way to define the receivers, sources, waveforms and survey.\nFor this tutorial, the source is a horizontal loop whose current waveform\nis a unit step-off. The receiver measures the vertical component of the magnetic flux\ndensity at the loop's center.\n\n\n"
      ]
    },
    {
      "cell_type": "code",
      "execution_count": null,
      "metadata": {
        "collapsed": false
      },
      "outputs": [],
      "source": [
        "# Source properties\nsource_location = np.array([0.0, 0.0, 20.0])\nsource_orientation = \"z\"  # \"x\", \"y\" or \"z\"\nsource_current = 1.0  # maximum on-time current\nsource_radius = 6.0  # source loop radius\n\n# Receiver properties\nreceiver_location = np.array([0.0, 0.0, 20.0])\nreceiver_orientation = \"z\"  # \"x\", \"y\" or \"z\"\ntimes = np.logspace(-5, -2, 31)  # time channels (s)\n\n# Define receiver list. In our case, we have only a single receiver for each source.\n# When simulating the response for multiple component and/or field orientations,\n# the list consists of multiple receiver objects.\nreceiver_list = []\nreceiver_list.append(\n    tdem.receivers.PointMagneticFluxDensity(\n        receiver_location, times, orientation=receiver_orientation\n    )\n)\n\n# Define the source waveform. Here we define a unit step-off. The definition of\n# other waveform types is covered in a separate tutorial.\nwaveform = tdem.sources.StepOffWaveform()\n\n# Define source list. In our case, we have only a single source.\nsource_list = [\n    tdem.sources.CircularLoop(\n        receiver_list=receiver_list,\n        location=source_location,\n        waveform=waveform,\n        current=source_current,\n        radius=source_radius,\n    )\n]\n\n# Define the survey\nsurvey = tdem.Survey(source_list)"
      ]
    },
    {
      "cell_type": "markdown",
      "metadata": {},
      "source": [
        "## Defining a 1D Layered Earth Model\n\nHere, we define the layer thicknesses and electrical conductivities for our\n1D simulation. If we have N layers, we define N electrical conductivity\nvalues and N-1 layer thicknesses. The lowest layer is assumed to extend to\ninfinity. If the Earth is a halfspace, the thicknesses can be defined by\nan empty array, and the physical property values by an array of length 1.\n\nIn this case, we have a more conductive layer within a background halfspace.\nThis can be defined as a 3 layered Earth model.\n\n\n"
      ]
    },
    {
      "cell_type": "code",
      "execution_count": null,
      "metadata": {
        "collapsed": false
      },
      "outputs": [],
      "source": [
        "# Physical properties\nbackground_conductivity = 1e-1\nlayer_conductivity = 1e0\n\n# Layer thicknesses\nthicknesses = np.array([40.0, 40.0])\nn_layer = len(thicknesses) + 1\n\n# physical property models\nmodel = background_conductivity * np.ones(n_layer)\nmodel[1] = layer_conductivity\n\n# Define a mapping for conductivities\nmodel_mapping = maps.IdentityMap(nP=n_layer)\n\n# Plot conductivity model\nthicknesses_for_plotting = np.r_[thicknesses, 40.0]\n\nfig = plt.figure(figsize=(6, 5))\nax = fig.add_axes([0.15, 0.15, 0.8, 0.8])\nplot_1d_layer_model(thicknesses_for_plotting, model, ax=ax, show_layers=False)\nplt.gca().invert_yaxis()"
      ]
    },
    {
      "cell_type": "markdown",
      "metadata": {},
      "source": [
        "## Define the Forward Simulation, Predict Data and Plot\n\nHere we define the simulation and predict the 1D TDEM sounding data.\nThe simulation requires the user define the survey, the layer thicknesses\nand a mapping from the model to the conductivities of the layers.\n\nWhen using the *simpeg.electromagnetics.time_domain_1d* module,\npredicted data are organized by source, then by receiver, then by time channel.\n\n\n"
      ]
    },
    {
      "cell_type": "code",
      "execution_count": null,
      "metadata": {
        "collapsed": false
      },
      "outputs": [],
      "source": [
        "# Define the simulation\nsimulation = tdem.Simulation1DLayered(\n    survey=survey,\n    thicknesses=thicknesses,\n    sigmaMap=model_mapping,\n)\n\n# Predict data for a given model\ndpred = simulation.dpred(model)\n\n# Plot sounding\nfig = plt.figure(figsize=(6, 6))\nax = fig.add_axes([0.2, 0.15, 0.75, 0.78])\nax.loglog(times, dpred, \"k-o\", lw=2)\nax.set_xlabel(\"Times (s)\")\nax.set_ylabel(\"|B| (T)\")\nax.set_title(\"Magnetic Flux\")"
      ]
    },
    {
      "cell_type": "markdown",
      "metadata": {},
      "source": [
        "## Write Output (Optional)\n\n\n"
      ]
    },
    {
      "cell_type": "code",
      "execution_count": null,
      "metadata": {
        "collapsed": false
      },
      "outputs": [],
      "source": [
        "if write_output:\n    dir_path = os.path.dirname(__file__).split(os.path.sep)\n    dir_path.extend([\"outputs\"])\n    dir_path = os.path.sep.join(dir_path) + os.path.sep\n\n    if not os.path.exists(dir_path):\n        os.mkdir(dir_path)\n\n    np.random.seed(347)\n    noise = 0.05 * np.abs(dpred) * np.random.randn(len(dpred))\n    dpred += noise\n    fname = dir_path + \"em1dtm_data.txt\"\n    np.savetxt(fname, np.c_[times, dpred], fmt=\"%.4e\", header=\"TIME BZ\")"
      ]
    }
  ],
  "metadata": {
    "kernelspec": {
      "display_name": "Python 3",
      "language": "python",
      "name": "python3"
    },
    "language_info": {
      "codemirror_mode": {
        "name": "ipython",
        "version": 3
      },
      "file_extension": ".py",
      "mimetype": "text/x-python",
      "name": "python",
      "nbconvert_exporter": "python",
      "pygments_lexer": "ipython3",
      "version": "3.8.19"
    }
  },
  "nbformat": 4,
  "nbformat_minor": 0
}