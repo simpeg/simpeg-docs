{
  "cells": [
    {
      "cell_type": "markdown",
      "metadata": {},
      "source": [
        "\n# MT: 3D: Forward\n\nForward model 3D MT data.\n\nTest script to use simpeg.NSEM platform to forward model\nimpedance and tipper synthetic data.\n"
      ]
    },
    {
      "cell_type": "code",
      "execution_count": null,
      "metadata": {
        "collapsed": false
      },
      "outputs": [],
      "source": [
        "import discretize\nfrom simpeg.electromagnetics import natural_source as NSEM\nfrom simpeg import utils\nimport numpy as np\nimport matplotlib.pyplot as plt\n\ntry:\n    from pymatsolver import Pardiso as Solver\nexcept ImportError:\n    from simpeg import Solver\n\n\ndef run(plotIt=True):\n    \"\"\"\n    MT: 3D: Forward\n    ===============\n\n    Forward model 3D MT data.\n\n    \"\"\"\n\n    # Make a mesh\n    M = discretize.TensorMesh(\n        [\n            [(100, 9, -1.5), (100.0, 13), (100, 9, 1.5)],\n            [(100, 9, -1.5), (100.0, 13), (100, 9, 1.5)],\n            [(50, 10, -1.6), (50.0, 10), (50, 6, 2)],\n        ],\n        x0=[\"C\", \"C\", -14926.8217],\n    )\n    # Setup the model\n    conds = [1, 1e-2]\n    sig = utils.model_builder.create_block_in_wholespace(\n        M.gridCC, [-100, -100, -350], [100, 100, -150], conds\n    )\n    sig[M.gridCC[:, 2] > 0] = 1e-8\n    sig[M.gridCC[:, 2] < -1000] = 1e-1\n    sigBG = np.zeros(M.nC) + conds[1]\n    sigBG[M.gridCC[:, 2] > 0] = 1e-8\n    if plotIt:\n        collect_obj = M.plot_slice(np.log10(sig), grid=True, normal=\"X\")[0]\n        plt.colorbar(collect_obj)\n\n    # Setup the the survey object\n    # Receiver locations\n    rx_x, rx_y = np.meshgrid(np.arange(-600, 601, 100), np.arange(-600, 601, 100))\n    rx_loc = np.hstack(\n        (utils.mkvc(rx_x, 2), utils.mkvc(rx_y, 2), np.zeros((np.prod(rx_x.shape), 1)))\n    )\n\n    # Make a receiver list\n    receiver_list = []\n    for rx_orientation in [\"xx\", \"xy\", \"yx\", \"yy\"]:\n        receiver_list.append(NSEM.Rx.PointNaturalSource(rx_loc, rx_orientation, \"real\"))\n        receiver_list.append(NSEM.Rx.PointNaturalSource(rx_loc, rx_orientation, \"imag\"))\n    for rx_orientation in [\"zx\", \"zy\"]:\n        receiver_list.append(NSEM.Rx.Point3DTipper(rx_loc, rx_orientation, \"real\"))\n        receiver_list.append(NSEM.Rx.Point3DTipper(rx_loc, rx_orientation, \"imag\"))\n\n    # Source list\n    source_list = [\n        NSEM.Src.PlanewaveXYPrimary(receiver_list, freq)\n        for freq in np.logspace(4, -2, 13)\n    ]\n    # Survey MT\n    survey = NSEM.Survey(source_list)\n\n    # Setup the problem object\n    problem = NSEM.Simulation3DPrimarySecondary(\n        M,\n        survey=survey,\n        solver=Solver,\n        sigma=sig,\n        sigmaPrimary=sigBG,\n        forward_only=True,\n    )\n\n    # Calculate the data\n    # data = problem.make_synthetic_data(relative_error=0.1, add_noise=True)\n    data = NSEM.Data(survey=survey, dobs=problem.dpred())\n    # Add standard deviation to the data - 10% relative error and 0 floor\n    data.relative_error = 0.1\n    data.noise_floor = 0.0\n\n    # Add plots\n    if plotIt:\n        # Plot the data\n        # On and off diagonal (on left and right axis, respectively)\n        fig, axes = plt.subplots(2, 1, figsize=(7, 5))\n        plt.subplots_adjust(right=0.8)\n        [(ax.invert_xaxis(), ax.set_xscale(\"log\")) for ax in axes]\n        ax_r, ax_p = axes\n        ax_r.set_yscale(\"log\")\n        ax_r.set_ylabel(\"Apparent resistivity [xy-yx]\")\n        ax_r_on = ax_r.twinx()\n        ax_r_on.set_yscale(\"log\")\n        ax_r_on.set_ylabel(\"Apparent resistivity [xx-yy]\")\n        ax_p.set_ylabel(\"Apparent phase\")\n        ax_p.set_xlabel(\"Frequency [Hz]\")\n        # Start plotting\n        ax_r = data.plot_app_res(\n            np.array([-200, 0]), components=[\"xy\", \"yx\"], ax=ax_r, errorbars=True\n        )\n        ax_r_on = data.plot_app_res(\n            np.array([-200, 0]), components=[\"xx\", \"yy\"], ax=ax_r_on, errorbars=True\n        )\n        ax_p = data.plot_app_phs(\n            np.array([-200, 0]),\n            components=[\"xx\", \"xy\", \"yx\", \"yy\"],\n            ax=ax_p,\n            errorbars=True,\n        )\n        ax_p.legend(bbox_to_anchor=(1.05, 1), loc=2)\n\n\nif __name__ == \"__main__\":\n    do_plots = True\n    run(do_plots)\n    if do_plots:\n        plt.show()"
      ]
    }
  ],
  "metadata": {
    "kernelspec": {
      "display_name": "Python 3",
      "language": "python",
      "name": "python3"
    },
    "language_info": {
      "codemirror_mode": {
        "name": "ipython",
        "version": 3
      },
      "file_extension": ".py",
      "mimetype": "text/x-python",
      "name": "python",
      "nbconvert_exporter": "python",
      "pygments_lexer": "ipython3",
      "version": "3.8.19"
    }
  },
  "nbformat": 4,
  "nbformat_minor": 0
}