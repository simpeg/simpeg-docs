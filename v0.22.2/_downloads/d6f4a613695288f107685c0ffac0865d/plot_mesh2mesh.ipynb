{
  "cells": [
    {
      "cell_type": "markdown",
      "metadata": {},
      "source": [
        "\n# Maps: Mesh2Mesh\n\nThis mapping allows you to go from one mesh to another.\n"
      ]
    },
    {
      "cell_type": "code",
      "execution_count": null,
      "metadata": {
        "collapsed": false
      },
      "outputs": [],
      "source": [
        "import discretize\nfrom simpeg import maps, utils\nimport matplotlib.pyplot as plt\n\n\ndef run(plotIt=True):\n    M = discretize.TensorMesh([100, 100])\n    h1 = utils.unpack_widths([(6, 7, -1.5), (6, 10), (6, 7, 1.5)])\n    h1 = h1 / h1.sum()\n    M2 = discretize.TensorMesh([h1, h1])\n    V = utils.model_builder.create_random_model(M.vnC, seed=79, its=50)\n    v = utils.mkvc(V)\n    modh = maps.Mesh2Mesh([M, M2])\n    modH = maps.Mesh2Mesh([M2, M])\n    H = modH * v\n    h = modh * H\n\n    if not plotIt:\n        return\n\n    ax = plt.subplot(131)\n    M.plot_image(v, ax=ax)\n    ax.set_title(\"Fine Mesh (Original)\")\n    ax = plt.subplot(132)\n    M2.plot_image(H, clim=[0, 1], ax=ax)\n    ax.set_title(\"Course Mesh\")\n    ax = plt.subplot(133)\n    M.plot_image(h, clim=[0, 1], ax=ax)\n    ax.set_title(\"Fine Mesh (Interpolated)\")\n\n\nif __name__ == \"__main__\":\n    run()\n    plt.show()"
      ]
    }
  ],
  "metadata": {
    "kernelspec": {
      "display_name": "Python 3",
      "language": "python",
      "name": "python3"
    },
    "language_info": {
      "codemirror_mode": {
        "name": "ipython",
        "version": 3
      },
      "file_extension": ".py",
      "mimetype": "text/x-python",
      "name": "python",
      "nbconvert_exporter": "python",
      "pygments_lexer": "ipython3",
      "version": "3.8.19"
    }
  },
  "nbformat": 4,
  "nbformat_minor": 0
}