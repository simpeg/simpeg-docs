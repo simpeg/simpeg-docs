{
  "cells": [
    {
      "cell_type": "markdown",
      "metadata": {},
      "source": [
        "\n# Predict Response from a Conductive and Magnetically Viscous Earth\n\nHere, we predict the vertical db/dt response over a conductive and\nmagnetically viscous Earth for a small coincident loop system. Following\nthe theory, the total response is approximately equal to the sum of the\ninductive and VRM responses modelled separately. The simpeg.VRM module is\nused to model the VRM response while an analytic solution for a conductive\nhalf-space is used to model the inductive response.\n"
      ]
    },
    {
      "cell_type": "markdown",
      "metadata": {},
      "source": [
        "## Import modules\n\n\n"
      ]
    },
    {
      "cell_type": "code",
      "execution_count": null,
      "metadata": {
        "collapsed": false
      },
      "outputs": [],
      "source": [
        "from simpeg.electromagnetics import viscous_remanent_magnetization as VRM\nimport numpy as np\nimport discretize\nfrom simpeg import mkvc, maps\nimport matplotlib.pyplot as plt\nimport matplotlib as mpl"
      ]
    },
    {
      "cell_type": "markdown",
      "metadata": {},
      "source": [
        "## Defining the mesh\n\n\n"
      ]
    },
    {
      "cell_type": "code",
      "execution_count": null,
      "metadata": {
        "collapsed": false
      },
      "outputs": [],
      "source": [
        "cs, ncx, ncy, ncz, npad = 2.0, 35, 35, 20, 5\nhx = [(cs, npad, -1.3), (cs, ncx), (cs, npad, 1.3)]\nhy = [(cs, npad, -1.3), (cs, ncy), (cs, npad, 1.3)]\nhz = [(cs, npad, -1.3), (cs, ncz), (cs, npad, 1.3)]\nmesh = discretize.TensorMesh([hx, hy, hz], \"CCC\")"
      ]
    },
    {
      "cell_type": "markdown",
      "metadata": {},
      "source": [
        "## Defining the model\n\nCreate xi model (amalgamated magnetic property). Here the model is made by\nsumming a set of 3D Gaussian distributions. And only active cells have a\nmodel value.\n\n\n"
      ]
    },
    {
      "cell_type": "code",
      "execution_count": null,
      "metadata": {
        "collapsed": false
      },
      "outputs": [],
      "source": [
        "topoCells = mesh.gridCC[:, 2] < 0.0  # Define topography\n\nxyzc = mesh.gridCC[topoCells, :]\nc = 2 * np.pi * 8**2\npc = np.r_[4e-4, 4e-4, 4e-4, 6e-4, 8e-4, 6e-4, 8e-4, 8e-4]\nx_0 = np.r_[50.0, -50.0, -40.0, -20.0, -15.0, 20.0, -10.0, 25.0]\ny_0 = np.r_[0.0, 0.0, 40.0, 10.0, -20.0, 15.0, 0.0, 0.0]\nz_0 = np.r_[0.0, 0.0, 0.0, 0.0, 0.0, 0.0, 0.0, 0.0]\nvar_x = c * np.r_[3.0, 3.0, 3.0, 1.0, 3.0, 0.5, 0.1, 0.1]\nvar_y = c * np.r_[20.0, 20.0, 1.0, 1.0, 0.4, 0.5, 0.1, 0.4]\nvar_z = c * np.r_[1.0, 1.0, 1.0, 1.0, 1.0, 1.0, 1.0, 1.0]\n\nxi_true = np.zeros(np.shape(xyzc[:, 0]))\n\nfor ii in range(0, 8):\n    xi_true += (\n        pc[ii]\n        * np.exp(-((xyzc[:, 0] - x_0[ii]) ** 2) / var_x[ii])\n        * np.exp(-((xyzc[:, 1] - y_0[ii]) ** 2) / var_y[ii])\n        * np.exp(-((xyzc[:, 2] - z_0[ii]) ** 2) / var_z[ii])\n    )\n\nxi_true += 1e-5"
      ]
    },
    {
      "cell_type": "markdown",
      "metadata": {},
      "source": [
        "## Survey\n\nHere we must set the transmitter waveform, which defines the off-time decay\nof the VRM response. Next we define the sources, receivers and time channels\nfor the survey. Our example is similar to an EM-63 survey.\n\n\n"
      ]
    },
    {
      "cell_type": "code",
      "execution_count": null,
      "metadata": {
        "collapsed": false
      },
      "outputs": [],
      "source": [
        "waveform = VRM.waveforms.StepOff()\n\ntimes = np.logspace(-5, -2, 31)  # Observation times\nx, y = np.meshgrid(np.linspace(-30, 30, 21), np.linspace(-30, 30, 21))\nz = 0.5 * np.ones(x.shape)\nloc = np.c_[mkvc(x), mkvc(y), mkvc(z)]  # Src and Rx Locations\n\nsrc_list_vrm = []\n\nfor pp in range(0, loc.shape[0]):\n    loc_pp = np.reshape(loc[pp, :], (1, 3))\n    rx_list_vrm = [\n        VRM.Rx.Point(loc_pp, times=times, field_type=\"dbdt\", orientation=\"z\")\n    ]\n\n    src_list_vrm.append(\n        VRM.Src.MagDipole(rx_list_vrm, mkvc(loc[pp, :]), [0.0, 0.0, 0.01], waveform)\n    )\n\nsurvey_vrm = VRM.Survey(src_list_vrm)"
      ]
    },
    {
      "cell_type": "markdown",
      "metadata": {},
      "source": [
        "## Simulation\n\nFor the VRM problem, we used a sensitivity refinement strategy for cells\nthat are proximal to transmitters. This is controlled through the\n*refinement_factor* and *refinement_distance* properties.\n\n\n"
      ]
    },
    {
      "cell_type": "code",
      "execution_count": null,
      "metadata": {
        "collapsed": false
      },
      "outputs": [],
      "source": [
        "# Defining the problem\nproblem_vrm = VRM.Simulation3DLinear(\n    mesh,\n    survey=survey_vrm,\n    indActive=topoCells,\n    refinement_factor=3,\n    refinement_distance=[1.25, 2.5, 3.75],\n)\n\n# Predict VRM response\nfields_vrm = problem_vrm.fields(xi_true)\n\nn_times = len(times)\nn_loc = loc.shape[0]\nfields_vrm = np.reshape(fields_vrm, (n_loc, n_times))\n\n# Add an artificial TEM response. An analytic solution for the response near\n# the surface of a conductive half-space (Nabighian, 1979) is scaled at each\n# location to provide lateral variability in the TEM response.\n\nsig = 1e-1\nmu0 = 4 * np.pi * 1e-7\nfields_tem = -(sig**1.5) * mu0**2.5 * times**-2.5 / (20 * np.pi**1.5)\nfields_tem = np.kron(np.ones((n_loc, 1)), np.reshape(fields_tem, (1, n_times)))\nc = (\n    np.exp(-((loc[:, 0] - 10) ** 2) / (25**2))\n    * np.exp(-((loc[:, 1] - 20) ** 2) / (35**2))\n    + np.exp(-((loc[:, 0] + 20) ** 2) / (20**2))\n    * np.exp(-((loc[:, 1] + 20) ** 2) / (40**2))\n    + 1.5\n    * np.exp(-((loc[:, 0] - 25) ** 2) / (10**2))\n    * np.exp(-((loc[:, 1] + 25) ** 2) / (10**2))\n    + 0.25\n)\n\nc = np.kron(np.reshape(c, (len(c), 1)), np.ones((1, n_times)))\nfields_tem = c * fields_tem"
      ]
    },
    {
      "cell_type": "markdown",
      "metadata": {},
      "source": [
        "## Plotting\n\n\n"
      ]
    },
    {
      "cell_type": "code",
      "execution_count": null,
      "metadata": {
        "collapsed": false
      },
      "outputs": [],
      "source": [
        "# Plotting the model\n\nFig = plt.figure(figsize=(10, 10))\nfont_size = 12\n\nplotMap = maps.InjectActiveCells(mesh, topoCells, 0.0)  # Maps to mesh\nax1 = 4 * [None]\ncplot1 = 3 * [None]\nview_str = [\"X\", \"Y\", \"Z\"]\nparam_1 = [ncx, ncy, ncz]\nparam_2 = [6, 0, 1]\nparam_3 = [-12, 0, 0]\n\nfor qq in range(0, 3):\n    ax1[qq] = Fig.add_axes([0.07 + qq * 0.29, 0.7, 0.23, 0.23])\n    cplot1[qq] = mesh.plot_slice(\n        plotMap * xi_true,\n        normal=view_str[qq],\n        ind=int((param_1[qq] + 2 * npad) / 2 - param_2[qq]),\n        ax=ax1[qq],\n        grid=True,\n        pcolor_opts={\"cmap\": \"gist_heat_r\"},\n    )\n    cplot1[qq][0].set_clim((0.0, np.max(xi_true)))\n    ax1[qq].set_xlabel(\"Y [m]\", fontsize=font_size)\n    ax1[qq].set_ylabel(\"Z [m]\", fontsize=font_size, labelpad=-10)\n    ax1[qq].tick_params(labelsize=font_size - 2)\n    ax1[qq].set_title(\n        \"True Model (x = {} m)\".format(param_3[qq]), fontsize=font_size + 2\n    )\n\nax1[3] = Fig.add_axes([0.89, 0.7, 0.01, 0.24])\nnorm = mpl.colors.Normalize(vmin=0.0, vmax=np.max(xi_true))\ncbar14 = mpl.colorbar.ColorbarBase(\n    ax1[3], cmap=mpl.cm.gist_heat_r, norm=norm, orientation=\"vertical\"\n)\ncbar14.set_label(\n    r\"$\\Delta \\chi /$ln$(\\lambda_2 / \\lambda_1 )$ [SI]\",\n    rotation=270,\n    labelpad=15,\n    size=font_size,\n)\n\n# Plotting the decay\n\nax2 = 2 * [None]\nn = x.shape[0]\nfor qq in range(0, 2):\n    ax2[qq] = Fig.add_axes([0.1 + 0.47 * qq, 0.335, 0.38, 0.29])\n    k = int((n**2 - 1) / 2 - 3 * n * (-1) ** qq)\n    di_vrm = mkvc(np.abs(fields_vrm[k, :]))\n    di_tem = mkvc(np.abs(fields_tem[k, :]))\n    ax2[qq].loglog(times, di_tem, \"r.-\")\n    ax2[qq].loglog(times, di_vrm, \"b.-\")\n    ax2[qq].loglog(times, di_tem + di_vrm, \"k.-\")\n    ax2[qq].set_xlabel(\"t [s]\", fontsize=font_size)\n    if qq == 0:\n        ax2[qq].set_ylabel(\"|dBz/dt| [T/s]\", fontsize=font_size)\n    else:\n        ax2[qq].axes.get_yaxis().set_visible(False)\n    ax2[qq].tick_params(labelsize=font_size - 2)\n    ax2[qq].set_xbound(np.min(times), np.max(times))\n    ax2[qq].set_ybound(1.2 * np.max(di_tem + di_vrm), 1e-5 * np.max(di_tem + di_vrm))\n    titlestr2 = (\n        \"Decay at X = \"\n        + \"{:.2f}\".format(loc[k, 0])\n        + \" m and Y = \"\n        + \"{:.2f}\".format(loc[k, 1])\n        + \" m\"\n    )\n    ax2[qq].set_title(titlestr2, fontsize=font_size + 2)\n    if qq == 0:\n        ax2[qq].text(\n            1.2e-5, 18 * np.max(di_tem) / 1e5, \"TEM\", fontsize=font_size, color=\"r\"\n        )\n        ax2[qq].text(\n            1.2e-5, 6 * np.max(di_tem) / 1e5, \"VRM\", fontsize=font_size, color=\"b\"\n        )\n        ax2[qq].text(\n            1.2e-5, 2 * np.max(di_tem) / 1e5, \"TEM + VRM\", fontsize=font_size, color=\"k\"\n        )\n\n# Plotting the TEM anomalies\n\nax3 = 3 * [None]\ncplot3 = 3 * [None]\ncbar3 = 3 * [None]\nfor qq in range(0, 3):\n    ax3[qq] = Fig.add_axes([0.07 + 0.31 * qq, 0.05, 0.24, 0.21])\n    d = np.reshape(np.abs(fields_tem[:, 10 * qq] + fields_vrm[:, 10 * qq]), (n, n))\n    cplot3[qq] = ax3[qq].contourf(x, y, d.T, 40, cmap=\"magma_r\")\n    cbar3[qq] = plt.colorbar(cplot3[qq], ax=ax3[qq], pad=0.02, format=\"%.2e\")\n    cbar3[qq].set_label(\"[T/s]\", rotation=270, labelpad=12, size=font_size)\n    cbar3[qq].ax.tick_params(labelsize=font_size - 2)\n    ax3[qq].set_xlabel(\"X [m]\", fontsize=font_size)\n    if qq == 0:\n        ax3[qq].scatter(x, y, color=(0, 0, 0), s=4)\n        ax3[qq].set_ylabel(\"Y [m]\", fontsize=font_size, labelpad=-8)\n    else:\n        ax3[qq].axes.get_yaxis().set_visible(False)\n    ax3[qq].tick_params(labelsize=font_size - 2)\n    ax3[qq].set_xbound(np.min(x), np.max(x))\n    ax3[qq].set_ybound(np.min(y), np.max(y))\n    titlestr3 = \"dBz/dt at t=\" + \"{:.1e}\".format(times[10 * qq]) + \" s\"\n    ax3[qq].set_title(titlestr3, fontsize=font_size + 2)\nplt.show()"
      ]
    }
  ],
  "metadata": {
    "kernelspec": {
      "display_name": "Python 3",
      "language": "python",
      "name": "python3"
    },
    "language_info": {
      "codemirror_mode": {
        "name": "ipython",
        "version": 3
      },
      "file_extension": ".py",
      "mimetype": "text/x-python",
      "name": "python",
      "nbconvert_exporter": "python",
      "pygments_lexer": "ipython3",
      "version": "3.8.19"
    }
  },
  "nbformat": 4,
  "nbformat_minor": 0
}