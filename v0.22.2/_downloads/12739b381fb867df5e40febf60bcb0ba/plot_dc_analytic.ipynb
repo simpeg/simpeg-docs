{
  "cells": [
    {
      "cell_type": "markdown",
      "metadata": {},
      "source": [
        "\n# DC Analytic Dipole\n\nComparison of the analytic and numerical solution for a direct current\nresistivity dipole in 3D.\n"
      ]
    },
    {
      "cell_type": "code",
      "execution_count": null,
      "metadata": {
        "collapsed": false
      },
      "outputs": [],
      "source": [
        "import discretize\nfrom simpeg import utils\nimport numpy as np\nimport matplotlib.pyplot as plt\nfrom simpeg.electromagnetics.static import resistivity as DC\n\ntry:\n    from pymatsolver import Pardiso as Solver\nexcept ImportError:\n    from simpeg import SolverLU as Solver\n\n\ncs = 25.0\nhx = [(cs, 7, -1.3), (cs, 21), (cs, 7, 1.3)]\nhy = [(cs, 7, -1.3), (cs, 21), (cs, 7, 1.3)]\nhz = [(cs, 7, -1.3), (cs, 20)]\nmesh = discretize.TensorMesh([hx, hy, hz], \"CCN\")\nsighalf = 1e-2\nsigma = np.ones(mesh.nC) * sighalf\nxtemp = np.linspace(-150, 150, 21)\nytemp = np.linspace(-150, 150, 21)\nxyz_rxP = utils.ndgrid(xtemp - 10.0, ytemp, np.r_[0.0])\nxyz_rxN = utils.ndgrid(xtemp + 10.0, ytemp, np.r_[0.0])\nxyz_rxM = utils.ndgrid(xtemp, ytemp, np.r_[0.0])\n\n\nrx = DC.Rx.Dipole(xyz_rxP, xyz_rxN)\nsrc = DC.Src.Dipole([rx], np.r_[-200, 0, -12.5], np.r_[+200, 0, -12.5])\nsurvey = DC.Survey([src])\nsim = DC.Simulation3DCellCentered(\n    mesh, survey=survey, solver=Solver, sigma=sigma, bc_type=\"Neumann\"\n)\n\ndata = sim.dpred()\n\n\ndef DChalf(srclocP, srclocN, rxloc, sigma, I=1.0):\n    rp = (srclocP.reshape([1, -1])).repeat(rxloc.shape[0], axis=0)\n    rn = (srclocN.reshape([1, -1])).repeat(rxloc.shape[0], axis=0)\n    rP = np.sqrt(((rxloc - rp) ** 2).sum(axis=1))\n    rN = np.sqrt(((rxloc - rn) ** 2).sum(axis=1))\n    return I / (sigma * 2.0 * np.pi) * (1 / rP - 1 / rN)\n\n\ndata_anaP = DChalf(np.r_[-200, 0, 0.0], np.r_[+200, 0, 0.0], xyz_rxP, sighalf)\ndata_anaN = DChalf(np.r_[-200, 0, 0.0], np.r_[+200, 0, 0.0], xyz_rxN, sighalf)\ndata_ana = data_anaP - data_anaN\nData_ana = data_ana.reshape((21, 21), order=\"F\")\nData = data.reshape((21, 21), order=\"F\")\nX = xyz_rxM[:, 0].reshape((21, 21), order=\"F\")\nY = xyz_rxM[:, 1].reshape((21, 21), order=\"F\")\n\n\nfig, ax = plt.subplots(1, 2, figsize=(12, 5))\nvmin = np.r_[data, data_ana].min()\nvmax = np.r_[data, data_ana].max()\ndat0 = ax[0].contourf(X, Y, Data_ana, 60, vmin=vmin, vmax=vmax)\ndat1 = ax[1].contourf(X, Y, Data, 60, vmin=vmin, vmax=vmax)\nplt.colorbar(dat0, orientation=\"horizontal\", ax=ax[0])\nplt.colorbar(dat1, orientation=\"horizontal\", ax=ax[1])\nax[0].set_title(\"Analytic\")\nax[1].set_title(\"Computed\")\n\nprint(np.linalg.norm(data - data_ana) / np.linalg.norm(data_ana))\nplt.show()"
      ]
    }
  ],
  "metadata": {
    "kernelspec": {
      "display_name": "Python 3",
      "language": "python",
      "name": "python3"
    },
    "language_info": {
      "codemirror_mode": {
        "name": "ipython",
        "version": 3
      },
      "file_extension": ".py",
      "mimetype": "text/x-python",
      "name": "python",
      "nbconvert_exporter": "python",
      "pygments_lexer": "ipython3",
      "version": "3.8.19"
    }
  },
  "nbformat": 4,
  "nbformat_minor": 0
}