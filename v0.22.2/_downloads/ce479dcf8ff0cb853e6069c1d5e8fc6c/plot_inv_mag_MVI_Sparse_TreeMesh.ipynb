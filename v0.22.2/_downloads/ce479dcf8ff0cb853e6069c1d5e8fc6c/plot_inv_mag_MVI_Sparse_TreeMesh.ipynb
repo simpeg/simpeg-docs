{
  "cells": [
    {
      "cell_type": "markdown",
      "metadata": {},
      "source": [
        "\n# Magnetic inversion on a TreeMesh\n\nIn this example, we demonstrate the use of a Magnetic Vector Inverison\non 3D TreeMesh for the inversion of magnetics affected by remanence.\nThe mesh is auto-generated based\non the position of the observation locations and topography.\n\nWe invert the data twice, first for a smooth starting model using the\nCartesian coordinate system, and second for a compact model using\nthe Spherical formulation.\n\nThe inverse problem uses the :class:'simpeg.regularization.Sparse'\nthat\n"
      ]
    },
    {
      "cell_type": "code",
      "execution_count": null,
      "metadata": {
        "collapsed": false
      },
      "outputs": [],
      "source": [
        "from simpeg import (\n    data,\n    data_misfit,\n    directives,\n    maps,\n    inverse_problem,\n    optimization,\n    inversion,\n    regularization,\n)\n\nfrom simpeg import utils\nfrom simpeg.utils import mkvc\n\nfrom discretize.utils import active_from_xyz, mesh_builder_xyz, refine_tree_xyz\nfrom simpeg.potential_fields import magnetics\nimport scipy as sp\nimport numpy as np\nimport matplotlib.pyplot as plt\n\n\n# sphinx_gallery_thumbnail_number = 3"
      ]
    },
    {
      "cell_type": "markdown",
      "metadata": {},
      "source": [
        "## Setup\n\nDefine the survey and model parameters\n\nFirst we need to define the direction of the inducing field\nAs a simple case, we pick a vertical inducing field of magnitude 50,000 nT.\n\n\n\n"
      ]
    },
    {
      "cell_type": "code",
      "execution_count": null,
      "metadata": {
        "collapsed": false
      },
      "outputs": [],
      "source": [
        "np.random.seed(1)\n# We will assume a vertical inducing field\nh0_amplitude, h0_inclination, h0_declination = (50000.0, 90.0, 0.0)\n\n# The magnetization is set along a different direction (induced + remanence)\nM = np.array([45.0, 90.0])\n\n# Create grid of points for topography\n# Lets create a simple Gaussian topo and set the active cells\n[xx, yy] = np.meshgrid(np.linspace(-200, 200, 50), np.linspace(-200, 200, 50))\nb = 100\nA = 50\nzz = A * np.exp(-0.5 * ((xx / b) ** 2.0 + (yy / b) ** 2.0))\n\ntopo = np.c_[utils.mkvc(xx), utils.mkvc(yy), utils.mkvc(zz)]\n\n# Create an array of observation points\nxr = np.linspace(-100.0, 100.0, 20)\nyr = np.linspace(-100.0, 100.0, 20)\nX, Y = np.meshgrid(xr, yr)\nZ = A * np.exp(-0.5 * ((X / b) ** 2.0 + (Y / b) ** 2.0)) + 5\n\n# Create a MAGsurvey\nxyzLoc = np.c_[mkvc(X.T), mkvc(Y.T), mkvc(Z.T)]\nrxLoc = magnetics.receivers.Point(xyzLoc)\nsrcField = magnetics.sources.UniformBackgroundField(\n    receiver_list=[rxLoc],\n    amplitude=h0_amplitude,\n    inclination=h0_inclination,\n    declination=h0_declination,\n)\nsurvey = magnetics.survey.Survey(srcField)\n\n# Here how the topography looks with a quick interpolation, just a Gaussian...\ntri = sp.spatial.Delaunay(topo)\nfig = plt.figure()\nax = fig.add_subplot(1, 1, 1, projection=\"3d\")\nax.plot_trisurf(\n    topo[:, 0], topo[:, 1], topo[:, 2], triangles=tri.simplices, cmap=plt.cm.Spectral\n)\nax.scatter3D(xyzLoc[:, 0], xyzLoc[:, 1], xyzLoc[:, 2], c=\"k\")\nplt.show()"
      ]
    },
    {
      "cell_type": "markdown",
      "metadata": {},
      "source": [
        "## Inversion Mesh\n\nHere, we create a TreeMesh with base cell size of 5 m. We created a small\nutility function to center the mesh around points and to figure out the\noutermost dimension for adequate padding distance.\nThe second stage allows us to refine the mesh around points or surfaces\n(point assumed to follow some horizontal trend)\nThe refinement process is repeated twice to allow for a finer level around\nthe survey locations.\n\n\n"
      ]
    },
    {
      "cell_type": "code",
      "execution_count": null,
      "metadata": {
        "collapsed": false
      },
      "outputs": [],
      "source": [
        "# Create a mesh\nh = [5, 5, 5]\npadDist = np.ones((3, 2)) * 100\n\nmesh = mesh_builder_xyz(\n    xyzLoc, h, padding_distance=padDist, depth_core=100, mesh_type=\"tree\"\n)\nmesh = refine_tree_xyz(\n    mesh, topo, method=\"surface\", octree_levels=[4, 4], finalize=True\n)\n\n\n# Define an active cells from topo\nactv = active_from_xyz(mesh, topo)\nnC = int(actv.sum())"
      ]
    },
    {
      "cell_type": "markdown",
      "metadata": {},
      "source": [
        "## Forward modeling data\n\nWe can now create a magnetization model and generate data\nLets start with a block below topography\n\n\n"
      ]
    },
    {
      "cell_type": "code",
      "execution_count": null,
      "metadata": {
        "collapsed": false
      },
      "outputs": [],
      "source": [
        "model = np.zeros((mesh.nC, 3))\n\n# Convert the inclination declination to vector in Cartesian\nM_xyz = utils.mat_utils.dip_azimuth2cartesian(M[0], M[1])\n\n# Get the indicies of the magnetized block\nind = utils.model_builder.get_indices_block(\n    np.r_[-20, -20, -10],\n    np.r_[20, 20, 25],\n    mesh.gridCC,\n)[0]\n\n# Assign magnetization values\nmodel[ind, :] = np.kron(np.ones((ind.shape[0], 1)), M_xyz * 0.05)\n\n# Remove air cells\nmodel = model[actv, :]\n\n# Create active map to go from reduce set to full\nactvMap = maps.InjectActiveCells(mesh, actv, np.nan)\n\n# Creat reduced identity map\nidenMap = maps.IdentityMap(nP=nC * 3)\n\n# Create the simulation\nsimulation = magnetics.simulation.Simulation3DIntegral(\n    survey=survey, mesh=mesh, chiMap=idenMap, ind_active=actv, model_type=\"vector\"\n)\n\n# Compute some data and add some random noise\nd = simulation.dpred(mkvc(model))\nstd = 5  # nT\nsynthetic_data = d + np.random.randn(len(d)) * std\nwd = np.ones(len(d)) * std\n\n# Assign data and uncertainties to the survey\ndata_object = data.Data(survey, dobs=synthetic_data, standard_deviation=wd)\n\n# Create an projection matrix for plotting later\nactv_plot = maps.InjectActiveCells(mesh, actv, np.nan)\n\n# Plot the model and data\nplt.figure()\nax = plt.subplot(2, 1, 1)\nim = utils.plot_utils.plot2Ddata(xyzLoc, synthetic_data, ax=ax)\nplt.colorbar(im[0])\nax.set_title(\"Predicted data.\")\nplt.gca().set_aspect(\"equal\", adjustable=\"box\")\n\n# Plot the vector model\nax = plt.subplot(2, 1, 2)\nmesh.plot_slice(\n    actv_plot * model.reshape((-1, 3), order=\"F\"),\n    v_type=\"CCv\",\n    view=\"vec\",\n    ax=ax,\n    normal=\"Y\",\n    ind=66,\n    grid=True,\n    quiver_opts={\n        \"pivot\": \"mid\",\n        \"scale\": 5 * np.abs(model).max(),\n        \"scale_units\": \"inches\",\n    },\n)\nax.set_xlim([-200, 200])\nax.set_ylim([-100, 75])\nax.set_xlabel(\"x\")\nax.set_ylabel(\"y\")\nplt.gca().set_aspect(\"equal\", adjustable=\"box\")\n\nplt.show()"
      ]
    },
    {
      "cell_type": "markdown",
      "metadata": {},
      "source": [
        "## Inversion\n\nWe can now attempt the inverse calculations. We put great care\ninto designing an inversion methology that would yield a geologically\nreasonable solution for the non-induced problem.\nThe inversion is done in two stages. First we compute a smooth\nsolution using a Cartesian coordinate system, then a sparse\ninversion in the Spherical domain.\n\n\n"
      ]
    },
    {
      "cell_type": "code",
      "execution_count": null,
      "metadata": {
        "collapsed": false
      },
      "outputs": [],
      "source": [
        "# Create sensitivity weights from our linear forward operator\nrxLoc = survey.source_field.receiver_list[0].locations\n\n# This Mapping connects the regularizations for the three-component\n# vector model\nwires = maps.Wires((\"p\", nC), (\"s\", nC), (\"t\", nC))\n\n\nm0 = np.ones(3 * nC) * 1e-4  # Starting model\n\n# Create three regularizations for the different components\n# of magnetization\nreg_p = regularization.Sparse(mesh, active_cells=actv, mapping=wires.p)\nreg_p.reference_model = np.zeros(3 * nC)\n\nreg_s = regularization.Sparse(mesh, active_cells=actv, mapping=wires.s)\nreg_s.reference_model = np.zeros(3 * nC)\n\nreg_t = regularization.Sparse(mesh, active_cells=actv, mapping=wires.t)\nreg_t.reference_model = np.zeros(3 * nC)\n\nreg = reg_p + reg_s + reg_t\nreg.reference_model = np.zeros(3 * nC)\n\n# Data misfit function\ndmis = data_misfit.L2DataMisfit(simulation=simulation, data=data_object)\ndmis.W = 1.0 / data_object.standard_deviation\n\n# Add directives to the inversion\nopt = optimization.ProjectedGNCG(\n    maxIter=10, lower=-10, upper=10.0, maxIterLS=20, maxIterCG=20, tolCG=1e-4\n)\n\ninvProb = inverse_problem.BaseInvProblem(dmis, reg, opt)\n\n# A list of directive to control the inverson\nbetaest = directives.BetaEstimate_ByEig(beta0_ratio=1e1)\n\n# Add sensitivity weights\nsensitivity_weights = directives.UpdateSensitivityWeights()\n\n# Here is where the norms are applied\n# Use a threshold parameter empirically based on the distribution of\n#  model parameters\nIRLS = directives.Update_IRLS(f_min_change=1e-3, max_irls_iterations=2, beta_tol=5e-1)\n\n# Pre-conditioner\nupdate_Jacobi = directives.UpdatePreconditioner()\n\ninv = inversion.BaseInversion(\n    invProb, directiveList=[sensitivity_weights, IRLS, update_Jacobi, betaest]\n)\n\n# Run the inversion\nmrec_MVIC = inv.run(m0)"
      ]
    },
    {
      "cell_type": "markdown",
      "metadata": {},
      "source": [
        "## Sparse Vector Inversion\n\nRe-run the MVI in the spherical domain so we can impose\nsparsity in the vectors.\n\n\n\n"
      ]
    },
    {
      "cell_type": "code",
      "execution_count": null,
      "metadata": {
        "collapsed": false
      },
      "outputs": [],
      "source": [
        "spherical_map = maps.SphericalSystem()\nm_start = utils.mat_utils.cartesian2spherical(mrec_MVIC.reshape((nC, 3), order=\"F\"))\nbeta = invProb.beta\ndmis.simulation.chiMap = spherical_map\ndmis.simulation.model = m_start\n\n# Create a block diagonal regularization\nwires = maps.Wires((\"amp\", nC), (\"theta\", nC), (\"phi\", nC))\n\n# Create a Combo Regularization\n# Regularize the amplitude of the vectors\nreg_a = regularization.Sparse(\n    mesh,\n    gradient_type=\"total\",\n    active_cells=actv,\n    mapping=wires.amp,\n    norms=[0.0, 1.0, 1.0, 1.0],  # Only norm on gradients used,\n    reference_model=np.zeros(3 * nC),\n)\n\n# Regularize the vertical angle of the vectors\nreg_t = regularization.Sparse(\n    mesh,\n    gradient_type=\"total\",\n    active_cells=actv,\n    mapping=wires.theta,\n    alpha_s=0.0,  # No reference angle,\n    norms=[0.0, 1.0, 1.0, 1.0],  # Only norm on gradients used,\n)\nreg_t.units = \"radian\"\n\n# Regularize the horizontal angle of the vectors\nreg_p = regularization.Sparse(\n    mesh,\n    gradient_type=\"total\",\n    active_cells=actv,\n    mapping=wires.phi,\n    alpha_s=0.0,  # No reference angle,\n    norms=[0.0, 1.0, 1.0, 1.0],  # Only norm on gradients used,\n)\nreg_p.units = \"radian\"\n\nreg = reg_a + reg_t + reg_p\nreg.reference_model = np.zeros(3 * nC)\n\nlower_bound = np.kron(np.asarray([0, -np.inf, -np.inf]), np.ones(nC))\nupper_bound = np.kron(np.asarray([10, np.inf, np.inf]), np.ones(nC))\n\n# Add directives to the inversion\nopt = optimization.ProjectedGNCG(\n    maxIter=20,\n    lower=lower_bound,\n    upper=upper_bound,\n    maxIterLS=20,\n    maxIterCG=30,\n    tolCG=1e-3,\n    stepOffBoundsFact=1e-3,\n)\nopt.approxHinv = None\n\ninvProb = inverse_problem.BaseInvProblem(dmis, reg, opt, beta=beta)\n\n# Here is where the norms are applied\nirls = directives.Update_IRLS(\n    f_min_change=1e-4,\n    max_irls_iterations=20,\n    minGNiter=1,\n    beta_tol=0.5,\n    coolingRate=1,\n    coolEps_q=True,\n    sphericalDomain=True,\n)\n\n# Special directive specific to the mag amplitude problem. The sensitivity\n# weights are updated between each iteration.\nspherical_projection = directives.ProjectSphericalBounds()\nsensitivity_weights = directives.UpdateSensitivityWeights()\nupdate_Jacobi = directives.UpdatePreconditioner()\n\ninv = inversion.BaseInversion(\n    invProb,\n    directiveList=[spherical_projection, irls, sensitivity_weights, update_Jacobi],\n)\n\nmrec_MVI_S = inv.run(m_start)"
      ]
    },
    {
      "cell_type": "markdown",
      "metadata": {},
      "source": [
        "## Final Plot\n\nLet's compare the smooth and compact model\n\n\n\n\n"
      ]
    },
    {
      "cell_type": "code",
      "execution_count": null,
      "metadata": {
        "collapsed": false
      },
      "outputs": [],
      "source": [
        "plt.figure(figsize=(8, 8))\nax = plt.subplot(2, 1, 1)\nmesh.plot_slice(\n    actv_plot * mrec_MVIC.reshape((nC, 3), order=\"F\"),\n    v_type=\"CCv\",\n    view=\"vec\",\n    ax=ax,\n    normal=\"Y\",\n    ind=66,\n    grid=True,\n    quiver_opts={\n        \"pivot\": \"mid\",\n        \"scale\": 5 * np.abs(mrec_MVIC).max(),\n        \"scale_units\": \"inches\",\n    },\n)\nax.set_xlim([-200, 200])\nax.set_ylim([-100, 75])\nax.set_title(\"Smooth model (Cartesian)\")\nax.set_xlabel(\"x\")\nax.set_ylabel(\"y\")\nplt.gca().set_aspect(\"equal\", adjustable=\"box\")\n\nax = plt.subplot(2, 1, 2)\nvec_xyz = utils.mat_utils.spherical2cartesian(\n    mrec_MVI_S.reshape((nC, 3), order=\"F\")\n).reshape((nC, 3), order=\"F\")\n\nmesh.plot_slice(\n    actv_plot * vec_xyz,\n    v_type=\"CCv\",\n    view=\"vec\",\n    ax=ax,\n    normal=\"Y\",\n    ind=66,\n    grid=True,\n    quiver_opts={\n        \"pivot\": \"mid\",\n        \"scale\": 5 * np.abs(vec_xyz).max(),\n        \"scale_units\": \"inches\",\n    },\n)\nax.set_xlim([-200, 200])\nax.set_ylim([-100, 75])\nax.set_title(\"Sparse model (L0L2)\")\nax.set_xlabel(\"x\")\nax.set_ylabel(\"y\")\nplt.gca().set_aspect(\"equal\", adjustable=\"box\")\n\nplt.show()\n\n# Plot the final predicted data and the residual\nplt.figure()\nax = plt.subplot(1, 2, 1)\nutils.plot_utils.plot2Ddata(xyzLoc, invProb.dpred, ax=ax)\nax.set_title(\"Predicted data.\")\nplt.gca().set_aspect(\"equal\", adjustable=\"box\")\n\nax = plt.subplot(1, 2, 2)\nutils.plot_utils.plot2Ddata(xyzLoc, synthetic_data - invProb.dpred, ax=ax)\nax.set_title(\"Data residual.\")\nplt.gca().set_aspect(\"equal\", adjustable=\"box\")"
      ]
    }
  ],
  "metadata": {
    "kernelspec": {
      "display_name": "Python 3",
      "language": "python",
      "name": "python3"
    },
    "language_info": {
      "codemirror_mode": {
        "name": "ipython",
        "version": 3
      },
      "file_extension": ".py",
      "mimetype": "text/x-python",
      "name": "python",
      "nbconvert_exporter": "python",
      "pygments_lexer": "ipython3",
      "version": "3.8.19"
    }
  },
  "nbformat": 4,
  "nbformat_minor": 0
}