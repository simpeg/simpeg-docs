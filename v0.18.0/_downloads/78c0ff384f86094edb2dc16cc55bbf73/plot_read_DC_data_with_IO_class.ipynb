{
  "cells": [
    {
      "cell_type": "code",
      "execution_count": null,
      "metadata": {
        "collapsed": false
      },
      "outputs": [],
      "source": [
        "%matplotlib inline"
      ]
    },
    {
      "cell_type": "markdown",
      "metadata": {},
      "source": [
        "\n# Reading and Plotting data with DC.IO class\n\nThe DC.IO class is a convenient way to handle DC data and\ncarry inversions within a same class. It also has several plotting utils\nsuch as pseudosections. We show here an example of plotting DC data based\non a demonstration dataset.\n"
      ]
    },
    {
      "cell_type": "code",
      "execution_count": null,
      "metadata": {
        "collapsed": false
      },
      "outputs": [],
      "source": [
        "import numpy as np\nimport pandas as pd\nimport shutil\nimport os\nimport matplotlib.pyplot as plt\nfrom SimPEG.electromagnetics.static import resistivity as DC\nfrom SimPEG import Report\nfrom SimPEG.utils.io_utils import download"
      ]
    },
    {
      "cell_type": "markdown",
      "metadata": {},
      "source": [
        "## Download an example DC data csv file\n\n\n"
      ]
    },
    {
      "cell_type": "code",
      "execution_count": null,
      "metadata": {
        "collapsed": false
      },
      "outputs": [],
      "source": [
        "# file origina and name\nurl = \"https://storage.googleapis.com/simpeg/examples/dc_data.csv\"\nfname = download(url, folder=\"./test_url\", overwrite=True)\n\n# read csv using pandas\ndf = pd.read_csv(fname)\n# header for ABMN locations\nheader_loc = [\"Spa.\" + str(i + 1) for i in range(4)]\n# Apparent resistivity\nheader_apprho = df.keys()[6]"
      ]
    },
    {
      "cell_type": "markdown",
      "metadata": {},
      "source": [
        "## Convert file to DC.IO object\n\n\n"
      ]
    },
    {
      "cell_type": "code",
      "execution_count": null,
      "metadata": {
        "collapsed": false
      },
      "outputs": [],
      "source": [
        "# Number of the data\nndata = df[header_loc[0]].values.size\n# ABMN locations\na = np.c_[df[header_loc[0]].values, np.zeros(ndata)]\nb = np.c_[df[header_loc[1]].values, np.zeros(ndata)]\nm = np.c_[df[header_loc[2]].values, np.zeros(ndata)]\nn = np.c_[df[header_loc[3]].values, np.zeros(ndata)]\n# Apparent resistivity\napprho = df[header_apprho].values\n\n# Create DC.IO survey Object object\nIO = DC.IO()\n# Generate DC survey using IO object\ndc_survey = IO.from_abmn_locations_to_survey(\n    a,\n    b,\n    m,\n    n,\n    survey_type=\"dipole-dipole\",\n    data_dc=apprho,\n    data_dc_type=\"apparent_resistivity\",\n)"
      ]
    },
    {
      "cell_type": "markdown",
      "metadata": {},
      "source": [
        "## Plot\n\n\n"
      ]
    },
    {
      "cell_type": "code",
      "execution_count": null,
      "metadata": {
        "collapsed": false
      },
      "outputs": [],
      "source": [
        "fig, ax = plt.subplots(1, 1, figsize=(10, 3))\nIO.plotPseudoSection(\n    data_type=\"apparent_resistivity\", scale=\"linear\", clim=(0, 1000), ncontour=3, ax=ax\n)\nplt.show()\n\n# clean up\nshutil.rmtree(os.path.expanduser(\"./test_url\"))"
      ]
    },
    {
      "cell_type": "markdown",
      "metadata": {},
      "source": [
        "## Print the version of SimPEG and dependencies\n\n\n"
      ]
    },
    {
      "cell_type": "code",
      "execution_count": null,
      "metadata": {
        "collapsed": false
      },
      "outputs": [],
      "source": [
        "Report()"
      ]
    },
    {
      "cell_type": "markdown",
      "metadata": {},
      "source": [
        "## Moving Forward\n\nIf you have suggestions for improving this example, please create a [pull request on the example in SimPEG](https://github.com/simpeg/simpeg/blob/main/examples/06-dc/read_plot_DC_data_with_IO_class.py)\n\nYou might try:\n   - changing the contour levels\n   - try with you own dataset\n   - create a mask for negative apparent resistivities\n   - ...\n\n"
      ]
    }
  ],
  "metadata": {
    "kernelspec": {
      "display_name": "Python 3",
      "language": "python",
      "name": "python3"
    },
    "language_info": {
      "codemirror_mode": {
        "name": "ipython",
        "version": 3
      },
      "file_extension": ".py",
      "mimetype": "text/x-python",
      "name": "python",
      "nbconvert_exporter": "python",
      "pygments_lexer": "ipython3",
      "version": "3.7.12"
    }
  },
  "nbformat": 4,
  "nbformat_minor": 0
}