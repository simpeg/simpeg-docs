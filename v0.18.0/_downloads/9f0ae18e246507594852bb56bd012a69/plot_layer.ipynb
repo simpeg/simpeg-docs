{
  "cells": [
    {
      "cell_type": "code",
      "execution_count": null,
      "metadata": {
        "collapsed": false
      },
      "outputs": [],
      "source": [
        "%matplotlib inline"
      ]
    },
    {
      "cell_type": "markdown",
      "metadata": {},
      "source": [
        "\n# Maps: Parametrized Layer\n\nBuild a model of a parametrized layer in a wholespace. If you want to\nbuild a model of a parametrized layer in a halfspace, also use\nmaps.InjectActiveCell.\n\nThe model is\n\n.. code::\n\n    m = [\n        'background physical property value',\n        'layer physical property value',\n        'layer center',\n        'layer thickness'\n    ]\n"
      ]
    },
    {
      "cell_type": "code",
      "execution_count": null,
      "metadata": {
        "collapsed": false
      },
      "outputs": [],
      "source": [
        "import discretize\nfrom SimPEG import maps\nimport numpy as np\nimport matplotlib.pyplot as plt\n\n\ndef run(plotIt=True):\n\n    mesh = discretize.TensorMesh([50, 50], x0=\"CC\")  # 2D tensor mesh\n    mapping = maps.ParametricLayer(mesh)  # parametric layer in wholespace\n\n    # model\n    m = np.hstack(\n        np.r_[\n            1.0,  # background value\n            2.0,  # layer value\n            -0.1,  # layer center\n            0.2,  # layer thickness\n        ]\n    )\n    rho = mapping * m  # apply the mapping\n\n    if plotIt is True:\n        fig, ax = plt.subplots(1, 1, figsize=(4, 6))\n        mesh.plot_image(rho, ax=ax)\n\n\nif __name__ == \"__main__\":\n    run()\n    plt.show()"
      ]
    }
  ],
  "metadata": {
    "kernelspec": {
      "display_name": "Python 3",
      "language": "python",
      "name": "python3"
    },
    "language_info": {
      "codemirror_mode": {
        "name": "ipython",
        "version": 3
      },
      "file_extension": ".py",
      "mimetype": "text/x-python",
      "name": "python",
      "nbconvert_exporter": "python",
      "pygments_lexer": "ipython3",
      "version": "3.7.12"
    }
  },
  "nbformat": 4,
  "nbformat_minor": 0
}