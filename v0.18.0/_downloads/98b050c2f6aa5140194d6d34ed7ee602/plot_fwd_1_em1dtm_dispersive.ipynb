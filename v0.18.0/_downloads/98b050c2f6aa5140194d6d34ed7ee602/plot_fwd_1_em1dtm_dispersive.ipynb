{
  "cells": [
    {
      "cell_type": "code",
      "execution_count": null,
      "metadata": {
        "collapsed": false
      },
      "outputs": [],
      "source": [
        "%matplotlib inline"
      ]
    },
    {
      "cell_type": "markdown",
      "metadata": {},
      "source": [
        "\n# 1D Forward Simulation with Chargeable and/or Magnetic Viscosity\n\nHere we use the module *SimPEG.electromangetics.time_domain_1d* to compare\npredicted time domain data for a single sounding when the Earth is\npurely conductive, chargeable and/or magnetically viscous.\nIn this tutorial, we focus on:\n\n    - Defining receivers, sources, waveform and the survey\n    - Defining physical properties when the Earth is chargeable and/or magnetically viscous\n    - Setting physical property values as constant in the simulation\n\nOur survey geometry consists of a horizontal loop source with a radius of 10 m\nlocated 0.5 m above the Earth's surface. The receiver is located at the centre\nof the loop and measures the vertical component of the response.\n"
      ]
    },
    {
      "cell_type": "markdown",
      "metadata": {},
      "source": [
        "## Import Modules\n\n\n"
      ]
    },
    {
      "cell_type": "code",
      "execution_count": null,
      "metadata": {
        "collapsed": false
      },
      "outputs": [],
      "source": [
        "import numpy as np\nfrom matplotlib import pyplot as plt\n\nfrom SimPEG import maps\nimport SimPEG.electromagnetics.time_domain as tdem\nfrom SimPEG.electromagnetics.utils.em1d_utils import ColeCole, LogUniform\n\n# sphinx_gallery_thumbnail_number = 3"
      ]
    },
    {
      "cell_type": "markdown",
      "metadata": {},
      "source": [
        "## Create Survey\n\nHere we demonstrate a general way to define the receivers, sources, waveforms and survey.\nFor this tutorial, the source is a horizontal loop whose current waveform\nis a unit step-off. Receivers are defined to measure the vertical component of\nthe magnetic flux density and its time-derivative at the loop's center.\n\n\n\n"
      ]
    },
    {
      "cell_type": "code",
      "execution_count": null,
      "metadata": {
        "collapsed": false
      },
      "outputs": [],
      "source": [
        "source_location = np.array([0.0, 0.0, 0.5])\nsource_orientation = \"z\"  # \"x\", \"y\" or \"z\"\ncurrent_amplitude = 1.0  # maximum amplitude of source current\nsource_radius = 10.0  # loop radius\n\nreceiver_location = np.array([0.0, 0.0, 0.5])\nreceiver_orientation = \"z\"  # \"x\", \"y\" or \"z\"\ntimes = np.logspace(-6, -1, 51)  # time channels (s)\n\n# Receiver list\nreceiver_list = []\nreceiver_list.append(\n    tdem.receivers.PointMagneticFluxDensity(\n        receiver_location, times, orientation=receiver_orientation\n    )\n)\nreceiver_list.append(\n    tdem.receivers.PointMagneticFluxTimeDerivative(\n        receiver_location, times, orientation=receiver_orientation\n    )\n)\n\n# Waveform\nwaveform = tdem.sources.StepOffWaveform()\n\n# Sources\nsource_list = [\n    tdem.sources.CircularLoop(\n        receiver_list=receiver_list,\n        location=source_location,\n        waveform=waveform,\n        current=current_amplitude,\n        radius=source_radius,\n    )\n]\n\n# Survey\nsurvey = tdem.Survey(source_list)"
      ]
    },
    {
      "cell_type": "markdown",
      "metadata": {},
      "source": [
        "## Defining a 1D Layered Earth Model\n\nHere, we define the layer thicknesses and physical properties for our\n1D simulation. If we have N layers, parameters for the physical properties\nmust be defined for each layer and we must provide N-1 layer thicknesses.\nThe lowest layer is assumed to extend to infinity.\n\nFor this tutorial, we predict the response for a halfspace model, however\nthe script has been generalized to work for an arbitrary number of layers.\nIf the Earth is a halfspace, the thicknesses could instead be defined by\nan empty array, and each physical property value by an array of length 1.\n\n\n"
      ]
    },
    {
      "cell_type": "code",
      "execution_count": null,
      "metadata": {
        "collapsed": false
      },
      "outputs": [],
      "source": [
        "# Layer thicknesses\nthicknesses = np.array([40.0, 40.0])\nn_layer = len(thicknesses) + 1\n\n# In SimPEG, the Cole-Cole model is used to define a frequency-dependent\n# electrical conductivity when the Earth is chargeable.\nsigma = 1e-1  # infinite conductivity in S/m\neta = 0.5  # intrinsice chargeability [0, 1]\ntau = 0.01  # central time-relaxation constant in seconds\nc = 0.75  # phase constant [0, 1]\n\n# In SimPEG, the a log-uniform distribution of time-relaxation constants is used\n# to define a frequency-dependent susceptibility when the Earth exhibits\n# magnetic viscosity\nchi = 0.001  # infinite susceptibility in SI\ndchi = 0.001  # amplitude of frequency-dependent susceptibility contribution\ntau1 = 1e-7  # lower limit for time relaxation constants in seconds\ntau2 = 1.0  # upper limit for time relaxation constants in seconds\n\n\n# For each physical property, the parameters must be defined for each layer.\n# In this case, we must define all parameters for the Cole-Cole conductivity\n# as well as the frequency-dependent magnetic susceptibility.\nsigma_model = sigma * np.ones(n_layer)\neta_model = eta * np.ones(n_layer)\ntau_model = tau * np.ones(n_layer)\nc_model = c * np.ones(n_layer)\n\nchi_model = chi * np.ones(n_layer)\ndchi_model = dchi * np.ones(n_layer)\ntau1_model = tau1 * np.ones(n_layer)\ntau2_model = tau2 * np.ones(n_layer)\n\n# Here, we let the infinite conductivity be the model. As a result, we only\n# need to define the mapping for this parameter. All other parameters used\n# to define physical properties will be fixed when creating the simulation.\nmodel_mapping = maps.IdentityMap(nP=n_layer)\n\n# Compute and plot complex conductivity at all frequencies\nfrequencies = np.logspace(-3, 6, 91)\nsigma_complex = ColeCole(frequencies, sigma, eta, tau, c)\nchi_complex = LogUniform(frequencies, chi, dchi, tau1, tau2)\n\nfig = plt.figure(figsize=(8, 6))\nax = fig.add_axes([0.15, 0.1, 0.8, 0.75])\nax.semilogx(frequencies, sigma * np.ones(len(frequencies)), \"b\", lw=3)\nax.semilogx(frequencies, np.real(sigma_complex), \"r\", lw=3)\nax.semilogx(frequencies, np.imag(sigma_complex), \"r--\", lw=3)\nax.grid()\nax.set_xlim(np.min(frequencies), np.max(frequencies))\nax.set_ylim(0.0, 1.1 * sigma)\nax.set_xlabel(\"Frequency (Hz)\")\nax.set_ylabel(\"Conductivity\")\nax.set_title(\"Dispersive Electrical Conductivity\")\nax.legend(\n    [\"$\\sigma_{DC}$\", \"$Re[\\sigma (\\omega)]$\", \"$Im[\\sigma (\\omega)]$\"],\n    loc=\"center right\",\n)\n\nfig = plt.figure(figsize=(8, 6))\nax = fig.add_axes([0.15, 0.1, 0.8, 0.75])\nax.semilogx(frequencies, chi * np.ones(len(frequencies)), \"b\", lw=3)\nax.semilogx(frequencies, np.real(chi_complex), \"r\", lw=3)\nax.semilogx(frequencies, np.imag(chi_complex), \"r--\", lw=3)\nax.grid()\nax.set_xlim(np.min(frequencies), np.max(frequencies))\nax.set_ylim(-1.1 * chi, 1.1 * (chi + dchi))\nax.set_xlabel(\"Frequency (Hz)\")\nax.set_ylabel(\"Susceptibility\")\nax.set_title(\"Dispersive Magnetic Susceptibility\")\nax.legend(\n    [\"$\\chi_{DC}$\", \"$Re[\\chi (\\omega)]$\", \"$Im[\\chi (\\omega)]$\"], loc=\"lower left\"\n)"
      ]
    },
    {
      "cell_type": "markdown",
      "metadata": {},
      "source": [
        "## Define the Forward Simulation and Predict Data\n\nHere we predict the TDEM sounding for several halfspace models\n(conductive, chargeable, magnetically viscous). Since the physical properties defining\nthe Earth are different, it requires a separate simulation object be created\nfor each case. Each simulation requires the user\ndefine the survey, the layer thicknesses and a mapping.\n\nA universal mapping was created by letting sigma be the model. All other\nparameters used to define the physical properties are permanently set when\ndefining the simulation.\n\nWhen using the *SimPEG.electromagnetics.time_domain_1d* module, note that\npredicted data are organized by source, then by receiver, then by time channel.\n\n\n\n"
      ]
    },
    {
      "cell_type": "code",
      "execution_count": null,
      "metadata": {
        "collapsed": false
      },
      "outputs": [],
      "source": [
        "# Simulate response for static conductivity\nsimulation_conductive = tdem.Simulation1DLayered(\n    survey=survey, thicknesses=thicknesses, sigmaMap=model_mapping\n)\n\ndpred_conductive = simulation_conductive.dpred(sigma_model)\n\n# Simulate response for a chargeable Earth\nsimulation_chargeable = tdem.Simulation1DLayered(\n    survey=survey,\n    thicknesses=thicknesses,\n    sigmaMap=model_mapping,\n    eta=eta,\n    tau=tau,\n    c=c,\n)\n\ndpred_chargeable = simulation_chargeable.dpred(sigma_model)\n\n# Simulate response for viscous remanent magnetization\nmu0 = 4 * np.pi * 1e-7\nmu = mu0 * (1 + chi)\nsimulation_vrm = tdem.Simulation1DLayered(\n    survey=survey,\n    thicknesses=thicknesses,\n    sigmaMap=model_mapping,\n    mu=mu,\n    dchi=dchi,\n    tau1=tau1,\n    tau2=tau2,\n)\n\ndpred_vrm = simulation_vrm.dpred(sigma_model)"
      ]
    },
    {
      "cell_type": "markdown",
      "metadata": {},
      "source": [
        "## Plotting Results\n\n\n"
      ]
    },
    {
      "cell_type": "code",
      "execution_count": null,
      "metadata": {
        "collapsed": false
      },
      "outputs": [],
      "source": [
        "fig = plt.figure(figsize=(12, 5))\nax1 = fig.add_axes([0.1, 0.1, 0.38, 0.85])\nax1.loglog(times, np.abs(dpred_conductive[0 : len(times)]), \"k\", lw=3)\nax1.loglog(times, np.abs(dpred_chargeable[0 : len(times)]), \"r\", lw=3)\nax1.loglog(times, np.abs(dpred_vrm[0 : len(times)]), \"b\", lw=3)\nax1.set_xlim([times.min(), times.max()])\nax1.grid()\nax1.legend([\"Purely Inductive\", \"Chargeable\", \"Magnetically Viscous\"])\nax1.set_xlabel(\"Times (s)\")\nax1.set_ylabel(\"|B| (T)\")\nax1.set_title(\"Magnetic Flux\")\n\nax2 = fig.add_axes([0.6, 0.1, 0.38, 0.85])\nax2.loglog(times, np.abs(dpred_conductive[len(times) :]), \"k\", lw=3)\nax2.loglog(times, np.abs(dpred_chargeable[len(times) :]), \"r\", lw=3)\nax2.loglog(times, np.abs(dpred_vrm[len(times) :]), \"b\", lw=3)\nax2.set_xlim([times.min(), times.max()])\nax2.grid()\nax2.legend([\"Purely Inductive\", \"Chargeable\", \"Magnetically Viscous\"])\nax2.set_xlabel(\"Times (s)\")\nax2.set_ylabel(\"|dB/dt| (T/s)\")\nax2.set_title(\"Time-Derivative of Magnetic Flux\")"
      ]
    }
  ],
  "metadata": {
    "kernelspec": {
      "display_name": "Python 3",
      "language": "python",
      "name": "python3"
    },
    "language_info": {
      "codemirror_mode": {
        "name": "ipython",
        "version": 3
      },
      "file_extension": ".py",
      "mimetype": "text/x-python",
      "name": "python",
      "nbconvert_exporter": "python",
      "pygments_lexer": "ipython3",
      "version": "3.7.12"
    }
  },
  "nbformat": 4,
  "nbformat_minor": 0
}