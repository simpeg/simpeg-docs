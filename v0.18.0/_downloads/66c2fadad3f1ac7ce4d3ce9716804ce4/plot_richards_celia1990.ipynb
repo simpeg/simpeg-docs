{
  "cells": [
    {
      "cell_type": "code",
      "execution_count": null,
      "metadata": {
        "collapsed": false
      },
      "outputs": [],
      "source": [
        "%matplotlib inline"
      ]
    },
    {
      "cell_type": "markdown",
      "metadata": {},
      "source": [
        "\n# FLOW: Richards: 1D: Celia1990\n\nThere are two different forms of Richards equation that differ\non how they deal with the non-linearity in the time-stepping term.\n\nThe most fundamental form, referred to as the\n'mixed'-form of Richards Equation Celia1990_\n\n\\begin{align}\\frac{\\partial \\theta(\\psi)}{\\partial t} -\n    \\nabla \\cdot k(\\psi) \\nabla \\psi -\n    \\frac{\\partial k(\\psi)}{\\partial z} = 0\n    \\quad \\psi \\in \\Omega\\end{align}\n\nwhere \\\\(\\\\theta\\\\) is water content, and \\\\(\\\\psi\\\\)\nis pressure head. This formulation of Richards equation is called the\n'mixed'-form because the equation is parameterized in \\\\(\\\\psi\\\\)\nbut the time-stepping is in terms of \\\\(\\\\theta\\\\).\n\nAs noted in Celia1990_ the 'head'-based form of Richards\nequation can be written in the continuous form as:\n\n\\begin{align}\\frac{\\partial \\theta}{\\partial \\psi}\n    \\frac{\\partial \\psi}{\\partial t} -\n    \\nabla \\cdot k(\\psi) \\nabla \\psi -\n    \\frac{\\partial k(\\psi)}{\\partial z} = 0\n    \\quad \\psi \\in \\Omega\\end{align}\n\nHowever, it can be shown that this does not conserve mass in the\ndiscrete formulation.\n\nHere we reproduce the results from Celia1990_ demonstrating the\nhead-based formulation and the mixed-formulation.\n\n"
      ]
    },
    {
      "cell_type": "code",
      "execution_count": null,
      "metadata": {
        "collapsed": false
      },
      "outputs": [],
      "source": [
        "import matplotlib.pyplot as plt\nimport numpy as np\n\nimport discretize\nfrom SimPEG import maps\nfrom SimPEG.flow import richards\n\n\ndef run(plotIt=True):\n\n    M = discretize.TensorMesh([np.ones(40)])\n    M.set_cell_gradient_BC(\"dirichlet\")\n    params = richards.empirical.HaverkampParams().celia1990\n    k_fun, theta_fun = richards.empirical.haverkamp(M, **params)\n    k_fun.KsMap = maps.IdentityMap(nP=M.nC)\n\n    bc = np.array([-61.5, -20.7])\n    h = np.zeros(M.nC) + bc[0]\n\n    def getFields(timeStep, method):\n        timeSteps = np.ones(int(360 / timeStep)) * timeStep\n        prob = richards.SimulationNDCellCentered(\n            M,\n            hydraulic_conductivity=k_fun,\n            water_retention=theta_fun,\n            boundary_conditions=bc,\n            initial_conditions=h,\n            do_newton=False,\n            method=method,\n        )\n        prob.time_steps = timeSteps\n        return prob.fields(params[\"Ks\"] * np.ones(M.nC))\n\n    Hs_M010 = getFields(10, \"mixed\")\n    Hs_M030 = getFields(30, \"mixed\")\n    Hs_M120 = getFields(120, \"mixed\")\n    Hs_H010 = getFields(10, \"head\")\n    Hs_H030 = getFields(30, \"head\")\n    Hs_H120 = getFields(120, \"head\")\n\n    if not plotIt:\n        return\n    plt.figure(figsize=(13, 5))\n    plt.subplot(121)\n    plt.plot(40 - M.gridCC, Hs_M010[-1], \"b-\")\n    plt.plot(40 - M.gridCC, Hs_M030[-1], \"r-\")\n    plt.plot(40 - M.gridCC, Hs_M120[-1], \"k-\")\n    plt.ylim([-70, -10])\n    plt.title(\"Mixed Method\")\n    plt.xlabel(\"Depth, cm\")\n    plt.ylabel(\"Pressure Head, cm\")\n    plt.legend((\"$\\Delta t$ = 10 sec\", \"$\\Delta t$ = 30 sec\", \"$\\Delta t$ = 120 sec\"))\n    plt.subplot(122)\n    plt.plot(40 - M.gridCC, Hs_H010[-1], \"b-\")\n    plt.plot(40 - M.gridCC, Hs_H030[-1], \"r-\")\n    plt.plot(40 - M.gridCC, Hs_H120[-1], \"k-\")\n    plt.ylim([-70, -10])\n    plt.title(\"Head-Based Method\")\n    plt.xlabel(\"Depth, cm\")\n    plt.ylabel(\"Pressure Head, cm\")\n    plt.legend((\"$\\Delta t$ = 10 sec\", \"$\\Delta t$ = 30 sec\", \"$\\Delta t$ = 120 sec\"))\n\n\nif __name__ == \"__main__\":\n    run()\n    plt.show()"
      ]
    }
  ],
  "metadata": {
    "kernelspec": {
      "display_name": "Python 3",
      "language": "python",
      "name": "python3"
    },
    "language_info": {
      "codemirror_mode": {
        "name": "ipython",
        "version": 3
      },
      "file_extension": ".py",
      "mimetype": "text/x-python",
      "name": "python",
      "nbconvert_exporter": "python",
      "pygments_lexer": "ipython3",
      "version": "3.7.12"
    }
  },
  "nbformat": 4,
  "nbformat_minor": 0
}