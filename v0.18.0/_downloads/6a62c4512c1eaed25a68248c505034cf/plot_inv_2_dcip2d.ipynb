{
  "cells": [
    {
      "cell_type": "code",
      "execution_count": null,
      "metadata": {
        "collapsed": false
      },
      "outputs": [],
      "source": [
        "%matplotlib inline"
      ]
    },
    {
      "cell_type": "markdown",
      "metadata": {},
      "source": [
        "\n# 2.5D DC Resistivity and IP Least-Squares Inversion\n\nHere we invert a line of DC resistivity and induced polarization data to\nrecover electrical conductivity and chargeability models, respectively.\nWe formulate the corresponding inverse problems as least-squares\noptimization problems. For this tutorial, we focus on the following:\n\n    - Defining the survey\n    - Generating a mesh based on survey geometry\n    - Including surface topography\n    - Defining the inverse problem (data misfit, regularization, directives)\n    - Applying sensitivity weighting\n    - Plotting the recovered model and data misfit\n\nThe DC data are measured voltages and the IP data are defined as secondary\npotentials.\n"
      ]
    },
    {
      "cell_type": "markdown",
      "metadata": {},
      "source": [
        "## Import modules\n\n\n"
      ]
    },
    {
      "cell_type": "code",
      "execution_count": null,
      "metadata": {
        "collapsed": false
      },
      "outputs": [],
      "source": [
        "import os\nimport numpy as np\nimport matplotlib as mpl\nimport matplotlib.pyplot as plt\nfrom matplotlib.colors import LogNorm\nimport tarfile\n\nfrom discretize import TreeMesh\nfrom discretize.utils import mkvc, refine_tree_xyz\n\nfrom SimPEG.utils import surface2ind_topo, model_builder\nfrom SimPEG import (\n    maps,\n    data,\n    data_misfit,\n    regularization,\n    optimization,\n    inverse_problem,\n    inversion,\n    directives,\n    utils,\n)\nfrom SimPEG.electromagnetics.static import resistivity as dc\nfrom SimPEG.electromagnetics.static import induced_polarization as ip\nfrom SimPEG.electromagnetics.static.utils.static_utils import (\n    apparent_resistivity_from_voltage,\n    plot_pseudosection,\n)\nfrom SimPEG.utils.io_utils.io_utils_electromagnetics import read_dcip2d_ubc\n\ntry:\n    from pymatsolver import Pardiso as Solver\nexcept ImportError:\n    from SimPEG import SolverLU as Solver\n\nmpl.rcParams.update({\"font.size\": 16})\n# sphinx_gallery_thumbnail_number = 7"
      ]
    },
    {
      "cell_type": "markdown",
      "metadata": {},
      "source": [
        "## Define File Names\n\nHere we provide the file paths to assets we need to run the inversion. The\npath to the true model conductivity and chargeability models are also\nprovided for comparison with the inversion results. These files are stored as a\ntar-file on our google cloud bucket:\n\"https://storage.googleapis.com/simpeg/doc-assets/dcip2d.tar.gz\"\n\n\n"
      ]
    },
    {
      "cell_type": "code",
      "execution_count": null,
      "metadata": {
        "collapsed": false
      },
      "outputs": [],
      "source": [
        "# storage bucket where we have the data\ndata_source = \"https://storage.googleapis.com/simpeg/doc-assets/dcip2d.tar.gz\"\n\n# download the data\ndownloaded_data = utils.download(data_source, overwrite=True)\n\n# unzip the tarfile\ntar = tarfile.open(downloaded_data, \"r\")\ntar.extractall()\ntar.close()\n\n# path to the directory containing our data\ndir_path = downloaded_data.split(\".\")[0] + os.path.sep\n\n# files to work with\ntopo_filename = dir_path + \"topo_xyz.txt\"\ndc_data_filename = dir_path + \"dc_data.obs\"\nip_data_filename = dir_path + \"ip_data.obs\""
      ]
    },
    {
      "cell_type": "markdown",
      "metadata": {},
      "source": [
        "## Load Data, Define Survey and Plot\n\nHere we load the observed data, define the DC and IP survey geometry and\nplot the data values using pseudo-sections.\n\n\n"
      ]
    },
    {
      "cell_type": "code",
      "execution_count": null,
      "metadata": {
        "collapsed": false
      },
      "outputs": [],
      "source": [
        "# Load data\ntopo_xyz = np.loadtxt(str(topo_filename))\ndc_data = read_dcip2d_ubc(dc_data_filename, \"volt\", \"general\")\nip_data = read_dcip2d_ubc(ip_data_filename, \"apparent_chargeability\", \"general\")"
      ]
    },
    {
      "cell_type": "markdown",
      "metadata": {},
      "source": [
        "## Plot Observed Data in Pseudosection\n\n\n"
      ]
    },
    {
      "cell_type": "code",
      "execution_count": null,
      "metadata": {
        "collapsed": false
      },
      "outputs": [],
      "source": [
        "# Plot apparent conductivity using pseudo-section\nmpl.rcParams.update({\"font.size\": 12})\n\napparent_conductivities = 1 / apparent_resistivity_from_voltage(\n    dc_data.survey, dc_data.dobs\n)\n\n# Plot apparent conductivity pseudo-section\nfig = plt.figure(figsize=(12, 5))\nax1 = fig.add_axes([0.1, 0.15, 0.75, 0.78])\nplot_pseudosection(\n    dc_data.survey,\n    apparent_conductivities,\n    \"contourf\",\n    ax=ax1,\n    scale=\"log\",\n    cbar_label=\"S/m\",\n    mask_topography=True,\n    contourf_opts={\"levels\": 20, \"cmap\": mpl.cm.viridis},\n)\nax1.set_title(\"Apparent Conductivity\")\nplt.show()\n\n# Plot apparent chargeability in pseudo-section\napparent_chargeability = ip_data.dobs\n\nfig = plt.figure(figsize=(12, 5))\nax1 = fig.add_axes([0.1, 0.15, 0.75, 0.78])\nplot_pseudosection(\n    ip_data.survey,\n    apparent_chargeability,\n    \"contourf\",\n    ax=ax1,\n    scale=\"linear\",\n    cbar_label=\"V/V\",\n    mask_topography=True,\n    contourf_opts={\"levels\": 20, \"cmap\": mpl.cm.plasma},\n)\nax1.set_title(\"Apparent Chargeability\")\nplt.show()"
      ]
    },
    {
      "cell_type": "markdown",
      "metadata": {},
      "source": [
        "## Assign Uncertainties\n\nInversion with SimPEG requires that we define the uncertainties on our data.\nThis represents our estimate of the standard deviation of the\nnoise in our data. For DC data, the uncertainties are 5% of the absolute value.\nFor appanrent chargeability IP data, the uncertainties are 5e-3 V/V.\n\n\n\n"
      ]
    },
    {
      "cell_type": "code",
      "execution_count": null,
      "metadata": {
        "collapsed": false
      },
      "outputs": [],
      "source": [
        "dc_data.standard_deviation = 0.05 * np.abs(dc_data.dobs)\nip_data.standard_deviation = 5e-3 * np.ones_like(ip_data.dobs)"
      ]
    },
    {
      "cell_type": "markdown",
      "metadata": {},
      "source": [
        "## Create Tree Mesh\n\nHere, we create the Tree mesh that will be used to invert both DC\nresistivity and IP data.\n\n\n"
      ]
    },
    {
      "cell_type": "code",
      "execution_count": null,
      "metadata": {
        "collapsed": false
      },
      "outputs": [],
      "source": [
        "dh = 4  # base cell width\ndom_width_x = 3200.0  # domain width x\ndom_width_z = 2400.0  # domain width z\nnbcx = 2 ** int(np.round(np.log(dom_width_x / dh) / np.log(2.0)))  # num. base cells x\nnbcz = 2 ** int(np.round(np.log(dom_width_z / dh) / np.log(2.0)))  # num. base cells z\n\n# Define the base mesh\nhx = [(dh, nbcx)]\nhz = [(dh, nbcz)]\nmesh = TreeMesh([hx, hz], x0=\"CN\")\n\n# Mesh refinement based on topography\nmesh = refine_tree_xyz(\n    mesh,\n    topo_xyz[:, [0, 2]],\n    octree_levels=[0, 0, 4, 4],\n    method=\"surface\",\n    finalize=False,\n)\n\n# Mesh refinement near transmitters and receivers. First we need to obtain the\n# set of unique electrode locations.\nelectrode_locations = np.c_[\n    dc_data.survey.locations_a,\n    dc_data.survey.locations_b,\n    dc_data.survey.locations_m,\n    dc_data.survey.locations_n,\n]\n\nunique_locations = np.unique(\n    np.reshape(electrode_locations, (4 * dc_data.survey.nD, 2)), axis=0\n)\n\nmesh = refine_tree_xyz(\n    mesh, unique_locations, octree_levels=[4, 4], method=\"radial\", finalize=False\n)\n\n# Refine core mesh region\nxp, zp = np.meshgrid([-600.0, 600.0], [-400.0, 0.0])\nxyz = np.c_[mkvc(xp), mkvc(zp)]\nmesh = refine_tree_xyz(\n    mesh, xyz, octree_levels=[0, 0, 2, 8], method=\"box\", finalize=False\n)\n\nmesh.finalize()"
      ]
    },
    {
      "cell_type": "markdown",
      "metadata": {},
      "source": [
        "## Project Surveys to Discretized Topography\n\nIt is important that electrodes are not modeled as being in the air. Even if the\nelectrodes are properly located along surface topography, they may lie above\nthe discretized topography. This step is carried out to ensure all electrodes\nlie on the discretized surface.\n\n\n"
      ]
    },
    {
      "cell_type": "code",
      "execution_count": null,
      "metadata": {
        "collapsed": false
      },
      "outputs": [],
      "source": [
        "# Create 2D topography. Since our 3D topography only changes in the x direction,\n# it is easy to define the 2D topography projected along the survey line. For\n# arbitrary topography and for an arbitrary survey orientation, the user must\n# define the 2D topography along the survey line.\ntopo_2d = np.unique(topo_xyz[:, [0, 2]], axis=0)\n\n# Find cells that lie below surface topography\nind_active = surface2ind_topo(mesh, topo_2d)\n\n# Extract survey from data object\ndc_survey = dc_data.survey\nip_survey = ip_data.survey\n\n# Shift electrodes to the surface of discretized topography\ndc_survey.drape_electrodes_on_topography(mesh, ind_active, option=\"top\")\nip_survey.drape_electrodes_on_topography(mesh, ind_active, option=\"top\")\n\n# Reset survey in data object\ndc_data.survey = dc_survey\nip_data.survey = ip_survey"
      ]
    },
    {
      "cell_type": "markdown",
      "metadata": {},
      "source": [
        "## Starting/Reference Model and Mapping on OcTree Mesh\n\nHere, we would create starting and/or reference models for the DC inversion as\nwell as the mapping from the model space to the active cells. Starting and\nreference models can be a constant background value or contain a-priori\nstructures. Here, the starting model is the natural log of 0.01 S/m.\n\n\n"
      ]
    },
    {
      "cell_type": "code",
      "execution_count": null,
      "metadata": {
        "collapsed": false
      },
      "outputs": [],
      "source": [
        "# Define conductivity model in S/m (or resistivity model in Ohm m)\nair_conductivity = np.log(1e-8)\nbackground_conductivity = np.log(1e-2)\n\nactive_map = maps.InjectActiveCells(mesh, ind_active, np.exp(air_conductivity))\nnC = int(ind_active.sum())\n\nconductivity_map = active_map * maps.ExpMap()\n\n# Define model\nstarting_conductivity_model = background_conductivity * np.ones(nC)"
      ]
    },
    {
      "cell_type": "markdown",
      "metadata": {},
      "source": [
        "## Define the Physics of the DC Simulation\n\nHere, we define the physics of the DC resistivity problem.\n\n\n"
      ]
    },
    {
      "cell_type": "code",
      "execution_count": null,
      "metadata": {
        "collapsed": false
      },
      "outputs": [],
      "source": [
        "# Define the problem. Define the cells below topography and the mapping\ndc_simulation = dc.Simulation2DNodal(\n    mesh, survey=dc_survey, sigmaMap=conductivity_map, solver=Solver, storeJ=True\n)"
      ]
    },
    {
      "cell_type": "markdown",
      "metadata": {},
      "source": [
        "## Define DC Inverse Problem\n\nThe inverse problem is defined by 3 things:\n\n    1) Data Misfit: a measure of how well our recovered model explains the field data\n    2) Regularization: constraints placed on the recovered model and a priori information\n    3) Optimization: the numerical approach used to solve the inverse problem\n\n\n\n"
      ]
    },
    {
      "cell_type": "code",
      "execution_count": null,
      "metadata": {
        "collapsed": false
      },
      "outputs": [],
      "source": [
        "# Define the data misfit. Here the data misfit is the L2 norm of the weighted\n# residual between the observed data and the data predicted for a given model.\n# Within the data misfit, the residual between predicted and observed data are\n# normalized by the data's standard deviation.\ndc_data_misfit = data_misfit.L2DataMisfit(data=dc_data, simulation=dc_simulation)\n\n# Define the regularization (model objective function)\ndc_regularization = regularization.WeightedLeastSquares(\n    mesh,\n    indActive=ind_active,\n    reference_model=starting_conductivity_model,\n    alpha_s=0.01,\n    alpha_x=1,\n    alpha_y=1,\n)\n\n# Define how the optimization problem is solved. Here we will use an inexact\n# Gauss-Newton approach.\ndc_optimization = optimization.InexactGaussNewton(maxIter=40)\n\n# Here we define the inverse problem that is to be solved\ndc_inverse_problem = inverse_problem.BaseInvProblem(\n    dc_data_misfit, dc_regularization, dc_optimization\n)"
      ]
    },
    {
      "cell_type": "markdown",
      "metadata": {},
      "source": [
        "## Define DC Inversion Directives\n\nHere we define any directives that are carried out during the inversion. This\nincludes the cooling schedule for the trade-off parameter (beta), stopping\ncriteria for the inversion and saving inversion results at each iteration.\n\n\n"
      ]
    },
    {
      "cell_type": "code",
      "execution_count": null,
      "metadata": {
        "collapsed": false
      },
      "outputs": [],
      "source": [
        "# Apply and update sensitivity weighting as the model updates\nupdate_sensitivity_weighting = directives.UpdateSensitivityWeights()\n\n# Defining a starting value for the trade-off parameter (beta) between the data\n# misfit and the regularization.\nstarting_beta = directives.BetaEstimate_ByEig(beta0_ratio=1e1)\n\n# Set the rate of reduction in trade-off parameter (beta) each time the\n# the inverse problem is solved. And set the number of Gauss-Newton iterations\n# for each trade-off paramter value.\nbeta_schedule = directives.BetaSchedule(coolingFactor=3, coolingRate=2)\n\n# Options for outputting recovered models and predicted data for each beta.\nsave_iteration = directives.SaveOutputEveryIteration(save_txt=False)\n\n# Setting a stopping criteria for the inversion.\ntarget_misfit = directives.TargetMisfit(chifact=1)\n\n# Update preconditioner\nupdate_jacobi = directives.UpdatePreconditioner()\n\ndirectives_list = [\n    update_sensitivity_weighting,\n    starting_beta,\n    beta_schedule,\n    save_iteration,\n    target_misfit,\n    update_jacobi,\n]"
      ]
    },
    {
      "cell_type": "markdown",
      "metadata": {},
      "source": [
        "## Running the DC Inversion\n\nTo define the inversion object, we need to define the inversion problem and\nthe set of directives. We can then run the inversion.\n\n\n"
      ]
    },
    {
      "cell_type": "code",
      "execution_count": null,
      "metadata": {
        "collapsed": false
      },
      "outputs": [],
      "source": [
        "# Here we combine the inverse problem and the set of directives\ndc_inversion = inversion.BaseInversion(\n    dc_inverse_problem, directiveList=directives_list\n)\n\n# Run inversion\nrecovered_conductivity_model = dc_inversion.run(starting_conductivity_model)"
      ]
    },
    {
      "cell_type": "markdown",
      "metadata": {},
      "source": [
        "## Plotting True and Recovered Conductivity Model\n\n\n"
      ]
    },
    {
      "cell_type": "code",
      "execution_count": null,
      "metadata": {
        "collapsed": false
      },
      "outputs": [],
      "source": [
        "# Recreate true conductivity model\ntrue_background_conductivity = 1e-2\ntrue_conductor_conductivity = 1e-1\ntrue_resistor_conductivity = 1e-3\n\ntrue_conductivity_model = true_background_conductivity * np.ones(len(mesh))\n\nind_conductor = model_builder.getIndicesSphere(np.r_[-120.0, -180.0], 60.0, mesh.gridCC)\ntrue_conductivity_model[ind_conductor] = true_conductor_conductivity\n\nind_resistor = model_builder.getIndicesSphere(np.r_[120.0, -180.0], 60.0, mesh.gridCC)\ntrue_conductivity_model[ind_resistor] = true_resistor_conductivity\n\ntrue_conductivity_model[~ind_active] = np.NaN\n\n# Plot True Model\nnorm = LogNorm(vmin=1e-3, vmax=1e-1)\n\nfig = plt.figure(figsize=(9, 4))\nax1 = fig.add_axes([0.14, 0.17, 0.68, 0.7])\nim = mesh.plot_image(\n    true_conductivity_model, ax=ax1, grid=False, pcolor_opts={\"norm\": norm}\n)\nax1.set_xlim(-600, 600)\nax1.set_ylim(-600, 0)\nax1.set_title(\"True Conductivity Model\")\nax1.set_xlabel(\"x (m)\")\nax1.set_ylabel(\"z (m)\")\n\nax2 = fig.add_axes([0.84, 0.17, 0.03, 0.7])\ncbar = mpl.colorbar.ColorbarBase(ax2, norm=norm, orientation=\"vertical\")\ncbar.set_label(\"$S/m$\", rotation=270, labelpad=15, size=12)\n\nplt.show()\n\n# Plot Recovered Model\nfig = plt.figure(figsize=(9, 4))\n\nrecovered_conductivity = conductivity_map * recovered_conductivity_model\nrecovered_conductivity[~ind_active] = np.NaN\n\nax1 = fig.add_axes([0.14, 0.17, 0.68, 0.7])\nmesh.plot_image(\n    recovered_conductivity, normal=\"Y\", ax=ax1, grid=False, pcolor_opts={\"norm\": norm}\n)\nax1.set_xlim(-600, 600)\nax1.set_ylim(-600, 0)\nax1.set_title(\"Recovered Conductivity Model\")\nax1.set_xlabel(\"x (m)\")\nax1.set_ylabel(\"z (m)\")\n\n\nax2 = fig.add_axes([0.84, 0.17, 0.03, 0.7])\ncbar = mpl.colorbar.ColorbarBase(ax2, norm=norm, orientation=\"vertical\")\ncbar.set_label(r\"$\\sigma$ (S/m)\", rotation=270, labelpad=15, size=12)\n\nplt.show()"
      ]
    },
    {
      "cell_type": "markdown",
      "metadata": {},
      "source": [
        "## Plotting Predicted DC Data and Misfit\n\n\n"
      ]
    },
    {
      "cell_type": "code",
      "execution_count": null,
      "metadata": {
        "collapsed": false
      },
      "outputs": [],
      "source": [
        "# Predicted data from recovered model\ndpred_dc = dc_inverse_problem.dpred\ndobs_dc = dc_data.dobs\nstd_dc = dc_data.standard_deviation\n\n# Plot\nfig = plt.figure(figsize=(9, 15))\ndata_array = [np.abs(dobs_dc), np.abs(dpred_dc), (dobs_dc - dpred_dc) / std_dc]\nplot_title = [\"Observed\", \"Predicted\", \"Normalized Misfit\"]\nplot_units = [\"S/m\", \"S/m\", \"\"]\nscale = [\"log\", \"log\", \"linear\"]\n\nax1 = 3 * [None]\ncax1 = 3 * [None]\ncbar = 3 * [None]\ncplot = 3 * [None]\n\nfor ii in range(0, 3):\n\n    ax1[ii] = fig.add_axes([0.1, 0.70 - 0.33 * ii, 0.7, 0.23])\n    cax1[ii] = fig.add_axes([0.83, 0.70 - 0.33 * ii, 0.05, 0.23])\n    cplot[ii] = plot_pseudosection(\n        dc_data.survey,\n        data_array[ii],\n        \"contourf\",\n        ax=ax1[ii],\n        cax=cax1[ii],\n        scale=scale[ii],\n        cbar_label=plot_units[ii],\n        mask_topography=True,\n        contourf_opts={\"levels\": 25, \"cmap\": mpl.cm.viridis},\n    )\n    ax1[ii].set_title(plot_title[ii])\n\nplt.show()"
      ]
    },
    {
      "cell_type": "markdown",
      "metadata": {},
      "source": [
        "## Starting/Reference Model for IP Inversion\n\nHere, we would create starting and/or reference models for the IP inversion as\nwell as the mapping from the model space to the active cells. Starting and\nreference models can be a constant background value or contain a-priori\nstructures. Here, the starting model is the 1e-6 V/V.\n\n\n\n"
      ]
    },
    {
      "cell_type": "code",
      "execution_count": null,
      "metadata": {
        "collapsed": false
      },
      "outputs": [],
      "source": [
        "# Define conductivity model in S/m (or resistivity model in Ohm m)\nair_chargeability = 0.0\nbackground_chargeability = 1e-6\n\nactive_map = maps.InjectActiveCells(mesh, ind_active, air_chargeability)\nnC = int(ind_active.sum())\n\nchargeability_map = active_map\n\n# Define model\nstarting_chargeability_model = background_chargeability * np.ones(nC)"
      ]
    },
    {
      "cell_type": "markdown",
      "metadata": {},
      "source": [
        "## Define the Physics of the IP Simulation\n\nHere, we define the physics of the IP problem. For the chargeability, we\nrequire a mapping from the model space to the entire mesh. For the background\nconductivity/resistivity, we require the conductivity/resistivity on the\nentire mesh.\n\n\n"
      ]
    },
    {
      "cell_type": "code",
      "execution_count": null,
      "metadata": {
        "collapsed": false
      },
      "outputs": [],
      "source": [
        "ip_simulation = ip.Simulation2DNodal(\n    mesh,\n    survey=ip_survey,\n    etaMap=chargeability_map,\n    sigma=conductivity_map * recovered_conductivity_model,\n    solver=Solver,\n    storeJ=True,\n)"
      ]
    },
    {
      "cell_type": "markdown",
      "metadata": {},
      "source": [
        "## Define IP Inverse Problem\n\nHere we define the inverse problem in the same manner as the DC inverse problem.\n\n\n"
      ]
    },
    {
      "cell_type": "code",
      "execution_count": null,
      "metadata": {
        "collapsed": false
      },
      "outputs": [],
      "source": [
        "# Define the data misfit (Here we use weighted L2-norm)\nip_data_misfit = data_misfit.L2DataMisfit(data=ip_data, simulation=ip_simulation)\n\n# Define the regularization (model objective function)\nip_regularization = regularization.WeightedLeastSquares(\n    mesh,\n    indActive=ind_active,\n    mapping=maps.IdentityMap(nP=nC),\n    alpha_s=0.01,\n    alpha_x=1,\n    alpha_y=1,\n)\n\n# Define how the optimization problem is solved. Here it is a projected\n# Gauss Newton with Conjugate Gradient solver.\nip_optimization = optimization.ProjectedGNCG(\n    maxIter=15, lower=0.0, upper=1000.0, maxIterCG=30, tolCG=1e-2\n)\n\n# Here we define the inverse problem that is to be solved\nip_inverse_problem = inverse_problem.BaseInvProblem(\n    ip_data_misfit, ip_regularization, ip_optimization\n)"
      ]
    },
    {
      "cell_type": "markdown",
      "metadata": {},
      "source": [
        "## Define IP Inversion Directives\n\nHere we define the directives in the same manner as the DC inverse problem.\n\n\n"
      ]
    },
    {
      "cell_type": "code",
      "execution_count": null,
      "metadata": {
        "collapsed": false
      },
      "outputs": [],
      "source": [
        "update_sensitivity_weighting = directives.UpdateSensitivityWeights(threshold=1e-3)\nstarting_beta = directives.BetaEstimate_ByEig(beta0_ratio=1e1)\nbeta_schedule = directives.BetaSchedule(coolingFactor=2, coolingRate=1)\nsave_iteration = directives.SaveOutputEveryIteration(save_txt=False)\ntarget_misfit = directives.TargetMisfit(chifact=1.0)\nupdate_jacobi = directives.UpdatePreconditioner()\n\ndirectives_list = [\n    update_sensitivity_weighting,\n    starting_beta,\n    beta_schedule,\n    save_iteration,\n    target_misfit,\n    update_jacobi,\n]"
      ]
    },
    {
      "cell_type": "markdown",
      "metadata": {},
      "source": [
        "## Running the IP Inversion\n\nHere we define the directives in the same manner as the DC inverse problem.\n\n\n"
      ]
    },
    {
      "cell_type": "code",
      "execution_count": null,
      "metadata": {
        "collapsed": false
      },
      "outputs": [],
      "source": [
        "# Here we combine the inverse problem and the set of directives\nip_inversion = inversion.BaseInversion(\n    ip_inverse_problem, directiveList=directives_list\n)\n\n# Run inversion\nrecovered_chargeability_model = ip_inversion.run(starting_chargeability_model)"
      ]
    },
    {
      "cell_type": "markdown",
      "metadata": {},
      "source": [
        "## Plotting True Model and Recovered Chargeability Model\n\n\n"
      ]
    },
    {
      "cell_type": "code",
      "execution_count": null,
      "metadata": {
        "collapsed": false
      },
      "outputs": [],
      "source": [
        "sphere_chargeability = 1e-1\n\ntrue_chargeability_model = np.zeros(len(mesh))\ntrue_chargeability_model[ind_conductor] = sphere_chargeability\ntrue_chargeability_model[~ind_active] = np.NaN\n\nrecovered_chargeability = chargeability_map * recovered_chargeability_model\nrecovered_chargeability[~ind_active] = np.NaN\n\n# Plot True Model\nfig = plt.figure(figsize=(9, 4))\n\nnorm = mpl.colors.Normalize(vmin=0, vmax=sphere_chargeability)\n\nax1 = fig.add_axes([0.14, 0.17, 0.68, 0.7])\nmesh.plot_image(\n    true_chargeability_model,\n    ax=ax1,\n    grid=False,\n    pcolor_opts={\"cmap\": \"plasma\", \"norm\": norm},\n)\nax1.set_xlim(-600, 600)\nax1.set_ylim(-600, 0)\nax1.set_title(\"True Chargeability Model\")\nax1.set_xlabel(\"x (m)\")\nax1.set_ylabel(\"z (m)\")\n\nax2 = fig.add_axes([0.84, 0.17, 0.03, 0.7])\ncbar = mpl.colorbar.ColorbarBase(\n    ax2, norm=norm, orientation=\"vertical\", cmap=mpl.cm.plasma\n)\ncbar.set_label(\"Intrinsic Chargeability (V/V)\", rotation=270, labelpad=15, size=12)\n\nplt.show()\n\n# Plot Recovered Model\nfig = plt.figure(figsize=(9, 4))\n\nax1 = fig.add_axes([0.14, 0.17, 0.68, 0.7])\nmesh.plot_image(\n    recovered_chargeability,\n    normal=\"Y\",\n    ax=ax1,\n    grid=False,\n    pcolor_opts={\"cmap\": \"plasma\", \"norm\": norm},\n)\nax1.set_xlim(-600, 600)\nax1.set_ylim(-600, 0)\nax1.set_title(\"Recovered Chargeability Model\")\nax1.set_xlabel(\"x (m)\")\nax1.set_ylabel(\"z (m)\")\n\nax2 = fig.add_axes([0.84, 0.17, 0.03, 0.7])\ncbar = mpl.colorbar.ColorbarBase(\n    ax2, norm=norm, orientation=\"vertical\", cmap=mpl.cm.plasma\n)\ncbar.set_label(\"Intrinsic Chargeability (V/V)\", rotation=270, labelpad=15, size=12)\n\nplt.show()"
      ]
    },
    {
      "cell_type": "markdown",
      "metadata": {},
      "source": [
        "## Plotting Predicted Data and Misfit\n\n\n"
      ]
    },
    {
      "cell_type": "code",
      "execution_count": null,
      "metadata": {
        "collapsed": false
      },
      "outputs": [],
      "source": [
        "dpred_ip = ip_inverse_problem.dpred\ndobs_ip = ip_data.dobs\nstd_ip = ip_data.standard_deviation\n\n# Plot\nfig = plt.figure(figsize=(9, 13))\ndata_array = [dobs_ip, dpred_ip, (dobs_ip - dpred_ip) / std_ip]\nplot_title = [\n    \"Observed (as app. chg.)\",\n    \"Predicted (as app. chg.)\",\n    \"Normalized Misfit\",\n]\nplot_units = [\"V/V\", \"V/V\", \"\"]\n\nax1 = 3 * [None]\ncax1 = 3 * [None]\ncbar = 3 * [None]\ncplot = 3 * [None]\n\nfor ii in range(0, 3):\n\n    ax1[ii] = fig.add_axes([0.15, 0.72 - 0.33 * ii, 0.65, 0.21])\n    cax1[ii] = fig.add_axes([0.81, 0.72 - 0.33 * ii, 0.03, 0.21])\n    cplot[ii] = plot_pseudosection(\n        ip_data.survey,\n        data_array[ii],\n        \"contourf\",\n        ax=ax1[ii],\n        cax=cax1[ii],\n        scale=\"linear\",\n        cbar_label=plot_units[ii],\n        mask_topography=True,\n        contourf_opts={\"levels\": 25, \"cmap\": mpl.cm.plasma},\n    )\n    ax1[ii].set_title(plot_title[ii])\n\nplt.show()"
      ]
    }
  ],
  "metadata": {
    "kernelspec": {
      "display_name": "Python 3",
      "language": "python",
      "name": "python3"
    },
    "language_info": {
      "codemirror_mode": {
        "name": "ipython",
        "version": 3
      },
      "file_extension": ".py",
      "mimetype": "text/x-python",
      "name": "python",
      "nbconvert_exporter": "python",
      "pygments_lexer": "ipython3",
      "version": "3.7.12"
    }
  },
  "nbformat": 4,
  "nbformat_minor": 0
}