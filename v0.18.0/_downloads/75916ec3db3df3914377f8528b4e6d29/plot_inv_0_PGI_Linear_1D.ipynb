{
  "cells": [
    {
      "cell_type": "code",
      "execution_count": null,
      "metadata": {
        "collapsed": false
      },
      "outputs": [],
      "source": [
        "%matplotlib inline"
      ]
    },
    {
      "cell_type": "markdown",
      "metadata": {},
      "source": [
        "\n# Petrophysically guided inversion (PGI): Linear example\n\nWe do a comparison between the classic least-squares inversion\nand our formulation of a petrophysically constrained inversion.\nWe explore it through the UBC linear example.\n"
      ]
    },
    {
      "cell_type": "markdown",
      "metadata": {},
      "source": [
        "## Tikhonov Inversion#\n\n"
      ]
    },
    {
      "cell_type": "code",
      "execution_count": null,
      "metadata": {
        "collapsed": false
      },
      "outputs": [],
      "source": [
        "import discretize as Mesh\nfrom SimPEG import (\n    simulation,\n    maps,\n    data_misfit,\n    directives,\n    optimization,\n    regularization,\n    inverse_problem,\n    inversion,\n    utils,\n)\nimport numpy as np\nimport matplotlib.pyplot as plt\n\n# Random seed for reproductibility\nnp.random.seed(1)\n# Mesh\nN = 100\nmesh = Mesh.TensorMesh([N])\n\n# Survey design parameters\nnk = 20\njk = np.linspace(1.0, 60.0, nk)\np = -0.25\nq = 0.25\n\n\n# Physics\ndef g(k):\n    return np.exp(p * jk[k] * mesh.cell_centers_x) * np.cos(\n        np.pi * q * jk[k] * mesh.cell_centers_x\n    )\n\n\nG = np.empty((nk, mesh.nC))\n\nfor i in range(nk):\n    G[i, :] = g(i)\n\n# True model\nmtrue = np.zeros(mesh.nC)\nmtrue[mesh.cell_centers_x > 0.2] = 1.0\nmtrue[mesh.cell_centers_x > 0.35] = 0.0\nt = (mesh.cell_centers_x - 0.65) / 0.25\nindx = np.abs(t) < 1\nmtrue[indx] = -(((1 - t ** 2.0) ** 2.0)[indx])\n\nmtrue = np.zeros(mesh.nC)\nmtrue[mesh.cell_centers_x > 0.3] = 1.0\nmtrue[mesh.cell_centers_x > 0.45] = -0.5\nmtrue[mesh.cell_centers_x > 0.6] = 0\n\n# SimPEG problem and survey\nprob = simulation.LinearSimulation(mesh, G=G, model_map=maps.IdentityMap())\nstd = 0.01\nsurvey = prob.make_synthetic_data(mtrue, relative_error=std, add_noise=True)\n\n# Setup the inverse problem\nreg = regularization.WeightedLeastSquares(mesh, alpha_s=1.0, alpha_x=1.0)\ndmis = data_misfit.L2DataMisfit(data=survey, simulation=prob)\nopt = optimization.ProjectedGNCG(maxIter=10, maxIterCG=50, tolCG=1e-4)\ninvProb = inverse_problem.BaseInvProblem(dmis, reg, opt)\ndirectiveslist = [\n    directives.BetaEstimate_ByEig(beta0_ratio=1e-5),\n    directives.BetaSchedule(coolingFactor=10.0, coolingRate=2),\n    directives.TargetMisfit(),\n]\n\ninv = inversion.BaseInversion(invProb, directiveList=directiveslist)\nm0 = np.zeros_like(mtrue)\n\nmnormal = inv.run(m0)"
      ]
    },
    {
      "cell_type": "markdown",
      "metadata": {},
      "source": [
        "## Petrophysically constrained inversion #\n\n"
      ]
    },
    {
      "cell_type": "code",
      "execution_count": null,
      "metadata": {
        "collapsed": false
      },
      "outputs": [],
      "source": [
        "# fit a Gaussian Mixture Model with n components\n# on the true model to simulate the laboratory\n# petrophysical measurements\nn = 3\nclf = utils.WeightedGaussianMixture(\n    mesh=mesh,\n    n_components=n,\n    covariance_type=\"full\",\n    max_iter=100,\n    n_init=3,\n    reg_covar=5e-4,\n)\nclf.fit(mtrue.reshape(-1, 1))\n\n# Petrophyically constrained regularization\nreg = regularization.PGI(\n    gmmref=clf,\n    mesh=mesh,\n    alpha_s=1.0,\n    alpha_x=1.0,\n)\n\n# Optimization\nopt = optimization.ProjectedGNCG(maxIter=20, maxIterCG=50, tolCG=1e-4)\nopt.remember(\"xc\")\n\n# Setup new inverse problem\ninvProb = inverse_problem.BaseInvProblem(dmis, reg, opt)\n\n# directives\nAlphas = directives.AlphasSmoothEstimate_ByEig(alpha0_ratio=10.0, verbose=True)\nbeta = directives.BetaEstimate_ByEig(beta0_ratio=1e-8)\nbetaIt = directives.PGI_BetaAlphaSchedule(\n    verbose=True,\n    coolingFactor=2.0,\n    warmingFactor=1.0,\n    tolerance=0.1,\n    update_rate=1,\n    progress=0.2,\n)\ntargets = directives.MultiTargetMisfits(verbose=True)\npetrodir = directives.PGI_UpdateParameters()\naddmref = directives.PGI_AddMrefInSmooth(verbose=True)\n\n# Setup Inversion\ninv = inversion.BaseInversion(\n    invProb, directiveList=[Alphas, beta, petrodir, targets, addmref, betaIt]\n)\n\n# Initial model same as for WeightedLeastSquares\nmcluster = inv.run(m0)\n\n# Final Plot\nfig, axes = plt.subplots(1, 3, figsize=(12 * 1.2, 4 * 1.2))\nfor i in range(prob.G.shape[0]):\n    axes[0].plot(prob.G[i, :])\naxes[0].set_title(\"Columns of matrix G\")\n\naxes[1].hist(mtrue, bins=20, linewidth=3.0, density=True, color=\"k\")\naxes[1].set_xlabel(\"Model value\")\naxes[1].set_xlabel(\"Occurence\")\naxes[1].hist(mnormal, bins=20, density=True, color=\"b\")\naxes[1].hist(mcluster, bins=20, density=True, color=\"r\")\naxes[1].legend([\"Mtrue Hist.\", \"L2 Model Hist.\", \"PGI Model Hist.\"])\n\naxes[2].plot(mesh.cell_centers_x, mtrue, color=\"black\", linewidth=3)\naxes[2].plot(mesh.cell_centers_x, mnormal, color=\"blue\")\naxes[2].plot(mesh.cell_centers_x, mcluster, \"r-\")\naxes[2].plot(mesh.cell_centers_x, invProb.reg.objfcts[0].reference_model, \"r--\")\n\naxes[2].legend((\"True Model\", \"L2 Model\", \"PGI Model\", \"Learned Mref\"))\naxes[2].set_ylim([-2, 2])\n\nplt.show()"
      ]
    }
  ],
  "metadata": {
    "kernelspec": {
      "display_name": "Python 3",
      "language": "python",
      "name": "python3"
    },
    "language_info": {
      "codemirror_mode": {
        "name": "ipython",
        "version": 3
      },
      "file_extension": ".py",
      "mimetype": "text/x-python",
      "name": "python",
      "nbconvert_exporter": "python",
      "pygments_lexer": "ipython3",
      "version": "3.7.12"
    }
  },
  "nbformat": 4,
  "nbformat_minor": 0
}