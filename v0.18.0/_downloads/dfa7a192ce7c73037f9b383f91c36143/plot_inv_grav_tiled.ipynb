{
  "cells": [
    {
      "cell_type": "code",
      "execution_count": null,
      "metadata": {
        "collapsed": false
      },
      "outputs": [],
      "source": [
        "%matplotlib inline"
      ]
    },
    {
      "cell_type": "markdown",
      "metadata": {},
      "source": [
        "\n# PF: Gravity: Tiled Inversion Linear\n\nInvert data in tiles.\n"
      ]
    },
    {
      "cell_type": "code",
      "execution_count": null,
      "metadata": {
        "collapsed": false
      },
      "outputs": [],
      "source": [
        "import numpy as np\nimport matplotlib.pyplot as plt\n\nfrom discretize import TensorMesh\nfrom SimPEG.potential_fields import gravity\nfrom SimPEG import (\n    maps,\n    data,\n    data_misfit,\n    regularization,\n    optimization,\n    inverse_problem,\n    directives,\n    inversion,\n)\nfrom discretize.utils import mesh_builder_xyz, refine_tree_xyz\n\ntry:\n    from SimPEG import utils\n    from SimPEG.utils import plot2Ddata\nexcept:\n    from SimPEG import Utils as utils\n    from SimPEG.Utils.Plotutils import plot2Ddata\n\nimport shutil"
      ]
    },
    {
      "cell_type": "markdown",
      "metadata": {},
      "source": [
        "## Setup\n\nDefine the survey and model parameters\n\nCreate a global survey and mesh and simulate some data\n\n\n\n"
      ]
    },
    {
      "cell_type": "code",
      "execution_count": null,
      "metadata": {
        "collapsed": false
      },
      "outputs": [],
      "source": [
        "# Create an array of observation points\nxr = np.linspace(-30.0, 30.0, 20)\nyr = np.linspace(-30.0, 30.0, 20)\nX, Y = np.meshgrid(xr, yr)\n\n# Move the observation points 5m above the topo\nZ = -np.exp((X ** 2 + Y ** 2) / 75 ** 2)\n\n# Create a topo array\ntopo = np.c_[utils.mkvc(X.T), utils.mkvc(Y.T), utils.mkvc(Z.T)]\n\n# Create station locations draped 0.1 m above topo\nrxLoc = np.c_[utils.mkvc(X.T), utils.mkvc(Y.T), utils.mkvc(Z.T) + 0.1]"
      ]
    },
    {
      "cell_type": "markdown",
      "metadata": {},
      "source": [
        "## Divided and Conquer\n\nSplit the data set in two and create sub-problems\n\n\n\n"
      ]
    },
    {
      "cell_type": "code",
      "execution_count": null,
      "metadata": {
        "collapsed": false
      },
      "outputs": [],
      "source": [
        "# Mesh parameters\nh = [5, 5, 5]\npadDist = np.ones((3, 2)) * 100\noctree_levels = [8, 4]\n\n# Create tiles\nlocal_indices = [rxLoc[:, 0] <= 0, rxLoc[:, 0] > 0]\nlocal_surveys = []\nlocal_meshes = []\nfor local_index in local_indices:\n\n    receivers = gravity.receivers.Point(rxLoc[local_index, :])\n    srcField = gravity.sources.SourceField([receivers])\n    local_survey = gravity.survey.Survey(srcField)\n\n    # Create a local mesh that covers all points, but refined on the local survey\n    local_mesh = mesh_builder_xyz(\n        topo, h, padding_distance=padDist, depth_core=100, mesh_type=\"tree\"\n    )\n    local_mesh = refine_tree_xyz(\n        local_mesh,\n        local_survey.receiver_locations,\n        method=\"surface\",\n        octree_levels=octree_levels,\n        finalize=True,\n    )\n\n    local_surveys.append(local_survey)\n    local_meshes.append(local_mesh)"
      ]
    },
    {
      "cell_type": "markdown",
      "metadata": {},
      "source": [
        "## Global Mesh\n\nCreate a global mesh survey for simulation\n\n\n\n"
      ]
    },
    {
      "cell_type": "code",
      "execution_count": null,
      "metadata": {
        "collapsed": false
      },
      "outputs": [],
      "source": [
        "mesh = mesh_builder_xyz(\n    topo, h, padding_distance=padDist, depth_core=100, mesh_type=\"tree\"\n)\n\n# This guarantees that the local meshes are always coarser or equal\nfor local_mesh in local_meshes:\n    mesh.insert_cells(\n        local_mesh.gridCC,\n        local_mesh.cell_levels_by_index(np.arange(local_mesh.nC)),\n        finalize=False,\n    )\nmesh.finalize()\n\n# Define an active cells from topo\nactiveCells = utils.surface2ind_topo(mesh, topo)\nnC = int(activeCells.sum())\n\n# We can now create a density model and generate data\n# Here a simple block in half-space\n# Get the indices of the magnetized block\nmodel = np.zeros(mesh.nC)\nind = utils.model_builder.getIndicesBlock(\n    np.r_[-10, -10, -30],\n    np.r_[10, 10, -10],\n    mesh.gridCC,\n)[0]\n\n# Assign magnetization values\nmodel[ind] = 0.3\n\n# Remove air cells\nmodel = model[activeCells]\n\n# Create reduced identity map\nidenMap = maps.IdentityMap(nP=nC)\n\n# Create a global survey just for simulation of data\nreceivers = gravity.receivers.Point(rxLoc)\nsrcField = gravity.sources.SourceField([receivers])\nsurvey = gravity.survey.Survey(srcField)\n\n# Create the forward simulation for the global dataset\nsimulation = gravity.simulation.Simulation3DIntegral(\n    survey=survey, mesh=mesh, rhoMap=idenMap, ind_active=activeCells\n)\n\n# Compute linear forward operator and compute some data\nd = simulation.fields(model)\n\n# Add noise and uncertainties\n# We add some random Gaussian noise (1nT)\nsynthetic_data = d + np.random.randn(len(d)) * 1e-3\nwd = np.ones(len(synthetic_data)) * 1e-3  # Assign flat uncertainties"
      ]
    },
    {
      "cell_type": "markdown",
      "metadata": {},
      "source": [
        "Tiled misfits\n\n\n\n\n\n"
      ]
    },
    {
      "cell_type": "code",
      "execution_count": null,
      "metadata": {
        "collapsed": false
      },
      "outputs": [],
      "source": [
        "local_misfits = []\nfor ii, local_survey in enumerate(local_surveys):\n\n    tile_map = maps.TileMap(mesh, activeCells, local_meshes[ii])\n\n    local_actives = tile_map.local_active\n\n    # Create the forward simulation\n    simulation = gravity.simulation.Simulation3DIntegral(\n        survey=local_survey,\n        mesh=local_meshes[ii],\n        rhoMap=tile_map,\n        ind_active=local_actives,\n        sensitivity_path=f\"Inversion\\Tile{ii}.zarr\",\n    )\n\n    data_object = data.Data(\n        local_survey,\n        dobs=synthetic_data[local_indices[ii]],\n        standard_deviation=wd[local_indices[ii]],\n    )\n\n    local_misfits.append(\n        data_misfit.L2DataMisfit(data=data_object, simulation=simulation)\n    )\n\n\n# Our global misfit\nglobal_misfit = local_misfits[0] + local_misfits[1]\n\n# Plot the model on different meshes\nfig = plt.figure(figsize=(12, 6))\nfor ii, local_misfit in enumerate(local_misfits):\n\n    local_mesh = local_misfit.simulation.mesh\n    local_map = local_misfit.simulation.rhoMap\n\n    inject_local = maps.InjectActiveCells(local_mesh, local_map.local_active, np.nan)\n\n    ax = plt.subplot(2, 2, ii + 1)\n    local_mesh.plot_slice(\n        inject_local * (local_map * model), normal=\"Y\", ax=ax, grid=True\n    )\n    ax.set_aspect(\"equal\")\n    ax.set_title(f\"Mesh {ii+1}. Active cells {local_map.local_active.sum()}\")\n\n\n# Create active map to go from reduce set to full\ninject_global = maps.InjectActiveCells(mesh, activeCells, np.nan)\n\nax = plt.subplot(2, 1, 2)\nmesh.plot_slice(inject_global * model, normal=\"Y\", ax=ax, grid=True)\nax.set_title(f\"Global Mesh. Active cells {activeCells.sum()}\")\nax.set_aspect(\"equal\")\nplt.show()"
      ]
    },
    {
      "cell_type": "markdown",
      "metadata": {},
      "source": [
        "Invert on the global mesh\n\n\n\n\n\n\n"
      ]
    },
    {
      "cell_type": "code",
      "execution_count": null,
      "metadata": {
        "collapsed": false
      },
      "outputs": [],
      "source": [
        "# Create reduced identity map\nidenMap = maps.IdentityMap(nP=nC)\n\n# Create a regularization\nreg = regularization.Sparse(mesh, active_cells=activeCells, mapping=idenMap)\n\nm0 = np.ones(nC) * 1e-4  # Starting model\n\n# Add directives to the inversion\nopt = optimization.ProjectedGNCG(\n    maxIter=100, lower=-1.0, upper=1.0, maxIterLS=20, maxIterCG=10, tolCG=1e-3\n)\ninvProb = inverse_problem.BaseInvProblem(global_misfit, reg, opt)\nbetaest = directives.BetaEstimate_ByEig(beta0_ratio=1e-1)\n\n# Here is where the norms are applied\n# Use a threshold parameter empirically based on the distribution of\n# model parameters\nupdate_IRLS = directives.Update_IRLS(\n    f_min_change=1e-4,\n    max_irls_iterations=0,\n    coolEpsFact=1.5,\n    beta_tol=1e-2,\n)\nsaveDict = directives.SaveOutputEveryIteration(save_txt=False)\nupdate_Jacobi = directives.UpdatePreconditioner()\nsensitivity_weights = directives.UpdateSensitivityWeights(everyIter=False)\ninv = inversion.BaseInversion(\n    invProb,\n    directiveList=[update_IRLS, sensitivity_weights, betaest, update_Jacobi, saveDict],\n)\n\n# Run the inversion\nmrec = inv.run(m0)\n\n\n# Plot the result\nax = plt.subplot(1, 2, 1)\nmesh.plot_slice(inject_global * model, normal=\"Y\", ax=ax, grid=True)\nax.set_title(\"True\")\nax.set_aspect(\"equal\")\n\nax = plt.subplot(1, 2, 2)\nmesh.plot_slice(inject_global * mrec, normal=\"Y\", ax=ax, grid=True)\nax.set_title(\"Recovered\")\nax.set_aspect(\"equal\")\nplt.show()"
      ]
    }
  ],
  "metadata": {
    "kernelspec": {
      "display_name": "Python 3",
      "language": "python",
      "name": "python3"
    },
    "language_info": {
      "codemirror_mode": {
        "name": "ipython",
        "version": 3
      },
      "file_extension": ".py",
      "mimetype": "text/x-python",
      "name": "python",
      "nbconvert_exporter": "python",
      "pygments_lexer": "ipython3",
      "version": "3.7.12"
    }
  },
  "nbformat": 4,
  "nbformat_minor": 0
}