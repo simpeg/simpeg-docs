{
  "cells": [
    {
      "cell_type": "code",
      "execution_count": null,
      "metadata": {
        "collapsed": false
      },
      "outputs": [],
      "source": [
        "%matplotlib inline"
      ]
    },
    {
      "cell_type": "markdown",
      "metadata": {},
      "source": [
        "\n# Least-Squares 1D Inversion of Sounding Data\n\nHere we use the module *SimPEG.electromangetics.static.resistivity* to invert\nDC resistivity sounding data and recover a 1D electrical resistivity model.\nIn this tutorial, we focus on the following:\n\n    - How to define sources and receivers from a survey file\n    - How to define the survey\n    - 1D inversion of DC resistivity data\n\nFor this tutorial, we will invert sounding data collected over a layered Earth using\na Wenner array. The end product is layered Earth model which explains the data.\n"
      ]
    },
    {
      "cell_type": "markdown",
      "metadata": {},
      "source": [
        "## Import modules\n\n\n"
      ]
    },
    {
      "cell_type": "code",
      "execution_count": null,
      "metadata": {
        "collapsed": false
      },
      "outputs": [],
      "source": [
        "import os\nimport numpy as np\nimport matplotlib as mpl\nimport matplotlib.pyplot as plt\nimport tarfile\n\nfrom discretize import TensorMesh\n\nfrom SimPEG import (\n    maps,\n    data,\n    data_misfit,\n    regularization,\n    optimization,\n    inverse_problem,\n    inversion,\n    directives,\n    utils,\n)\nfrom SimPEG.electromagnetics.static import resistivity as dc\nfrom SimPEG.utils import plot_1d_layer_model\n\nmpl.rcParams.update({\"font.size\": 16})\n\n# sphinx_gallery_thumbnail_number = 2"
      ]
    },
    {
      "cell_type": "markdown",
      "metadata": {},
      "source": [
        "## Define File Names\n\nHere we provide the file paths to assets we need to run the inversion. The\nPath to the true model is also provided for comparison with the inversion\nresults. These files are stored as a tar-file on our google cloud bucket:\n\"https://storage.googleapis.com/simpeg/doc-assets/dcr1d.tar.gz\"\n\n\n"
      ]
    },
    {
      "cell_type": "code",
      "execution_count": null,
      "metadata": {
        "collapsed": false
      },
      "outputs": [],
      "source": [
        "# storage bucket where we have the data\ndata_source = \"https://storage.googleapis.com/simpeg/doc-assets/dcr1d.tar.gz\"\n\n# download the data\ndownloaded_data = utils.download(data_source, overwrite=True)\n\n# unzip the tarfile\ntar = tarfile.open(downloaded_data, \"r\")\ntar.extractall()\ntar.close()\n\n# path to the directory containing our data\ndir_path = downloaded_data.split(\".\")[0] + os.path.sep\n\n# files to work with\ndata_filename = dir_path + \"app_res_1d_data.dobs\""
      ]
    },
    {
      "cell_type": "markdown",
      "metadata": {},
      "source": [
        "## Load Data, Define Survey and Plot\n\nHere we load the observed data, define the DC survey geometry and plot the\ndata values.\n\n\n"
      ]
    },
    {
      "cell_type": "code",
      "execution_count": null,
      "metadata": {
        "collapsed": false
      },
      "outputs": [],
      "source": [
        "# Load data\ndobs = np.loadtxt(str(data_filename))\n\n# Extract source and receiver electrode locations and the observed data\nA_electrodes = dobs[:, 0:3]\nB_electrodes = dobs[:, 3:6]\nM_electrodes = dobs[:, 6:9]\nN_electrodes = dobs[:, 9:12]\ndobs = dobs[:, -1]\n\n# Define survey\nunique_tx, k = np.unique(np.c_[A_electrodes, B_electrodes], axis=0, return_index=True)\nn_sources = len(k)\nk = np.sort(k)\nk = np.r_[k, len(k) + 1]\n\nsource_list = []\nfor ii in range(0, n_sources):\n\n    # MN electrode locations for receivers. Each is an (N, 3) numpy array\n    M_locations = M_electrodes[k[ii] : k[ii + 1], :]\n    N_locations = N_electrodes[k[ii] : k[ii + 1], :]\n    receiver_list = [dc.receivers.Dipole(M_locations, N_locations)]\n\n    # AB electrode locations for source. Each is a (1, 3) numpy array\n    A_location = A_electrodes[k[ii], :]\n    B_location = B_electrodes[k[ii], :]\n    source_list.append(dc.sources.Dipole(receiver_list, A_location, B_location))\n\n# Define survey\nsurvey = dc.Survey(source_list)\n\n# Plot apparent resistivities on sounding curve as a function of Wenner separation\n# parameter.\nelectrode_separations = 0.5 * np.sqrt(\n    np.sum((survey.locations_a - survey.locations_b) ** 2, axis=1)\n)\n\nfig = plt.figure(figsize=(11, 5))\nmpl.rcParams.update({\"font.size\": 14})\nax1 = fig.add_axes([0.15, 0.1, 0.7, 0.85])\nax1.semilogy(electrode_separations, dobs, \"b\")\nax1.set_xlabel(\"AB/2 (m)\")\nax1.set_ylabel(r\"Apparent Resistivity ($\\Omega m$)\")\nplt.show()"
      ]
    },
    {
      "cell_type": "markdown",
      "metadata": {},
      "source": [
        "## Assign Uncertainties\n\nInversion with SimPEG requires that we define standard deviation on our data.\nThis represents our estimate of the noise in our data. For DC sounding data,\na relative error is applied to each datum. For this tutorial, the relative\nerror on each datum will be 2%.\n\n"
      ]
    },
    {
      "cell_type": "code",
      "execution_count": null,
      "metadata": {
        "collapsed": false
      },
      "outputs": [],
      "source": [
        "std = 0.02 * np.abs(dobs)"
      ]
    },
    {
      "cell_type": "markdown",
      "metadata": {},
      "source": [
        "## Define Data\n\nHere is where we define the data that are inverted. The data are defined by\nthe survey, the observation values and the standard deviation.\n\n\n"
      ]
    },
    {
      "cell_type": "code",
      "execution_count": null,
      "metadata": {
        "collapsed": false
      },
      "outputs": [],
      "source": [
        "data_object = data.Data(survey, dobs=dobs, standard_deviation=std)"
      ]
    },
    {
      "cell_type": "markdown",
      "metadata": {},
      "source": [
        "## Defining a 1D Layered Earth (1D Tensor Mesh)\n\nHere, we define the layer thicknesses for our 1D simulation. To do this, we use\nthe TensorMesh class.\n\n\n"
      ]
    },
    {
      "cell_type": "code",
      "execution_count": null,
      "metadata": {
        "collapsed": false
      },
      "outputs": [],
      "source": [
        "# Define layer thicknesses\nlayer_thicknesses = 5 * np.logspace(0, 1, 25)\n\n# Define a mesh for plotting and regularization.\nmesh = TensorMesh([(np.r_[layer_thicknesses, layer_thicknesses[-1]])], \"0\")\n\nprint(mesh)"
      ]
    },
    {
      "cell_type": "markdown",
      "metadata": {},
      "source": [
        "## Define a Starting and Reference Model\n\nHere, we create starting and/or reference models for the inversion as\nwell as the mapping from the model space to the active cells. Starting and\nreference models can be a constant background value or contain a-priori\nstructures. Here, the starting model is log(1000) Ohm meters.\n\nDefine log-resistivity values for each layer since our model is the\nlog-resistivity. Don't make the values 0!\nOtherwise the gradient for the 1st iteration is zero and the inversion will\nnot converge.\n\n"
      ]
    },
    {
      "cell_type": "code",
      "execution_count": null,
      "metadata": {
        "collapsed": false
      },
      "outputs": [],
      "source": [
        "# Define model. A resistivity (Ohm meters) or conductivity (S/m) for each layer.\nstarting_model = np.log(2e2 * np.ones((len(layer_thicknesses) + 1)))\n\n# Define mapping from model to active cells.\nmodel_map = maps.IdentityMap(nP=len(starting_model)) * maps.ExpMap()"
      ]
    },
    {
      "cell_type": "markdown",
      "metadata": {},
      "source": [
        "## Define the Physics\n\nHere we define the physics of the problem using the Simulation1DLayers class.\n\n\n"
      ]
    },
    {
      "cell_type": "code",
      "execution_count": null,
      "metadata": {
        "collapsed": false
      },
      "outputs": [],
      "source": [
        "simulation = dc.simulation_1d.Simulation1DLayers(\n    survey=survey,\n    rhoMap=model_map,\n    thicknesses=layer_thicknesses,\n    data_type=\"apparent_resistivity\",\n)"
      ]
    },
    {
      "cell_type": "markdown",
      "metadata": {},
      "source": [
        "## Define Inverse Problem\n\nThe inverse problem is defined by 3 things:\n\n    1) Data Misfit: a measure of how well our recovered model explains the field data\n    2) Regularization: constraints placed on the recovered model and a priori information\n    3) Optimization: the numerical approach used to solve the inverse problem\n\n\n\n"
      ]
    },
    {
      "cell_type": "code",
      "execution_count": null,
      "metadata": {
        "collapsed": false
      },
      "outputs": [],
      "source": [
        "# Define the data misfit. Here the data misfit is the L2 norm of the weighted\n# residual between the observed data and the data predicted for a given model.\n# Within the data misfit, the residual between predicted and observed data are\n# normalized by the data's standard deviation.\ndmis = data_misfit.L2DataMisfit(simulation=simulation, data=data_object)\n\n# Define the regularization (model objective function)\nreg = regularization.WeightedLeastSquares(mesh, alpha_s=1.0, alpha_x=1.0, reference_model=starting_model)\n\n# Define how the optimization problem is solved. Here we will use an inexact\n# Gauss-Newton approach that employs the conjugate gradient solver.\nopt = optimization.InexactGaussNewton(maxIter=30, maxIterCG=20)\n\n# Define the inverse problem\ninv_prob = inverse_problem.BaseInvProblem(dmis, reg, opt)"
      ]
    },
    {
      "cell_type": "markdown",
      "metadata": {},
      "source": [
        "## Define Inversion Directives\n\nHere we define any directives that are carried out during the inversion. This\nincludes the cooling schedule for the trade-off parameter (beta), stopping\ncriteria for the inversion and saving inversion results at each iteration.\n\n\n"
      ]
    },
    {
      "cell_type": "code",
      "execution_count": null,
      "metadata": {
        "collapsed": false
      },
      "outputs": [],
      "source": [
        "# Defining a starting value for the trade-off parameter (beta) between the data\n# misfit and the regularization.\nstarting_beta = directives.BetaEstimate_ByEig(beta0_ratio=1e0)\n\n# Set the rate of reduction in trade-off parameter (beta) each time the\n# the inverse problem is solved. And set the number of Gauss-Newton iterations\n# for each trade-off paramter value.\nbeta_schedule = directives.BetaSchedule(coolingFactor=5.0, coolingRate=3.0)\n\n# Apply and update sensitivity weighting as the model updates\nupdate_sensitivity_weights = directives.UpdateSensitivityWeights()\n\n# Options for outputting recovered models and predicted data for each beta.\nsave_iteration = directives.SaveOutputEveryIteration(save_txt=False)\n\n# Setting a stopping criteria for the inversion.\ntarget_misfit = directives.TargetMisfit(chifact=1)\n\n# The directives are defined as a list.\ndirectives_list = [\n    update_sensitivity_weights,\n    starting_beta,\n    beta_schedule,\n    save_iteration,\n    target_misfit,\n]"
      ]
    },
    {
      "cell_type": "markdown",
      "metadata": {},
      "source": [
        "## Running the Inversion\n\nTo define the inversion object, we need to define the inversion problem and\nthe set of directives. We can then run the inversion.\n\n\n"
      ]
    },
    {
      "cell_type": "code",
      "execution_count": null,
      "metadata": {
        "collapsed": false
      },
      "outputs": [],
      "source": [
        "# Here we combine the inverse problem and the set of directives\ninv = inversion.BaseInversion(inv_prob, directives_list)\n\n# Run the inversion\nrecovered_model = inv.run(starting_model)"
      ]
    },
    {
      "cell_type": "markdown",
      "metadata": {},
      "source": [
        "## Examining the Results\n\n\n"
      ]
    },
    {
      "cell_type": "code",
      "execution_count": null,
      "metadata": {
        "collapsed": false
      },
      "outputs": [],
      "source": [
        "# Define true model and layer thicknesses\ntrue_model = np.r_[1e3, 4e3, 2e2]\ntrue_layers = np.r_[100.0, 100.0]\n\n# Plot true model and recovered model\nfig = plt.figure(figsize=(6, 4))\nx_min = np.min([np.min(model_map * recovered_model), np.min(true_model)])\nx_max = np.max([np.max(model_map * recovered_model), np.max(true_model)])\n\nax1 = fig.add_axes([0.2, 0.15, 0.7, 0.7])\nplot_1d_layer_model(true_layers, true_model, ax=ax1, plot_elevation=True, color=\"b\")\nplot_1d_layer_model(\n    layer_thicknesses,\n    model_map * recovered_model,\n    ax=ax1,\n    plot_elevation=True,\n    color=\"r\",\n)\nax1.set_xlabel(r\"Resistivity ($\\Omega m$)\")\nax1.set_xlim(0.9 * x_min, 1.1 * x_max)\nax1.legend([\"True Model\", \"Recovered Model\"])\n\n# Plot the true and apparent resistivities on a sounding curve\nfig = plt.figure(figsize=(11, 5))\nax1 = fig.add_axes([0.2, 0.1, 0.6, 0.8])\nax1.semilogy(electrode_separations, dobs, \"b\")\nax1.semilogy(electrode_separations, inv_prob.dpred, \"r\")\nax1.set_xlabel(\"AB/2 (m)\")\nax1.set_ylabel(\"Apparent Resistivity ($\\Omega m$)\")\nax1.legend([\"True Sounding Curve\", \"Predicted Sounding Curve\"])\nplt.show()"
      ]
    }
  ],
  "metadata": {
    "kernelspec": {
      "display_name": "Python 3",
      "language": "python",
      "name": "python3"
    },
    "language_info": {
      "codemirror_mode": {
        "name": "ipython",
        "version": 3
      },
      "file_extension": ".py",
      "mimetype": "text/x-python",
      "name": "python",
      "nbconvert_exporter": "python",
      "pygments_lexer": "ipython3",
      "version": "3.7.12"
    }
  },
  "nbformat": 4,
  "nbformat_minor": 0
}