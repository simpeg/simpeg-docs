{
  "cells": [
    {
      "cell_type": "markdown",
      "metadata": {},
      "source": [
        "\n# Maps: Parametric Block in a Layer\n\nParametric description of a block confined to a layer in a\nwholespace. The mapping can be applied in 2D or 3D. Here we show a 2D\nexample.\n\nThe model is given by\n\n.. code::\n\n    m = np.r_[\n       'value of the background',\n       'value in the layer',\n       'value in the block',\n       'center of the layer (depth)',\n       'thickness of the layer',\n       'x-center of block',\n       'width of the block'\n    ]\n"
      ]
    },
    {
      "cell_type": "code",
      "execution_count": null,
      "metadata": {
        "collapsed": false
      },
      "outputs": [],
      "source": [
        "import discretize\nfrom SimPEG import maps\nimport numpy as np\nimport matplotlib.pyplot as plt\n\n\ndef run(plotIt=True):\n    mesh = discretize.TensorMesh([50, 50], x0=\"CC\")  # 2D Tensor Mesh\n    mapping = maps.ParametricBlockInLayer(mesh)  # mapping\n\n    m = np.hstack(\n        np.r_[\n            1.0,  # value of the background\n            2.0,  # value in the layer\n            3.0,  # value in the block\n            -0.1,  # center of the layer (depth)\n            0.2,  # thickness of the layer\n            0.3,  # x-center of block\n            0.2,  # width of the block\n        ]\n    )\n\n    # apply the mapping to define the physical property on the mesh\n    rho = mapping * m\n\n    if plotIt is True:\n        fig, ax = plt.subplots(1, 1, figsize=(4, 6))\n        mesh.plot_image(rho, ax=ax)\n\n\nif __name__ == \"__main__\":\n    run()\n    plt.show()"
      ]
    }
  ],
  "metadata": {
    "kernelspec": {
      "display_name": "Python 3",
      "language": "python",
      "name": "python3"
    },
    "language_info": {
      "codemirror_mode": {
        "name": "ipython",
        "version": 3
      },
      "file_extension": ".py",
      "mimetype": "text/x-python",
      "name": "python",
      "nbconvert_exporter": "python",
      "pygments_lexer": "ipython3",
      "version": "3.8.19"
    }
  },
  "nbformat": 4,
  "nbformat_minor": 0
}