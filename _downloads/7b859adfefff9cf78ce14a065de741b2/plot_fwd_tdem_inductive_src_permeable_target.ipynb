{
  "cells": [
    {
      "cell_type": "markdown",
      "metadata": {},
      "source": [
        "\n# EM: TDEM: Permeable Target, Inductive Source\n\nIn this example, we demonstrate 2 approaches for simulating TDEM data when\na permeable target is present in the simulation domain. In the first, we\nuse a step-on waveform (QuarterSineRampOnWaveform) and look at the magnetic\nflux at a late on-time. In the second, we solve the magnetostatic problem\nto compute the initial magnetic flux so that a step-off waveform may be used.\n\nA cylindrically symmetric mesh is employed and a circular loop source is used\n"
      ]
    },
    {
      "cell_type": "code",
      "execution_count": null,
      "metadata": {
        "collapsed": false
      },
      "outputs": [],
      "source": [
        "import discretize\nimport numpy as np\nimport matplotlib.pyplot as plt\nfrom matplotlib.colors import LogNorm\nfrom scipy.constants import mu_0\n\ntry:\n    from pymatsolver import Pardiso as Solver\nexcept ImportError:\n    from SimPEG import SolverLU as Solver\nimport time\n\nfrom SimPEG.electromagnetics import time_domain as TDEM\nfrom SimPEG import utils, maps, Report"
      ]
    },
    {
      "cell_type": "markdown",
      "metadata": {},
      "source": [
        "## Model Parameters\n\nHere, we define our simulation parameters. The target has a relative\npermeability of 100 $\\mu_0$\n\n"
      ]
    },
    {
      "cell_type": "code",
      "execution_count": null,
      "metadata": {
        "collapsed": false
      },
      "outputs": [],
      "source": [
        "target_mur = 100  # permeability of the target\ntarget_l = 500  # length of target\ntarget_r = 50  # radius of the target\n\nsigma_back = 1e-5  # conductivity of the background\n\nradius_loop = 100  # radius of the transmitter loop"
      ]
    },
    {
      "cell_type": "markdown",
      "metadata": {},
      "source": [
        "## Mesh\n\nNext, we create a cylindrically symmteric tensor mesh\n\n"
      ]
    },
    {
      "cell_type": "code",
      "execution_count": null,
      "metadata": {
        "collapsed": false
      },
      "outputs": [],
      "source": [
        "csx = 5.0  # core cell size in the x-direction\ncsz = 5.0  # core cell size in the z-direction\ndomainx = 100  # use a uniform cell size out to a radius of 100m\n\n# padding parameters\nnpadx, npadz = 15, 15  # number of padding cells\npfx = 1.4  # expansion factor for the padding to infinity in the x-direction\npfz = 1.4  # expansion factor for the padding to infinity in the z-direction\n\nncz = int(target_l / csz)  # number of z cells in the core region\n\n# create the cyl mesh\nmesh = discretize.CylindricalMesh(\n    [\n        [(csx, int(domainx / csx)), (csx, npadx, pfx)],\n        1,\n        [(csz, npadz, -pfz), (csz, ncz), (csz, npadz, pfz)],\n    ]\n)\n\n# put the origin at the top of the target\nmesh.x0 = [0, 0, -mesh.h[2][: npadz + ncz].sum()]\n\n# plot the mesh\nmesh.plot_grid()"
      ]
    },
    {
      "cell_type": "markdown",
      "metadata": {},
      "source": [
        "Assign physical properties on the mesh\n\n"
      ]
    },
    {
      "cell_type": "code",
      "execution_count": null,
      "metadata": {
        "collapsed": false
      },
      "outputs": [],
      "source": [
        "mur_model = np.ones(mesh.nC)\n\n# find the indices of the target\nx_inds = mesh.gridCC[:, 0] < target_r\nz_inds = (mesh.gridCC[:, 2] <= 0) & (mesh.gridCC[:, 2] >= -target_l)\n\nmur_model[x_inds & z_inds] = target_mur\nmu_model = mu_0 * mur_model\n\nsigma = np.ones(mesh.nC) * sigma_back"
      ]
    },
    {
      "cell_type": "markdown",
      "metadata": {},
      "source": [
        "Plot the models\n\n"
      ]
    },
    {
      "cell_type": "code",
      "execution_count": null,
      "metadata": {
        "collapsed": false
      },
      "outputs": [],
      "source": [
        "xlim = np.r_[-200, 200]  # x-limits in meters\nzlim = np.r_[-1.5 * target_l, 10.0]  # z-limits in meters. (z-positive up)\n\nfig, ax = plt.subplots(1, 1, figsize=(6, 5))\n\n# plot the permeability\nplt.colorbar(\n    mesh.plot_image(\n        mur_model,\n        ax=ax,\n        pcolor_opts={\"norm\": LogNorm()},  # plot on a log-scale\n        mirror=True,\n    )[0],\n    ax=ax,\n)\nax.plot(np.r_[radius_loop], np.r_[0.0], \"wo\", markersize=8)\nax.plot(np.r_[-radius_loop], np.r_[0.0], \"wx\", markersize=8)\n\nax.set_title(\"Relative permeability\", fontsize=13)\nax.set_xlim(xlim)\nax.set_ylim(zlim)"
      ]
    },
    {
      "cell_type": "markdown",
      "metadata": {},
      "source": [
        "## Waveform for the Long On-Time Simulation\n\nHere, we define our time-steps for the simulation where we will use a\nwaveform with a long on-time to reach a steady-state magnetic field and\ndefine a quarter-sine ramp-on waveform as our transmitter waveform\n\n"
      ]
    },
    {
      "cell_type": "code",
      "execution_count": null,
      "metadata": {
        "collapsed": false
      },
      "outputs": [],
      "source": [
        "ramp = [\n    (1e-5, 20),\n    (1e-4, 20),\n    (3e-4, 20),\n    (1e-3, 20),\n    (3e-3, 20),\n    (1e-2, 20),\n    (3e-2, 20),\n    (1e-1, 20),\n    (3e-1, 20),\n    (1, 50),\n]\ntime_mesh = discretize.TensorMesh([ramp])\n\n# define an off time past when we will simulate to keep the transmitter on\noff_time = 100\nquarter_sine = TDEM.Src.QuarterSineRampOnWaveform(\n    ramp_on=np.r_[0.0, 3], ramp_off=off_time - np.r_[1.0, 0]\n)\n\n# evaluate the waveform at each time in the simulation\nquarter_sine_plt = [quarter_sine.eval(t) for t in time_mesh.gridN]\n\nfig, ax = plt.subplots(1, 1, figsize=(6, 4))\nax.plot(time_mesh.gridN, quarter_sine_plt)\nax.plot(time_mesh.gridN, np.zeros(time_mesh.nN), \"k|\", markersize=2)\nax.set_title(\"quarter sine waveform\")"
      ]
    },
    {
      "cell_type": "markdown",
      "metadata": {},
      "source": [
        "## Sources for the 2 simulations\n\nWe use two sources, one for the magnetostatic simulation and one for the\nramp on simulation.\n\n"
      ]
    },
    {
      "cell_type": "code",
      "execution_count": null,
      "metadata": {
        "collapsed": false
      },
      "outputs": [],
      "source": [
        "# For the magnetostatic simulation. The default waveform is a step-off\nsrc_magnetostatic = TDEM.Src.CircularLoop(\n    [],\n    location=np.r_[0.0, 0.0, 0.0],\n    orientation=\"z\",\n    radius=100,\n)\n\n# For the long on-time simulation. We use the ramp-on waveform\nsrc_ramp_on = TDEM.Src.CircularLoop(\n    [],\n    location=np.r_[0.0, 0.0, 0.0],\n    orientation=\"z\",\n    radius=100,\n    waveform=quarter_sine,\n)\n\nsrc_list_magnetostatic = [src_magnetostatic]\nsrc_list_ramp_on = [src_ramp_on]"
      ]
    },
    {
      "cell_type": "markdown",
      "metadata": {},
      "source": [
        "## Create the simulations\n\nTo simulate magnetic flux data, we use the b-formulation of Maxwell's\nequations\n\n"
      ]
    },
    {
      "cell_type": "code",
      "execution_count": null,
      "metadata": {
        "collapsed": false
      },
      "outputs": [],
      "source": [
        "survey_magnetostatic = TDEM.Survey(source_list=src_list_magnetostatic)\nsurvey_ramp_on = TDEM.Survey(src_list_ramp_on)\n\nprob_magnetostatic = TDEM.Simulation3DMagneticFluxDensity(\n    mesh=mesh,\n    survey=survey_magnetostatic,\n    sigmaMap=maps.IdentityMap(mesh),\n    time_steps=ramp,\n    solver=Solver,\n)\nprob_ramp_on = TDEM.Simulation3DMagneticFluxDensity(\n    mesh=mesh,\n    survey=survey_ramp_on,\n    sigmaMap=maps.IdentityMap(mesh),\n    time_steps=ramp,\n    solver=Solver,\n)"
      ]
    },
    {
      "cell_type": "markdown",
      "metadata": {},
      "source": [
        "## Run the long on-time simulation\n\n"
      ]
    },
    {
      "cell_type": "code",
      "execution_count": null,
      "metadata": {
        "collapsed": false
      },
      "outputs": [],
      "source": [
        "t = time.time()\nprint(\"--- Running Long On-Time Simulation ---\")\n\nprob_ramp_on.mu = mu_model\nfields = prob_ramp_on.fields(sigma)\n\nprint(\" ... done. Elapsed time {}\".format(time.time() - t))\nprint(\"\\n\")\n\n# grab the last time-step in the simulation\nb_ramp_on = utils.mkvc(fields[:, \"b\", -1])"
      ]
    },
    {
      "cell_type": "markdown",
      "metadata": {},
      "source": [
        "## Compute Magnetostatic Fields from the step-off source\n\n"
      ]
    },
    {
      "cell_type": "code",
      "execution_count": null,
      "metadata": {
        "collapsed": false
      },
      "outputs": [],
      "source": [
        "prob_magnetostatic.mu = mu_model\nprob_magnetostatic.model = sigma\nb_magnetostatic = src_magnetostatic.bInitial(prob_magnetostatic)"
      ]
    },
    {
      "cell_type": "markdown",
      "metadata": {},
      "source": [
        "## Plot the results\n\n"
      ]
    },
    {
      "cell_type": "code",
      "execution_count": null,
      "metadata": {
        "collapsed": false
      },
      "outputs": [],
      "source": [
        "def plotBFieldResults(\n    ax=None,\n    clim_min=None,\n    clim_max=None,\n    max_depth=1.5 * target_l,\n    max_r=100,\n    top=10.0,\n    view=\"magnetostatic\",\n):\n    if ax is None:\n        plt.subplots(1, 1, figsize=(6, 7))\n\n    assert view.lower() in [\"magnetostatic\", \"late_ontime\", \"diff\"]\n\n    xlim = max_r * np.r_[-1, 1]  # x-limits in meters\n    zlim = np.r_[-max_depth, top]  # z-limits in meters. (z-positive up)\n\n    clim = None\n\n    if clim_max is not None and clim_max != 0.0:\n        clim = clim_max * np.r_[-1, 1]\n\n        if clim_min is not None and clim_min != 0.0:\n            clim[0] = clim_min\n\n    if view == \"magnetostatic\":\n        plotme = b_magnetostatic\n    elif view == \"late_ontime\":\n        plotme = b_ramp_on\n    elif view == \"diff\":\n        plotme = b_magnetostatic - b_ramp_on\n\n    cb = plt.colorbar(\n        mesh.plot_image(\n            plotme,\n            view=\"vec\",\n            v_type=\"F\",\n            ax=ax,\n            range_x=xlim,\n            range_y=zlim,\n            sample_grid=np.r_[np.diff(xlim) / 100.0, np.diff(zlim) / 100.0],\n            mirror=True,\n            pcolor_opts={\"norm\": LogNorm()},\n        )[0],\n        ax=ax,\n    )\n    ax.set_title(\"{}\".format(view), fontsize=13)\n    ax.set_xlim(xlim)\n    ax.set_ylim(zlim)\n    cb.update_ticks()\n\n    return ax\n\n\nfig, ax = plt.subplots(1, 3, figsize=(12, 5))\n\nfor a, v in zip(ax, [\"magnetostatic\", \"late_ontime\", \"diff\"]):\n    a = plotBFieldResults(ax=a, clim_min=1e-15, clim_max=1e-7, view=v, max_r=200)\nplt.tight_layout()"
      ]
    },
    {
      "cell_type": "markdown",
      "metadata": {},
      "source": [
        "## Print the version of SimPEG and dependencies\n\n\n"
      ]
    },
    {
      "cell_type": "code",
      "execution_count": null,
      "metadata": {
        "collapsed": false
      },
      "outputs": [],
      "source": [
        "plt.show()\n\nReport()"
      ]
    }
  ],
  "metadata": {
    "kernelspec": {
      "display_name": "Python 3",
      "language": "python",
      "name": "python3"
    },
    "language_info": {
      "codemirror_mode": {
        "name": "ipython",
        "version": 3
      },
      "file_extension": ".py",
      "mimetype": "text/x-python",
      "name": "python",
      "nbconvert_exporter": "python",
      "pygments_lexer": "ipython3",
      "version": "3.8.19"
    }
  },
  "nbformat": 4,
  "nbformat_minor": 0
}