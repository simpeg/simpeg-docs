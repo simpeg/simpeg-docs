{
  "cells": [
    {
      "cell_type": "markdown",
      "metadata": {},
      "source": [
        "\n# Forward Simulation for Straight Ray Tomography in 2D\n\nHere we module *SimPEG.seismic.straight_ray_tomography* to predict arrival\ntime data for a synthetic velocity/slowness model. In this tutorial, we focus on the following:\n\n    - How to define the survey\n    - How to define the forward simulation\n    - How to predict arrival time data\n"
      ]
    },
    {
      "cell_type": "markdown",
      "metadata": {},
      "source": [
        "## Import Modules\n\n\n"
      ]
    },
    {
      "cell_type": "code",
      "execution_count": null,
      "metadata": {
        "collapsed": false
      },
      "outputs": [],
      "source": [
        "import os\nimport numpy as np\nimport matplotlib as mpl\nimport matplotlib.pyplot as plt\n\nfrom discretize import TensorMesh\n\nfrom SimPEG import maps\nfrom SimPEG.seismic import straight_ray_tomography as tomo\nfrom SimPEG.utils import model_builder\n\nsave_file = False"
      ]
    },
    {
      "cell_type": "markdown",
      "metadata": {},
      "source": [
        "## Defining the Survey\n\nHere, we define survey that will be used for the forward simulation. The survey\nconsists of a horizontal line of point receivers at Y = 100 m and a horizontal\nline of point sources at Y = -100 m. The shot by each source is measured by\nall receivers.\n\n\n"
      ]
    },
    {
      "cell_type": "code",
      "execution_count": null,
      "metadata": {
        "collapsed": false
      },
      "outputs": [],
      "source": [
        "# Define the locations for the sources and receivers.\nx = np.linspace(-100, 100, 11)\ny_receivers = 100 * np.ones(len(x))\ny_sources = -100 * np.ones(len(x))\n\nreceiver_locations = np.c_[x, y_receivers]\nsource_locations = np.c_[x, y_sources]\n\n# Define the list of receivers used by each source\nreceiver_list = [tomo.Rx(receiver_locations)]\n\n# Define an empty list to store sources objects. Define each source and\n# provide its corresponding receivers list\nsource_list = []\nfor ii in range(0, len(y_sources)):\n    source_list.append(\n        tomo.Src(location=source_locations[ii, :], receiver_list=receiver_list)\n    )\n\n# Define they tomography survey\nsurvey = tomo.Survey(source_list)"
      ]
    },
    {
      "cell_type": "markdown",
      "metadata": {},
      "source": [
        "## Defining a Tensor Mesh\n\nHere, we create the tensor mesh that will be used to predict arrival time\ndata.\n\n\n"
      ]
    },
    {
      "cell_type": "code",
      "execution_count": null,
      "metadata": {
        "collapsed": false
      },
      "outputs": [],
      "source": [
        "dh = 10.0  # cell width\nN = 21  # number of cells in X and Y direction\nhx = [(dh, N)]\nhy = [(dh, N)]\nmesh = TensorMesh([hx, hy], \"CC\")"
      ]
    },
    {
      "cell_type": "markdown",
      "metadata": {},
      "source": [
        "## Model and Mapping on Tensor Mesh\n\nHere, we create the velocity model that will be used to predict the data. Since\nthe physical parameter for straight ray tomography is slowness, we must define\na mapping which converts velocity values to slowness values. The model\nconsists of a lower velocity block within a higher velocity background.\n\n\n"
      ]
    },
    {
      "cell_type": "code",
      "execution_count": null,
      "metadata": {
        "collapsed": false
      },
      "outputs": [],
      "source": [
        "# Define velocity of each unit in m/s\nbackground_velocity = 3000.0\nblock_velocity = 1500.0\n\n# Define the model. Models in SimPEG are vector arrays.\nmodel = background_velocity * np.ones(mesh.nC)\n\nind_block = model_builder.get_indices_block(np.r_[-50, 20], np.r_[50, -20], mesh.gridCC)\nmodel[ind_block] = block_velocity\n\n# Define a mapping from the model (velocity) to the slowness. If your model\n# consists of slowness values, you can use *maps.IdentityMap*.\nmodel_mapping = maps.ReciprocalMap()\n\n# Plot Velocity Model\nfig = plt.figure(figsize=(6, 5.5))\n\nax1 = fig.add_axes([0.15, 0.15, 0.65, 0.75])\nmesh.plot_image(model, ax=ax1, grid=True, pcolor_opts={\"cmap\": \"viridis\"})\nax1.set_xlabel(\"x (m)\")\nax1.set_ylabel(\"y (m)\")\nax1.plot(x, y_sources, \"ro\")  # source locations\nax1.plot(x, y_receivers, \"ko\")  # receiver locations\n\nax2 = fig.add_axes([0.82, 0.15, 0.05, 0.75])\nnorm = mpl.colors.Normalize(vmin=np.min(model), vmax=np.max(model))\ncbar = mpl.colorbar.ColorbarBase(\n    ax2, norm=norm, orientation=\"vertical\", cmap=mpl.cm.viridis\n)\ncbar.set_label(\"$Velocity (m/s)$\", rotation=270, labelpad=15, size=12)"
      ]
    },
    {
      "cell_type": "markdown",
      "metadata": {},
      "source": [
        "## Simulation: Arrival Time\n\nHere we demonstrate how to predict arrival time data for the 2D straight\nray tomography problem using the 2D Integral formulation.\n\n\n"
      ]
    },
    {
      "cell_type": "code",
      "execution_count": null,
      "metadata": {
        "collapsed": false
      },
      "outputs": [],
      "source": [
        "# Define the forward simulation. To do this we need the mesh, the survey and\n# the mapping from the model to the slowness values on the mesh.\nsimulation = tomo.Simulation(mesh, survey=survey, slownessMap=model_mapping)\n\n# Compute predicted data for some model\ndpred = simulation.dpred(model)"
      ]
    },
    {
      "cell_type": "markdown",
      "metadata": {},
      "source": [
        "## Plotting\n\n\n"
      ]
    },
    {
      "cell_type": "code",
      "execution_count": null,
      "metadata": {
        "collapsed": false
      },
      "outputs": [],
      "source": [
        "n_source = len(source_list)\nn_receiver = len(x)\ndpred_plotting = dpred.reshape(n_receiver, n_source)\n\nfig = plt.figure(figsize=(8, 5))\nax = fig.add_subplot(111)\nobs_string = []\n\nfor ii in range(0, n_source):\n    ax.plot(x, dpred_plotting[:, ii])\n    obs_string.append(\"source {}\".format(ii + 1))\n\nax.set_xlim(np.min(x), np.max(x))\nax.set_xlabel(\"x (m)\")\nax.set_ylabel(\"arrival time (s)\")\nax.set_title(\"Positions vs. Arrival Time\")\nax.legend(obs_string, loc=\"upper right\")"
      ]
    },
    {
      "cell_type": "markdown",
      "metadata": {},
      "source": [
        "## Optional: Exporting Results\n\nWrite the data and true model\n\n\n"
      ]
    },
    {
      "cell_type": "code",
      "execution_count": null,
      "metadata": {
        "collapsed": false
      },
      "outputs": [],
      "source": [
        "if save_file:\n    dir_path = os.path.dirname(tomo.__file__).split(os.path.sep)[:-3]\n    dir_path.extend([\"tutorials\", \"seismic\", \"assets\"])\n    dir_path = os.path.sep.join(dir_path) + os.path.sep\n\n    noise = 0.05 * dpred * np.random.randn(len(dpred))\n\n    data_array = np.c_[\n        np.kron(x, np.ones(n_receiver)),\n        np.kron(y_sources, np.ones(n_receiver)),\n        np.kron(np.ones(n_source), x),\n        np.kron(np.ones(n_source), y_receivers),\n        dpred + noise,\n    ]\n\n    fname = dir_path + \"tomography2D_data.obs\"\n    np.savetxt(fname, data_array, fmt=\"%.4e\")\n\n    output_model = model\n    fname = dir_path + \"true_model_2D.txt\"\n    np.savetxt(fname, output_model, fmt=\"%.4e\")"
      ]
    }
  ],
  "metadata": {
    "kernelspec": {
      "display_name": "Python 3",
      "language": "python",
      "name": "python3"
    },
    "language_info": {
      "codemirror_mode": {
        "name": "ipython",
        "version": 3
      },
      "file_extension": ".py",
      "mimetype": "text/x-python",
      "name": "python",
      "nbconvert_exporter": "python",
      "pygments_lexer": "ipython3",
      "version": "3.8.19"
    }
  },
  "nbformat": 4,
  "nbformat_minor": 0
}