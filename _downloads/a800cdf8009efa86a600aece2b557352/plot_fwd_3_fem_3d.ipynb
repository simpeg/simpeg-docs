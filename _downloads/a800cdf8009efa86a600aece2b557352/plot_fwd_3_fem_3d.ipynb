{
  "cells": [
    {
      "cell_type": "markdown",
      "metadata": {},
      "source": [
        "\n# 3D Forward Simulation on a Tree Mesh\n\nHere we use the module *SimPEG.electromagnetics.frequency_domain* to simulate the\nFDEM response for an airborne survey using an OcTree mesh and a\nconductivity/resistivity model.\nTo limit computational demant, we simulate airborne data at a single frequency\nfor a vertical coplanar survey geometry. This tutorial can be easily adapted to\nsimulate data at many frequencies. For this tutorial, we focus on the following:\n\n    - How to define the transmitters and receivers\n    - How to define the survey\n    - How to define the topography\n    - How to solve the FDEM problem on OcTree meshes\n    - The units of the conductivity/resistivity model and resulting data\n\n\nPlease note that we have used a coarse mesh to shorten the time of the simulation.\nProper discretization is required to simulate the fields at each frequency with\nsufficient accuracy.\n"
      ]
    },
    {
      "cell_type": "markdown",
      "metadata": {},
      "source": [
        "## Import modules\n\n\n"
      ]
    },
    {
      "cell_type": "code",
      "execution_count": null,
      "metadata": {
        "collapsed": false
      },
      "outputs": [],
      "source": [
        "from discretize import TreeMesh\nfrom discretize.utils import mkvc, refine_tree_xyz, active_from_xyz\n\nfrom SimPEG.utils import plot2Ddata\nfrom SimPEG import maps\nimport SimPEG.electromagnetics.frequency_domain as fdem\n\nimport os\nimport numpy as np\nimport matplotlib as mpl\nimport matplotlib.pyplot as plt\n\ntry:\n    from pymatsolver import Pardiso as Solver\nexcept ImportError:\n    from SimPEG import SolverLU as Solver\n\nsave_file = False\n\n# sphinx_gallery_thumbnail_number = 2"
      ]
    },
    {
      "cell_type": "markdown",
      "metadata": {},
      "source": [
        "## Defining Topography\n\nHere we define surface topography as an (N, 3) numpy array. Topography could\nalso be loaded from a file. Here we define flat topography, however more\ncomplex topographies can be considered.\n\n\n"
      ]
    },
    {
      "cell_type": "code",
      "execution_count": null,
      "metadata": {
        "collapsed": false
      },
      "outputs": [],
      "source": [
        "xx, yy = np.meshgrid(np.linspace(-3000, 3000, 101), np.linspace(-3000, 3000, 101))\nzz = np.zeros(np.shape(xx))\ntopo_xyz = np.c_[mkvc(xx), mkvc(yy), mkvc(zz)]"
      ]
    },
    {
      "cell_type": "markdown",
      "metadata": {},
      "source": [
        "## Create Airborne Survey\n\nFor this example, the survey consists of a uniform grid of airborne\nmeasurements. To save time, we will only compute the response for a single\nfrequency.\n\n\n"
      ]
    },
    {
      "cell_type": "code",
      "execution_count": null,
      "metadata": {
        "collapsed": false
      },
      "outputs": [],
      "source": [
        "# Frequencies being predicted\nfrequencies = [100, 500, 2500]\n\n# Defining transmitter locations\nN = 9\nxtx, ytx, ztx = np.meshgrid(np.linspace(-200, 200, N), np.linspace(-200, 200, N), [40])\nsource_locations = np.c_[mkvc(xtx), mkvc(ytx), mkvc(ztx)]\nntx = np.size(xtx)\n\n# Define receiver locations\nxrx, yrx, zrx = np.meshgrid(np.linspace(-200, 200, N), np.linspace(-200, 200, N), [20])\nreceiver_locations = np.c_[mkvc(xrx), mkvc(yrx), mkvc(zrx)]\n\nsource_list = []  # Create empty list to store sources\n\n# Each unique location and frequency defines a new transmitter\nfor ii in range(len(frequencies)):\n    for jj in range(ntx):\n        # Define receivers of different type at each location\n        bzr_receiver = fdem.receivers.PointMagneticFluxDensitySecondary(\n            receiver_locations[jj, :], \"z\", \"real\"\n        )\n        bzi_receiver = fdem.receivers.PointMagneticFluxDensitySecondary(\n            receiver_locations[jj, :], \"z\", \"imag\"\n        )\n        receivers_list = [bzr_receiver, bzi_receiver]\n\n        # Must define the transmitter properties and associated receivers\n        source_list.append(\n            fdem.sources.MagDipole(\n                receivers_list,\n                frequencies[ii],\n                source_locations[jj],\n                orientation=\"z\",\n                moment=100,\n            )\n        )\n\nsurvey = fdem.Survey(source_list)"
      ]
    },
    {
      "cell_type": "markdown",
      "metadata": {},
      "source": [
        "## Create OcTree Mesh\n\nHere we define the OcTree mesh that is used for this example.\nWe chose to design a coarser mesh to decrease the run time.\nWhen designing a mesh to solve practical frequency domain problems:\n\n    - Your smallest cell size should be 10%-20% the size of your smallest skin depth\n    - The thickness of your padding needs to be 2-3 times biggest than your largest skin depth\n    - The skin depth is ~500*np.sqrt(rho/f)\n\n\n\n"
      ]
    },
    {
      "cell_type": "code",
      "execution_count": null,
      "metadata": {
        "collapsed": false
      },
      "outputs": [],
      "source": [
        "dh = 25.0  # base cell width\ndom_width = 3000.0  # domain width\nnbc = 2 ** int(np.round(np.log(dom_width / dh) / np.log(2.0)))  # num. base cells\n\n# Define the base mesh\nh = [(dh, nbc)]\nmesh = TreeMesh([h, h, h], x0=\"CCC\")\n\n# Mesh refinement based on topography\nmesh = refine_tree_xyz(\n    mesh, topo_xyz, octree_levels=[0, 0, 0, 1], method=\"surface\", finalize=False\n)\n\n# Mesh refinement near transmitters and receivers\nmesh = refine_tree_xyz(\n    mesh, receiver_locations, octree_levels=[2, 4], method=\"radial\", finalize=False\n)\n\n# Refine core mesh region\nxp, yp, zp = np.meshgrid([-250.0, 250.0], [-250.0, 250.0], [-300.0, 0.0])\nxyz = np.c_[mkvc(xp), mkvc(yp), mkvc(zp)]\nmesh = refine_tree_xyz(mesh, xyz, octree_levels=[0, 2, 4], method=\"box\", finalize=False)\n\nmesh.finalize()"
      ]
    },
    {
      "cell_type": "markdown",
      "metadata": {},
      "source": [
        "## Defining the Conductivity/Resistivity Model and Mapping\n\nHere, we create the model that will be used to predict frequency\ndomain data and the mapping from the model to the mesh. Here,\nthe model consists of a conductive block within a more resistive\nbackground.\n\n\n"
      ]
    },
    {
      "cell_type": "code",
      "execution_count": null,
      "metadata": {
        "collapsed": false
      },
      "outputs": [],
      "source": [
        "# Conductivity in S/m (or resistivity in Ohm m)\nair_conductivity = 1e-8\nbackground_conductivity = 1e-2\nblock_conductivity = 1e1\n\n# Find cells that are active in the forward modeling (cells below surface)\nind_active = active_from_xyz(mesh, topo_xyz)\n\n# Define mapping from model to active cells\nmodel_map = maps.InjectActiveCells(mesh, ind_active, air_conductivity)\n\n# Define model. Models in SimPEG are vector arrays\nmodel = background_conductivity * np.ones(ind_active.sum())\nind_block = (\n    (mesh.gridCC[ind_active, 0] < 100.0)\n    & (mesh.gridCC[ind_active, 0] > -100.0)\n    & (mesh.gridCC[ind_active, 1] < 100.0)\n    & (mesh.gridCC[ind_active, 1] > -100.0)\n    & (mesh.gridCC[ind_active, 2] > -275.0)\n    & (mesh.gridCC[ind_active, 2] < -75.0)\n)\nmodel[ind_block] = block_conductivity\n\n# Plot Resistivity Model\nmpl.rcParams.update({\"font.size\": 12})\nfig = plt.figure(figsize=(7, 6))\n\nplotting_map = maps.InjectActiveCells(mesh, ind_active, np.nan)\nlog_model = np.log10(model)\n\nax1 = fig.add_axes([0.13, 0.1, 0.6, 0.85])\nmesh.plot_slice(\n    plotting_map * log_model,\n    normal=\"Y\",\n    ax=ax1,\n    ind=int(mesh.h[0].size / 2),\n    grid=False,\n    clim=(np.log10(background_conductivity), np.log10(block_conductivity)),\n)\nax1.set_title(\"Conductivity Model at Y = 0 m\")\n\nax2 = fig.add_axes([0.75, 0.1, 0.05, 0.85])\nnorm = mpl.colors.Normalize(\n    vmin=np.log10(background_conductivity), vmax=np.log10(block_conductivity)\n)\ncbar = mpl.colorbar.ColorbarBase(\n    ax2, norm=norm, orientation=\"vertical\", format=\"$10^{%.1f}$\"\n)\ncbar.set_label(\"Conductivity [S/m]\", rotation=270, labelpad=15, size=12)"
      ]
    },
    {
      "cell_type": "markdown",
      "metadata": {},
      "source": [
        "## Simulation: Predicting FDEM Data\n\nHere we define the formulation for solving Maxwell's equations. Since we are\nmeasuring the magnetic flux density and working with a conductivity model,\nthe EB formulation is the most natural. We must also remember to define\nthe mapping for the conductivity model. If you defined a resistivity model,\nuse the kwarg *rhoMap* instead of *sigmaMap*\n\n\n"
      ]
    },
    {
      "cell_type": "code",
      "execution_count": null,
      "metadata": {
        "collapsed": false
      },
      "outputs": [],
      "source": [
        "simulation = fdem.simulation.Simulation3DMagneticFluxDensity(\n    mesh, survey=survey, sigmaMap=model_map, solver=Solver\n)"
      ]
    },
    {
      "cell_type": "markdown",
      "metadata": {},
      "source": [
        "## Predict and Plot Data\n\nHere we show how the simulation is used to predict data.\n\n\n"
      ]
    },
    {
      "cell_type": "code",
      "execution_count": null,
      "metadata": {
        "collapsed": false
      },
      "outputs": [],
      "source": [
        "# Compute predicted data for a your model.\ndpred = simulation.dpred(model)\n\n# Data are organized by frequency, transmitter location, then by receiver. We nFreq transmitters\n# and each transmitter had 2 receivers (real and imaginary component). So\n# first we will pick out the real and imaginary data\nbz_real = dpred[0 : len(dpred) : 2]\nbz_imag = dpred[1 : len(dpred) : 2]\n\n# Then we will will reshape the data for plotting.\nbz_real_plotting = np.reshape(bz_real, (len(frequencies), ntx))\nbz_imag_plotting = np.reshape(bz_imag, (len(frequencies), ntx))\n\nfig = plt.figure(figsize=(10, 4))\n\n# Real Component\nfrequencies_index = 0\nv_max = np.max(np.abs(bz_real_plotting[frequencies_index, :]))\nax1 = fig.add_axes([0.05, 0.05, 0.35, 0.9])\nplot2Ddata(\n    receiver_locations[:, 0:2],\n    bz_real_plotting[frequencies_index, :],\n    ax=ax1,\n    ncontour=30,\n    clim=(-v_max, v_max),\n    contourOpts={\"cmap\": \"bwr\"},\n)\nax1.set_title(\"Re[$B_z$] at 100 Hz\")\n\nax2 = fig.add_axes([0.41, 0.05, 0.02, 0.9])\nnorm = mpl.colors.Normalize(vmin=-v_max, vmax=v_max)\ncbar = mpl.colorbar.ColorbarBase(\n    ax2, norm=norm, orientation=\"vertical\", cmap=mpl.cm.bwr\n)\ncbar.set_label(\"$T$\", rotation=270, labelpad=15, size=12)\n\n# Imaginary Component\nv_max = np.max(np.abs(bz_imag_plotting[frequencies_index, :]))\nax1 = fig.add_axes([0.55, 0.05, 0.35, 0.9])\nplot2Ddata(\n    receiver_locations[:, 0:2],\n    bz_imag_plotting[frequencies_index, :],\n    ax=ax1,\n    ncontour=30,\n    clim=(-v_max, v_max),\n    contourOpts={\"cmap\": \"bwr\"},\n)\nax1.set_title(\"Im[$B_z$] at 100 Hz\")\n\nax2 = fig.add_axes([0.91, 0.05, 0.02, 0.9])\nnorm = mpl.colors.Normalize(vmin=-v_max, vmax=v_max)\ncbar = mpl.colorbar.ColorbarBase(\n    ax2, norm=norm, orientation=\"vertical\", cmap=mpl.cm.bwr\n)\ncbar.set_label(\"$T$\", rotation=270, labelpad=15, size=12)\n\nplt.show()"
      ]
    },
    {
      "cell_type": "markdown",
      "metadata": {},
      "source": [
        "## Optional: Export Data\n\nWrite the true model, data and topography\n\n\n"
      ]
    },
    {
      "cell_type": "code",
      "execution_count": null,
      "metadata": {
        "collapsed": false
      },
      "outputs": [],
      "source": [
        "if save_file:\n    dir_path = os.path.dirname(fdem.__file__).split(os.path.sep)[:-3]\n    dir_path.extend([\"tutorials\", \"assets\", \"fdem\"])\n    dir_path = os.path.sep.join(dir_path) + os.path.sep\n\n    # Write topography\n    fname = dir_path + \"fdem_topo.txt\"\n    np.savetxt(fname, np.c_[topo_xyz], fmt=\"%.4e\")\n\n    # Write data with 2% noise added\n    fname = dir_path + \"fdem_data.obs\"\n    bz_real = bz_real + 1e-14 * np.random.randn(len(bz_real))\n    bz_imag = bz_imag + 1e-14 * np.random.randn(len(bz_imag))\n    f_vec = np.kron(frequencies, np.ones(ntx))\n    receiver_locations = np.kron(np.ones((len(frequencies), 1)), receiver_locations)\n\n    np.savetxt(fname, np.c_[f_vec, receiver_locations, bz_real, bz_imag], fmt=\"%.4e\")\n\n    # Plot true model\n    output_model = plotting_map * model\n    output_model[np.isnan(output_model)] = 1e-8\n\n    fname = dir_path + \"true_model.txt\"\n    np.savetxt(fname, output_model, fmt=\"%.4e\")"
      ]
    }
  ],
  "metadata": {
    "kernelspec": {
      "display_name": "Python 3",
      "language": "python",
      "name": "python3"
    },
    "language_info": {
      "codemirror_mode": {
        "name": "ipython",
        "version": 3
      },
      "file_extension": ".py",
      "mimetype": "text/x-python",
      "name": "python",
      "nbconvert_exporter": "python",
      "pygments_lexer": "ipython3",
      "version": "3.8.19"
    }
  },
  "nbformat": 4,
  "nbformat_minor": 0
}