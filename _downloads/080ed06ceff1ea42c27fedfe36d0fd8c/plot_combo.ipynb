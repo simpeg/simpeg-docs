{
  "cells": [
    {
      "cell_type": "markdown",
      "metadata": {},
      "source": [
        "\n# Maps: ComboMaps\n\nWe will use an example where we want a 1D layered earth as our model,\nbut we want to map this to a 2D discretization to do our forward\nmodeling. We will also assume that we are working in log conductivity\nstill, so after the transformation we map to conductivity space.\nTo do this we will introduce the vertical 1D map\n(:class:`SimPEG.maps.SurjectVertical1D`), which does the first part of\nwhat we just described. The second part will be done by the\n:class:`SimPEG.maps.ExpMap` described above.\n\n.. code-block:: python\n    :linenos:\n\n    M = discretize.TensorMesh([7,5])\n    v1dMap = maps.SurjectVertical1D(M)\n    expMap = maps.ExpMap(M)\n    myMap = expMap * v1dMap\n    m = np.r_[0.2,1,0.1,2,2.9] # only 5 model parameters!\n    sig = myMap * m\n\nIf you noticed, it was pretty easy to combine maps. What is even cooler\nis that the derivatives also are made for you (if everything goes\nright). Just to be sure that the derivative is correct, you should\nalways run the test on the mapping that you create.\n"
      ]
    },
    {
      "cell_type": "code",
      "execution_count": null,
      "metadata": {
        "collapsed": false
      },
      "outputs": [],
      "source": [
        "import discretize\nfrom SimPEG import maps\nimport numpy as np\nimport matplotlib.pyplot as plt\n\n\ndef run(plotIt=True):\n    M = discretize.TensorMesh([7, 5])\n    v1dMap = maps.SurjectVertical1D(M)\n    expMap = maps.ExpMap(M)\n    myMap = expMap * v1dMap\n    m = np.r_[0.2, 1, 0.1, 2, 2.9]  # only 5 model parameters!\n    sig = myMap * m\n\n    if not plotIt:\n        return\n\n    figs, axs = plt.subplots(1, 2)\n    axs[0].plot(m, M.cell_centers_y, \"b-o\")\n    axs[0].set_title(\"Model\")\n    axs[0].set_ylabel(\"Depth, y\")\n    axs[0].set_xlabel(\"Value, $m_i$\")\n    axs[0].set_xlim(0, 3)\n    axs[0].set_ylim(0, 1)\n    clbar = plt.colorbar(\n        M.plot_image(sig, ax=axs[1], grid=True, grid_opts=dict(color=\"grey\"))[0]\n    )\n    axs[1].set_title(\"Physical Property\")\n    axs[1].set_ylabel(\"Depth, y\")\n    clbar.set_label(r\"$\\sigma = \\exp(\\mathbf{P}m)$\")\n    plt.tight_layout()\n\n\nif __name__ == \"__main__\":\n    run()\n    plt.show()"
      ]
    }
  ],
  "metadata": {
    "kernelspec": {
      "display_name": "Python 3",
      "language": "python",
      "name": "python3"
    },
    "language_info": {
      "codemirror_mode": {
        "name": "ipython",
        "version": 3
      },
      "file_extension": ".py",
      "mimetype": "text/x-python",
      "name": "python",
      "nbconvert_exporter": "python",
      "pygments_lexer": "ipython3",
      "version": "3.8.19"
    }
  },
  "nbformat": 4,
  "nbformat_minor": 0
}