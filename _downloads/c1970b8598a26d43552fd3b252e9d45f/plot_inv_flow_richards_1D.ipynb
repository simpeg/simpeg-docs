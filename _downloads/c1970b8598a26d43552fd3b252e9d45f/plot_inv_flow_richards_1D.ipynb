{
  "cells": [
    {
      "cell_type": "markdown",
      "metadata": {},
      "source": [
        "\n# FLOW: Richards: 1D: Inversion\n\nThe example shows an inversion of Richards equation in 1D with a\nheterogeneous hydraulic conductivity function.\n\nThe haverkamp model is used with the same parameters as Celia1990_\nthe boundary and initial conditions are also the same. The simulation\ndomain is 40cm deep and is run for an hour with an exponentially\nincreasing time step that has a maximum of one minute. The general\nsetup of the experiment is an infiltration front that advances\ndownward through the model over time.\n\nThe model chosen is the saturated hydraulic conductivity inside\nthe hydraulic conductivity function (using haverkamp). The initial\nmodel is chosen to be the background (1e-3 cm/s). The saturation data\nhas 2% random Gaussian noise added.\n\nThe figure shows the recovered saturated hydraulic conductivity\nnext to the true model. The other two figures show the saturation\nfield for the entire simulation for the true and recovered models.\n\nRowan Cockett - 21/12/2016\n\n"
      ]
    },
    {
      "cell_type": "code",
      "execution_count": null,
      "metadata": {
        "collapsed": false
      },
      "outputs": [],
      "source": [
        "import matplotlib\nimport matplotlib.pyplot as plt\nimport numpy as np\n\nimport discretize\nfrom SimPEG import maps\nfrom SimPEG import regularization\nfrom SimPEG import data_misfit\nfrom SimPEG import optimization\nfrom SimPEG import inverse_problem\nfrom SimPEG import directives\nfrom SimPEG import inversion\n\nfrom SimPEG.flow import richards\n\n\ndef run(plotIt=True):\n    M = discretize.TensorMesh([np.ones(40)], x0=\"N\")\n    M.set_cell_gradient_BC(\"dirichlet\")\n    # We will use the haverkamp empirical model with parameters from Celia1990\n    k_fun, theta_fun = richards.empirical.haverkamp(\n        M,\n        A=1.1750e06,\n        gamma=4.74,\n        alpha=1.6110e06,\n        theta_s=0.287,\n        theta_r=0.075,\n        beta=3.96,\n    )\n\n    # Here we are making saturated hydraulic conductivity\n    # an exponential mapping to the model (defined below)\n    k_fun.KsMap = maps.ExpMap(nP=M.nC)\n\n    # Setup the boundary and initial conditions\n    bc = np.array([-61.5, -20.7])\n    h = np.zeros(M.nC) + bc[0]\n    prob = richards.SimulationNDCellCentered(\n        M,\n        hydraulic_conductivity=k_fun,\n        water_retention=theta_fun,\n        boundary_conditions=bc,\n        initial_conditions=h,\n        do_newton=False,\n        method=\"mixed\",\n        debug=False,\n    )\n    prob.time_steps = [(5, 25, 1.1), (60, 40)]\n\n    # Create the survey\n    locs = -np.arange(2, 38, 4.0).reshape(-1, 1)\n    times = np.arange(30, prob.time_mesh.cell_centers_x[-1], 60)\n    rxSat = richards.receivers.Saturation(locs, times)\n    survey = richards.Survey([rxSat])\n    prob.survey = survey\n\n    # Create a simple model for Ks\n    Ks = 1e-3\n    mtrue = np.ones(M.nC) * np.log(Ks)\n    mtrue[15:20] = np.log(5e-2)\n    mtrue[20:35] = np.log(3e-3)\n    mtrue[35:40] = np.log(1e-2)\n    m0 = np.ones(M.nC) * np.log(Ks)\n\n    # Create some synthetic data and fields\n    relative = 0.02  # The standard deviation for the noise\n    Hs = prob.fields(mtrue)\n    data = prob.make_synthetic_data(\n        mtrue, relative_error=relative, f=Hs, add_noise=True\n    )\n\n    # Setup a pretty standard inversion\n    reg = regularization.WeightedLeastSquares(M, alpha_s=1e-1)\n    dmis = data_misfit.L2DataMisfit(simulation=prob, data=data)\n    opt = optimization.InexactGaussNewton(maxIter=20, maxIterCG=10)\n    invProb = inverse_problem.BaseInvProblem(dmis, reg, opt)\n    beta = directives.BetaSchedule(coolingFactor=4)\n    betaest = directives.BetaEstimate_ByEig(beta0_ratio=1e2)\n    target = directives.TargetMisfit()\n    dir_list = [beta, betaest, target]\n    inv = inversion.BaseInversion(invProb, directiveList=dir_list)\n\n    mopt = inv.run(m0)\n\n    Hs_opt = prob.fields(mopt)\n\n    if plotIt:\n        plt.figure(figsize=(14, 9))\n\n        ax = plt.subplot(121)\n        plt.semilogx(np.exp(np.c_[mopt, mtrue]), M.gridCC)\n        plt.xlabel(\"Saturated Hydraulic Conductivity, $K_s$\")\n        plt.ylabel(\"Depth, cm\")\n        plt.semilogx([10**-3.9] * len(locs), locs, \"ro\")\n        plt.legend((\"$m_{rec}$\", \"$m_{true}$\", \"Data locations\"), loc=4)\n\n        ax = plt.subplot(222)\n        mesh2d = discretize.TensorMesh([prob.time_mesh.h[0] / 60, prob.mesh.h[0]], \"0N\")\n        sats = [theta_fun(_) for _ in Hs]\n        clr = mesh2d.plot_image(np.c_[sats][1:, :], ax=ax)\n        cmap0 = matplotlib.cm.RdYlBu_r\n        clr[0].set_cmap(cmap0)\n        c = plt.colorbar(clr[0])\n        c.set_label(\"Saturation $\\\\theta$\")\n        plt.xlabel(\"Time, minutes\")\n        plt.ylabel(\"Depth, cm\")\n        plt.title(\"True saturation over time\")\n\n        ax = plt.subplot(224)\n        mesh2d = discretize.TensorMesh([prob.time_mesh.h[0] / 60, prob.mesh.h[0]], \"0N\")\n        sats = [theta_fun(_) for _ in Hs_opt]\n        clr = mesh2d.plot_image(np.c_[sats][1:, :], ax=ax)\n        cmap0 = matplotlib.cm.RdYlBu_r\n        clr[0].set_cmap(cmap0)\n        c = plt.colorbar(clr[0])\n        c.set_label(\"Saturation $\\\\theta$\")\n        plt.xlabel(\"Time, minutes\")\n        plt.ylabel(\"Depth, cm\")\n        plt.title(\"Recovered saturation over time\")\n\n        plt.tight_layout()\n\n\nif __name__ == \"__main__\":\n    run()\n    plt.show()"
      ]
    }
  ],
  "metadata": {
    "kernelspec": {
      "display_name": "Python 3",
      "language": "python",
      "name": "python3"
    },
    "language_info": {
      "codemirror_mode": {
        "name": "ipython",
        "version": 3
      },
      "file_extension": ".py",
      "mimetype": "text/x-python",
      "name": "python",
      "nbconvert_exporter": "python",
      "pygments_lexer": "ipython3",
      "version": "3.8.19"
    }
  },
  "nbformat": 4,
  "nbformat_minor": 0
}