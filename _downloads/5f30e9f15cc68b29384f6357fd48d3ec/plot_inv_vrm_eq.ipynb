{
  "cells": [
    {
      "cell_type": "markdown",
      "metadata": {},
      "source": [
        "\n# Method of Equivalent Sources for Removing VRM Responses\n\nHere, we use an equivalent source inversion to remove the VRM response from TEM\ndata collected by a small coincident loop system. The data being inverted are\nthe same as in the forward modeling example. To remove the VRM signal we:\n\n    1. invert the late time data to recover an equivalent source surface layer of cells.\n    2. use the recovered model to predict the VRM response at all times\n    3. subtract the predicted VRM response from the observed data\n"
      ]
    },
    {
      "cell_type": "markdown",
      "metadata": {},
      "source": [
        "## Import modules\n\n\n"
      ]
    },
    {
      "cell_type": "code",
      "execution_count": null,
      "metadata": {
        "collapsed": false
      },
      "outputs": [],
      "source": [
        "from SimPEG.electromagnetics import viscous_remanent_magnetization as VRM\nimport numpy as np\nimport discretize\nfrom SimPEG import (\n    utils,\n    maps,\n    data_misfit,\n    directives,\n    optimization,\n    regularization,\n    inverse_problem,\n    inversion,\n    data,\n)\nimport matplotlib.pyplot as plt\nimport matplotlib as mpl"
      ]
    },
    {
      "cell_type": "markdown",
      "metadata": {},
      "source": [
        "## Defining the mesh\n\n\n"
      ]
    },
    {
      "cell_type": "code",
      "execution_count": null,
      "metadata": {
        "collapsed": false
      },
      "outputs": [],
      "source": [
        "cs, ncx, ncy, ncz, npad = 2.0, 35, 35, 20, 5\nhx = [(cs, npad, -1.3), (cs, ncx), (cs, npad, 1.3)]\nhy = [(cs, npad, -1.3), (cs, ncy), (cs, npad, 1.3)]\nhz = [(cs, npad, -1.3), (cs, ncz), (cs, npad, 1.3)]\nmesh = discretize.TensorMesh([hx, hy, hz], \"CCC\")"
      ]
    },
    {
      "cell_type": "markdown",
      "metadata": {},
      "source": [
        "## Defining the true model\n\nCreate xi model (amalgamated magnetic property). Here the model is made by\nsumming a set of 3D Gaussian distributions. And only active cells have a\nmodel value.\n\n\n"
      ]
    },
    {
      "cell_type": "code",
      "execution_count": null,
      "metadata": {
        "collapsed": false
      },
      "outputs": [],
      "source": [
        "topoCells = mesh.gridCC[:, 2] < 0.0  # define topography\n\nxyzc = mesh.gridCC[topoCells, :]\nc = 2 * np.pi * 8**2\npc = np.r_[4e-4, 4e-4, 4e-4, 6e-4, 8e-4, 6e-4, 8e-4, 8e-4]\nx_0 = np.r_[50.0, -50.0, -40.0, -20.0, -15.0, 20.0, -10.0, 25.0]\ny_0 = np.r_[0.0, 0.0, 40.0, 10.0, -20.0, 15.0, 0.0, 0.0]\nz_0 = np.r_[0.0, 0.0, 0.0, 0.0, 0.0, 0.0, 0.0, 0.0]\nvar_x = c * np.r_[3.0, 3.0, 3.0, 1.0, 3.0, 0.5, 0.1, 0.1]\nvar_y = c * np.r_[20.0, 20.0, 1.0, 1.0, 0.4, 0.5, 0.1, 0.4]\nvar_z = c * np.r_[1.0, 1.0, 1.0, 1.0, 1.0, 1.0, 1.0, 1.0]\n\nxi_true = np.zeros(np.shape(xyzc[:, 0]))\n\nfor ii in range(0, 8):\n    xi_true += (\n        pc[ii]\n        * np.exp(-((xyzc[:, 0] - x_0[ii]) ** 2) / var_x[ii])\n        * np.exp(-((xyzc[:, 1] - y_0[ii]) ** 2) / var_y[ii])\n        * np.exp(-((xyzc[:, 2] - z_0[ii]) ** 2) / var_z[ii])\n    )\n\nxi_true += 1e-5"
      ]
    },
    {
      "cell_type": "markdown",
      "metadata": {},
      "source": [
        "## Survey\n\nHere we must set the transmitter waveform, which defines the off-time decay\nof the VRM response. Next we define the sources, receivers and time channels\nfor the survey. Our example is similar to an EM-63 survey.\n\n\n"
      ]
    },
    {
      "cell_type": "code",
      "execution_count": null,
      "metadata": {
        "collapsed": false
      },
      "outputs": [],
      "source": [
        "waveform = VRM.waveforms.StepOff()\n\ntimes = np.logspace(-5, -2, 31)  # Observation times\nx, y = np.meshgrid(np.linspace(-30, 30, 21), np.linspace(-30, 30, 21))\nz = 0.5 * np.ones(x.shape)\nloc = np.c_[utils.mkvc(x), utils.mkvc(y), utils.mkvc(z)]  # Src and Rx Locations\n\nsource_listVRM = []\n\nfor pp in range(0, loc.shape[0]):\n    loc_pp = np.reshape(loc[pp, :], (1, 3))\n    receiver_listVRM = [\n        VRM.Rx.Point(loc_pp, times=times, field_type=\"dbdt\", orientation=\"z\")\n    ]\n\n    source_listVRM.append(\n        VRM.Src.MagDipole(\n            receiver_listVRM, utils.mkvc(loc[pp, :]), [0.0, 0.0, 0.01], waveform\n        )\n    )\n\nsurvey_vrm = VRM.Survey(source_listVRM)"
      ]
    },
    {
      "cell_type": "markdown",
      "metadata": {},
      "source": [
        "## Forward Simulation\n\nHere we predict data by solving the forward problem. For the VRM problem,\nwe use a sensitivity refinement strategy for cells # that are proximal to\ntransmitters. This is controlled through the *refinement_factor* and *refinement_distance*\nproperties.\n\n\n"
      ]
    },
    {
      "cell_type": "code",
      "execution_count": null,
      "metadata": {
        "collapsed": false
      },
      "outputs": [],
      "source": [
        "# Defining the problem\nproblem_vrm = VRM.Simulation3DLinear(\n    mesh,\n    survey=survey_vrm,\n    indActive=topoCells,\n    refinement_factor=3,\n    refinement_distance=[1.25, 2.5, 3.75],\n)\n\n# Predict VRM response\nfields_vrm = problem_vrm.dpred(xi_true)\n\n# Add an artificial TEM response. An analytic solution for the response near\n# the surface of a conductive half-space (Nabighian, 1979) is scaled at each\n# location to provide lateral variability in the TEM response.\nn_times = len(times)\nn_loc = loc.shape[0]\n\nsig = 1e-1\nmu0 = 4 * np.pi * 1e-7\nfields_tem = -(sig**1.5) * mu0**2.5 * times**-2.5 / (20 * np.pi**1.5)\nfields_tem = np.kron(np.ones(n_loc), fields_tem)\nc = (\n    np.exp(-((loc[:, 0] - 10) ** 2) / (25**2))\n    * np.exp(-((loc[:, 1] - 20) ** 2) / (35**2))\n    + np.exp(-((loc[:, 0] + 20) ** 2) / (20**2))\n    * np.exp(-((loc[:, 1] + 20) ** 2) / (40**2))\n    + 1.5\n    * np.exp(-((loc[:, 0] - 25) ** 2) / (10**2))\n    * np.exp(-((loc[:, 1] + 25) ** 2) / (10**2))\n    + 0.25\n)\n\nc = np.kron(c, np.ones(n_times))\nfields_tem = c * fields_tem\n\nfields_tot = fields_tem + fields_vrm\nfields_tot = fields_tot + 0.05 * np.abs(fields_tot) * np.random.normal(\n    size=fields_tot.shape\n)"
      ]
    },
    {
      "cell_type": "markdown",
      "metadata": {},
      "source": [
        "## Inverse Problem\n\nHere, we invert late-time data to recover an equivalent source model. To\nrecover the equivalent source model, only cells at the surface are set\nas active in the inversion.\n\n\n"
      ]
    },
    {
      "cell_type": "code",
      "execution_count": null,
      "metadata": {
        "collapsed": false
      },
      "outputs": [],
      "source": [
        "# Define problem\n# survey_inv = VRM.Survey(source_listVRM)\nactCells = (mesh.gridCC[:, 2] < 0.0) & (mesh.gridCC[:, 2] > -2.0)\nproblem_inv = VRM.Simulation3DLinear(\n    mesh,\n    survey=survey_vrm,\n    indActive=actCells,\n    refinement_factor=3,\n    refinement_distance=[1.25, 2.5, 3.75],\n)\nsurvey_vrm.set_active_interval(1e-3, 1e-2)\n\ndobs = fields_tot[survey_vrm.t_active]\nrel_err = 0.05\neps = 1e-11\ndata_vrm = data.Data(\n    dobs=dobs, survey=survey_vrm, relative_error=rel_err, noise_floor=eps\n)\n\n# Setup and run inversion\ndmis = data_misfit.L2DataMisfit(simulation=problem_inv, data=data_vrm)\n\nw = utils.mkvc((np.sum(np.array(problem_inv.A) ** 2, axis=0))) ** 0.5\nw = w / np.max(w)\nw = w\n\nreg = regularization.Smallness(\n    mesh=mesh, active_cells=actCells, weights={\"cell_weights\": w}\n)\n\nopt = optimization.ProjectedGNCG(\n    maxIter=20, lower=0.0, upper=1e-2, maxIterLS=20, tolCG=1e-4\n)\ninvProb = inverse_problem.BaseInvProblem(dmis, reg, opt)\ndirectives = [\n    directives.BetaSchedule(coolingFactor=2, coolingRate=1),\n    directives.TargetMisfit(),\n]\ninv = inversion.BaseInversion(invProb, directiveList=directives)\n\nxi_0 = 1e-3 * np.ones(actCells.sum())\nxi_rec = inv.run(xi_0)\n\n# Predict VRM response at all times for recovered model\nsurvey_vrm.set_active_interval(0.0, 1.0)\nfields_pre = problem_inv.dpred(xi_rec)"
      ]
    },
    {
      "cell_type": "markdown",
      "metadata": {},
      "source": [
        "## Plotting\n\n\n"
      ]
    },
    {
      "cell_type": "code",
      "execution_count": null,
      "metadata": {
        "collapsed": false
      },
      "outputs": [],
      "source": [
        "fields_tot = np.reshape(fields_tot, (n_loc, n_times))\nfields_vrm = np.reshape(fields_vrm, (n_loc, n_times))\nfields_tem = np.reshape(fields_tem, (n_loc, n_times))\nfields_pre = np.reshape(fields_pre, (n_loc, n_times))\n\n\nFig = plt.figure(figsize=(10, 10))\nfont_size = 12\n\n# Plot models\ninvMap = maps.InjectActiveCells(mesh, actCells, 0.0)  # Maps to mesh\ntopoMap = maps.InjectActiveCells(mesh, topoCells, 0.0)\nmax_val = np.max(np.r_[xi_true, xi_rec])\nax1 = 3 * [None]\ncplot1 = 2 * [None]\nxi_mod = [xi_true, xi_rec]\nmap_mod = [topoMap, invMap]\ntitlestr1 = [\"True Model (z = 0 m)\", \"Equivalent Source Model\"]\n\nfor qq in range(0, 2):\n    ax1[qq] = Fig.add_axes([0.15 + 0.35 * qq, 0.7, 0.25, 0.25])\n    cplot1[qq] = mesh.plot_slice(\n        map_mod[qq] * xi_mod[qq],\n        ind=int((ncz + 2 * npad) / 2 - 1),\n        ax=ax1[qq],\n        grid=True,\n        pcolor_opts={\"cmap\": \"gist_heat_r\"},\n    )\n    cplot1[qq][0].set_clim((0.0, max_val))\n    ax1[qq].set_xlabel(\"X [m]\", fontsize=font_size)\n    ax1[qq].set_ylabel(\"Y [m]\", fontsize=font_size, labelpad=-5)\n    ax1[qq].tick_params(labelsize=font_size - 2)\n    ax1[qq].set_title(titlestr1[qq], fontsize=font_size + 2)\n\nax1[2] = Fig.add_axes([0.78, 0.7, 0.01, 0.25])\nnorm = mpl.colors.Normalize(vmin=0.0, vmax=max_val)\ncbar14 = mpl.colorbar.ColorbarBase(\n    ax1[2], cmap=mpl.cm.gist_heat_r, norm=norm, orientation=\"vertical\"\n)\ncbar14.set_label(\n    r\"$\\Delta \\chi /$ln$(\\lambda_2 / \\lambda_1 )$ [SI]\",\n    rotation=270,\n    labelpad=15,\n    size=font_size,\n)\n\n# Plot decays\nN = x.shape[0]\nax2 = 2 * [None]\nfor qq in range(0, 2):\n    ax2[qq] = Fig.add_axes([0.1 + 0.45 * qq, 0.36, 0.35, 0.26])\n    k = int((N**2 - 1) / 2 - 3 * N * (-1) ** qq)\n    di_tot = utils.mkvc(np.abs(fields_tot[k, :]))\n    di_pre = utils.mkvc(np.abs(fields_vrm[k, :]))\n    di_tem = utils.mkvc(np.abs(fields_tem[k, :]))\n    ax2[qq].loglog(times, di_tot, \"k.-\")\n    ax2[qq].loglog(times, di_tem, \"r.-\")\n    ax2[qq].loglog(times, di_pre, \"b.-\")\n    ax2[qq].loglog(times, np.abs(di_tot - di_pre), \"g.-\")\n    ax2[qq].set_xlabel(\"t [s]\", fontsize=font_size, labelpad=-10)\n    if qq == 0:\n        ax2[qq].set_ylabel(\"|dBz/dt| [T/s]\", fontsize=font_size)\n    else:\n        ax2[qq].axes.get_yaxis().set_visible(False)\n    ax2[qq].tick_params(labelsize=font_size - 2)\n    ax2[qq].set_xbound(np.min(times), np.max(times))\n    ax2[qq].set_ybound(1.2 * np.max(di_tot), 1e-5 * np.max(di_tot))\n    titlestr2 = (\n        \"Decay at X = \"\n        + \"{:.2f}\".format(loc[k, 0])\n        + \" m and Y = \"\n        + \"{:.2f}\".format(loc[k, 1])\n        + \" m\"\n    )\n    ax2[qq].set_title(titlestr2, fontsize=font_size + 2)\n    if qq == 0:\n        ax2[qq].text(\n            1.2e-5, 54 * np.max(di_tot) / 1e5, \"Observed\", fontsize=font_size, color=\"k\"\n        )\n        ax2[qq].text(\n            1.2e-5, 18 * np.max(di_tot) / 1e5, \"True TEM\", fontsize=font_size, color=\"r\"\n        )\n        ax2[qq].text(\n            1.2e-5,\n            6 * np.max(di_tot) / 1e5,\n            \"Predicted VRM\",\n            fontsize=font_size,\n            color=\"b\",\n        )\n        ax2[qq].text(\n            1.2e-5,\n            2 * np.max(di_tot) / 1e5,\n            \"Recovered TEM\",\n            fontsize=font_size,\n            color=\"g\",\n        )\n\n# Plot anomalies\nd = [\n    np.reshape(np.abs(fields_tot[:, 10]), (N, N)),\n    np.reshape(np.abs(fields_tem[:, 10]), (N, N)),\n    np.reshape(np.abs(fields_tot[:, 10] - fields_pre[:, 10]), (N, N)),\n]\n\nmin_val = np.min(np.r_[d[0], d[1], d[2]])\nmax_val = np.max(np.r_[d[0], d[1], d[2]])\n\nax3 = 4 * [None]\ncplot3 = 3 * [None]\ntitle_str = [\"Observed at t=\", \"True TEM at t=\", \"Recov. TEM at t=\"]\n\nfor qq in range(0, 3):\n    ax3[qq] = Fig.add_axes([0.07 + 0.28 * qq, 0.05, 0.24, 0.24])\n    cplot3[qq] = ax3[qq].contourf(x, y, d[qq].T, 40, cmap=\"magma_r\")\n    ax3[qq].set_xticks(np.linspace(-30, 30, 7))\n    ax3[qq].set_xlabel(\"X [m]\", fontsize=font_size)\n    if qq == 0:\n        ax3[qq].scatter(x, y, color=(0, 0, 0), s=4)\n        ax3[qq].set_ylabel(\"Y [m]\", fontsize=font_size, labelpad=-12)\n    else:\n        ax3[qq].axes.get_yaxis().set_visible(False)\n    ax3[qq].tick_params(labelsize=font_size - 2)\n    ax3[qq].set_xbound(np.min(x), np.max(x))\n    ax3[qq].set_ybound(np.min(y), np.max(y))\n    titlestr3 = title_str[qq] + \"{:.1e}\".format(times[10]) + \" s\"\n    ax3[qq].set_title(titlestr3, fontsize=font_size + 2)\n\nax3[3] = Fig.add_axes([0.88, 0.05, 0.01, 0.24])\nnorm = mpl.colors.Normalize(vmin=min_val, vmax=max_val)\ncbar34 = mpl.colorbar.ColorbarBase(\n    ax3[3], cmap=mpl.cm.magma_r, norm=norm, orientation=\"vertical\", format=\"%.1e\"\n)\ncbar34.set_label(\"dBz/dt [T/s]\", rotation=270, size=font_size, labelpad=15)\nplt.show()"
      ]
    }
  ],
  "metadata": {
    "kernelspec": {
      "display_name": "Python 3",
      "language": "python",
      "name": "python3"
    },
    "language_info": {
      "codemirror_mode": {
        "name": "ipython",
        "version": 3
      },
      "file_extension": ".py",
      "mimetype": "text/x-python",
      "name": "python",
      "nbconvert_exporter": "python",
      "pygments_lexer": "ipython3",
      "version": "3.8.19"
    }
  },
  "nbformat": 4,
  "nbformat_minor": 0
}