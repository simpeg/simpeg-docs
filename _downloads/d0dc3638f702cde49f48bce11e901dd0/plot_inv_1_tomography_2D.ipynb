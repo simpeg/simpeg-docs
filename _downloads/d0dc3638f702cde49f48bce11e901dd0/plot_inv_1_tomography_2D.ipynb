{
  "cells": [
    {
      "cell_type": "markdown",
      "metadata": {},
      "source": [
        "\n# Sparse Norm Inversion of 2D Seismic Tomography Data\n\nHere we 2D straight ray tomography data to recover a velocity/slowness model.\nWe formulate the inverse problem as an iteratively\nre-weighted least-squares (IRLS) optimization problem. For this tutorial, we\nfocus on the following:\n\n    - Defining the survey from xyz formatted data\n    - Defining the inverse problem (data misfit, regularization, optimization)\n    - Specifying directives for the inversion\n    - Setting sparse and blocky norms\n    - Plotting the recovered model\n"
      ]
    },
    {
      "cell_type": "markdown",
      "metadata": {},
      "source": [
        "## Import Modules\n\n\n"
      ]
    },
    {
      "cell_type": "code",
      "execution_count": null,
      "metadata": {
        "collapsed": false
      },
      "outputs": [],
      "source": [
        "import os\nimport numpy as np\nimport matplotlib as mpl\nimport matplotlib.pyplot as plt\nimport tarfile\n\nfrom discretize import TensorMesh\n\nfrom SimPEG import (\n    data,\n    maps,\n    regularization,\n    data_misfit,\n    optimization,\n    inverse_problem,\n    directives,\n    inversion,\n    utils,\n)\n\nfrom SimPEG.seismic import straight_ray_tomography as tomo\n\n# sphinx_gallery_thumbnail_number = 3"
      ]
    },
    {
      "cell_type": "markdown",
      "metadata": {},
      "source": [
        "## Define File Names\n\nHere we provide the file paths to assets we need to run the inversion. The\npath to the true model is provided for comparison with the inversion results.\nThese files are stored as a tar-file on our google cloud bucket:\n\"https://storage.googleapis.com/simpeg/doc-assets/seismic.tar.gz\"\n\nstorage bucket where we have the data\n\n"
      ]
    },
    {
      "cell_type": "code",
      "execution_count": null,
      "metadata": {
        "collapsed": false
      },
      "outputs": [],
      "source": [
        "data_source = \"https://storage.googleapis.com/simpeg/doc-assets/seismic.tar.gz\"\n\n# download the data\ndownloaded_data = utils.download(data_source, overwrite=True)\n\n# unzip the tarfile\ntar = tarfile.open(downloaded_data, \"r\")\ntar.extractall()\ntar.close()\n\n# path to the directory containing our data\ndir_path = downloaded_data.split(\".\")[0] + os.path.sep\n\n# files to work with\ndata_filename = dir_path + \"tomography2D_data.obs\"\nmodel_filename = dir_path + \"true_model_2D.txt\""
      ]
    },
    {
      "cell_type": "markdown",
      "metadata": {},
      "source": [
        "## Load Data, Define Survey and Plot\n\nHere we load the observed data, define the survey geometry and\nplot the data.\n\n\n"
      ]
    },
    {
      "cell_type": "code",
      "execution_count": null,
      "metadata": {
        "collapsed": false
      },
      "outputs": [],
      "source": [
        "# Load data\ndobs = np.loadtxt(str(data_filename))\n\n# Extract source and receiver locations and the observed data\nxy_sources = dobs[:, 0:2]\nxy_receivers = dobs[:, 2:4]\ndobs = dobs[:, -1]\n\n# Define survey\nunique_sources, k = np.unique(xy_sources, axis=0, return_index=True)\nn_sources = len(k)\nk = np.r_[k, len(dobs) + 1]\n\nsource_list = []\nfor ii in range(0, n_sources):\n    # Receiver locations for source ii\n    receiver_locations = xy_receivers[k[ii] : k[ii + 1], :]\n    receiver_list = [tomo.Rx(receiver_locations)]\n\n    # Source ii location\n    source_location = xy_sources[k[ii], :]\n    source_list.append(tomo.Src(receiver_list, source_location))\n\n# Define survey\nsurvey = tomo.Survey(source_list)\n\n# Define a data object. Uncertainties are added later\ndata_obj = data.Data(survey, dobs=dobs)\n\n# Plot\nn_source = len(source_list)\nn_receiver = len(xy_receivers)\n\nfig = plt.figure(figsize=(8, 5))\nax = fig.add_subplot(111)\nobs_string = []\n\nfor ii in range(0, n_source):\n    x_plotting = xy_receivers[k[ii] : k[ii + 1], 0]\n    dobs_plotting = dobs[k[ii] : k[ii + 1]]\n    ax.plot(x_plotting, dobs_plotting)\n    obs_string.append(\"source {}\".format(ii + 1))\n\nax.set_xlabel(\"x (m)\")\nax.set_ylabel(\"arrival time (s)\")\nax.set_title(\"Positions vs. Arrival Time\")\nax.legend(obs_string, loc=\"upper right\")\n\nplt.show()"
      ]
    },
    {
      "cell_type": "markdown",
      "metadata": {},
      "source": [
        "## Assign Uncertainties\n\nInversion with SimPEG requires that we define standard deviation on our data.\nThis represents our estimate of the noise in our data. In this case, we\nassign a 5 percent uncertainty to each datum.\n\n\n"
      ]
    },
    {
      "cell_type": "code",
      "execution_count": null,
      "metadata": {
        "collapsed": false
      },
      "outputs": [],
      "source": [
        "# Compute standard deviations\nstd = 0.05 * np.abs(dobs)\n\n# Add standard deviations to data object\ndata_obj.standard_deviation = std"
      ]
    },
    {
      "cell_type": "markdown",
      "metadata": {},
      "source": [
        "## Defining a Tensor Mesh\n\nHere, we create the tensor mesh that will be used to invert the data.\n\n\n"
      ]
    },
    {
      "cell_type": "code",
      "execution_count": null,
      "metadata": {
        "collapsed": false
      },
      "outputs": [],
      "source": [
        "dh = 10.0  # cell width\nN = 21  # number of cells in X and Y direction\nhx = [(dh, N)]\nhy = [(dh, N)]\nmesh = TensorMesh([hx, hy], \"CC\")"
      ]
    },
    {
      "cell_type": "markdown",
      "metadata": {},
      "source": [
        "## Starting/Reference Model and Mapping on Tensor Mesh\n\nHere, we create starting and/or reference models for the inversion as\nwell as the mapping from the model space to the slowness. Starting and\nreference models can be a constant background value or contain a-priori\nstructures. Here, the background is 3000 m/s.\n\n\n"
      ]
    },
    {
      "cell_type": "code",
      "execution_count": null,
      "metadata": {
        "collapsed": false
      },
      "outputs": [],
      "source": [
        "# Define density contrast values for each unit in g/cc. Don't make this 0!\n# Otherwise the gradient for the 1st iteration is zero and the inversion will\n# not converge.\nbackground_velocity = 3000.0\n\n# Define mapping from model space to the slowness on mesh cells\nmodel_mapping = maps.ReciprocalMap()\n\n# Define starting model\nstarting_model = background_velocity * np.ones(mesh.nC)"
      ]
    },
    {
      "cell_type": "markdown",
      "metadata": {},
      "source": [
        "## Define the Physics\n\nHere, we define the physics of the 2D straight ray tomography problem by\nusing the simulation class.\n\n\n"
      ]
    },
    {
      "cell_type": "code",
      "execution_count": null,
      "metadata": {
        "collapsed": false
      },
      "outputs": [],
      "source": [
        "# Define the forward simulation. To do this we need the mesh, the survey and\n# the mapping from the model to the slowness value on each cell.\nsimulation = tomo.Simulation(mesh, survey=survey, slownessMap=model_mapping)"
      ]
    },
    {
      "cell_type": "markdown",
      "metadata": {},
      "source": [
        "## Define the Inverse Problem\n\nThe inverse problem is defined by 3 things:\n\n    1) Data Misfit: a measure of how well our recovered model explains the field data\n    2) Regularization: constraints placed on the recovered model and a priori information\n    3) Optimization: the numerical approach used to solve the inverse problem\n\n\n"
      ]
    },
    {
      "cell_type": "code",
      "execution_count": null,
      "metadata": {
        "collapsed": false
      },
      "outputs": [],
      "source": [
        "# Define the data misfit. Here the data misfit is the L2 norm of the weighted\n# residual between the observed data and the data predicted for a given model.\n# Within the data misfit, the residual between predicted and observed data are\n# normalized by the data's standard deviation.\ndmis = data_misfit.L2DataMisfit(data=data_obj, simulation=simulation)\n\n# Define the regularization (model objective function). Here, 'p' defines the\n# the norm of the smallness term and 'q' defines the norm of the smoothness\n# term.\nreg = regularization.Sparse(mesh, mapping=maps.IdentityMap(nP=mesh.nC))\np = 0\nqx = 0.5\nqy = 0.5\nreg.norms = [p, qx, qy]\n\n# Define how the optimization problem is solved.\nopt = optimization.ProjectedGNCG(\n    maxIter=100, lower=0.0, upper=1e6, maxIterLS=20, maxIterCG=10, tolCG=1e-4\n)\n\n# Here we define the inverse problem that is to be solved\ninv_prob = inverse_problem.BaseInvProblem(dmis, reg, opt)"
      ]
    },
    {
      "cell_type": "markdown",
      "metadata": {},
      "source": [
        "## Define Inversion Directives\n\nHere we define any directiveas that are carried out during the inversion. This\nincludes the cooling schedule for the trade-off parameter (beta), stopping\ncriteria for the inversion and saving inversion results at each iteration.\n\n\n"
      ]
    },
    {
      "cell_type": "code",
      "execution_count": null,
      "metadata": {
        "collapsed": false
      },
      "outputs": [],
      "source": [
        "# Reach target misfit for L2 solution, then use IRLS until model stops changing.\nupdate_IRLS = directives.Update_IRLS(\n    f_min_change=1e-4,\n    max_irls_iterations=30,\n    coolEpsFact=1.5,\n    beta_tol=1e-2,\n)\n\n# Defining a starting value for the trade-off parameter (beta) between the data\n# misfit and the regularization.\nstarting_beta = directives.BetaEstimate_ByEig(beta0_ratio=2e0)\n\n# Save output at each iteration\nsaveDict = directives.SaveOutputEveryIteration(save_txt=False)\n\n# Define the directives as a list\ndirectives_list = [starting_beta, update_IRLS, saveDict]"
      ]
    },
    {
      "cell_type": "markdown",
      "metadata": {},
      "source": [
        "## Running the Inversion\n\nTo define the inversion object, we need to define the inversion problem and\nthe set of directives. We can then run the inversion.\n\n\n"
      ]
    },
    {
      "cell_type": "code",
      "execution_count": null,
      "metadata": {
        "collapsed": false
      },
      "outputs": [],
      "source": [
        "# Here we combine the inverse problem and the set of directives\ninv = inversion.BaseInversion(inv_prob, directives_list)\n\n# Run inversion\nrecovered_model = inv.run(starting_model)"
      ]
    },
    {
      "cell_type": "markdown",
      "metadata": {},
      "source": [
        "## Plotting True Model and Recovered Model\n\n\n"
      ]
    },
    {
      "cell_type": "code",
      "execution_count": null,
      "metadata": {
        "collapsed": false
      },
      "outputs": [],
      "source": [
        "# Load the true model\ntrue_model = np.loadtxt(str(model_filename))\n\n# Plot True Model\nfig = plt.figure(figsize=(6, 5.5))\n\nax1 = fig.add_axes([0.15, 0.15, 0.65, 0.75])\nmesh.plot_image(true_model, ax=ax1, grid=True, pcolor_opts={\"cmap\": \"viridis\"})\nax1.set_title(\"True Model\")\n\nax2 = fig.add_axes([0.82, 0.15, 0.05, 0.75])\nnorm = mpl.colors.Normalize(vmin=np.min(true_model), vmax=np.max(true_model))\ncbar = mpl.colorbar.ColorbarBase(\n    ax2, norm=norm, orientation=\"vertical\", cmap=mpl.cm.viridis\n)\ncbar.set_label(\"Velocity (m/s)\", rotation=270, labelpad=15, size=12)\n\nplt.show()\n\n# Plot Recovered Model\nfig = plt.figure(figsize=(6, 5.5))\n\nax1 = fig.add_axes([0.15, 0.15, 0.65, 0.75])\nmesh.plot_image(recovered_model, ax=ax1, grid=True, pcolor_opts={\"cmap\": \"viridis\"})\nax1.set_title(\"Recovered Model\")\n\nax2 = fig.add_axes([0.82, 0.15, 0.05, 0.75])\nnorm = mpl.colors.Normalize(vmin=np.min(recovered_model), vmax=np.max(recovered_model))\ncbar = mpl.colorbar.ColorbarBase(\n    ax2, norm=norm, orientation=\"vertical\", cmap=mpl.cm.viridis\n)\ncbar.set_label(\"Velocity (m/s)\", rotation=270, labelpad=15, size=12)\n\nplt.show()"
      ]
    }
  ],
  "metadata": {
    "kernelspec": {
      "display_name": "Python 3",
      "language": "python",
      "name": "python3"
    },
    "language_info": {
      "codemirror_mode": {
        "name": "ipython",
        "version": 3
      },
      "file_extension": ".py",
      "mimetype": "text/x-python",
      "name": "python",
      "nbconvert_exporter": "python",
      "pygments_lexer": "ipython3",
      "version": "3.8.19"
    }
  },
  "nbformat": 4,
  "nbformat_minor": 0
}