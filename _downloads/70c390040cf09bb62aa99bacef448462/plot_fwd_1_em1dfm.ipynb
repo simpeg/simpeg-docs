{
  "cells": [
    {
      "cell_type": "markdown",
      "metadata": {},
      "source": [
        "\n# 1D Forward Simulation for a Single Sounding\n\nHere we use the module *SimPEG.electromangetics.frequency_domain_1d* to predict\nfrequency domain data for a single sounding over a 1D layered Earth.\nIn this tutorial, we focus on the following:\n\n    - Defining receivers, sources and the survey\n    - How to predict total field, secondary field or ppm data\n    - The units of the model and resulting data\n    - Defining and running the 1D simulation for a single sounding\n\nOur survey geometry consists of a vertical magnetic dipole source\nlocated 30 m above the Earth's surface. The receiver is offset\n10 m horizontally from the source.\n"
      ]
    },
    {
      "cell_type": "markdown",
      "metadata": {},
      "source": [
        "## Import Modules\n\n\n"
      ]
    },
    {
      "cell_type": "code",
      "execution_count": null,
      "metadata": {
        "collapsed": false
      },
      "outputs": [],
      "source": [
        "import numpy as np\nimport os\nfrom matplotlib import pyplot as plt\nfrom discretize import TensorMesh\n\nfrom SimPEG import maps\nfrom SimPEG.electromagnetics import frequency_domain as fdem\nfrom SimPEG.utils import plot_1d_layer_model\n\nplt.rcParams.update({\"font.size\": 16})\nwrite_output = False\n\n# sphinx_gallery_thumbnail_number = 2"
      ]
    },
    {
      "cell_type": "markdown",
      "metadata": {},
      "source": [
        "## Create Survey\n\nHere we demonstrate a general way to define the receivers, sources and survey.\nFor this tutorial, the source is a vertical magnetic dipole that will be used\nto simulate data at a number of frequencies. The receivers measure real and\nimaginary ppm data.\n\n\n"
      ]
    },
    {
      "cell_type": "code",
      "execution_count": null,
      "metadata": {
        "collapsed": false
      },
      "outputs": [],
      "source": [
        "# Frequencies being observed in Hz\nfrequencies = np.array([382, 1822, 7970, 35920, 130100], dtype=float)\n\n# Define a list of receivers. The real and imaginary components are defined\n# as separate receivers.\nreceiver_location = np.array([10.0, 0.0, 30.0])\nreceiver_orientation = \"z\"  # \"x\", \"y\" or \"z\"\ndata_type = \"ppm\"  # \"secondary\", \"total\" or \"ppm\"\n\nreceiver_list = []\nreceiver_list.append(\n    fdem.receivers.PointMagneticFieldSecondary(\n        receiver_location,\n        orientation=receiver_orientation,\n        data_type=data_type,\n        component=\"real\",\n    )\n)\nreceiver_list.append(\n    fdem.receivers.PointMagneticFieldSecondary(\n        receiver_location,\n        orientation=receiver_orientation,\n        data_type=data_type,\n        component=\"imag\",\n    )\n)\n\n# Define the source list. A source must be defined for each frequency.\nsource_location = np.array([0.0, 0.0, 30.0])\nsource_orientation = \"z\"  # \"x\", \"y\" or \"z\"\nmoment = 1.0  # dipole moment\n\nsource_list = []\nfor freq in frequencies:\n    source_list.append(\n        fdem.sources.MagDipole(\n            receiver_list=receiver_list,\n            frequency=freq,\n            location=source_location,\n            orientation=source_orientation,\n            moment=moment,\n        )\n    )\n\n# Define a 1D FDEM survey\nsurvey = fdem.survey.Survey(source_list)"
      ]
    },
    {
      "cell_type": "markdown",
      "metadata": {},
      "source": [
        "## Defining a 1D Layered Earth Model\n\nHere, we define the layer thicknesses and electrical conductivities for our\n1D simulation. If we have N layers, we define N electrical conductivity\nvalues and N-1 layer thicknesses. The lowest layer is assumed to extend to\ninfinity. If the Earth is a halfspace, the thicknesses can be defined by\nan empty array, and the physical property values by an array of length 1.\n\nIn this case, we have a more conductive layer within a background halfspace.\nThis can be defined as a 3 layered Earth model.\n\n\n"
      ]
    },
    {
      "cell_type": "code",
      "execution_count": null,
      "metadata": {
        "collapsed": false
      },
      "outputs": [],
      "source": [
        "# Physical properties\nbackground_conductivity = 1e-1\nlayer_conductivity = 1e0\n\n# Layer thicknesses\nthicknesses = np.array([20.0, 40.0])\nn_layer = len(thicknesses) + 1\n\n# physical property model (conductivity model)\nmodel = background_conductivity * np.ones(n_layer)\nmodel[1] = layer_conductivity\n\n# Define a mapping from model parameters to conductivities\nmodel_mapping = maps.IdentityMap(nP=n_layer)\n\n# Plot conductivity model\nthicknesses_for_plotting = np.r_[thicknesses, 40.0]\nmesh_for_plotting = TensorMesh([thicknesses_for_plotting])\n\nfig = plt.figure(figsize=(6, 5))\nax = fig.add_axes([0.15, 0.15, 0.8, 0.75])\nplot_1d_layer_model(thicknesses_for_plotting, model, ax=ax, show_layers=False)\nplt.gca().invert_yaxis()"
      ]
    },
    {
      "cell_type": "markdown",
      "metadata": {},
      "source": [
        "## Define the Forward Simulation, Predict Data and Plot\n\nHere we define the simulation and predict the 1D FDEM sounding data.\nThe simulation requires the user define the survey, the layer thicknesses\nand a mapping from the model to the conductivities of the layers.\n\nWhen using the *SimPEG.electromagnetics.frequency_domain_1d* module,\npredicted data are organized by source, then by receiver, then by frequency.\n\n\n"
      ]
    },
    {
      "cell_type": "code",
      "execution_count": null,
      "metadata": {
        "collapsed": false
      },
      "outputs": [],
      "source": [
        "# Define the simulation\nsimulation = fdem.Simulation1DLayered(\n    survey=survey,\n    thicknesses=thicknesses,\n    sigmaMap=model_mapping,\n)\n\n# Predict sounding data\ndpred = simulation.dpred(model)\n\n# Plot sounding data\nfig = plt.figure(figsize=(6, 6))\nax = fig.add_axes([0.15, 0.15, 0.8, 0.75])\nax.semilogx(frequencies, np.abs(dpred[0::2]), \"k-o\", lw=3, ms=10)\nax.semilogx(frequencies, np.abs(dpred[1::2]), \"k:o\", lw=3, ms=10)\nax.set_xlabel(\"Frequency (Hz)\")\nax.set_ylabel(\"|Hs/Hp| (ppm)\")\nax.set_title(\"Secondary Magnetic Field as ppm\")\nax.legend([\"Real\", \"Imaginary\"])"
      ]
    },
    {
      "cell_type": "markdown",
      "metadata": {},
      "source": [
        "## Optional: Export Data\n\nWrite the predicted data. Note that noise has been added.\n\n\n"
      ]
    },
    {
      "cell_type": "code",
      "execution_count": null,
      "metadata": {
        "collapsed": false
      },
      "outputs": [],
      "source": [
        "if write_output:\n    dir_path = os.path.dirname(__file__).split(os.path.sep)\n    dir_path.extend([\"outputs\"])\n    dir_path = os.path.sep.join(dir_path) + os.path.sep\n\n    if not os.path.exists(dir_path):\n        os.mkdir(dir_path)\n\n    np.random.seed(222)\n    noise = 0.05 * np.abs(dpred) * np.random.randn(len(dpred))\n    dpred += noise\n\n    fname = dir_path + \"em1dfm_data.txt\"\n    np.savetxt(\n        fname,\n        np.c_[frequencies, dpred[0 : len(frequencies)], dpred[len(frequencies) :]],\n        fmt=\"%.4e\",\n        header=\"FREQUENCY HZ_REAL HZ_IMAG\",\n    )"
      ]
    }
  ],
  "metadata": {
    "kernelspec": {
      "display_name": "Python 3",
      "language": "python",
      "name": "python3"
    },
    "language_info": {
      "codemirror_mode": {
        "name": "ipython",
        "version": 3
      },
      "file_extension": ".py",
      "mimetype": "text/x-python",
      "name": "python",
      "nbconvert_exporter": "python",
      "pygments_lexer": "ipython3",
      "version": "3.8.19"
    }
  },
  "nbformat": 4,
  "nbformat_minor": 0
}