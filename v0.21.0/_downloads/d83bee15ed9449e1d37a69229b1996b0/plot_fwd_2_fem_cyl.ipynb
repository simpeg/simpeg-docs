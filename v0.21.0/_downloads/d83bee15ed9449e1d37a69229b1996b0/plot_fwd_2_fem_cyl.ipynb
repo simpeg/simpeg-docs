{
  "cells": [
    {
      "cell_type": "markdown",
      "metadata": {},
      "source": [
        "\n# 3D Forward Simulation on a Cylindrical Mesh\n\nHere we use the module *SimPEG.electromagnetics.frequency_domain* to simulate the\nFDEM response for a borehole survey using a cylindrical mesh and radially symmetric\nconductivity model. For this tutorial, we focus on the following:\n\n    - How to define the transmitters and receivers\n    - How to define the survey\n    - How to solve the FDEM problem on cylindrical meshes\n    - The units of the conductivity/resistivity model and resulting data\n\n\nPlease note that we have used a coarse mesh to shorten the time of the simulation.\nProper discretization is required to simulate the fields at each frequency with\nsufficient accuracy.\n"
      ]
    },
    {
      "cell_type": "markdown",
      "metadata": {},
      "source": [
        "## Import modules\n\n\n"
      ]
    },
    {
      "cell_type": "code",
      "execution_count": null,
      "metadata": {
        "collapsed": false
      },
      "outputs": [],
      "source": [
        "from discretize import CylindricalMesh\nfrom discretize.utils import mkvc\n\nfrom SimPEG import maps\nimport SimPEG.electromagnetics.frequency_domain as fdem\n\nimport numpy as np\nimport matplotlib as mpl\nimport matplotlib.pyplot as plt\n\ntry:\n    from pymatsolver import Pardiso as Solver\nexcept ImportError:\n    from SimPEG import SolverLU as Solver\n\nwrite_file = False\n\n# sphinx_gallery_thumbnail_number = 2"
      ]
    },
    {
      "cell_type": "markdown",
      "metadata": {},
      "source": [
        "## Create Airborne Survey\n\nHere we define a x-offset borehole survey that consists of a single vertical line\nof source-receiver pairs which measred the secondary magnetic flux density\nover a range of frequencies.\n\n\n"
      ]
    },
    {
      "cell_type": "code",
      "execution_count": null,
      "metadata": {
        "collapsed": false
      },
      "outputs": [],
      "source": [
        "# Frequencies being predicted (10 Hz to 10000 Hz)\nfrequencies = np.logspace(1, 4, 16)\n\n# Defining transmitter locations\nxtx, ytx, ztx = np.meshgrid([0], [0], np.linspace(0, -500, 21))\nsource_locations = np.c_[mkvc(xtx), mkvc(ytx), mkvc(ztx)]\nntx = np.size(xtx)\n\n# Define receiver locations\nxrx, yrx, zrx = np.meshgrid([100], [0], np.linspace(0, -500, 21))\nreceiver_locations = np.c_[mkvc(xrx), mkvc(yrx), mkvc(zrx)]\n\nsource_list = []  # Create empty list to store sources\n\n# Each unique location and frequency defines a new transmitter\nfor ii in range(ntx):\n    # Define receivers of different types at each location. Real and imaginary\n    # measurements require separate receivers. You can define the orientation of\n    # the transmitters and receivers for different survey geometries.\n    bzr_receiver = fdem.receivers.PointMagneticFluxDensitySecondary(\n        receiver_locations[ii, :], \"z\", \"real\"\n    )\n    bzi_receiver = fdem.receivers.PointMagneticFluxDensitySecondary(\n        receiver_locations[ii, :], \"z\", \"imag\"\n    )\n    receivers_list = [bzr_receiver, bzi_receiver]  # must be a list\n\n    for jj in range(len(frequencies)):\n        # Must define the transmitter properties and associated receivers\n        source_list.append(\n            fdem.sources.MagDipole(\n                receivers_list, frequencies[jj], source_locations[ii], orientation=\"z\"\n            )\n        )\n\n# Define the survey\nsurvey = fdem.Survey(source_list)"
      ]
    },
    {
      "cell_type": "markdown",
      "metadata": {},
      "source": [
        "## Create Cylindrical Mesh\n\nHere we create the cylindrical mesh that will be used for this tutorial\nexample. We chose to design a coarser mesh to decrease the run time.\nWhen designing a mesh to solve practical frequency domain problems:\n\n    - Your smallest cell size should be 10%-20% the size of your smallest skin depth\n    - The thickness of your padding needs to be 2-3 times biggest than your largest skin depth\n    - The skin depth is ~500*np.sqrt(rho/f)\n\n\n\n"
      ]
    },
    {
      "cell_type": "code",
      "execution_count": null,
      "metadata": {
        "collapsed": false
      },
      "outputs": [],
      "source": [
        "hr = [(10.0, 30), (10.0, 10, 1.5)]  # discretization in the radial direction\nhz = [\n    (10.0, 10, -1.5),\n    (10.0, 200),\n    (10.0, 10, 1.5),\n]  # discretization in vertical direction\n\nmesh = CylindricalMesh([hr, 1, hz], x0=\"00C\")"
      ]
    },
    {
      "cell_type": "markdown",
      "metadata": {},
      "source": [
        "## Create Conductivity/Resistivity Model and Mapping\n\nHere, we create the model that will be used to predict frequency domain\ndata and the mapping from the model to the mesh. The model\nconsists of several layers. For this example, we will have only flat topography.\n\n\n"
      ]
    },
    {
      "cell_type": "code",
      "execution_count": null,
      "metadata": {
        "collapsed": false
      },
      "outputs": [],
      "source": [
        "# Conductivity in S/m (or resistivity in Ohm m)\nair_conductivity = 1e-8\nbackground_conductivity = 1e-1\nlayer_conductivity_1 = 1e0\nlayer_conductivity_2 = 1e-2\n\n# Find cells that are active in the forward modeling (cells below surface)\nind_active = mesh.cell_centers[:, 2] < 0\n\n# Define mapping from model to active cells\nmodel_map = maps.InjectActiveCells(mesh, ind_active, air_conductivity)\n\n# Define the model\nmodel = background_conductivity * np.ones(ind_active.sum())\nind = (mesh.cell_centers[ind_active, 2] > -200.0) & (\n    mesh.cell_centers[ind_active, 2] < -0\n)\nmodel[ind] = layer_conductivity_1\nind = (mesh.cell_centers[ind_active, 2] > -400.0) & (\n    mesh.cell_centers[ind_active, 2] < -200\n)\nmodel[ind] = layer_conductivity_2\n\n# Plot Conductivity Model\nmpl.rcParams.update({\"font.size\": 14})\nfig = plt.figure(figsize=(5, 6))\n\nplotting_map = maps.InjectActiveCells(mesh, ind_active, np.nan)\nlog_model = np.log10(model)\n\nax1 = fig.add_axes([0.14, 0.1, 0.6, 0.85])\nmesh.plot_image(\n    plotting_map * log_model,\n    ax=ax1,\n    grid=False,\n    clim=(np.log10(layer_conductivity_2), np.log10(layer_conductivity_1)),\n)\nax1.set_title(\"Conductivity Model\")\n\nax2 = fig.add_axes([0.76, 0.1, 0.05, 0.85])\nnorm = mpl.colors.Normalize(\n    vmin=np.log10(layer_conductivity_2), vmax=np.log10(layer_conductivity_1)\n)\ncbar = mpl.colorbar.ColorbarBase(\n    ax2, norm=norm, orientation=\"vertical\", format=\"$10^{%.1f}$\"\n)\ncbar.set_label(\"Conductivity [S/m]\", rotation=270, labelpad=15, size=12)"
      ]
    },
    {
      "cell_type": "markdown",
      "metadata": {},
      "source": [
        "## Simulation: Predicting FDEM Data\n\nHere we define the formulation for solving Maxwell's equations. Since we are\nmeasuring the magnetic flux density and working with a conductivity model,\nthe EB formulation is the most natural. We must also remember to define\nthe mapping for the conductivity model. If you defined a resistivity model,\nuse the kwarg *rhoMap* instead of *sigmaMap*\n\n\n"
      ]
    },
    {
      "cell_type": "code",
      "execution_count": null,
      "metadata": {
        "collapsed": false
      },
      "outputs": [],
      "source": [
        "simulation = fdem.simulation.Simulation3DMagneticFluxDensity(\n    mesh, survey=survey, sigmaMap=model_map, solver=Solver\n)"
      ]
    },
    {
      "cell_type": "markdown",
      "metadata": {},
      "source": [
        "## Predict and Plot Data\n\nHere we show how the simulation is used to predict data.\n\n\n"
      ]
    },
    {
      "cell_type": "code",
      "execution_count": null,
      "metadata": {
        "collapsed": false
      },
      "outputs": [],
      "source": [
        "# Compute predicted data for the given model.\ndpred = simulation.dpred(model)\n\n# Data are organized by transmitter location, then component, then frequency. We had nFreq\n# transmitters and each transmitter had 2 receivers (real and imaginary component). So\n# first we will pick out the real and imaginary data\nbz_real = dpred[0 : len(dpred) : 2]\nbz_imag = dpred[1 : len(dpred) : 2]\n\n# Then we will will reshape the data.\nbz_real = np.reshape(bz_real, (ntx, len(frequencies)))\nbz_imag = np.reshape(bz_imag, (ntx, len(frequencies)))\n\n# Plot secondary field along the profile at f = 10000 Hz\nfig = plt.figure(figsize=(5, 5))\nax1 = fig.add_axes([0.2, 0.15, 0.75, 0.75])\nfrequencies_index = 0\nax1.plot(bz_real[:, frequencies_index], receiver_locations[:, -1], \"b-\", lw=3)\nax1.plot(bz_imag[:, frequencies_index], receiver_locations[:, -1], \"b--\", lw=3)\nax1.set_xlabel(\"Bz secondary [T]\")\nax1.set_ylabel(\"Elevation [m]\")\nax1.set_title(\"Response at 10000 Hz\")\nax1.legend([\"Real\", \"Imaginary\"], loc=\"upper right\")\n\n# Plot FEM response for all frequencies\nfig = plt.figure(figsize=(5, 5))\nax1 = fig.add_axes([0.2, 0.15, 0.75, 0.75])\nlocation_index = 0\nax1.semilogx(frequencies, bz_real[location_index, :], \"b-\", lw=3)\nax1.semilogx(frequencies, bz_imag[location_index, :], \"b--\", lw=3)\nax1.set_xlim((np.min(frequencies), np.max(frequencies)))\nax1.set_xlabel(\"Frequency [Hz]\")\nax1.set_ylabel(\"Bz secondary [T]\")\nax1.set_title(\"Response at Smallest Offset\")\nax1.legend([\"Real\", \"Imaginary\"], loc=\"upper left\")"
      ]
    }
  ],
  "metadata": {
    "kernelspec": {
      "display_name": "Python 3",
      "language": "python",
      "name": "python3"
    },
    "language_info": {
      "codemirror_mode": {
        "name": "ipython",
        "version": 3
      },
      "file_extension": ".py",
      "mimetype": "text/x-python",
      "name": "python",
      "nbconvert_exporter": "python",
      "pygments_lexer": "ipython3",
      "version": "3.8.19"
    }
  },
  "nbformat": 4,
  "nbformat_minor": 0
}