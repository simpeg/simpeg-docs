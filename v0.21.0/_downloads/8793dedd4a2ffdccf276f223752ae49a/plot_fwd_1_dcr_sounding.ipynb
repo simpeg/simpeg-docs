{
  "cells": [
    {
      "cell_type": "markdown",
      "metadata": {},
      "source": [
        "\n# Simulate a 1D Sounding over a Layered Earth\n\nHere we use the module *SimPEG.electromangetics.static.resistivity* to predict\nsounding data over a 1D layered Earth. In this tutorial, we focus on the following:\n\n    - General definition of sources and receivers\n    - How to define the survey\n    - How to predict voltage or apparent resistivity data\n    - The units of the model and resulting data\n\nFor this tutorial, we will simulate sounding data over a layered Earth using\na Wenner array. The end product is a sounding curve which tells us how the\nelectrical resistivity changes with depth.\n"
      ]
    },
    {
      "cell_type": "markdown",
      "metadata": {},
      "source": [
        "## Import modules\n\n\n"
      ]
    },
    {
      "cell_type": "code",
      "execution_count": null,
      "metadata": {
        "collapsed": false
      },
      "outputs": [],
      "source": [
        "import os\nimport numpy as np\nimport matplotlib as mpl\nimport matplotlib.pyplot as plt\n\nfrom SimPEG import maps\nfrom SimPEG.electromagnetics.static import resistivity as dc\nfrom SimPEG.utils import plot_1d_layer_model\n\nmpl.rcParams.update({\"font.size\": 16})\n\nwrite_output = False\n\n# sphinx_gallery_thumbnail_number = 2"
      ]
    },
    {
      "cell_type": "markdown",
      "metadata": {},
      "source": [
        "## Create Survey\n\nHere we demonstrate a general way to define sources and receivers.\nFor pole and dipole sources, we must define the A or AB electrode locations,\nrespectively. For the pole and dipole receivers, we must define the M or\nMN electrode locations, respectively.\n\n\n"
      ]
    },
    {
      "cell_type": "code",
      "execution_count": null,
      "metadata": {
        "collapsed": false
      },
      "outputs": [],
      "source": [
        "a_min = 20.0\na_max = 500.0\nn_stations = 25\n\n# Define the 'a' spacing for Wenner array measurements for each reading\nelectrode_separations = np.linspace(a_min, a_max, n_stations)\n\nsource_list = []  # create empty array for sources to live\n\nfor ii in range(0, len(electrode_separations)):\n    # Extract separation parameter for sources and receivers\n    a = electrode_separations[ii]\n\n    # AB electrode locations for source. Each is a (1, 3) numpy array\n    A_location = np.r_[-1.5 * a, 0.0, 0.0]\n    B_location = np.r_[1.5 * a, 0.0, 0.0]\n\n    # MN electrode locations for receivers. Each is an (N, 3) numpy array\n    M_location = np.r_[-0.5 * a, 0.0, 0.0]\n    N_location = np.r_[0.5 * a, 0.0, 0.0]\n\n    # Create receivers list. Define as pole or dipole.\n    receiver_list = dc.receivers.Dipole(\n        M_location, N_location, data_type=\"apparent_resistivity\"\n    )\n    receiver_list = [receiver_list]\n\n    # Define the source properties and associated receivers\n    source_list.append(dc.sources.Dipole(receiver_list, A_location, B_location))\n\n# Define survey\nsurvey = dc.Survey(source_list)"
      ]
    },
    {
      "cell_type": "markdown",
      "metadata": {},
      "source": [
        "## Defining a 1D Layered Earth Model\n\nHere, we define the layer thicknesses and electrical resistivities for our\n1D simulation. If we have N layers, we define N electrical resistivity\nvalues and N-1 layer thicknesses. The lowest layer is assumed to extend to\ninfinity. In the case of a halfspace, the layer thicknesses would be\nan empty array.\n\n\n"
      ]
    },
    {
      "cell_type": "code",
      "execution_count": null,
      "metadata": {
        "collapsed": false
      },
      "outputs": [],
      "source": [
        "# Define layer thicknesses.\nlayer_thicknesses = np.r_[100.0, 100.0]\n\n# Define layer resistivities.\nmodel = np.r_[1e3, 4e3, 2e2]\n\n# Define mapping from model to 1D layers.\nmodel_map = maps.IdentityMap(nP=len(model))"
      ]
    },
    {
      "cell_type": "markdown",
      "metadata": {},
      "source": [
        "## Plot Resistivity Model\n\nHere we plot the 1D resistivity model.\n\n\n"
      ]
    },
    {
      "cell_type": "code",
      "execution_count": null,
      "metadata": {
        "collapsed": false
      },
      "outputs": [],
      "source": [
        "# Plot the 1D model\nax = plot_1d_layer_model(layer_thicknesses, model_map * model)\nax.set_xlabel(r\"Resistivity ($\\Omega m$)\")"
      ]
    },
    {
      "cell_type": "markdown",
      "metadata": {},
      "source": [
        "## Define the Forward Simulation and Predict DC Resistivity Data\n\nHere we predict DC resistivity data. If the keyword argument *rhoMap* is\ndefined, the simulation will expect a resistivity model. If the keyword\nargument *sigmaMap* is defined, the simulation will expect a conductivity model.\n\n\n"
      ]
    },
    {
      "cell_type": "code",
      "execution_count": null,
      "metadata": {
        "collapsed": false
      },
      "outputs": [],
      "source": [
        "simulation = dc.simulation_1d.Simulation1DLayers(\n    survey=survey,\n    rhoMap=model_map,\n    thicknesses=layer_thicknesses,\n)\n\n# Predict data for a given model\ndpred = simulation.dpred(model)\n\n# Plot apparent resistivities on sounding curve\nfig = plt.figure(figsize=(11, 5))\nax1 = fig.add_axes([0.1, 0.1, 0.75, 0.85])\nax1.semilogy(1.5 * electrode_separations, dpred, \"b\")\nax1.set_xlabel(\"AB/2 (m)\")\nax1.set_ylabel(r\"Apparent Resistivity ($\\Omega m$)\")\nplt.show()"
      ]
    },
    {
      "cell_type": "markdown",
      "metadata": {},
      "source": [
        "## Optional: Export Data\n\nExport data and true model\n\n\n"
      ]
    },
    {
      "cell_type": "code",
      "execution_count": null,
      "metadata": {
        "collapsed": false
      },
      "outputs": [],
      "source": [
        "if write_output:\n    dir_path = os.path.dirname(__file__).split(os.path.sep)\n    dir_path.extend([\"outputs\"])\n    dir_path = os.path.sep.join(dir_path) + os.path.sep\n\n    if not os.path.exists(dir_path):\n        os.mkdir(dir_path)\n\n    np.random.seed(145)\n    noise = 0.025 * dpred * np.random.randn(len(dpred))\n\n    data_array = np.c_[\n        survey.locations_a,\n        survey.locations_b,\n        survey.locations_m,\n        survey.locations_n,\n        dpred + noise,\n    ]\n\n    fname = dir_path + \"app_res_1d_data.dobs\"\n    np.savetxt(fname, data_array, fmt=\"%.4e\")"
      ]
    }
  ],
  "metadata": {
    "kernelspec": {
      "display_name": "Python 3",
      "language": "python",
      "name": "python3"
    },
    "language_info": {
      "codemirror_mode": {
        "name": "ipython",
        "version": 3
      },
      "file_extension": ".py",
      "mimetype": "text/x-python",
      "name": "python",
      "nbconvert_exporter": "python",
      "pygments_lexer": "ipython3",
      "version": "3.8.19"
    }
  },
  "nbformat": 4,
  "nbformat_minor": 0
}