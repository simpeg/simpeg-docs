{
  "cells": [
    {
      "cell_type": "code",
      "execution_count": null,
      "metadata": {
        "collapsed": false
      },
      "outputs": [],
      "source": [
        "%matplotlib inline"
      ]
    },
    {
      "cell_type": "markdown",
      "metadata": {},
      "source": [
        "\n# 1D Forward Simulation for a Susceptible and Chargeable Earth\n\nHere we use the module *SimPEG.electromangetics.frequency_domain_1d* to compare\npredicted frequency domain data for a single sounding when the Earth is\npurely conductive, conductive and magnetically susceptible, and when it is chargeable.\nIn this tutorial, we focus on:\n\n    - Defining receivers, sources and the survey\n    - Defining physical properties when the Earth is chargeable and/or magnetically susceptibility\n    - Setting physical property values as constant in the simulation\n\nOur survey geometry consists of a vertical magnetic dipole source\nlocated 30 m above the Earth's surface. The receiver is offset\n10 m horizontally from the source.\n"
      ]
    },
    {
      "cell_type": "markdown",
      "metadata": {},
      "source": [
        "## Import Modules\n\n\n"
      ]
    },
    {
      "cell_type": "code",
      "execution_count": null,
      "metadata": {
        "collapsed": false
      },
      "outputs": [],
      "source": [
        "import numpy as np\nfrom matplotlib import pyplot as plt\n\nfrom SimPEG import maps\nimport SimPEG.electromagnetics.frequency_domain as fdem\nfrom SimPEG.electromagnetics.utils.em1d_utils import ColeCole\n\nplt.rcParams.update({\"font.size\": 16})\n\n# sphinx_gallery_thumbnail_number = 2"
      ]
    },
    {
      "cell_type": "markdown",
      "metadata": {},
      "source": [
        "## Create Survey\n\nHere we demonstrate a general way to define the receivers, sources and survey.\nFor this tutorial, the source is a vertical magnetic dipole that will be used\nto simulate data at a number of frequencies. The receivers measure real and\nimaginary ppm data.\n\n\n"
      ]
    },
    {
      "cell_type": "code",
      "execution_count": null,
      "metadata": {
        "collapsed": false
      },
      "outputs": [],
      "source": [
        "# Frequencies being observed in Hz\nfrequencies = np.logspace(0, 8, 41)\n\n# Define a list of receivers. The real and imaginary components are defined\n# as separate receivers.\nreceiver_location = np.array([10.0, 0.0, 10.0])\nreceiver_orientation = \"z\"  # \"x\", \"y\" or \"z\"\ndata_type = \"ppm\"  # \"secondary\", \"total\" or \"ppm\"\n\nreceiver_list = [\n    fdem.receivers.PointMagneticFieldSecondary(\n        receiver_location,\n        orientation=receiver_orientation,\n        data_type=data_type,\n        component=\"both\",\n    )\n]\n\n# Define a source list. A source must defined for each frequency.\nsource_location = np.array([0.0, 0.0, 10.0])\nsource_orientation = \"z\"  # \"x\", \"y\" or \"z\"\nmoment = 1.0  # dipole moment\n\nsource_list = []\nfor freq in frequencies:\n    source_list.append(\n        fdem.sources.MagDipole(\n            receiver_list=receiver_list,\n            frequency=freq,\n            location=source_location,\n            orientation=source_orientation,\n            moment=moment,\n        )\n    )\n\n\n# Define a 1D FDEM survey\nsurvey = fdem.survey.Survey(source_list)"
      ]
    },
    {
      "cell_type": "markdown",
      "metadata": {},
      "source": [
        "## Defining a Layered Earth Model\n\nHere, we define the layer thicknesses and physical properties for our\n1D simulation. If we have N layers, parameters for the physical properties\nmust be defined for each layer and we must provide N-1 layer thicknesses.\nThe lowest layer is assumed to extend to infinity.\n\nFor this tutorial, we predict the response for a halfspace model, however\nthe script has been generalized to work for an arbitrary number of layers.\nIf the Earth is a halfspace, the thicknesses could instead be defined by\nan empty array, and each physical property value by an array of length 1.\n\n\n"
      ]
    },
    {
      "cell_type": "code",
      "execution_count": null,
      "metadata": {
        "collapsed": false
      },
      "outputs": [],
      "source": [
        "# Layer thicknesses\nthicknesses = np.array([20, 40])\nn_layer = len(thicknesses) + 1\n\n# In SimPEG, the Cole-Cole model is used to define a frequency-dependent\n# electrical conductivity when the Earth is chargeable.\nsigma = 1e-2  # infinite conductivity in S/m\neta = 0.8  # intrinsice chargeability [0, 1]\ntau = 0.0001  # central time-relaxation constant in seconds\nc = 0.8  # phase constant [0, 1]\n\n# Magnetic susceptibility in SI\nchi = 0.2\n\n# For each physical property, the parameters must be defined for each layer.\n# In this case, we must define all parameters for the Cole-Cole conductivity\n# as well as the magnetic susceptibility.\nsigma_model = sigma * np.ones(n_layer)\neta_model = eta * np.ones(n_layer)\ntau_model = tau * np.ones(n_layer)\nc_model = c * np.ones(n_layer)\nmu0 = 4 * np.pi * 1e-7\nmu_model = mu0 * (1 + chi) * np.ones(n_layer)\n\n# Here, we let the infinite conductivity be the model. As a result, we only\n# need to define the mapping for this parameter. All other parameters used\n# to define physical properties will be fixed when creating the simulation.\nmodel_mapping = maps.IdentityMap(nP=n_layer)\n\n# Plot complex conductivity at all frequencies\nsigma_complex = ColeCole(frequencies, sigma, eta, tau, c)\n\nfig = plt.figure(figsize=(6, 5))\nax = fig.add_axes([0.15, 0.15, 0.8, 0.75])\nax.semilogx(frequencies, sigma * np.ones(len(frequencies)), \"b\", lw=3)\nax.semilogx(frequencies, np.real(sigma_complex), \"r\", lw=3)\nax.semilogx(frequencies, np.imag(sigma_complex), \"r--\", lw=3)\nax.grid()\nax.set_xlim(np.min(frequencies), np.max(frequencies))\nax.set_ylim(0.0, 1.1 * sigma)\nax.set_xlabel(\"Frequency (Hz)\")\nax.set_ylabel(\"Conductivity\")\nax.legend(\n    [\"$\\sigma_{\\infty}$\", \"$Re[\\sigma (\\omega)]$\", \"$Im[\\sigma (\\omega)]$\"],\n    loc=\"center right\",\n)\nplt.show()"
      ]
    },
    {
      "cell_type": "markdown",
      "metadata": {},
      "source": [
        "## Define the Forward Simulation and Predict Data\n\nHere we predict the FDEM sounding for several halfspace models\n(conductive, susceptible, chargeable). Since the physical properties defining\nthe Earth are different, it requires a separate simulation object be created\nfor each case. Each simulation requires the user\ndefine the survey, the layer thicknesses and a mapping.\n\nA universal mapping was created by letting sigma be the model. All other\nparameters used to define the physical properties are permanently set when\ndefining the simulation.\n\nWhen using the *SimPEG.electromagnetics.frequency_domain_1d* module, note that\npredicted data are organized by source, then by receiver, then by frequency.\n\n\n\n"
      ]
    },
    {
      "cell_type": "code",
      "execution_count": null,
      "metadata": {
        "collapsed": false
      },
      "outputs": [],
      "source": [
        "# Response for conductive Earth\nsimulation = fdem.Simulation1DLayered(\n    survey=survey, thicknesses=thicknesses, sigmaMap=model_mapping\n)\n\ndpred = simulation.dpred(sigma_model)\n\n# Simulate response for a conductive and susceptible Earth\nsimulation_susceptible = fdem.Simulation1DLayered(\n    survey=survey, thicknesses=thicknesses, sigmaMap=model_mapping, mu=mu_model\n)\n\ndpred_susceptible = simulation_susceptible.dpred(sigma_model)\n\n# Simulate response for a chargeable Earth\nsimulation_chargeable = fdem.Simulation1DLayered(\n    survey=survey,\n    thicknesses=thicknesses,\n    sigmaMap=model_mapping,\n    eta=eta,\n    tau=tau,\n    c=c,\n)\n\ndpred_chargeable = simulation_chargeable.dpred(sigma_model)"
      ]
    },
    {
      "cell_type": "markdown",
      "metadata": {},
      "source": [
        "## Plotting Results\n\n\n"
      ]
    },
    {
      "cell_type": "code",
      "execution_count": null,
      "metadata": {
        "collapsed": false
      },
      "outputs": [],
      "source": [
        "fig = plt.figure(figsize=(7, 7))\nax = fig.add_axes([0.15, 0.1, 0.8, 0.8])\nax.semilogx(frequencies, dpred[0::2], \"b-\", lw=3)\nax.semilogx(frequencies, dpred[1::2], \"b--\", lw=3)\nax.semilogx(frequencies, dpred_susceptible[0::2], \"r-\", lw=3)\nax.semilogx(frequencies, dpred_susceptible[1::2], \"r--\", lw=3)\nax.semilogx(frequencies, dpred_chargeable[0::2], \"g-\", lw=3)\nax.semilogx(frequencies, dpred_chargeable[1::2], \"g--\", lw=3)\nax.set_xlim([frequencies.min(), frequencies.max()])\nax.grid()\nax.set_xlabel(\"Frequency (Hz)\")\nax.set_ylabel(\"|Hs| (A/m)\")\nax.set_title(\"Secondary Magnetic Field\")\nax.legend(\n    (\n        \"Real (conductive)\",\n        \"Imaginary (conductive)\",\n        \"Real (susceptible)\",\n        \"Imaginary (susceptible)\",\n        \"Real (chargeable)\",\n        \"Imaginary (chargeable)\",\n    )\n)"
      ]
    }
  ],
  "metadata": {
    "kernelspec": {
      "display_name": "Python 3",
      "language": "python",
      "name": "python3"
    },
    "language_info": {
      "codemirror_mode": {
        "name": "ipython",
        "version": 3
      },
      "file_extension": ".py",
      "mimetype": "text/x-python",
      "name": "python",
      "nbconvert_exporter": "python",
      "pygments_lexer": "ipython3",
      "version": "3.7.12"
    }
  },
  "nbformat": 4,
  "nbformat_minor": 0
}