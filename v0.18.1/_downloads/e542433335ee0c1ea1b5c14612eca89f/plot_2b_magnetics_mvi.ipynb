{
  "cells": [
    {
      "cell_type": "code",
      "execution_count": null,
      "metadata": {
        "collapsed": false
      },
      "outputs": [],
      "source": [
        "%matplotlib inline"
      ]
    },
    {
      "cell_type": "markdown",
      "metadata": {},
      "source": [
        "\n# Forward Simulation of Gradiometry Data for Magnetic Vector Models\n\nHere we use the module *SimPEG.potential_fields.magnetics* to predict magnetic\ngradiometry data for magnetic vector models. The simulation is performed on a\nTree mesh. For this tutorial, we focus on the following:\n\n    - How to define the survey when we want to measured multiple field components\n    - How to predict magnetic data in the case of remanence\n    - How to include surface topography\n    - How to construct tree meshes based on topography and survey geometry\n    - The units of the physical property model and resulting data\n"
      ]
    },
    {
      "cell_type": "markdown",
      "metadata": {},
      "source": [
        "## Import Modules\n\n\n"
      ]
    },
    {
      "cell_type": "code",
      "execution_count": null,
      "metadata": {
        "collapsed": false
      },
      "outputs": [],
      "source": [
        "import numpy as np\nfrom scipy.interpolate import LinearNDInterpolator\nimport matplotlib as mpl\nimport matplotlib.pyplot as plt\n\nfrom discretize import TreeMesh\nfrom discretize.utils import mkvc, refine_tree_xyz\nfrom SimPEG.utils import plot2Ddata, model_builder, surface2ind_topo, mat_utils\nfrom SimPEG import maps\nfrom SimPEG.potential_fields import magnetics\n\n# sphinx_gallery_thumbnail_number = 2"
      ]
    },
    {
      "cell_type": "markdown",
      "metadata": {},
      "source": [
        "## Topography\n\nHere we define surface topography as an (N, 3) numpy array. Topography could\nalso be loaded from a file.\n\n\n"
      ]
    },
    {
      "cell_type": "code",
      "execution_count": null,
      "metadata": {
        "collapsed": false
      },
      "outputs": [],
      "source": [
        "[x_topo, y_topo] = np.meshgrid(np.linspace(-200, 200, 41), np.linspace(-200, 200, 41))\nz_topo = -15 * np.exp(-(x_topo ** 2 + y_topo ** 2) / 80 ** 2)\nx_topo, y_topo, z_topo = mkvc(x_topo), mkvc(y_topo), mkvc(z_topo)\nxyz_topo = np.c_[x_topo, y_topo, z_topo]"
      ]
    },
    {
      "cell_type": "markdown",
      "metadata": {},
      "source": [
        "## Defining the Survey\n\nHere, we define survey that will be used for the simulation. Magnetic\nsurveys are simple to create. The user only needs an (N, 3) array to define\nthe xyz locations of the observation locations, the list of field components\nwhich are to be modeled and the properties of the Earth's field.\n\n\n"
      ]
    },
    {
      "cell_type": "code",
      "execution_count": null,
      "metadata": {
        "collapsed": false
      },
      "outputs": [],
      "source": [
        "# Define the observation locations as an (N, 3) numpy array or load them.\nx = np.linspace(-80.0, 80.0, 17)\ny = np.linspace(-80.0, 80.0, 17)\nx, y = np.meshgrid(x, y)\nx, y = mkvc(x.T), mkvc(y.T)\nfun_interp = LinearNDInterpolator(np.c_[x_topo, y_topo], z_topo)\nz = fun_interp(np.c_[x, y]) + 10  # Flight height 10 m above surface.\nreceiver_locations = np.c_[x, y, z]\n\n# Define the component(s) of the field we want to simulate as strings within\n# a list. Here we measure the x, y and z derivatives of the Bz anomaly at\n# each observation location.\ncomponents = [\"bxz\", \"byz\", \"bzz\"]\n\n# Use the observation locations and components to define the receivers. To\n# simulate data, the receivers must be defined as a list.\nreceiver_list = magnetics.receivers.Point(receiver_locations, components=components)\n\nreceiver_list = [receiver_list]\n\n# Define the inducing field H0 = (intensity [nT], inclination [deg], declination [deg])\nfield_inclination = 60\nfield_declination = 30\nfield_strength = 50000\ninducing_field = (field_strength, field_inclination, field_declination)\n\nsource_field = magnetics.sources.SourceField(\n    receiver_list=receiver_list, parameters=inducing_field\n)\n\n# Define the survey\nsurvey = magnetics.survey.Survey(source_field)"
      ]
    },
    {
      "cell_type": "markdown",
      "metadata": {},
      "source": [
        "## Defining an OcTree Mesh\n\nHere, we create the OcTree mesh that will be used to predict magnetic\ngradiometry data for the forward simuulation.\n\n\n"
      ]
    },
    {
      "cell_type": "code",
      "execution_count": null,
      "metadata": {
        "collapsed": false
      },
      "outputs": [],
      "source": [
        "dx = 5  # minimum cell width (base mesh cell width) in x\ndy = 5  # minimum cell width (base mesh cell width) in y\ndz = 5  # minimum cell width (base mesh cell width) in z\n\nx_length = 240.0  # domain width in x\ny_length = 240.0  # domain width in y\nz_length = 120.0  # domain width in y\n\n# Compute number of base mesh cells required in x and y\nnbcx = 2 ** int(np.round(np.log(x_length / dx) / np.log(2.0)))\nnbcy = 2 ** int(np.round(np.log(y_length / dy) / np.log(2.0)))\nnbcz = 2 ** int(np.round(np.log(z_length / dz) / np.log(2.0)))\n\n# Define the base mesh\nhx = [(dx, nbcx)]\nhy = [(dy, nbcy)]\nhz = [(dz, nbcz)]\nmesh = TreeMesh([hx, hy, hz], x0=\"CCN\")\n\n# Refine based on surface topography\nmesh = refine_tree_xyz(\n    mesh, xyz_topo, octree_levels=[2, 2], method=\"surface\", finalize=False\n)\n\n# Refine box base on region of interest\nxp, yp, zp = np.meshgrid([-100.0, 100.0], [-100.0, 100.0], [-80.0, 0.0])\nxyz = np.c_[mkvc(xp), mkvc(yp), mkvc(zp)]\n\nmesh = refine_tree_xyz(mesh, xyz, octree_levels=[2, 2], method=\"box\", finalize=False)\n\nmesh.finalize()"
      ]
    },
    {
      "cell_type": "markdown",
      "metadata": {},
      "source": [
        "## Create Magnetic Vector Intensity Model (MVI)\n\nMagnetic vector models are defined by three-component effective\nsusceptibilities. To create a magnetic vector\nmodel, we must\n\n    1) Define the magnetic susceptibility for each cell. Then multiply by the\n    unit vector direction of the inducing field. (induced contribution)\n    2) Define the remanent magnetization vector for each cell and normalize\n    by the magnitude of the Earth's field (remanent contribution)\n    3) Sum the induced and remanent contributions\n    4) Define as a vector np.r_[chi_1, chi_2, chi_3]\n\n\n\n"
      ]
    },
    {
      "cell_type": "code",
      "execution_count": null,
      "metadata": {
        "collapsed": false
      },
      "outputs": [],
      "source": [
        "# Define susceptibility values for each unit in SI\nbackground_susceptibility = 0.0001\nsphere_susceptibility = 0.01\n\n# Find cells active in the forward modeling (cells below surface)\nind_active = surface2ind_topo(mesh, xyz_topo)\n\n# Define mapping from model to active cells\nnC = int(ind_active.sum())\nmodel_map = maps.IdentityMap(nP=3 * nC)  # model has 3 parameters for each cell\n\n# Define susceptibility for each cell\nsusceptibility_model = background_susceptibility * np.ones(ind_active.sum())\nind_sphere = model_builder.getIndicesSphere(np.r_[0.0, 0.0, -45.0], 15.0, mesh.gridCC)\nind_sphere = ind_sphere[ind_active]\nsusceptibility_model[ind_sphere] = sphere_susceptibility\n\n# Compute the unit direction of the inducing field in Cartesian coordinates\nfield_direction = mat_utils.dip_azimuth2cartesian(field_inclination, field_declination)\n\n# Multiply susceptibility model to obtain the x, y, z components of the\n# effective susceptibility contribution from induced magnetization.\nsusceptibility_model = np.outer(susceptibility_model, field_direction)\n\n# Define the effective susceptibility contribution for remanent magnetization to have a\n# magnitude of 0.006 SI, with inclination -45 and declination 90\nremanence_inclination = -45.0\nremanence_declination = 90.0\nremanence_susceptibility = 0.01\n\nremanence_model = np.zeros(np.shape(susceptibility_model))\neffective_susceptibility_sphere = (\n    remanence_susceptibility\n    * mat_utils.dip_azimuth2cartesian(remanence_inclination, remanence_declination)\n)\nremanence_model[ind_sphere, :] = effective_susceptibility_sphere\n\n# Define effective susceptibility model as a vector np.r_[chi_x, chi_y, chi_z]\nplotting_model = susceptibility_model + remanence_model\nmodel = mkvc(plotting_model)\n\n# Plot Effective Susceptibility Model\nfig = plt.figure(figsize=(9, 4))\n\nplotting_map = maps.InjectActiveCells(mesh, ind_active, np.nan)\nplotting_model = np.sqrt(np.sum(plotting_model, axis=1) ** 2)\nax1 = fig.add_axes([0.1, 0.12, 0.73, 0.78])\nmesh.plot_slice(\n    plotting_map * plotting_model,\n    normal=\"Y\",\n    ax=ax1,\n    ind=int(mesh.h[1].size / 2),\n    grid=True,\n    clim=(np.min(plotting_model), np.max(plotting_model)),\n)\nax1.set_title(\"MVI Model at y = 0 m\")\nax1.set_xlabel(\"x (m)\")\nax1.set_ylabel(\"z (m)\")\n\nax2 = fig.add_axes([0.85, 0.12, 0.05, 0.78])\nnorm = mpl.colors.Normalize(vmin=np.min(plotting_model), vmax=np.max(plotting_model))\ncbar = mpl.colorbar.ColorbarBase(ax2, norm=norm, orientation=\"vertical\")\ncbar.set_label(\n    \"Effective Susceptibility Amplitude (SI)\", rotation=270, labelpad=15, size=12\n)"
      ]
    },
    {
      "cell_type": "markdown",
      "metadata": {},
      "source": [
        "## Simulation: Gradiometry Data for an MVI Model\n\nHere we predict magnetic gradiometry data for an effective susceptibility model\nin the case of remanent magnetization.\n\n\n"
      ]
    },
    {
      "cell_type": "code",
      "execution_count": null,
      "metadata": {
        "collapsed": false
      },
      "outputs": [],
      "source": [
        "# Define the forward simulation. By setting the 'store_sensitivities' keyword\n# argument to \"forward_only\", we simulate the data without storing the sensitivities\nsimulation = magnetics.simulation.Simulation3DIntegral(\n    survey=survey,\n    mesh=mesh,\n    chiMap=model_map,\n    ind_active=ind_active,\n    model_type=\"vector\",\n    store_sensitivities=\"forward_only\",\n)\n\n# Compute predicted data for some model\ndpred = simulation.dpred(model)\nn_data = len(dpred)\n\n# Plot\nfig = plt.figure(figsize=(13, 4))\nv_max = np.max(np.abs(dpred))\n\nax1 = fig.add_axes([0.1, 0.15, 0.25, 0.78])\nplot2Ddata(\n    receiver_list[0].locations,\n    dpred[0:n_data:3],\n    ax=ax1,\n    ncontour=30,\n    clim=(-v_max, v_max),\n    contourOpts={\"cmap\": \"bwr\"},\n)\nax1.set_title(\"$dBz/dx$\")\nax1.set_xlabel(\"x (m)\")\nax1.set_ylabel(\"y (m)\")\n\nax2 = fig.add_axes([0.36, 0.15, 0.25, 0.78])\ncplot2 = plot2Ddata(\n    receiver_list[0].locations,\n    dpred[1:n_data:3],\n    ax=ax2,\n    ncontour=30,\n    clim=(-v_max, v_max),\n    contourOpts={\"cmap\": \"bwr\"},\n)\ncplot2[0].set_clim((-v_max, v_max))\nax2.set_title(\"$dBz/dy$\")\nax2.set_xlabel(\"x (m)\")\nax2.set_yticks([])\n\nax3 = fig.add_axes([0.62, 0.15, 0.25, 0.78])\ncplot3 = plot2Ddata(\n    receiver_list[0].locations,\n    dpred[2:n_data:3],\n    ax=ax3,\n    ncontour=30,\n    clim=(-v_max, v_max),\n    contourOpts={\"cmap\": \"bwr\"},\n)\ncplot3[0].set_clim((-v_max, v_max))\nax3.set_title(\"$dBz/dz$\")\nax3.set_xlabel(\"x (m)\")\nax3.set_yticks([])\n\nax4 = fig.add_axes([0.88, 0.15, 0.02, 0.79])\nnorm = mpl.colors.Normalize(vmin=-v_max, vmax=v_max)\ncbar = mpl.colorbar.ColorbarBase(\n    ax4, norm=norm, orientation=\"vertical\", cmap=mpl.cm.bwr\n)\ncbar.set_label(\"$nT/m$\", rotation=270, labelpad=15, size=12)\n\nplt.show()"
      ]
    }
  ],
  "metadata": {
    "kernelspec": {
      "display_name": "Python 3",
      "language": "python",
      "name": "python3"
    },
    "language_info": {
      "codemirror_mode": {
        "name": "ipython",
        "version": 3
      },
      "file_extension": ".py",
      "mimetype": "text/x-python",
      "name": "python",
      "nbconvert_exporter": "python",
      "pygments_lexer": "ipython3",
      "version": "3.7.12"
    }
  },
  "nbformat": 4,
  "nbformat_minor": 0
}