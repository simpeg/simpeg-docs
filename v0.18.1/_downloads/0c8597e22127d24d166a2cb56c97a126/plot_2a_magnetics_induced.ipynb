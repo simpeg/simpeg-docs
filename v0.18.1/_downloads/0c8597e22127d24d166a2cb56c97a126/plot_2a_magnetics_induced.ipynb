{
  "cells": [
    {
      "cell_type": "code",
      "execution_count": null,
      "metadata": {
        "collapsed": false
      },
      "outputs": [],
      "source": [
        "%matplotlib inline"
      ]
    },
    {
      "cell_type": "markdown",
      "metadata": {},
      "source": [
        "\n# Forward Simulation of Total Magnetic Intensity Data\n\nHere we use the module *SimPEG.potential_fields.magnetics* to predict magnetic\ndata for a magnetic susceptibility model. We simulate the data on a tensor mesh.\nFor this tutorial, we focus on the following:\n\n    - How to define the survey\n    - How to predict magnetic data for a susceptibility model\n    - How to include surface topography\n    - The units of the physical property model and resulting data\n"
      ]
    },
    {
      "cell_type": "markdown",
      "metadata": {},
      "source": [
        "## Import Modules\n\n\n"
      ]
    },
    {
      "cell_type": "code",
      "execution_count": null,
      "metadata": {
        "collapsed": false
      },
      "outputs": [],
      "source": [
        "import numpy as np\nfrom scipy.interpolate import LinearNDInterpolator\nimport matplotlib as mpl\nimport matplotlib.pyplot as plt\nimport os\n\nfrom discretize import TensorMesh\nfrom discretize.utils import mkvc\nfrom SimPEG.utils import plot2Ddata, model_builder, surface2ind_topo\nfrom SimPEG import maps, utils\nfrom SimPEG.potential_fields import magnetics\n\nwrite_output = False\n\n# sphinx_gallery_thumbnail_number = 2"
      ]
    },
    {
      "cell_type": "markdown",
      "metadata": {},
      "source": [
        "## Topography\n\nSurface topography is defined as an (N, 3) numpy array. We create it here but\ntopography could also be loaded from a file.\n\n\n"
      ]
    },
    {
      "cell_type": "code",
      "execution_count": null,
      "metadata": {
        "collapsed": false
      },
      "outputs": [],
      "source": [
        "[x_topo, y_topo] = np.meshgrid(np.linspace(-200, 200, 41), np.linspace(-200, 200, 41))\nz_topo = -15 * np.exp(-(x_topo ** 2 + y_topo ** 2) / 80 ** 2)\nx_topo, y_topo, z_topo = mkvc(x_topo), mkvc(y_topo), mkvc(z_topo)\nxyz_topo = np.c_[x_topo, y_topo, z_topo]"
      ]
    },
    {
      "cell_type": "markdown",
      "metadata": {},
      "source": [
        "## Defining the Survey\n\nHere, we define survey that will be used for the simulation. Magnetic\nsurveys are simple to create. The user only needs an (N, 3) array to define\nthe xyz locations of the observation locations, the list of field components\nwhich are to be modeled and the properties of the Earth's field.\n\n\n"
      ]
    },
    {
      "cell_type": "code",
      "execution_count": null,
      "metadata": {
        "collapsed": false
      },
      "outputs": [],
      "source": [
        "# Define the observation locations as an (N, 3) numpy array or load them.\nx = np.linspace(-80.0, 80.0, 17)\ny = np.linspace(-80.0, 80.0, 17)\nx, y = np.meshgrid(x, y)\nx, y = mkvc(x.T), mkvc(y.T)\nfun_interp = LinearNDInterpolator(np.c_[x_topo, y_topo], z_topo)\nz = fun_interp(np.c_[x, y]) + 10  # Flight height 10 m above surface.\nreceiver_locations = np.c_[x, y, z]\n\n# Define the component(s) of the field we want to simulate as a list of strings.\n# Here we simulation total magnetic intensity data.\ncomponents = [\"tmi\"]\n\n# Use the observation locations and components to define the receivers. To\n# simulate data, the receivers must be defined as a list.\nreceiver_list = magnetics.receivers.Point(receiver_locations, components=components)\n\nreceiver_list = [receiver_list]\n\n# Define the inducing field H0 = (intensity [nT], inclination [deg], declination [deg])\ninclination = 90\ndeclination = 0\nstrength = 50000\ninducing_field = (strength, inclination, declination)\n\nsource_field = magnetics.sources.SourceField(\n    receiver_list=receiver_list, parameters=inducing_field\n)\n\n# Define the survey\nsurvey = magnetics.survey.Survey(source_field)"
      ]
    },
    {
      "cell_type": "markdown",
      "metadata": {},
      "source": [
        "## Defining a Tensor Mesh\n\nHere, we create the tensor mesh that will be used for the forward simulation.\n\n\n"
      ]
    },
    {
      "cell_type": "code",
      "execution_count": null,
      "metadata": {
        "collapsed": false
      },
      "outputs": [],
      "source": [
        "dh = 5.0\nhx = [(dh, 5, -1.3), (dh, 40), (dh, 5, 1.3)]\nhy = [(dh, 5, -1.3), (dh, 40), (dh, 5, 1.3)]\nhz = [(dh, 5, -1.3), (dh, 15)]\nmesh = TensorMesh([hx, hy, hz], \"CCN\")"
      ]
    },
    {
      "cell_type": "markdown",
      "metadata": {},
      "source": [
        "## Defining a Susceptibility Model\n\nHere, we create the model that will be used to predict magnetic data\nand the mapping from the model to the mesh. The model\nconsists of a susceptible sphere in a less susceptible host.\n\n\n"
      ]
    },
    {
      "cell_type": "code",
      "execution_count": null,
      "metadata": {
        "collapsed": false
      },
      "outputs": [],
      "source": [
        "# Define susceptibility values for each unit in SI\nbackground_susceptibility = 0.0001\nsphere_susceptibility = 0.01\n\n# Find cells that are active in the forward modeling (cells below surface)\nind_active = surface2ind_topo(mesh, xyz_topo)\n\n# Define mapping from model to active cells\nnC = int(ind_active.sum())\nmodel_map = maps.IdentityMap(nP=nC)  # model is a vlue for each active cell\n\n# Define model. Models in SimPEG are vector arrays\nmodel = background_susceptibility * np.ones(ind_active.sum())\nind_sphere = model_builder.getIndicesSphere(\n    np.r_[0.0, 0.0, -45.0], 15.0, mesh.cell_centers\n)\nind_sphere = ind_sphere[ind_active]\nmodel[ind_sphere] = sphere_susceptibility\n\n# Plot Model\nfig = plt.figure(figsize=(9, 4))\n\nplotting_map = maps.InjectActiveCells(mesh, ind_active, np.nan)\nax1 = fig.add_axes([0.1, 0.12, 0.73, 0.78])\nmesh.plot_slice(\n    plotting_map * model,\n    normal=\"Y\",\n    ax=ax1,\n    ind=int(mesh.shape_cells[1] / 2),\n    grid=True,\n    clim=(np.min(model), np.max(model)),\n)\nax1.set_title(\"Model slice at y = 0 m\")\nax1.set_xlabel(\"x (m)\")\nax1.set_ylabel(\"z (m)\")\n\nax2 = fig.add_axes([0.85, 0.12, 0.05, 0.78])\nnorm = mpl.colors.Normalize(vmin=np.min(model), vmax=np.max(model))\ncbar = mpl.colorbar.ColorbarBase(ax2, norm=norm, orientation=\"vertical\")\ncbar.set_label(\"Magnetic Susceptibility (SI)\", rotation=270, labelpad=15, size=12)\n\nplt.show()"
      ]
    },
    {
      "cell_type": "markdown",
      "metadata": {},
      "source": [
        "## Simulation: TMI Data for a Susceptibility Model\n\nHere we demonstrate how to predict magnetic data for a magnetic\nsusceptibility model using the integral formulation.\n\n\n"
      ]
    },
    {
      "cell_type": "code",
      "execution_count": null,
      "metadata": {
        "collapsed": false
      },
      "outputs": [],
      "source": [
        "# Define the forward simulation. By setting the 'store_sensitivities' keyword\n# argument to \"forward_only\", we simulate the data without storing the sensitivities\nsimulation = magnetics.simulation.Simulation3DIntegral(\n    survey=survey,\n    mesh=mesh,\n    model_type=\"scalar\",\n    chiMap=model_map,\n    ind_active=ind_active,\n    store_sensitivities=\"forward_only\",\n)\n\n# Compute predicted data for a susceptibility model\ndpred = simulation.dpred(model)\n\n# Plot\nfig = plt.figure(figsize=(6, 5))\nv_max = np.max(np.abs(dpred))\n\nax1 = fig.add_axes([0.1, 0.1, 0.8, 0.85])\nplot2Ddata(\n    receiver_list[0].locations,\n    dpred,\n    ax=ax1,\n    ncontour=30,\n    clim=(-v_max, v_max),\n    contourOpts={\"cmap\": \"bwr\"},\n)\nax1.set_title(\"TMI Anomaly\")\nax1.set_xlabel(\"x (m)\")\nax1.set_ylabel(\"y (m)\")\n\nax2 = fig.add_axes([0.87, 0.1, 0.03, 0.85])\nnorm = mpl.colors.Normalize(vmin=-np.max(np.abs(dpred)), vmax=np.max(np.abs(dpred)))\ncbar = mpl.colorbar.ColorbarBase(\n    ax2, norm=norm, orientation=\"vertical\", cmap=mpl.cm.bwr\n)\ncbar.set_label(\"$nT$\", rotation=270, labelpad=15, size=12)\n\nplt.show()"
      ]
    },
    {
      "cell_type": "markdown",
      "metadata": {},
      "source": [
        "## Optional: Export Data\n\nWrite the data and topography\n\n\n"
      ]
    },
    {
      "cell_type": "code",
      "execution_count": null,
      "metadata": {
        "collapsed": false
      },
      "outputs": [],
      "source": [
        "if write_output:\n\n    dir_path = os.path.dirname(__file__).split(os.path.sep)\n    dir_path.extend([\"outputs\"])\n    dir_path = os.path.sep.join(dir_path) + os.path.sep\n\n    if not os.path.exists(dir_path):\n        os.mkdir(dir_path)\n\n    fname = dir_path + \"magnetics_topo.txt\"\n    np.savetxt(fname, np.c_[xyz_topo], fmt=\"%.4e\")\n\n    np.random.seed(211)\n    maximum_anomaly = np.max(np.abs(dpred))\n    noise = 0.02 * maximum_anomaly * np.random.rand(len(dpred))\n    fname = dir_path + \"magnetics_data.obs\"\n    np.savetxt(fname, np.c_[receiver_locations, dpred + noise], fmt=\"%.4e\")"
      ]
    }
  ],
  "metadata": {
    "kernelspec": {
      "display_name": "Python 3",
      "language": "python",
      "name": "python3"
    },
    "language_info": {
      "codemirror_mode": {
        "name": "ipython",
        "version": 3
      },
      "file_extension": ".py",
      "mimetype": "text/x-python",
      "name": "python",
      "nbconvert_exporter": "python",
      "pygments_lexer": "ipython3",
      "version": "3.7.12"
    }
  },
  "nbformat": 4,
  "nbformat_minor": 0
}