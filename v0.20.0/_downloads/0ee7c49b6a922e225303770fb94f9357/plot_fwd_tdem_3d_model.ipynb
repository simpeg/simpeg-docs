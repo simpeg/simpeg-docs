{
  "cells": [
    {
      "cell_type": "markdown",
      "metadata": {},
      "source": [
        "\n# Time-domain CSEM for a resistive cube in a deep marine setting\n"
      ]
    },
    {
      "cell_type": "code",
      "execution_count": null,
      "metadata": {
        "collapsed": false
      },
      "outputs": [],
      "source": [
        "import empymod\nimport discretize\n\ntry:\n    from pymatsolver import Pardiso as Solver\nexcept ImportError:\n    from SimPEG import SolverLU as Solver\n\nimport numpy as np\nfrom SimPEG import maps\nfrom SimPEG.electromagnetics import time_domain as TDEM\nimport matplotlib.pyplot as plt"
      ]
    },
    {
      "cell_type": "markdown",
      "metadata": {},
      "source": [
        "## (A) Model\n\n"
      ]
    },
    {
      "cell_type": "code",
      "execution_count": null,
      "metadata": {
        "collapsed": false
      },
      "outputs": [],
      "source": [
        "fig = plt.figure(figsize=(5.5, 3))\nax = plt.gca()\n\n# Seafloor and background\nplt.plot([-200, 2200], [-2000, -2000], \"-\", c=\".4\")\nbg = plt.Rectangle((-500, -3000), 3000, 1000, facecolor=\"black\", alpha=0.1)\nax.add_patch(bg)\n\n# Plot survey\nplt.plot([-50, 50], [-1950, -1950], \"*-\", ms=8, c=\"k\")\nplt.plot(2000, -2000, \"v\", ms=8, c=\"k\")\nplt.text(0, -1900, r\"Tx\", horizontalalignment=\"center\")\nplt.text(2000, -1900, r\"Rx\", horizontalalignment=\"center\")\n\n# Plot cube\nplt.plot([450, 1550, 1550, 450, 450], [-2300, -2300, -2700, -2700, -2300], \"k-\")\nplt.plot([300, 1400, 1400, 300, 300], [-2350, -2350, -2750, -2750, -2350], \"k:\")\nplt.plot([600, 600, 1700, 1700, 1550], [-2300, -2250, -2250, -2650, -2650], \"k:\")\nplt.plot([300, 600], [-2350, -2250], \"k:\")\nplt.plot([1400, 1700], [-2350, -2250], \"k:\")\nplt.plot([300, 450], [-2750, -2700], \"k:\")\nplt.plot([1400, 1700], [-2750, -2650], \"k:\")\ntg = plt.Rectangle((450, -2700), 1100, 400, facecolor=\"black\", alpha=0.2)\nax.add_patch(tg)\n\n# Annotate resistivities\nplt.text(\n    1000, -1925, r\"$\\rho_\\mathrm{sea}=0.3\\,\\Omega\\,$m\", horizontalalignment=\"center\"\n)\nplt.text(\n    1000, -2150, r\"$\\rho_\\mathrm{bg}=1.0\\,\\Omega\\,$m\", horizontalalignment=\"center\"\n)\nplt.text(\n    1000, -2550, r\"$\\rho_\\mathrm{tg}=100.0\\,\\Omega\\,$m\", horizontalalignment=\"center\"\n)\nplt.text(1500, -2800, r\"$y=-500\\,$m\", horizontalalignment=\"left\")\nplt.text(1750, -2650, r\"$y=500\\,$m\", horizontalalignment=\"left\")\n\n# Ticks and labels\nplt.xticks(\n    [-50, 50, 450, 1550, 2000],\n    [\"$-50~$ $~$  $~$\", \" $~50$\", \"$450$\", \"$1550$\", \"$2000$\"],\n)\nplt.yticks(\n    [-1950, -2000, -2300, -2700], [\"$-1950$\\n\", \"\\n$-2000$\", \"$-2300$\", \"$-2700$\"]\n)\n\nplt.xlim([-200, 2200])\nplt.ylim([-3000, -1800])\n\nplt.xlabel(\"$x$ (m)\")\nplt.ylabel(\"$z$ (m)\")\nplt.tight_layout()\n\nplt.show()"
      ]
    },
    {
      "cell_type": "code",
      "execution_count": null,
      "metadata": {
        "collapsed": false
      },
      "outputs": [],
      "source": [
        "# Resistivities\nres_sea = 0.3\nres_bg = 1.0\nres_tg = 100.0\n\n# Seafloor\nseafloor = -2000\n\n# Target dimension\ntg_x = [450, 1550]\ntg_y = [-500, 500]\ntg_z = [-2700, -2300]"
      ]
    },
    {
      "cell_type": "markdown",
      "metadata": {},
      "source": [
        "## (B) Survey\n\n"
      ]
    },
    {
      "cell_type": "code",
      "execution_count": null,
      "metadata": {
        "collapsed": false
      },
      "outputs": [],
      "source": [
        "# Source: 100 m x-directed diplole at the origin,\n# 50 m above seafloor, src [x1, x2, y1, y2, z1, z2]\nsrc = [-50, 50, 0, 0, -1950, -1950]\n\n# Receiver: x-directed dipole at 2 km on the\n# seafloor, rec = [x, y, z, azimuth, dip]\nrec = [2000, 0, -2000, 0, 0]\n\n# Times to compute, 0.1 - 10 s, 301 steps\ntimes = np.logspace(-1, 1, 301)"
      ]
    },
    {
      "cell_type": "markdown",
      "metadata": {},
      "source": [
        "## (C) Modelling parameters\n\n### Check diffusion distances\n\n"
      ]
    },
    {
      "cell_type": "code",
      "execution_count": null,
      "metadata": {
        "collapsed": false
      },
      "outputs": [],
      "source": [
        "# Get min/max diffusion distances for the two halfspaces.\ndiff_dist0 = 1261 * np.sqrt(np.r_[times * res_sea, times * res_sea])\ndiff_dist1 = 1261 * np.sqrt(np.r_[times * res_bg, times * res_bg])\ndiff_dist2 = 1261 * np.sqrt(np.r_[times * res_tg, times * res_tg])\nprint(\"Min/max diffusion distance:\")\nprint(f\"- Water      :: {diff_dist0.min():8.0f} / {diff_dist0.max():8.0f} m.\")\nprint(f\"- Background :: {diff_dist1.min():8.0f} / {diff_dist1.max():8.0f} m.\")\nprint(f\"- Target     :: {diff_dist2.min():8.0f} / {diff_dist2.max():8.0f} m.\")"
      ]
    },
    {
      "cell_type": "markdown",
      "metadata": {},
      "source": [
        "### Time-steps\n\n"
      ]
    },
    {
      "cell_type": "code",
      "execution_count": null,
      "metadata": {
        "collapsed": false
      },
      "outputs": [],
      "source": [
        "# Time steps\ntime_steps = [1e-1, (1e-2, 21), (3e-2, 23), (1e-1, 21), (3e-1, 23)]\n\n# Create mesh with time steps\nts = discretize.TensorMesh([time_steps]).nodes_x\n\n# Plot them\nplt.figure(figsize=(9, 1.5))\n\n# Logarithmic scale\nplt.subplot(121)\nplt.title(\"Check time-steps on logarithmic-scale\")\nplt.plot([times.min(), times.min()], [-1, 1])\nplt.plot([times.max(), times.max()], [-1, 1])\nplt.plot(ts, ts * 0, \".\", ms=2)\nplt.yticks([])\nplt.xscale(\"log\")\nplt.xlabel(\"Time (s)\")\n\n# Linear scale\nplt.subplot(122)\nplt.title(\"Check time-steps on linear-scale\")\nplt.plot([times.min(), times.min()], [-1, 1])\nplt.plot([times.max(), times.max()], [-1, 1])\nplt.plot(ts, ts * 0, \".\", ms=2)\nplt.yticks([])\nplt.xlabel(\"Time (s)\")\n\nplt.tight_layout()\nplt.show()\n\n# Check times with time-steps\nprint(f\"Min/max times    : {times.min():.1e} / {times.max():.1e}\")\nprint(f\"Min/max timeSteps: {ts[1]:.1e} / {ts[-1]:.1e}\")"
      ]
    },
    {
      "cell_type": "markdown",
      "metadata": {},
      "source": [
        "### Create mesh (`discretize`)\n\n"
      ]
    },
    {
      "cell_type": "code",
      "execution_count": null,
      "metadata": {
        "collapsed": false
      },
      "outputs": [],
      "source": [
        "# Cell width, number of cells\nwidth = 100\nnx = rec[0] // width + 4\nny = 10\nnz = 9\n\n# Padding\nnpadx = 14\nnpadyz = 12\n\n# Stretching\nalpha = 1.3\n\n# Initiate TensorMesh\nmesh = discretize.TensorMesh(\n    [\n        [(width, npadx, -alpha), (width, nx), (width, npadx, alpha)],\n        [(width, npadyz, -alpha), (width, ny), (width, npadyz, alpha)],\n        [(width, npadyz, -alpha), (width, nz), (width, npadyz, alpha)],\n    ],\n    x0=\"CCC\",\n)\n\n# Shift mesh so that\n# x=0 is at midpoint of source;\n# z=-2000 is at receiver level\nmesh.x0[0] += rec[0] // 2 - width / 2\nmesh.x0[2] -= nz / 2 * width - seafloor\nmesh"
      ]
    },
    {
      "cell_type": "markdown",
      "metadata": {},
      "source": [
        "### Check if source and receiver are exactly at x-edges.\n\nNo requirement; if receiver are exactly on x-edges then no interpolation is\nrequired to get the responses (cell centers in x, cell edges in y, z).\n\n"
      ]
    },
    {
      "cell_type": "code",
      "execution_count": null,
      "metadata": {
        "collapsed": false
      },
      "outputs": [],
      "source": [
        "print(\n    f\"Rec-{{x;y;z}} :: {rec[0] in np.round(mesh.cell_centers_x)!s:>5}; \"\n    f\"{rec[1] in np.round(mesh.nodes_y)!s:>5}; \"\n    f\"{rec[2] in np.round(mesh.nodes_z)!s:>5}\"\n)\nprint(\n    f\"Src-x       :: {src[0] in np.round(mesh.cell_centers_x)!s:>5}; \"\n    f\"{src[1] in np.round(mesh.cell_centers_x)!s:>5}\"\n)\nprint(\n    f\"Src-y       :: {src[2] in np.round(mesh.nodes_y)!s:>5}; \"\n    f\"{src[3] in np.round(mesh.nodes_y)!s:>5}\"\n)\nprint(\n    f\"Src-z       :: {src[4] in np.round(mesh.nodes_z)!s:>5}; \"\n    f\"{src[5] in np.round(mesh.nodes_z)!s:>5}\"\n)"
      ]
    },
    {
      "cell_type": "markdown",
      "metadata": {},
      "source": [
        "### Put model on mesh\n\n"
      ]
    },
    {
      "cell_type": "code",
      "execution_count": null,
      "metadata": {
        "collapsed": false
      },
      "outputs": [],
      "source": [
        "# Background model\nmres_bg = np.ones(mesh.nC) * res_sea  # Upper halfspace; sea water\nmres_bg[mesh.gridCC[:, 2] < seafloor] = res_bg  # Lower halfspace; background\n\n# Target model\nmres_tg = mres_bg.copy()  # Copy background model\ntarget_inds = (  # Find target indices\n    (mesh.gridCC[:, 0] >= tg_x[0])\n    & (mesh.gridCC[:, 0] <= tg_x[1])\n    & (mesh.gridCC[:, 1] >= tg_y[0])\n    & (mesh.gridCC[:, 1] <= tg_y[1])\n    & (mesh.gridCC[:, 2] >= tg_z[0])\n    & (mesh.gridCC[:, 2] <= tg_z[1])\n)\nmres_tg[target_inds] = res_tg  # Target resistivity\n\n# QC\nmesh.plot_3d_slicer(\n    np.log10(mres_tg),\n    clim=[np.log10(res_sea), np.log10(res_tg)],\n    xlim=[-src[0] - 100, rec[0] + 100],\n    ylim=[-rec[0] / 2, rec[0] / 2],\n    zlim=[tg_z[0] - 100, seafloor + 100],\n)"
      ]
    },
    {
      "cell_type": "markdown",
      "metadata": {},
      "source": [
        "## (D) `empymod`\n\nCompute the 1D background semi-analytically, using 5 points to approximate\nthe 100-m long dipole.\n\n"
      ]
    },
    {
      "cell_type": "code",
      "execution_count": null,
      "metadata": {
        "collapsed": false
      },
      "outputs": [],
      "source": [
        "inp = {\n    \"src\": src.copy(),\n    \"rec\": rec.copy(),\n    \"depth\": seafloor,\n    \"res\": [res_sea, res_bg],\n    \"freqtime\": times,\n    \"signal\": -1,  # Switch-off\n    \"srcpts\": 5,  # 5 points for finite length approx\n    \"strength\": 1,  # Account for source length\n    \"verb\": 1,\n}\n\nepm_bg = empymod.bipole(**inp)"
      ]
    },
    {
      "cell_type": "markdown",
      "metadata": {},
      "source": [
        "## (E) `SimPEG`\n\nSet-up SimPEG-specific parameters.\n\n"
      ]
    },
    {
      "cell_type": "code",
      "execution_count": null,
      "metadata": {
        "collapsed": false
      },
      "outputs": [],
      "source": [
        "# Set up the receiver list\nrec_list = [\n    TDEM.Rx.PointElectricField(\n        orientation=\"x\",\n        times=times,\n        locations=np.array(\n            [\n                [*rec[:3]],\n            ]\n        ),\n    ),\n]\n\n\n# Set up the source list\nsrc_list = [\n    TDEM.Src.LineCurrent(\n        receiver_list=rec_list,\n        location=np.array([[*src[::2]], [*src[1::2]]]),\n    ),\n]\n\n\n# Create `Survey`\nsurvey = TDEM.Survey(src_list)\n\n\n# Define the `Simulation`\nprob = TDEM.Simulation3DElectricField(\n    mesh,\n    survey=survey,\n    rhoMap=maps.IdentityMap(mesh),\n    solver=Solver,\n    time_steps=time_steps,\n)"
      ]
    },
    {
      "cell_type": "markdown",
      "metadata": {},
      "source": [
        "### Compute\n\n"
      ]
    },
    {
      "cell_type": "code",
      "execution_count": null,
      "metadata": {
        "collapsed": false
      },
      "outputs": [],
      "source": [
        "spg_bg = prob.dpred(mres_bg)\nspg_tg = prob.dpred(mres_tg)"
      ]
    },
    {
      "cell_type": "markdown",
      "metadata": {},
      "source": [
        "## (F) Plots\n\n"
      ]
    },
    {
      "cell_type": "code",
      "execution_count": null,
      "metadata": {
        "collapsed": false
      },
      "outputs": [],
      "source": [
        "plt.figure(figsize=(5, 4))\nax1 = plt.subplot(111)\n\nplt.title(\"Resistive cube in a deep marine setting\")\n\nplt.plot(times, epm_bg * 1e9, \".4\", lw=2, label=\"empymod\")\n\nplt.plot(times, spg_bg * 1e9, \"C0--\", label=\"SimPEG Background\")\nplt.plot(times, spg_tg * 1e9, \"C1--\", label=\"SimPEG Target\")\n\nplt.ylabel(\"$E_x$ (nV/m)\")\nplt.xscale(\"log\")\nplt.xlim([0.1, 10])\nplt.legend(loc=3)\nplt.grid(axis=\"y\", c=\"0.9\")\n\nplt.xlabel(\"Time (s)\")\n\n# Switch off spines\nax1.spines[\"top\"].set_visible(False)\nax1.spines[\"right\"].set_visible(False)\n\nplt.tight_layout()\nplt.show()"
      ]
    },
    {
      "cell_type": "markdown",
      "metadata": {},
      "source": [
        "empymod.Report([SimPEG, discretize, pymatsolver])\n\n"
      ]
    }
  ],
  "metadata": {
    "kernelspec": {
      "display_name": "Python 3",
      "language": "python",
      "name": "python3"
    },
    "language_info": {
      "codemirror_mode": {
        "name": "ipython",
        "version": 3
      },
      "file_extension": ".py",
      "mimetype": "text/x-python",
      "name": "python",
      "nbconvert_exporter": "python",
      "pygments_lexer": "ipython3",
      "version": "3.8.17"
    }
  },
  "nbformat": 4,
  "nbformat_minor": 0
}