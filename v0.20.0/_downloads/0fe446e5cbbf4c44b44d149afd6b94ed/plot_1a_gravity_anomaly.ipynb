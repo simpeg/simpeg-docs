{
  "cells": [
    {
      "cell_type": "markdown",
      "metadata": {},
      "source": [
        "\n# Forward Simulation of Gravity Anomaly Data on a Tensor Mesh\n\nHere we use the module *SimPEG.potential_fields.gravity* to predict gravity\nanomaly data for a synthetic density contrast model. The simulation is\ncarried out on a tensor mesh. For this tutorial, we focus on the following:\n\n    - How to create gravity surveys\n    - How to predict gravity anomaly data for a density contrast model\n    - How to include surface topography\n    - The units of the density contrast model and resulting data\n"
      ]
    },
    {
      "cell_type": "markdown",
      "metadata": {},
      "source": [
        "## Import Modules\n\n\n"
      ]
    },
    {
      "cell_type": "code",
      "execution_count": null,
      "metadata": {
        "collapsed": false
      },
      "outputs": [],
      "source": [
        "import numpy as np\nfrom scipy.interpolate import LinearNDInterpolator\nimport matplotlib as mpl\nimport matplotlib.pyplot as plt\nimport os\n\nfrom discretize import TensorMesh\nfrom discretize.utils import mkvc, active_from_xyz\n\nfrom SimPEG.utils import plot2Ddata, model_builder\nfrom SimPEG import maps\nfrom SimPEG.potential_fields import gravity\n\nsave_output = False\n\n# sphinx_gallery_thumbnail_number = 2"
      ]
    },
    {
      "cell_type": "markdown",
      "metadata": {},
      "source": [
        "## Defining Topography\n\nSurface topography is defined as an (N, 3) numpy array. We create it here but\nthe topography could also be loaded from a file.\n\n\n"
      ]
    },
    {
      "cell_type": "code",
      "execution_count": null,
      "metadata": {
        "collapsed": false
      },
      "outputs": [],
      "source": [
        "[x_topo, y_topo] = np.meshgrid(np.linspace(-200, 200, 41), np.linspace(-200, 200, 41))\nz_topo = -15 * np.exp(-(x_topo**2 + y_topo**2) / 80**2)\nx_topo, y_topo, z_topo = mkvc(x_topo), mkvc(y_topo), mkvc(z_topo)\ntopo_xyz = np.c_[x_topo, y_topo, z_topo]"
      ]
    },
    {
      "cell_type": "markdown",
      "metadata": {},
      "source": [
        "## Defining the Survey\n\nHere, we define survey that will be used for the forward simulation. Gravity\nsurveys are simple to create. The user only needs an (N, 3) array to define\nthe xyz locations of the observation locations, and a list of field components\nwhich are to be measured.\n\n\n"
      ]
    },
    {
      "cell_type": "code",
      "execution_count": null,
      "metadata": {
        "collapsed": false
      },
      "outputs": [],
      "source": [
        "# Define the observation locations as an (N, 3) numpy array or load them.\nx = np.linspace(-80.0, 80.0, 17)\ny = np.linspace(-80.0, 80.0, 17)\nx, y = np.meshgrid(x, y)\nx, y = mkvc(x.T), mkvc(y.T)\nfun_interp = LinearNDInterpolator(np.c_[x_topo, y_topo], z_topo)\nz = fun_interp(np.c_[x, y]) + 5.0\nreceiver_locations = np.c_[x, y, z]\n\n# Define the component(s) of the field we want to simulate as strings within\n# a list. Here we simulate only the vertical component of gravity anomaly.\ncomponents = [\"gz\"]\n\n# Use the observation locations and components to define the receivers. To\n# simulate data, the receivers must be defined as a list.\nreceiver_list = gravity.receivers.Point(receiver_locations, components=components)\n\nreceiver_list = [receiver_list]\n\n# Defining the source field.\nsource_field = gravity.sources.SourceField(receiver_list=receiver_list)\n\n# Defining the survey\nsurvey = gravity.survey.Survey(source_field)"
      ]
    },
    {
      "cell_type": "markdown",
      "metadata": {},
      "source": [
        "## Defining a Tensor Mesh\n\nHere, we create the tensor mesh that will be used to predict gravity anomaly\ndata.\n\n\n"
      ]
    },
    {
      "cell_type": "code",
      "execution_count": null,
      "metadata": {
        "collapsed": false
      },
      "outputs": [],
      "source": [
        "dh = 5.0\nhx = [(dh, 5, -1.3), (dh, 40), (dh, 5, 1.3)]\nhy = [(dh, 5, -1.3), (dh, 40), (dh, 5, 1.3)]\nhz = [(dh, 5, -1.3), (dh, 15)]\nmesh = TensorMesh([hx, hy, hz], \"CCN\")"
      ]
    },
    {
      "cell_type": "markdown",
      "metadata": {},
      "source": [
        "## Density Contrast Model and Mapping on Tensor Mesh\n\nHere, we create the density contrast model that will be used to predict\ngravity anomaly data and the mapping from the model to the mesh. The model\nconsists of a less dense block and a more dense sphere.\n\n\n"
      ]
    },
    {
      "cell_type": "code",
      "execution_count": null,
      "metadata": {
        "collapsed": false
      },
      "outputs": [],
      "source": [
        "# Define density contrast values for each unit in g/cc\nbackground_density = 0.0\nblock_density = -0.2\nsphere_density = 0.2\n\n# Find the indices for the active mesh cells (e.g. cells below surface)\nind_active = active_from_xyz(mesh, topo_xyz)\n\n# Define mapping from model to active cells. The model consists of a value for\n# each cell below the Earth's surface.\nnC = int(ind_active.sum())\nmodel_map = maps.IdentityMap(nP=nC)\n\n# Define model. Models in SimPEG are vector arrays.\nmodel = background_density * np.ones(nC)\n\n# You could find the indicies of specific cells within the model and change their\n# value to add structures.\nind_block = (\n    (mesh.gridCC[ind_active, 0] > -50.0)\n    & (mesh.gridCC[ind_active, 0] < -20.0)\n    & (mesh.gridCC[ind_active, 1] > -15.0)\n    & (mesh.gridCC[ind_active, 1] < 15.0)\n    & (mesh.gridCC[ind_active, 2] > -50.0)\n    & (mesh.gridCC[ind_active, 2] < -30.0)\n)\nmodel[ind_block] = block_density\n\n# You can also use SimPEG utilities to add structures to the model more concisely\nind_sphere = model_builder.getIndicesSphere(np.r_[35.0, 0.0, -40.0], 15.0, mesh.gridCC)\nind_sphere = ind_sphere[ind_active]\nmodel[ind_sphere] = sphere_density\n\n# Plot Density Contrast Model\nfig = plt.figure(figsize=(9, 4))\nplotting_map = maps.InjectActiveCells(mesh, ind_active, np.nan)\n\nax1 = fig.add_axes([0.1, 0.12, 0.73, 0.78])\nmesh.plot_slice(\n    plotting_map * model,\n    normal=\"Y\",\n    ax=ax1,\n    ind=int(mesh.shape_cells[1] / 2),\n    grid=True,\n    clim=(np.min(model), np.max(model)),\n    pcolor_opts={\"cmap\": \"viridis\"},\n)\nax1.set_title(\"Model slice at y = 0 m\")\nax1.set_xlabel(\"x (m)\")\nax1.set_ylabel(\"z (m)\")\n\nax2 = fig.add_axes([0.85, 0.12, 0.05, 0.78])\nnorm = mpl.colors.Normalize(vmin=np.min(model), vmax=np.max(model))\ncbar = mpl.colorbar.ColorbarBase(\n    ax2, norm=norm, orientation=\"vertical\", cmap=mpl.cm.viridis\n)\ncbar.set_label(\"$g/cm^3$\", rotation=270, labelpad=15, size=12)\n\nplt.show()"
      ]
    },
    {
      "cell_type": "markdown",
      "metadata": {},
      "source": [
        "## Simulation: Gravity Anomaly Data on Tensor Mesh\n\nHere we demonstrate how to predict gravity anomaly data using the integral\nformulation.\n\n\n"
      ]
    },
    {
      "cell_type": "code",
      "execution_count": null,
      "metadata": {
        "collapsed": false
      },
      "outputs": [],
      "source": [
        "# Define the forward simulation. By setting the 'store_sensitivities' keyword\n# argument to \"forward_only\", we simulate the data without storing the sensitivities\nsimulation = gravity.simulation.Simulation3DIntegral(\n    survey=survey,\n    mesh=mesh,\n    rhoMap=model_map,\n    ind_active=ind_active,\n    store_sensitivities=\"forward_only\",\n)\n\n# Compute predicted data for some model\n# SimPEG uses right handed coordinate where Z is positive upward.\n# This causes gravity signals look \"inconsistent\" with density values in visualization.\ndpred = simulation.dpred(model)\n\n# Plot\nfig = plt.figure(figsize=(7, 5))\n\nax1 = fig.add_axes([0.1, 0.1, 0.75, 0.85])\nplot2Ddata(receiver_list[0].locations, dpred, ax=ax1, contourOpts={\"cmap\": \"bwr\"})\nax1.set_title(\"Gravity Anomaly (Z-component)\")\nax1.set_xlabel(\"x (m)\")\nax1.set_ylabel(\"y (m)\")\n\nax2 = fig.add_axes([0.82, 0.1, 0.03, 0.85])\nnorm = mpl.colors.Normalize(vmin=-np.max(np.abs(dpred)), vmax=np.max(np.abs(dpred)))\ncbar = mpl.colorbar.ColorbarBase(\n    ax2, norm=norm, orientation=\"vertical\", cmap=mpl.cm.bwr, format=\"%.1e\"\n)\ncbar.set_label(\"$mgal$\", rotation=270, labelpad=15, size=12)\n\nplt.show()"
      ]
    },
    {
      "cell_type": "markdown",
      "metadata": {},
      "source": [
        "## Optional: Exporting Results\n\nWrite the data, topography and true model\n\n\n"
      ]
    },
    {
      "cell_type": "code",
      "execution_count": null,
      "metadata": {
        "collapsed": false
      },
      "outputs": [],
      "source": [
        "if save_output:\n    dir_path = os.path.dirname(__file__).split(os.path.sep)\n    dir_path.extend([\"outputs\"])\n    dir_path = os.path.sep.join(dir_path) + os.path.sep\n\n    if not os.path.exists(dir_path):\n        os.mkdir(dir_path)\n\n    fname = dir_path + \"gravity_topo.txt\"\n    np.savetxt(fname, np.c_[topo_xyz], fmt=\"%.4e\")\n\n    np.random.seed(737)\n    maximum_anomaly = np.max(np.abs(dpred))\n    noise = 0.01 * maximum_anomaly * np.random.rand(len(dpred))\n    fname = dir_path + \"gravity_data.obs\"\n    np.savetxt(fname, np.c_[receiver_locations, dpred + noise], fmt=\"%.4e\")"
      ]
    }
  ],
  "metadata": {
    "kernelspec": {
      "display_name": "Python 3",
      "language": "python",
      "name": "python3"
    },
    "language_info": {
      "codemirror_mode": {
        "name": "ipython",
        "version": 3
      },
      "file_extension": ".py",
      "mimetype": "text/x-python",
      "name": "python",
      "nbconvert_exporter": "python",
      "pygments_lexer": "ipython3",
      "version": "3.8.17"
    }
  },
  "nbformat": 4,
  "nbformat_minor": 0
}