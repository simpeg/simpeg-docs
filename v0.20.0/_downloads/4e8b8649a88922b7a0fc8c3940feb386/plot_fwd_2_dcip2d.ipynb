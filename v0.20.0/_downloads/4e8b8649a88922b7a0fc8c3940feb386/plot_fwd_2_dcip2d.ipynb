{
  "cells": [
    {
      "cell_type": "markdown",
      "metadata": {},
      "source": [
        "\n# 2.5D Forward Simulation of a DCIP Line\n\nHere we use the module *SimPEG.electromagnetics.static.resistivity* to predict\nDC resistivity data and the module *SimPEG.electromagnetics.static.induced_polarization*\nto predict IP data for a dipole-dipole survey. In this tutorial, we focus on\nthe following:\n\n    - How to define the survey\n    - How to define the problem\n    - How to predict DC resistivity data for a synthetic resistivity model\n    - How to predict IP data for a synthetic chargeability model\n    - How to include surface topography\n    - The units of the models and resulting data\n\nThis tutorial is split into two parts. First we create a resistivity model and\npredict DC resistivity data as measured voltages. Next we create a chargeability\nmodel and a background conductivity model to compute IP data defined as\nsecondary potentials. We show how DC and IP in units of Volts can be plotted on\npseudo-sections as apparent conductivities and apparent chargeabilities.\n"
      ]
    },
    {
      "cell_type": "markdown",
      "metadata": {},
      "source": [
        "## Import modules\n\n\n"
      ]
    },
    {
      "cell_type": "code",
      "execution_count": null,
      "metadata": {
        "collapsed": false
      },
      "outputs": [],
      "source": [
        "from discretize import TreeMesh\nfrom discretize.utils import mkvc, refine_tree_xyz, active_from_xyz\n\nfrom SimPEG.utils import model_builder\nfrom SimPEG.utils.io_utils.io_utils_electromagnetics import write_dcip2d_ubc\nfrom SimPEG import maps, data\nfrom SimPEG.electromagnetics.static import resistivity as dc\nfrom SimPEG.electromagnetics.static import induced_polarization as ip\nfrom SimPEG.electromagnetics.static.utils.static_utils import (\n    generate_dcip_sources_line,\n    plot_pseudosection,\n    apparent_resistivity_from_voltage,\n)\n\nimport os\nimport numpy as np\nimport matplotlib as mpl\nimport matplotlib.pyplot as plt\nfrom matplotlib.colors import LogNorm\n\ntry:\n    from pymatsolver import Pardiso as Solver\nexcept ImportError:\n    from SimPEG import SolverLU as Solver\n\nmpl.rcParams.update({\"font.size\": 16})\nwrite_output = False\n\n# sphinx_gallery_thumbnail_number = 5"
      ]
    },
    {
      "cell_type": "markdown",
      "metadata": {},
      "source": [
        "## Defining Topography\n\nHere we define surface topography as an (N, 3) numpy array. Topography could\nalso be loaded from a file. In our case, our survey takes place within a set\nof valleys that run North-South.\n\n\n"
      ]
    },
    {
      "cell_type": "code",
      "execution_count": null,
      "metadata": {
        "collapsed": false
      },
      "outputs": [],
      "source": [
        "x_topo, y_topo = np.meshgrid(\n    np.linspace(-3000, 3000, 601), np.linspace(-3000, 3000, 101)\n)\nz_topo = 40.0 * np.sin(2 * np.pi * x_topo / 800) - 40.0\nx_topo, y_topo, z_topo = mkvc(x_topo), mkvc(y_topo), mkvc(z_topo)\ntopo_xyz = np.c_[x_topo, y_topo, z_topo]\n\n# Create 2D topography. Since our 3D topography only changes in the x direction,\n# it is easy to define the 2D topography projected along the survey line. For\n# arbitrary topography and for an arbitrary survey orientation, the user must\n# define the 2D topography along the survey line.\ntopo_2d = np.unique(topo_xyz[:, [0, 2]], axis=0)"
      ]
    },
    {
      "cell_type": "markdown",
      "metadata": {},
      "source": [
        "## Create Dipole-Dipole Survey\n\nHere we define a single EW survey line that uses a dipole-dipole configuration.\nFor the source, we must define the AB electrode locations. For the receivers\nwe must define the MN electrode locations. Instead of creating the survey\nfrom scratch (see 1D example), we will use the *generat_dcip_survey_line* utility.\n\n\n"
      ]
    },
    {
      "cell_type": "code",
      "execution_count": null,
      "metadata": {
        "collapsed": false
      },
      "outputs": [],
      "source": [
        "# Define survey line parameters\nsurvey_type = \"dipole-dipole\"\ndimension_type = \"2D\"\ndc_data_type = \"volt\"\nend_locations = np.r_[-400.0, 400.0]\nstation_separation = 40.0\nnum_rx_per_src = 10\n\n# Generate source list for DC survey line\nsource_list = generate_dcip_sources_line(\n    survey_type,\n    dc_data_type,\n    dimension_type,\n    end_locations,\n    topo_xyz,\n    num_rx_per_src,\n    station_separation,\n)\n\n# Define survey\ndc_survey = dc.survey.Survey(source_list)"
      ]
    },
    {
      "cell_type": "markdown",
      "metadata": {},
      "source": [
        "## Create OcTree Mesh\n\nHere, we create the OcTree mesh that will be used to predict both DC\nresistivity and IP data.\n\n\n"
      ]
    },
    {
      "cell_type": "code",
      "execution_count": null,
      "metadata": {
        "collapsed": false
      },
      "outputs": [],
      "source": [
        "dh = 4  # base cell width\ndom_width_x = 3200.0  # domain width x\ndom_width_z = 2400.0  # domain width z\nnbcx = 2 ** int(np.round(np.log(dom_width_x / dh) / np.log(2.0)))  # num. base cells x\nnbcz = 2 ** int(np.round(np.log(dom_width_z / dh) / np.log(2.0)))  # num. base cells z\n\n# Define the base mesh\nhx = [(dh, nbcx)]\nhz = [(dh, nbcz)]\nmesh = TreeMesh([hx, hz], x0=\"CN\")\n\n# Mesh refinement based on topography\nmesh = refine_tree_xyz(\n    mesh,\n    topo_xyz[:, [0, 2]],\n    octree_levels=[0, 0, 4, 4],\n    method=\"surface\",\n    finalize=False,\n)\n\n# Mesh refinement near transmitters and receivers. First we need to obtain the\n# set of unique electrode locations.\nelectrode_locations = np.c_[\n    dc_survey.locations_a,\n    dc_survey.locations_b,\n    dc_survey.locations_m,\n    dc_survey.locations_n,\n]\n\nunique_locations = np.unique(\n    np.reshape(electrode_locations, (4 * dc_survey.nD, 2)), axis=0\n)\n\nmesh = refine_tree_xyz(\n    mesh, unique_locations, octree_levels=[4, 4], method=\"radial\", finalize=False\n)\n\n# Refine core mesh region\nxp, zp = np.meshgrid([-600.0, 600.0], [-400.0, 0.0])\nxyz = np.c_[mkvc(xp), mkvc(zp)]\nmesh = refine_tree_xyz(\n    mesh, xyz, octree_levels=[0, 0, 2, 8], method=\"box\", finalize=False\n)\n\nmesh.finalize()"
      ]
    },
    {
      "cell_type": "markdown",
      "metadata": {},
      "source": [
        "## Create Conductivity Model and Mapping for OcTree Mesh\n\nHere we define the conductivity model that will be used to predict DC\nresistivity data. The model consists of a conductive sphere and a\nresistive sphere within a moderately conductive background. Note that\nyou can carry through this work flow with a resistivity model if desired.\n\n\n"
      ]
    },
    {
      "cell_type": "code",
      "execution_count": null,
      "metadata": {
        "collapsed": false
      },
      "outputs": [],
      "source": [
        "# Define conductivity model in S/m (or resistivity model in Ohm m)\nair_conductivity = 1e-8\nbackground_conductivity = 1e-2\nconductor_conductivity = 1e-1\nresistor_conductivity = 1e-3\n\n# Find active cells in forward modeling (cell below surface)\nind_active = active_from_xyz(mesh, topo_xyz[:, [0, 2]])\n\n# Define mapping from model to active cells\nnC = int(ind_active.sum())\nconductivity_map = maps.InjectActiveCells(mesh, ind_active, air_conductivity)\n\n# Define model\nconductivity_model = background_conductivity * np.ones(nC)\n\nind_conductor = model_builder.getIndicesSphere(np.r_[-120.0, -160.0], 60.0, mesh.gridCC)\nind_conductor = ind_conductor[ind_active]\nconductivity_model[ind_conductor] = conductor_conductivity\n\nind_resistor = model_builder.getIndicesSphere(np.r_[120.0, -100.0], 60.0, mesh.gridCC)\nind_resistor = ind_resistor[ind_active]\nconductivity_model[ind_resistor] = resistor_conductivity\n\n\n# Plot Conductivity Model\nfig = plt.figure(figsize=(9, 4))\n\nplotting_map = maps.InjectActiveCells(mesh, ind_active, np.nan)\nnorm = LogNorm(vmin=1e-3, vmax=1e-1)\n\nax1 = fig.add_axes([0.14, 0.17, 0.68, 0.7])\nmesh.plot_image(\n    plotting_map * conductivity_model, ax=ax1, grid=False, pcolor_opts={\"norm\": norm}\n)\nax1.set_xlim(-600, 600)\nax1.set_ylim(-600, 0)\nax1.set_title(\"Conductivity Model\")\nax1.set_xlabel(\"x (m)\")\nax1.set_ylabel(\"z (m)\")\n\nax2 = fig.add_axes([0.84, 0.17, 0.03, 0.7])\ncbar = mpl.colorbar.ColorbarBase(ax2, norm=norm, orientation=\"vertical\")\ncbar.set_label(r\"$\\sigma$ (S/m)\", rotation=270, labelpad=15, size=12)\n\nplt.show()"
      ]
    },
    {
      "cell_type": "markdown",
      "metadata": {},
      "source": [
        "## Project Survey to Discretized Topography\n\nIt is important that electrodes are not modeled as being in the air. Even if the\nelectrodes are properly located along surface topography, they may lie above\nthe discretized topography. This step is carried out to ensure all electrodes\nlie on the discretized surface.\n\n\n"
      ]
    },
    {
      "cell_type": "code",
      "execution_count": null,
      "metadata": {
        "collapsed": false
      },
      "outputs": [],
      "source": [
        "dc_survey.drape_electrodes_on_topography(mesh, ind_active, option=\"top\")"
      ]
    },
    {
      "cell_type": "markdown",
      "metadata": {},
      "source": [
        "## Predict DC Resistivity Data\n\nHere we predict DC resistivity data. If the keyword argument *sigmaMap* is\ndefined, the simulation will expect a conductivity model. If the keyword\nargument *rhoMap* is defined, the simulation will expect a resistivity model.\n\n\n"
      ]
    },
    {
      "cell_type": "code",
      "execution_count": null,
      "metadata": {
        "collapsed": false
      },
      "outputs": [],
      "source": [
        "dc_simulation = dc.Simulation2DNodal(\n    mesh, survey=dc_survey, sigmaMap=conductivity_map, solver=Solver\n)\n\n# Predict the data by running the simulation. The data are the raw voltage in\n# units of volts.\ndpred_dc = dc_simulation.dpred(conductivity_model)"
      ]
    },
    {
      "cell_type": "markdown",
      "metadata": {},
      "source": [
        "## Plotting DC Data in Pseudo-Section\n\nHere, we demonstrate how to plot 2D DC data in pseudo-section.\nFirst, we plot the voltages in pseudo-section as a scatter plot. This\nallows us to visualize the pseudo-sensitivity locations for our survey.\nNext, we plot the apparent conductivities in pseudo-section as a filled\ncontour plot.\n\n\n"
      ]
    },
    {
      "cell_type": "code",
      "execution_count": null,
      "metadata": {
        "collapsed": false
      },
      "outputs": [],
      "source": [
        "# Plot voltages pseudo-section\nfig = plt.figure(figsize=(12, 5))\nax1 = fig.add_axes([0.1, 0.15, 0.75, 0.78])\nplot_pseudosection(\n    dc_survey,\n    dpred_dc,\n    \"scatter\",\n    ax=ax1,\n    scale=\"log\",\n    cbar_label=\"V/A\",\n    scatter_opts={\"cmap\": mpl.cm.viridis},\n)\nax1.set_title(\"Normalized Voltages\")\nplt.show()\n\n# Get apparent conductivities from volts and survey geometry\napparent_conductivities = 1 / apparent_resistivity_from_voltage(dc_survey, dpred_dc)\n\n# Plot apparent conductivity pseudo-section\nfig = plt.figure(figsize=(12, 5))\nax1 = fig.add_axes([0.1, 0.15, 0.75, 0.78])\nplot_pseudosection(\n    dc_survey,\n    apparent_conductivities,\n    \"contourf\",\n    ax=ax1,\n    scale=\"log\",\n    cbar_label=\"S/m\",\n    mask_topography=True,\n    contourf_opts={\"levels\": 20, \"cmap\": mpl.cm.viridis},\n)\nax1.set_title(\"Apparent Conductivity\")\nplt.show()"
      ]
    },
    {
      "cell_type": "markdown",
      "metadata": {},
      "source": [
        "## Define IP Survey\n\nThe geometry of the survey was defined earlier. We will define the IP\ndata as apparent chargeability in V/V.\n\n\n"
      ]
    },
    {
      "cell_type": "code",
      "execution_count": null,
      "metadata": {
        "collapsed": false
      },
      "outputs": [],
      "source": [
        "# Generate source list for IP survey line\nip_data_type = \"apparent_chargeability\"\nsource_list = generate_dcip_sources_line(\n    survey_type,\n    ip_data_type,\n    dimension_type,\n    end_locations,\n    topo_xyz,\n    num_rx_per_src,\n    station_separation,\n)\n\n# Define survey\nip_survey = ip.survey.Survey(source_list, survey_type=survey_type)\n\n# Drape over discrete topography\nip_survey.drape_electrodes_on_topography(mesh, ind_active, option=\"top\")"
      ]
    },
    {
      "cell_type": "markdown",
      "metadata": {},
      "source": [
        "## Create Chargeability Model and Mapping for OcTree Mesh\n\nHere we define the chargeability model that will be used to predict IP data.\nHere we assume that the conductive sphere is also chargeable but the resistive\nsphere is not. Here, the chargeability is defined as mV/V.\n\n\n"
      ]
    },
    {
      "cell_type": "code",
      "execution_count": null,
      "metadata": {
        "collapsed": false
      },
      "outputs": [],
      "source": [
        "# Define chargeability model as intrinsic chargeability (V/V).\nair_chargeability = 0.0\nbackground_chargeability = 1e-6\nsphere_chargeability = 1e-1\n\n# Find active cells in forward modeling (cells below surface)\nind_active = active_from_xyz(mesh, topo_xyz[:, [0, 2]])\n\n# Define mapping from model to active cells\nnC = int(ind_active.sum())\nchargeability_map = maps.InjectActiveCells(mesh, ind_active, air_chargeability)\n\n# Define chargeability model\nchargeability_model = background_chargeability * np.ones(nC)\n\nind_chargeable = model_builder.getIndicesSphere(\n    np.r_[-120.0, -160.0], 60.0, mesh.gridCC\n)\nind_chargeable = ind_chargeable[ind_active]\nchargeability_model[ind_chargeable] = sphere_chargeability\n\n# Plot Chargeability Model\nfig = plt.figure(figsize=(9, 4))\n\nax1 = fig.add_axes([0.14, 0.17, 0.68, 0.7])\nmesh.plot_image(\n    plotting_map * chargeability_model,\n    ax=ax1,\n    grid=False,\n    clim=(background_chargeability, sphere_chargeability),\n    pcolor_opts={\"cmap\": mpl.cm.plasma},\n)\nax1.set_xlim(-600, 600)\nax1.set_ylim(-600, 0)\nax1.set_title(\"Intrinsic Chargeability\")\nax1.set_xlabel(\"x (m)\")\nax1.set_ylabel(\"z (m)\")\n\nax2 = fig.add_axes([0.84, 0.17, 0.03, 0.7])\nnorm = mpl.colors.Normalize(vmin=background_chargeability, vmax=sphere_chargeability)\ncbar = mpl.colorbar.ColorbarBase(\n    ax2, norm=norm, orientation=\"vertical\", cmap=mpl.cm.plasma\n)\ncbar.set_label(\"Intrinsic Chargeability (V/V)\", rotation=270, labelpad=15, size=12)\n\nplt.show()"
      ]
    },
    {
      "cell_type": "markdown",
      "metadata": {},
      "source": [
        "## Predict IP Data\n\nHere we use a chargeability model and a background conductivity/resistivity\nmodel to predict IP data.\n\n\n"
      ]
    },
    {
      "cell_type": "code",
      "execution_count": null,
      "metadata": {
        "collapsed": false
      },
      "outputs": [],
      "source": [
        "# We use the keyword argument *sigma* to define the background conductivity on\n# the mesh. We could use the keyword argument *rho* to accomplish the same thing\n# using a background resistivity model.\nsimulation_ip = ip.Simulation2DNodal(\n    mesh,\n    survey=ip_survey,\n    etaMap=chargeability_map,\n    sigma=conductivity_map * conductivity_model,\n    solver=Solver,\n)\n\n# Run forward simulation and predicted IP data. The data are the voltage (V)\ndpred_ip = simulation_ip.dpred(chargeability_model)"
      ]
    },
    {
      "cell_type": "markdown",
      "metadata": {},
      "source": [
        "## Plot 2D IP Data in Pseudosection\n\nWe want to plot apparent chargeability. To accomplish this, we must normalize the IP\nvoltage by the DC voltage. This is then multiplied by 1000 so that our\napparent chargeability is in units mV/V.\n\n"
      ]
    },
    {
      "cell_type": "code",
      "execution_count": null,
      "metadata": {
        "collapsed": false
      },
      "outputs": [],
      "source": [
        "fig = plt.figure(figsize=(12, 11))\n\n# Plot apparent conductivity\nax1 = fig.add_axes([0.1, 0.58, 0.7, 0.35])\ncax1 = fig.add_axes([0.82, 0.58, 0.025, 0.35])\nplot_pseudosection(\n    dc_survey,\n    apparent_conductivities,\n    \"contourf\",\n    ax=ax1,\n    cax=cax1,\n    scale=\"log\",\n    cbar_label=\"S/m\",\n    mask_topography=True,\n    contourf_opts={\"levels\": 20, \"cmap\": mpl.cm.viridis},\n)\nax1.set_title(\"Apparent Conductivity\")\n\n# Plot apparent chargeability\n\nax2 = fig.add_axes([0.1, 0.08, 0.7, 0.35])\ncax2 = fig.add_axes([0.82, 0.08, 0.025, 0.35])\nplot_pseudosection(\n    ip_survey,\n    dpred_ip,\n    \"contourf\",\n    ax=ax2,\n    cax=cax2,\n    scale=\"linear\",\n    cbar_label=\"V/V\",\n    mask_topography=True,\n    contourf_opts={\"levels\": 20, \"cmap\": mpl.cm.plasma},\n)\nax2.set_title(\"Apparent Chargeability (V/V)\")\n\nplt.show()"
      ]
    },
    {
      "cell_type": "markdown",
      "metadata": {},
      "source": [
        "## Write Outputs (Optional)\n\n\n"
      ]
    },
    {
      "cell_type": "code",
      "execution_count": null,
      "metadata": {
        "collapsed": false
      },
      "outputs": [],
      "source": [
        "if write_output:\n    dir_path = os.path.dirname(__file__).split(os.path.sep)\n    dir_path.extend([\"outputs\"])\n    dir_path = os.path.sep.join(dir_path) + os.path.sep\n\n    if not os.path.exists(dir_path):\n        os.mkdir(dir_path)\n\n    # Write topography\n    fname = dir_path + \"topo_xyz.txt\"\n    np.savetxt(fname, topo_xyz, fmt=\"%.4e\")\n\n    # Add 5% Gaussian noise to each DC datum\n    np.random.seed(225)\n    std = 0.05 * np.abs(dpred_dc)\n    dc_noise = std * np.random.rand(len(dpred_dc))\n    dobs = dpred_dc + dc_noise\n\n    # Create a survey with the original electrode locations\n    # and not the shifted ones\n    # Generate source list for DC survey line\n    source_list = generate_dcip_sources_line(\n        survey_type,\n        dc_data_type,\n        dimension_type,\n        end_locations,\n        topo_xyz,\n        num_rx_per_src,\n        station_separation,\n    )\n    dc_survey_original = dc.survey.Survey(source_list)\n\n    # Write out data at their original electrode locations (not shifted)\n    data_obj = data.Data(dc_survey_original, dobs=dobs, standard_deviation=std)\n    fname = dir_path + \"dc_data.obs\"\n    write_dcip2d_ubc(fname, data_obj, \"volt\", \"dobs\")\n\n    # Add Gaussian noise equal to 5e-3 V/V\n    std = 5e-3 * np.ones_like(dpred_ip)\n    ip_noise = std * np.random.rand(len(dpred_ip))\n    dobs = dpred_ip + ip_noise\n\n    # Create a survey with the original electrode locations\n    # and not the shifted ones\n    # Generate source list for DC survey line\n    source_list = generate_dcip_sources_line(\n        survey_type,\n        ip_data_type,\n        dimension_type,\n        end_locations,\n        topo_xyz,\n        num_rx_per_src,\n        station_separation,\n    )\n    ip_survey_original = dc.survey.Survey(source_list)\n\n    # Write out data at their original electrode locations (not shifted)\n    data_obj = data.Data(ip_survey_original, dobs=dobs, standard_deviation=std)\n    fname = dir_path + \"ip_data.obs\"\n    write_dcip2d_ubc(fname, data_obj, \"apparent_chargeability\", \"dobs\")"
      ]
    }
  ],
  "metadata": {
    "kernelspec": {
      "display_name": "Python 3",
      "language": "python",
      "name": "python3"
    },
    "language_info": {
      "codemirror_mode": {
        "name": "ipython",
        "version": 3
      },
      "file_extension": ".py",
      "mimetype": "text/x-python",
      "name": "python",
      "nbconvert_exporter": "python",
      "pygments_lexer": "ipython3",
      "version": "3.8.17"
    }
  },
  "nbformat": 4,
  "nbformat_minor": 0
}