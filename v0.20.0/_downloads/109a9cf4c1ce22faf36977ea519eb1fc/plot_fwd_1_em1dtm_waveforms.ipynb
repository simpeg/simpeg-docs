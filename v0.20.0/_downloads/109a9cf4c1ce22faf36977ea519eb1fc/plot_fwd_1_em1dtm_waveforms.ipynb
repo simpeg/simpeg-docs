{
  "cells": [
    {
      "cell_type": "markdown",
      "metadata": {},
      "source": [
        "\n# 1D Forward Simulation with User-Defined Waveforms\n\nFor time-domain electromagnetic problems, the response depends strongly on the\nsouce waveforms. In this tutorial, we construct a set of waveforms of different\ntypes and simulate the response for a halfspace. Many types of waveforms can\nbe constructed within *SimPEG.electromagnetics.time_domain_1d*. These include:\n\n    - the unit step off waveform\n    - a set of basic waveforms: rectangular, triangular, quarter sine, etc...\n    - a set of system-specific waveforms: SkyTEM, VTEM, GeoTEM, etc...\n    - fully customized waveforms\n"
      ]
    },
    {
      "cell_type": "markdown",
      "metadata": {},
      "source": [
        "## Import Modules\n\n\n"
      ]
    },
    {
      "cell_type": "code",
      "execution_count": null,
      "metadata": {
        "collapsed": false
      },
      "outputs": [],
      "source": [
        "import numpy as np\nimport matplotlib as mpl\nfrom matplotlib import pyplot as plt\n\nmpl.rcParams.update({\"font.size\": 16})\n\nfrom SimPEG import maps\nimport SimPEG.electromagnetics.time_domain as tdem"
      ]
    },
    {
      "cell_type": "markdown",
      "metadata": {},
      "source": [
        "## Define Waveforms\n\nHere, we define the set of waveforms that will be used to simulated the\nTEM response.\n\n\n"
      ]
    },
    {
      "cell_type": "code",
      "execution_count": null,
      "metadata": {
        "collapsed": false
      },
      "outputs": [],
      "source": [
        "# Unit stepoff waveform can be defined directly\nstepoff_waveform = tdem.sources.StepOffWaveform()\n\n# Rectangular waveform. The user may customize the waveform by setting the start\n# time, end time and on time amplitude for the current waveform.\neps = 1e-6\nramp_on = np.r_[-0.004, -0.004 + eps]\nramp_off = np.r_[-eps, 0.0]\nrectangular_waveform = tdem.sources.TrapezoidWaveform(\n    ramp_on=ramp_on, ramp_off=ramp_off\n)\n\n# Triangular waveform. The user may customize the waveform by setting the start\n# time, peak time, end time and peak amplitude for the current waveform.\neps = 1e-8\nstart_time = -0.02\npeak_time = -0.01\noff_time = 0.0\ntriangle_waveform = tdem.sources.TriangularWaveform(\n    start_time=start_time, peak_time=peak_time, off_time=off_time\n)\n\n# Quarter-sine ramp-off\nramp_on = np.r_[-0.02, -0.01]\nramp_off = np.r_[-0.01, 0.0]\nqs_waveform = tdem.sources.QuarterSineRampOnWaveform(ramp_on=ramp_on, ramp_off=ramp_off)\n\n\n# General waveform. This is a fully general way to define the waveform.\n# The use simply provides times and the current.\ndef custom_waveform(t, tmax):\n    out = np.cos(0.5 * np.pi * (t - tmax) / (tmax + 0.02))\n    out[t >= tmax] = 1 + (t[t >= tmax] - tmax) / tmax\n    return out\n\n\nwaveform_times = np.r_[np.linspace(-0.02, -0.011, 10), -np.logspace(-2, -6, 61), 0.0]\nwaveform_current = custom_waveform(waveform_times, -0.0055)\ngeneral_waveform = tdem.sources.PiecewiseLinearWaveform(\n    times=waveform_times, currents=waveform_current\n)"
      ]
    },
    {
      "cell_type": "markdown",
      "metadata": {},
      "source": [
        "## Plot the Waveforms\n\nHere, we plot the set of waveforms that are used in the simulation.\n\n\n"
      ]
    },
    {
      "cell_type": "code",
      "execution_count": null,
      "metadata": {
        "collapsed": false
      },
      "outputs": [],
      "source": [
        "fig = plt.figure(figsize=(8, 6))\nax = fig.add_axes([0.1, 0.1, 0.85, 0.8])\n\nax.plot(np.r_[-2e-2, 0.0, 1e-10, 1e-3], np.r_[1.0, 1.0, 0.0, 0.0], \"k\", lw=3)\nplotting_current = [rectangular_waveform.eval(t) for t in waveform_times]\nax.plot(waveform_times, plotting_current, \"r\", lw=2)\nplotting_current = [triangle_waveform.eval(t) for t in waveform_times]\nax.plot(waveform_times, plotting_current, \"b\", lw=2)\nplotting_current = [qs_waveform.eval(t) for t in waveform_times]\nax.plot(waveform_times, plotting_current, \"g\", lw=2)\nplotting_current = [general_waveform.eval(t) for t in waveform_times]\nax.plot(waveform_times, plotting_current, \"c\", lw=2)\n\nax.grid()\nax.set_xlim([waveform_times.min(), 1e-3])\nax.set_xlabel(\"Time (s)\")\nax.set_ylabel(\"Current (A)\")\nax.set_title(\"Waveforms\")\nax.legend(\n    [\"Step-off\", \"Rectangular\", \"Triangle\", \"Quarter-Sine\", \"General\"], loc=\"lower left\"\n)"
      ]
    },
    {
      "cell_type": "markdown",
      "metadata": {},
      "source": [
        "## Create Survey\n\nThe waveform is a property of the source. So for each waveform, we will need\nto define a separate source object. For simplicity, all sources will be\nhorizontal loops with a radius of 10 m.\n\n\n"
      ]
    },
    {
      "cell_type": "code",
      "execution_count": null,
      "metadata": {
        "collapsed": false
      },
      "outputs": [],
      "source": [
        "# Define a receiver list. In this case, we measure the vertical component of\n# db/dt. Thus we only have a single receiver in the list.\nreceiver_location = np.array([0.0, 0.0, 0.0])\nreceiver_orientation = \"z\"  # \"x\", \"y\" or \"z\"\ntimes = np.logspace(-4, -1, 41)  # time channels\n\nreceiver_list = [\n    tdem.receivers.PointMagneticFluxTimeDerivative(\n        receiver_location, times, orientation=receiver_orientation\n    )\n]\n\n# Source properties. If you defined the true waveform (not normalized), the current amplitude\n# should be set to 1. Otherwise you will be accounting for the maximum current\n# amplitude twice!!!\nsource_location = np.array([0.0, 0.0, 0.0])\nsource_radius = 10.0\ncurrent_amplitude = 1.0\n\nsource_list = []\n\n# Stepoff Waveform\nsource_list.append(\n    tdem.sources.CircularLoop(\n        receiver_list=receiver_list,\n        location=source_location,\n        waveform=stepoff_waveform,\n        radius=source_radius,\n        current=current_amplitude,\n    )\n)\n\n# Rectangular Waveform\nsource_list.append(\n    tdem.sources.CircularLoop(\n        receiver_list=receiver_list,\n        location=source_location,\n        waveform=rectangular_waveform,\n        radius=source_radius,\n        current=current_amplitude,\n    )\n)\n\n# Triangle Waveform\nsource_list.append(\n    tdem.sources.CircularLoop(\n        receiver_list=receiver_list,\n        location=source_location,\n        waveform=triangle_waveform,\n        radius=source_radius,\n        current=current_amplitude,\n    )\n)\n\n# Quarter-sine ramp-off Waveform\nsource_list.append(\n    tdem.sources.CircularLoop(\n        receiver_list=receiver_list,\n        location=source_location,\n        waveform=qs_waveform,\n        radius=source_radius,\n        current=current_amplitude,\n    )\n)\n\n# General Waveform\nsource_list.append(\n    tdem.sources.CircularLoop(\n        receiver_list=receiver_list,\n        location=source_location,\n        waveform=general_waveform,\n        radius=source_radius,\n        current=current_amplitude,\n    )\n)\n\n# Survey\nsurvey = tdem.Survey(source_list)"
      ]
    },
    {
      "cell_type": "markdown",
      "metadata": {},
      "source": [
        "## Defining a 1D Layered Earth Model\n\nHere, we define the layer thicknesses and electrical conductivities for our\n1D simulation. If we have N layers, we define N electrical conductivity\nvalues and N-1 layer thicknesses. The lowest layer is assumed to extend to\ninfinity.\n\n\n"
      ]
    },
    {
      "cell_type": "code",
      "execution_count": null,
      "metadata": {
        "collapsed": false
      },
      "outputs": [],
      "source": [
        "# Layer thicknesses\nthicknesses = np.array([40.0, 40.0])\nn_layer = len(thicknesses) + 1\n\n# half-space physical properties\nsigma = 1e-2\neta = 0.5\ntau = 0.01\nc = 0.5\nchi = 0.0\n\n# physical property models\nsigma_model = sigma * np.ones(n_layer)\neta_model = eta * np.ones(n_layer)\ntau_model = tau * np.ones(n_layer)\nc_model = c * np.ones(n_layer)\nmu0 = 4 * np.pi * 1e-7\nmu_model = mu0 * (1 + chi) * np.ones(n_layer)\n\n# Define a mapping for conductivities\nmodel_mapping = maps.IdentityMap(nP=n_layer)"
      ]
    },
    {
      "cell_type": "markdown",
      "metadata": {},
      "source": [
        "## Define the Forward Simulation and Predict Data\n\n\n"
      ]
    },
    {
      "cell_type": "code",
      "execution_count": null,
      "metadata": {
        "collapsed": false
      },
      "outputs": [],
      "source": [
        "# Define the simulation\nsimulation = tdem.Simulation1DLayered(\n    survey=survey, thicknesses=thicknesses, sigmaMap=model_mapping, mu=mu_model\n)\n\n# Predict data for a given model\ndpred = simulation.dpred(sigma_model)"
      ]
    },
    {
      "cell_type": "markdown",
      "metadata": {},
      "source": [
        "## Plotting Results\n\n\n"
      ]
    },
    {
      "cell_type": "code",
      "execution_count": null,
      "metadata": {
        "collapsed": false
      },
      "outputs": [],
      "source": [
        "fig = plt.figure(figsize=(8, 8))\nd = np.reshape(dpred, (len(source_list), len(times))).T\nax = fig.add_axes([0.15, 0.15, 0.8, 0.75])\ncolorlist = [\"k\", \"b\", \"r\", \"g\", \"c\"]\nfor ii, k in enumerate(colorlist):\n    ax.loglog(times, np.abs(d[:, ii]), k, lw=2)\n\nax.set_xlim([times.min(), times.max()])\nax.grid()\nax.legend([\"Step-off\", \"Rectangular\", \"Triangle\", \"Quarter-Sine\", \"General\"])\nax.set_xlabel(\"Times (s)\")\nax.set_ylabel(\"|dB/dt| (T/s)\")\nax.set_title(\"TEM Response\")"
      ]
    }
  ],
  "metadata": {
    "kernelspec": {
      "display_name": "Python 3",
      "language": "python",
      "name": "python3"
    },
    "language_info": {
      "codemirror_mode": {
        "name": "ipython",
        "version": 3
      },
      "file_extension": ".py",
      "mimetype": "text/x-python",
      "name": "python",
      "nbconvert_exporter": "python",
      "pygments_lexer": "ipython3",
      "version": "3.8.17"
    }
  },
  "nbformat": 4,
  "nbformat_minor": 0
}