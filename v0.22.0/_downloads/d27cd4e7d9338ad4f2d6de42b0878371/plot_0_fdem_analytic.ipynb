{
  "cells": [
    {
      "cell_type": "markdown",
      "metadata": {},
      "source": [
        "\n# Simulation with Analytic FDEM Solutions\n\nHere, the module *simpeg.electromagnetics.analytics.FDEM* is used to simulate\nharmonic electric and magnetic field for both electric and magnetic dipole\nsources in a wholespace.\n"
      ]
    },
    {
      "cell_type": "markdown",
      "metadata": {},
      "source": [
        "## Import modules\n\n\n"
      ]
    },
    {
      "cell_type": "code",
      "execution_count": null,
      "metadata": {
        "collapsed": false
      },
      "outputs": [],
      "source": [
        "import numpy as np\nfrom simpeg import utils\nfrom simpeg.electromagnetics.analytics.FDEM import (\n    ElectricDipoleWholeSpace,\n    MagneticDipoleWholeSpace,\n)\n\nimport matplotlib.pyplot as plt\nfrom matplotlib.colors import LogNorm"
      ]
    },
    {
      "cell_type": "markdown",
      "metadata": {},
      "source": [
        "## Magnetic Fields for a Magnetic Dipole Source\n\nHere, we compute the magnetic fields for a harmonic magnetic dipole\nsource in the z direction. Based on the geometry of the problem, we\nexpect magnetic fields in the x and z directions, but none in the y\ndirection.\n\n\n"
      ]
    },
    {
      "cell_type": "code",
      "execution_count": null,
      "metadata": {
        "collapsed": false
      },
      "outputs": [],
      "source": [
        "# Defining electric dipole location and frequency\nsource_location = np.r_[0, 0, 0]\nfrequency = 1e3\n\n# Defining observation locations (avoid placing observation at source)\nx = np.arange(-100.5, 100.5, step=1.0)\ny = np.r_[0]\nz = x\nobservation_locations = utils.ndgrid(x, y, z)\n\n# Define wholespace conductivity\nsig = 1e-2\n\n# Compute the fields\nHx, Hy, Hz = MagneticDipoleWholeSpace(\n    observation_locations,\n    source_location,\n    sig,\n    frequency,\n    moment=\"Z\",\n    fieldType=\"h\",\n    mu_r=1,\n    eps_r=1,\n)\n\n# Plot\nfig = plt.figure(figsize=(14, 5))\n\nhxplt = Hx.reshape(x.size, z.size)\nhzplt = Hz.reshape(x.size, z.size)\n\nax1 = fig.add_subplot(121)\nabsH = np.sqrt(Hx.real**2 + Hy.real**2 + Hz.real**2)\npc1 = ax1.pcolor(x, z, absH.reshape(x.size, z.size), norm=LogNorm())\nax1.streamplot(x, z, hxplt.real, hzplt.real, color=\"k\", density=1)\nax1.set_xlim([x.min(), x.max()])\nax1.set_ylim([z.min(), z.max()])\nax1.set_title(\"Real Component\")\nax1.set_xlabel(\"x\")\nax1.set_ylabel(\"z\")\ncb1 = plt.colorbar(pc1, ax=ax1)\ncb1.set_label(\"Re[H] (A/m)\")\n\nax2 = fig.add_subplot(122)\nabsH = np.sqrt(Hx.imag**2 + Hy.imag**2 + Hz.imag**2)\npc2 = ax2.pcolor(x, z, absH.reshape(x.size, z.size), norm=LogNorm())\nax2.streamplot(x, z, hxplt.imag, hzplt.imag, color=\"k\", density=1)\nax2.set_xlim([x.min(), x.max()])\nax2.set_ylim([z.min(), z.max()])\nax2.set_title(\"Imaginary Component\")\nax2.set_xlabel(\"x\")\nax2.set_ylabel(\"z\")\ncb2 = plt.colorbar(pc2, ax=ax2)\ncb2.set_label(\"Im[H] (A/m)\")"
      ]
    },
    {
      "cell_type": "markdown",
      "metadata": {},
      "source": [
        "## Electric Fields for a Magnetic Dipole Source\n\nHere, we compute the electric fields for a harmonic magnetic dipole\nsource in the y direction. Based on the geometry of the problem, we\nexpect rotational electric fields in the x and z directions, but none in the y\ndirection.\n\n\n"
      ]
    },
    {
      "cell_type": "code",
      "execution_count": null,
      "metadata": {
        "collapsed": false
      },
      "outputs": [],
      "source": [
        "# Defining electric dipole location and frequency\nsource_location = np.r_[0, 0, 0]\nfrequency = 1e3\n\n# Defining observation locations (avoid placing observation at source)\nx = np.arange(-100.5, 100.5, step=1.0)\ny = np.r_[0]\nz = x\nobservation_locations = utils.ndgrid(x, y, z)\n\n# Define wholespace conductivity\nsig = 1e-2\n\n# Predict the fields\nEx, Ey, Ez = MagneticDipoleWholeSpace(\n    observation_locations,\n    source_location,\n    sig,\n    frequency,\n    moment=\"Y\",\n    fieldType=\"e\",\n    mu_r=1,\n    eps_r=1,\n)\n\n# Plot\nfig = plt.figure(figsize=(14, 5))\n\nexplt = Ex.reshape(x.size, z.size)\nezplt = Ez.reshape(x.size, z.size)\n\nax1 = fig.add_subplot(121)\nabsE = np.sqrt(Ex.real**2 + Ey.real**2 + Ez.real**2)\npc1 = ax1.pcolor(x, z, absE.reshape(x.size, z.size), norm=LogNorm())\nax1.streamplot(x, z, explt.real, ezplt.real, color=\"k\", density=1)\nax1.set_xlim([x.min(), x.max()])\nax1.set_ylim([z.min(), z.max()])\nax1.set_title(\"Real Component\")\nax1.set_xlabel(\"x\")\nax1.set_ylabel(\"z\")\ncb1 = plt.colorbar(pc1, ax=ax1)\ncb1.set_label(\"Re[E] (V/m)\")\n\nax2 = fig.add_subplot(122)\nabsE = np.sqrt(Ex.imag**2 + Ey.imag**2 + Ez.imag**2)\npc2 = ax2.pcolor(x, z, absE.reshape(x.size, z.size), norm=LogNorm())\nax2.streamplot(x, z, explt.imag, ezplt.imag, color=\"k\", density=1)\nax2.set_xlim([x.min(), x.max()])\nax2.set_ylim([z.min(), z.max()])\nax2.set_title(\"Imaginary Component\")\nax2.set_xlabel(\"x\")\nax2.set_ylabel(\"z\")\ncb2 = plt.colorbar(pc2, ax=ax2)\ncb2.set_label(\"Im[E] (V/m)\")"
      ]
    },
    {
      "cell_type": "markdown",
      "metadata": {},
      "source": [
        "## Electric Field from a Harmonic Electric Current Dipole Source\n\nHere, we compute the electric fields for a harmonic electric current dipole\nsource in the z direction. Based on the geometry of the problem, we\nexpect electric fields in the x and z directions, but none in the y\ndirection.\n\n\n"
      ]
    },
    {
      "cell_type": "code",
      "execution_count": null,
      "metadata": {
        "collapsed": false
      },
      "outputs": [],
      "source": [
        "# Defining electric dipole location and frequency\nsource_location = np.r_[0, 0, 0]\nfrequency = 1e3\n\n# Defining observation locations (avoid placing observation at source)\nx = np.arange(-100.5, 100.5, step=1.0)\ny = np.r_[0]\nz = x\nobservation_locations = utils.ndgrid(x, y, z)\n\n# Define wholespace conductivity\nsig = 1e-2\n\n# Predict the fields\nEx, Ey, Ez = ElectricDipoleWholeSpace(\n    observation_locations,\n    source_location,\n    sig,\n    frequency,\n    moment=[0, 0, 1],\n    fieldType=\"e\",\n    mu_r=1,\n    eps_r=1,\n)\n\n# Plot\nfig = plt.figure(figsize=(14, 5))\n\nexplt = Ex.reshape(x.size, z.size)\nezplt = Ez.reshape(x.size, z.size)\n\nax1 = fig.add_subplot(121)\nabsE = np.sqrt(Ex.real**2 + Ey.real**2 + Ez.real**2)\npc1 = ax1.pcolor(x, z, absE.reshape(x.size, z.size), norm=LogNorm())\nax1.streamplot(x, z, explt.real, ezplt.real, color=\"k\", density=1)\nax1.set_xlim([x.min(), x.max()])\nax1.set_ylim([z.min(), z.max()])\nax1.set_title(\"Real Component\")\nax1.set_xlabel(\"x\")\nax1.set_ylabel(\"z\")\ncb1 = plt.colorbar(pc1, ax=ax1)\ncb1.set_label(\"Re[E] (V/m)\")\n\nax2 = fig.add_subplot(122)\nabsE = np.sqrt(Ex.imag**2 + Ey.imag**2 + Ez.imag**2)\npc2 = ax2.pcolor(x, z, absE.reshape(x.size, z.size), norm=LogNorm())\nax2.streamplot(x, z, explt.imag, ezplt.imag, color=\"k\", density=1)\nax2.set_xlim([x.min(), x.max()])\nax2.set_ylim([z.min(), z.max()])\nax2.set_title(\"Imaginary Component\")\nax2.set_xlabel(\"x\")\nax2.set_ylabel(\"z\")\ncb2 = plt.colorbar(pc2, ax=ax2)\ncb2.set_label(\"Im[E] (V/m)\")"
      ]
    },
    {
      "cell_type": "markdown",
      "metadata": {},
      "source": [
        "## Magnetic Field from a Harmonic Electric Dipole Source\n\nHere, we compute the magnetic fields for a harmonic electric current dipole\nsource in the y direction. Based on the geometry of the problem, we\nexpect rotational magnetic fields in the x and z directions, but no fields\nin the y direction.\n\n\n"
      ]
    },
    {
      "cell_type": "code",
      "execution_count": null,
      "metadata": {
        "collapsed": false
      },
      "outputs": [],
      "source": [
        "# Defining electric dipole location and frequency\nsource_location = np.r_[0, 0, 0]\nfrequency = 1e3\n\n# Defining observation locations (avoid placing observation at source)\nx = np.arange(-100.5, 100.5, step=1.0)\ny = np.r_[0]\nz = x\nobservation_locations = utils.ndgrid(x, y, z)\n\n# Define wholespace conductivity\nsig = 1e-2\n\n# Predict the fields\nHx, Hy, Hz = ElectricDipoleWholeSpace(\n    observation_locations,\n    source_location,\n    sig,\n    frequency,\n    moment=[0, 1, 0],\n    fieldType=\"h\",\n    mu_r=1,\n    eps_r=1,\n)\n\n# Plot\nfig = plt.figure(figsize=(14, 5))\n\nhxplt = Hx.reshape(x.size, z.size)\nhzplt = Hz.reshape(x.size, z.size)\n\nax1 = fig.add_subplot(121)\nabsH = np.sqrt(Hx.real**2 + Hy.real**2 + Hz.real**2)\npc1 = ax1.pcolor(x, z, absH.reshape(x.size, z.size), norm=LogNorm())\nax1.streamplot(x, z, hxplt.real, hzplt.real, color=\"k\", density=1)\nax1.set_xlim([x.min(), x.max()])\nax1.set_ylim([z.min(), z.max()])\nax1.set_title(\"Real Component\")\nax1.set_xlabel(\"x\")\nax1.set_ylabel(\"z\")\ncb1 = plt.colorbar(pc1, ax=ax1)\ncb1.set_label(\"Re[H] (A/m)\")\n\nax2 = fig.add_subplot(122)\nabsH = np.sqrt(Hx.imag**2 + Hy.imag**2 + Hz.imag**2)\npc2 = ax2.pcolor(x, z, absH.reshape(x.size, z.size), norm=LogNorm())\nax2.streamplot(x, z, hxplt.imag, hzplt.imag, color=\"k\", density=1)\nax2.set_xlim([x.min(), x.max()])\nax2.set_ylim([z.min(), z.max()])\nax2.set_title(\"Imaginary Component\")\nax2.set_xlabel(\"x\")\nax2.set_ylabel(\"z\")\ncb2 = plt.colorbar(pc2, ax=ax2)\ncb2.set_label(\"Im[H] (A/m)\")"
      ]
    }
  ],
  "metadata": {
    "kernelspec": {
      "display_name": "Python 3",
      "language": "python",
      "name": "python3"
    },
    "language_info": {
      "codemirror_mode": {
        "name": "ipython",
        "version": 3
      },
      "file_extension": ".py",
      "mimetype": "text/x-python",
      "name": "python",
      "nbconvert_exporter": "python",
      "pygments_lexer": "ipython3",
      "version": "3.8.19"
    }
  },
  "nbformat": 4,
  "nbformat_minor": 0
}