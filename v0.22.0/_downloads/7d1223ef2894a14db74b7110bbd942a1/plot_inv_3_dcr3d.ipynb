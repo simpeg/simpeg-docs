{
  "cells": [
    {
      "cell_type": "markdown",
      "metadata": {},
      "source": [
        "\n# 3D Least-Squares Inversion of DC Resistivity Data\n\nHere we invert 5 lines of DC data to recover an electrical\nconductivity model. We formulate the corresponding\ninverse problem as a least-squares optimization problem.\nFor this tutorial, we focus on the following:\n\n    - Generating a mesh based on survey geometry\n    - Including surface topography\n    - Defining the inverse problem (data misfit, regularization, directives)\n    - Applying sensitivity weighting\n    - Plotting the recovered model and data misfit\n\nThe DC data are measured voltages normalized by the source current in V/A.\n"
      ]
    },
    {
      "cell_type": "markdown",
      "metadata": {},
      "source": [
        "## Import Modules\n\n\n"
      ]
    },
    {
      "cell_type": "code",
      "execution_count": null,
      "metadata": {
        "collapsed": false
      },
      "outputs": [],
      "source": [
        "import os\nimport numpy as np\nimport matplotlib as mpl\nimport matplotlib.pyplot as plt\nimport tarfile\n\nfrom discretize import TreeMesh\nfrom discretize.utils import refine_tree_xyz, active_from_xyz\n\nfrom simpeg.utils import model_builder\nfrom simpeg.utils.io_utils.io_utils_electromagnetics import read_dcip_xyz\nfrom simpeg import (\n    maps,\n    data_misfit,\n    regularization,\n    optimization,\n    inverse_problem,\n    inversion,\n    directives,\n    utils,\n)\nfrom simpeg.electromagnetics.static import resistivity as dc\nfrom simpeg.electromagnetics.static.utils.static_utils import (\n    apparent_resistivity_from_voltage,\n)\n\n# To plot DC/IP data in 3D, the user must have the plotly package\ntry:\n    import plotly\n    from simpeg.electromagnetics.static.utils.static_utils import plot_3d_pseudosection\n\n    has_plotly = True\nexcept ImportError:\n    has_plotly = False\n    pass\n\ntry:\n    from pymatsolver import Pardiso as Solver\nexcept ImportError:\n    from simpeg import SolverLU as Solver\n\nmpl.rcParams.update({\"font.size\": 16})\n\n# sphinx_gallery_thumbnail_number = 3"
      ]
    },
    {
      "cell_type": "markdown",
      "metadata": {},
      "source": [
        "## Download Assets\n\nHere we provide the file paths to assets we need to run the inversion. The\npath to the true model conductivity and chargeability models are also\nprovided for comparison with the inversion results. These files are stored as a\ntar-file on our google cloud bucket:\n\"https://storage.googleapis.com/simpeg/doc-assets/dcr3d.tar.gz\"\n\n\n\n\n"
      ]
    },
    {
      "cell_type": "code",
      "execution_count": null,
      "metadata": {
        "collapsed": false
      },
      "outputs": [],
      "source": [
        "# storage bucket where we have the data\ndata_source = \"https://storage.googleapis.com/simpeg/doc-assets/dcr3d.tar.gz\"\n\n# download the data\ndownloaded_data = utils.download(data_source, overwrite=True)\n\n# unzip the tarfile\ntar = tarfile.open(downloaded_data, \"r\")\ntar.extractall()\ntar.close()\n\n# path to the directory containing our data\ndir_path = downloaded_data.split(\".\")[0] + os.path.sep\n\n# files to work with\ntopo_filename = dir_path + \"topo_xyz.txt\"\ndc_data_filename = dir_path + \"dc_data.xyz\""
      ]
    },
    {
      "cell_type": "markdown",
      "metadata": {},
      "source": [
        "## Load Data and Topography\n\nHere we load the observed data and topography.\n\n\n\n"
      ]
    },
    {
      "cell_type": "code",
      "execution_count": null,
      "metadata": {
        "collapsed": false
      },
      "outputs": [],
      "source": [
        "topo_xyz = np.loadtxt(str(topo_filename))\n\ndc_data = read_dcip_xyz(\n    dc_data_filename,\n    \"volt\",\n    data_header=\"V/A\",\n    uncertainties_header=\"UNCERT\",\n    is_surface_data=False,\n)"
      ]
    },
    {
      "cell_type": "markdown",
      "metadata": {},
      "source": [
        "## Plot Observed Data in Pseudosection\n\nHere we plot the observed DC and IP data in 3D pseudosections.\nTo use this utility, you must have Python's *plotly* package.\nHere, we represent the DC data as apparent conductivities\nand the IP data as apparent chargeabilities.\n\n\n"
      ]
    },
    {
      "cell_type": "code",
      "execution_count": null,
      "metadata": {
        "collapsed": false
      },
      "outputs": [],
      "source": [
        "# Convert predicted data to apparent conductivities\napparent_conductivity = 1 / apparent_resistivity_from_voltage(\n    dc_data.survey,\n    dc_data.dobs,\n)\n\nif has_plotly:\n    fig = plot_3d_pseudosection(\n        dc_data.survey,\n        apparent_conductivity,\n        scale=\"log\",\n        units=\"S/m\",\n        plane_distance=15,\n    )\n\n    fig.update_layout(\n        title_text=\"Apparent Conductivity\",\n        title_x=0.5,\n        title_font_size=24,\n        width=650,\n        height=500,\n        scene_camera=dict(\n            center=dict(x=0, y=0, z=-0.4), eye=dict(x=1.5, y=-1.5, z=1.8)\n        ),\n    )\n\n    plotly.io.show(fig)\n\nelse:\n    print(\"INSTALL 'PLOTLY' TO VISUALIZE 3D PSEUDOSECTIONS\")"
      ]
    },
    {
      "cell_type": "markdown",
      "metadata": {},
      "source": [
        "## Assign Uncertainties\n\nInversion with SimPEG requires that we define the uncertainties on our data.\nThis represents our estimate of the standard deviation of the\nnoise in our data. For DC data, the uncertainties are 10% of the absolute value.\n\n\n\n"
      ]
    },
    {
      "cell_type": "code",
      "execution_count": null,
      "metadata": {
        "collapsed": false
      },
      "outputs": [],
      "source": [
        "dc_data.standard_deviation = 0.1 * np.abs(dc_data.dobs)"
      ]
    },
    {
      "cell_type": "markdown",
      "metadata": {},
      "source": [
        "## Create Tree Mesh\n\nHere, we create the Tree mesh that will be used to invert\nDC data.\n\n\n"
      ]
    },
    {
      "cell_type": "code",
      "execution_count": null,
      "metadata": {
        "collapsed": false
      },
      "outputs": [],
      "source": [
        "dh = 25.0  # base cell width\ndom_width_x = 6000.0  # domain width x\ndom_width_y = 6000.0  # domain width y\ndom_width_z = 4000.0  # domain width z\nnbcx = 2 ** int(np.round(np.log(dom_width_x / dh) / np.log(2.0)))  # num. base cells x\nnbcy = 2 ** int(np.round(np.log(dom_width_y / dh) / np.log(2.0)))  # num. base cells y\nnbcz = 2 ** int(np.round(np.log(dom_width_z / dh) / np.log(2.0)))  # num. base cells z\n\n# Define the base mesh\nhx = [(dh, nbcx)]\nhy = [(dh, nbcy)]\nhz = [(dh, nbcz)]\nmesh = TreeMesh([hx, hy, hz], x0=\"CCN\")\n\n# Mesh refinement based on topography\nk = np.sqrt(np.sum(topo_xyz[:, 0:2] ** 2, axis=1)) < 1200\nmesh = refine_tree_xyz(\n    mesh, topo_xyz[k, :], octree_levels=[0, 6, 8], method=\"surface\", finalize=False\n)\n\n# Mesh refinement near sources and receivers.\nelectrode_locations = np.r_[\n    dc_data.survey.locations_a,\n    dc_data.survey.locations_b,\n    dc_data.survey.locations_m,\n    dc_data.survey.locations_n,\n]\nunique_locations = np.unique(electrode_locations, axis=0)\nmesh = refine_tree_xyz(\n    mesh, unique_locations, octree_levels=[4, 6, 4], method=\"radial\", finalize=False\n)\n\n# Finalize the mesh\nmesh.finalize()"
      ]
    },
    {
      "cell_type": "markdown",
      "metadata": {},
      "source": [
        "## Project Electrodes to Discretized Topography\n\nIt is important that electrodes are not modeled as being in the air. Even if the\nelectrodes are properly located along surface topography, they may lie above\nthe discretized topography. This step is carried out to ensure all electrodes\nlie on the discretized surface.\n\n\n"
      ]
    },
    {
      "cell_type": "code",
      "execution_count": null,
      "metadata": {
        "collapsed": false
      },
      "outputs": [],
      "source": [
        "# Find cells that lie below surface topography\nind_active = active_from_xyz(mesh, topo_xyz)\n\n# Extract survey from data object\ndc_survey = dc_data.survey\n\n# Shift electrodes to the surface of discretized topography\ndc_survey.drape_electrodes_on_topography(mesh, ind_active, option=\"top\")\n\n# Reset survey in data object\ndc_data.survey = dc_survey"
      ]
    },
    {
      "cell_type": "markdown",
      "metadata": {},
      "source": [
        "## Starting/Reference Model and Mapping on OcTree Mesh\n\nHere, we create starting and/or reference models for the DC inversion as\nwell as the mapping from the model space to the active cells. Starting and\nreference models can be a constant background value or contain a-priori\nstructures. Here, the starting model is the natural log of 0.01 S/m.\n\n\n\n"
      ]
    },
    {
      "cell_type": "code",
      "execution_count": null,
      "metadata": {
        "collapsed": false
      },
      "outputs": [],
      "source": [
        "# Define conductivity model in S/m (or resistivity model in Ohm m)\nair_conductivity = np.log(1e-8)\nbackground_conductivity = np.log(1e-2)\n\n# Define the mapping from active cells to the entire domain\nactive_map = maps.InjectActiveCells(mesh, ind_active, np.exp(air_conductivity))\nnC = int(ind_active.sum())\n\n# Define the mapping from the model to the conductivity of the entire domain\nconductivity_map = active_map * maps.ExpMap()\n\n# Define starting model\nstarting_conductivity_model = background_conductivity * np.ones(nC)"
      ]
    },
    {
      "cell_type": "markdown",
      "metadata": {},
      "source": [
        "## Define the Physics of the DC Simulation\n\nHere, we define the physics of the DC resistivity simulation.\n\n\n\n"
      ]
    },
    {
      "cell_type": "code",
      "execution_count": null,
      "metadata": {
        "collapsed": false
      },
      "outputs": [],
      "source": [
        "dc_simulation = dc.simulation.Simulation3DNodal(\n    mesh, survey=dc_survey, sigmaMap=conductivity_map, solver=Solver, storeJ=True\n)"
      ]
    },
    {
      "cell_type": "markdown",
      "metadata": {},
      "source": [
        "## Define DC Inverse Problem\n\nThe inverse problem is defined by 3 things:\n\n    1) Data Misfit: a measure of how well our recovered model explains the field data\n    2) Regularization: constraints placed on the recovered model and a priori information\n    3) Optimization: the numerical approach used to solve the inverse problem\n\n\n\n"
      ]
    },
    {
      "cell_type": "code",
      "execution_count": null,
      "metadata": {
        "collapsed": false
      },
      "outputs": [],
      "source": [
        "# Define the data misfit. Here the data misfit is the L2 norm of the weighted\n# residual between the observed data and the data predicted for a given model.\n# Within the data misfit, the residual between predicted and observed data are\n# normalized by the data's standard deviation.\ndc_data_misfit = data_misfit.L2DataMisfit(data=dc_data, simulation=dc_simulation)\n\n# Define the regularization (model objective function)\ndc_regularization = regularization.WeightedLeastSquares(\n    mesh,\n    active_cells=ind_active,\n    reference_model=starting_conductivity_model,\n)\n\ndc_regularization.reference_model_in_smooth = (\n    True  # Include reference model in smoothness\n)\n\n# Define how the optimization problem is solved.\ndc_optimization = optimization.InexactGaussNewton(\n    maxIter=15, maxIterLS=20, maxIterCG=30, tolCG=1e-2\n)\n\n# Here we define the inverse problem that is to be solved\ndc_inverse_problem = inverse_problem.BaseInvProblem(\n    dc_data_misfit, dc_regularization, dc_optimization\n)"
      ]
    },
    {
      "cell_type": "markdown",
      "metadata": {},
      "source": [
        "## Define DC Inversion Directives\n\nHere we define any directives that are carried out during the inversion. This\nincludes the cooling schedule for the trade-off parameter (beta), stopping\ncriteria for the inversion and saving inversion results at each iteration.\n\n\n\n"
      ]
    },
    {
      "cell_type": "code",
      "execution_count": null,
      "metadata": {
        "collapsed": false
      },
      "outputs": [],
      "source": [
        "# Apply and update sensitivity weighting as the model updates\nupdate_sensitivity_weighting = directives.UpdateSensitivityWeights()\n\n# Defining a starting value for the trade-off parameter (beta) between the data\n# misfit and the regularization.\nstarting_beta = directives.BetaEstimate_ByEig(beta0_ratio=1e1)\n\n# Set the rate of reduction in trade-off parameter (beta) each time the\n# the inverse problem is solved. And set the number of Gauss-Newton iterations\n# for each trade-off paramter value.\nbeta_schedule = directives.BetaSchedule(coolingFactor=2.5, coolingRate=2)\n\n# Options for outputting recovered models and predicted data for each beta.\nsave_iteration = directives.SaveOutputEveryIteration(save_txt=False)\n\n# Setting a stopping criteria for the inversion.\ntarget_misfit = directives.TargetMisfit(chifact=1)\n\n# Apply and update preconditioner as the model updates\nupdate_jacobi = directives.UpdatePreconditioner()\n\ndirectives_list = [\n    update_sensitivity_weighting,\n    starting_beta,\n    beta_schedule,\n    save_iteration,\n    target_misfit,\n    update_jacobi,\n]"
      ]
    },
    {
      "cell_type": "markdown",
      "metadata": {},
      "source": [
        "## Running the DC Inversion\n\nTo define the inversion object, we need to define the inversion problem and\nthe set of directives. We can then run the inversion.\n\n\n"
      ]
    },
    {
      "cell_type": "code",
      "execution_count": null,
      "metadata": {
        "collapsed": false
      },
      "outputs": [],
      "source": [
        "# Here we combine the inverse problem and the set of directives\ndc_inversion = inversion.BaseInversion(\n    dc_inverse_problem, directiveList=directives_list\n)\n\n# Run inversion\nrecovered_conductivity_model = dc_inversion.run(starting_conductivity_model)"
      ]
    },
    {
      "cell_type": "markdown",
      "metadata": {},
      "source": [
        "## Recreate True Conductivity Model\n\n\n"
      ]
    },
    {
      "cell_type": "code",
      "execution_count": null,
      "metadata": {
        "collapsed": false
      },
      "outputs": [],
      "source": [
        "# Define conductivity model in S/m (or resistivity model in Ohm m)\nbackground_value = 1e-2\nconductor_value = 1e-1\nresistor_value = 1e-3\n\n# Define model\ntrue_conductivity_model = background_value * np.ones(nC)\n\nind_conductor = model_builder.get_indices_sphere(\n    np.r_[-350.0, 0.0, -300.0], 160.0, mesh.cell_centers[ind_active, :]\n)\ntrue_conductivity_model[ind_conductor] = conductor_value\n\nind_resistor = model_builder.get_indices_sphere(\n    np.r_[350.0, 0.0, -300.0], 160.0, mesh.cell_centers[ind_active, :]\n)\ntrue_conductivity_model[ind_resistor] = resistor_value\ntrue_conductivity_model_log10 = np.log10(true_conductivity_model)"
      ]
    },
    {
      "cell_type": "markdown",
      "metadata": {},
      "source": [
        "## Plotting True and Recovered Conductivity Model\n\n\n"
      ]
    },
    {
      "cell_type": "code",
      "execution_count": null,
      "metadata": {
        "collapsed": false
      },
      "outputs": [],
      "source": [
        "# Plot True Model\nfig = plt.figure(figsize=(10, 4))\n\nplotting_map = maps.InjectActiveCells(mesh, ind_active, np.nan)\n\nax1 = fig.add_axes([0.15, 0.15, 0.67, 0.75])\nmesh.plot_slice(\n    plotting_map * true_conductivity_model_log10,\n    ax=ax1,\n    normal=\"Y\",\n    ind=int(len(mesh.h[1]) / 2),\n    grid=False,\n    clim=(true_conductivity_model_log10.min(), true_conductivity_model_log10.max()),\n    pcolor_opts={\"cmap\": mpl.cm.viridis},\n)\nax1.set_title(\"True Conductivity Model\")\nax1.set_xlabel(\"x (m)\")\nax1.set_ylabel(\"z (m)\")\nax1.set_xlim([-1000, 1000])\nax1.set_ylim([-1000, 0])\n\nax2 = fig.add_axes([0.84, 0.15, 0.03, 0.75])\nnorm = mpl.colors.Normalize(\n    vmin=true_conductivity_model_log10.min(), vmax=true_conductivity_model_log10.max()\n)\ncbar = mpl.colorbar.ColorbarBase(\n    ax2, cmap=mpl.cm.viridis, norm=norm, orientation=\"vertical\", format=\"$10^{%.1f}$\"\n)\ncbar.set_label(\"Conductivity [S/m]\", rotation=270, labelpad=15, size=12)\n\n# Plot recovered model\nrecovered_conductivity_model_log10 = np.log10(np.exp(recovered_conductivity_model))\n\nfig = plt.figure(figsize=(10, 4))\n\nax1 = fig.add_axes([0.15, 0.15, 0.67, 0.75])\nmesh.plot_slice(\n    plotting_map * recovered_conductivity_model_log10,\n    ax=ax1,\n    normal=\"Y\",\n    ind=int(len(mesh.h[1]) / 2),\n    grid=False,\n    clim=(true_conductivity_model_log10.min(), true_conductivity_model_log10.max()),\n    pcolor_opts={\"cmap\": mpl.cm.viridis},\n)\nax1.set_title(\"Recovered Conductivity Model\")\nax1.set_xlabel(\"x (m)\")\nax1.set_ylabel(\"z (m)\")\nax1.set_xlim([-1000, 1000])\nax1.set_ylim([-1000, 0])\n\nax2 = fig.add_axes([0.84, 0.15, 0.03, 0.75])\nnorm = mpl.colors.Normalize(\n    vmin=true_conductivity_model_log10.min(), vmax=true_conductivity_model_log10.max()\n)\ncbar = mpl.colorbar.ColorbarBase(\n    ax2, cmap=mpl.cm.viridis, norm=norm, orientation=\"vertical\", format=\"$10^{%.1f}$\"\n)\ncbar.set_label(\"Conductivity [S/m]\", rotation=270, labelpad=15, size=12)\nplt.show()"
      ]
    },
    {
      "cell_type": "markdown",
      "metadata": {},
      "source": [
        "## Plotting Normalized Data Misfit or Predicted DC Data\n\nTo see how well the recovered model reproduces the observed data,\nit is a good idea to compare the predicted and observed data.\nHere, we accomplish this by plotting the normalized misfit.\n\n\n"
      ]
    },
    {
      "cell_type": "code",
      "execution_count": null,
      "metadata": {
        "collapsed": false
      },
      "outputs": [],
      "source": [
        "# Predicted data from recovered model\ndpred_dc = dc_inverse_problem.dpred\n\n# Compute the normalized data misfit\ndc_normalized_misfit = (dc_data.dobs - dpred_dc) / dc_data.standard_deviation\n\nif has_plotly:\n    # Plot IP Data\n    fig = plot_3d_pseudosection(\n        dc_data.survey,\n        dc_normalized_misfit,\n        scale=\"linear\",\n        units=\"\",\n        vlim=[-2, 2],\n        plane_distance=15,\n    )\n\n    fig.update_layout(\n        title_text=\"Normalized Data Misfit\",\n        title_x=0.5,\n        title_font_size=24,\n        width=650,\n        height=500,\n        scene_camera=dict(\n            center=dict(x=0, y=0, z=-0.4), eye=dict(x=1.5, y=-1.5, z=1.8)\n        ),\n    )\n\n    plotly.io.show(fig)\n\nelse:\n    print(\"INSTALL 'PLOTLY' TO VISUALIZE 3D PSEUDOSECTIONS\")"
      ]
    }
  ],
  "metadata": {
    "kernelspec": {
      "display_name": "Python 3",
      "language": "python",
      "name": "python3"
    },
    "language_info": {
      "codemirror_mode": {
        "name": "ipython",
        "version": 3
      },
      "file_extension": ".py",
      "mimetype": "text/x-python",
      "name": "python",
      "nbconvert_exporter": "python",
      "pygments_lexer": "ipython3",
      "version": "3.8.19"
    }
  },
  "nbformat": 4,
  "nbformat_minor": 0
}