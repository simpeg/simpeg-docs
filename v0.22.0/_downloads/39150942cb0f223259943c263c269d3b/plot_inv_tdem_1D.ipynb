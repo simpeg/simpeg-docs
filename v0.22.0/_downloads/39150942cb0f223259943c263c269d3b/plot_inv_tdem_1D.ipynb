{
  "cells": [
    {
      "cell_type": "markdown",
      "metadata": {},
      "source": [
        "\n# EM: TDEM: 1D: Inversion\n\nHere we will create and run a TDEM 1D inversion.\n"
      ]
    },
    {
      "cell_type": "code",
      "execution_count": null,
      "metadata": {
        "collapsed": false
      },
      "outputs": [],
      "source": [
        "import numpy as np\nfrom simpeg.electromagnetics import time_domain\nfrom simpeg import (\n    optimization,\n    discretize,\n    maps,\n    data_misfit,\n    regularization,\n    inverse_problem,\n    inversion,\n    directives,\n    utils,\n)\nimport matplotlib.pyplot as plt\n\n\ndef run(plotIt=True):\n    cs, ncx, ncz, npad = 5.0, 25, 15, 15\n    hx = [(cs, ncx), (cs, npad, 1.3)]\n    hz = [(cs, npad, -1.3), (cs, ncz), (cs, npad, 1.3)]\n    mesh = discretize.CylindricalMesh([hx, 1, hz], \"00C\")\n\n    active = mesh.cell_centers_z < 0.0\n    layer = (mesh.cell_centers_z < 0.0) & (mesh.cell_centers_z >= -100.0)\n    actMap = maps.InjectActiveCells(mesh, active, np.log(1e-8), nC=mesh.shape_cells[2])\n    mapping = maps.ExpMap(mesh) * maps.SurjectVertical1D(mesh) * actMap\n    sig_half = 2e-3\n    sig_air = 1e-8\n    sig_layer = 1e-3\n    sigma = np.ones(mesh.shape_cells[2]) * sig_air\n    sigma[active] = sig_half\n    sigma[layer] = sig_layer\n    mtrue = np.log(sigma[active])\n\n    rxOffset = 1e-3\n    rx = time_domain.Rx.PointMagneticFluxTimeDerivative(\n        np.array([[rxOffset, 0.0, 30]]), np.logspace(-5, -3, 31), \"z\"\n    )\n    src = time_domain.Src.MagDipole([rx], location=np.array([0.0, 0.0, 80]))\n    survey = time_domain.Survey([src])\n    time_steps = [(1e-06, 20), (1e-05, 20), (0.0001, 20)]\n    simulation = time_domain.Simulation3DElectricField(\n        mesh, sigmaMap=mapping, survey=survey, time_steps=time_steps\n    )\n    # d_true = simulation.dpred(mtrue)\n\n    # create observed data\n    rel_err = 0.05\n    data = simulation.make_synthetic_data(mtrue, relative_error=rel_err)\n\n    dmisfit = data_misfit.L2DataMisfit(simulation=simulation, data=data)\n    regMesh = discretize.TensorMesh([mesh.h[2][mapping.maps[-1].indActive]])\n    reg = regularization.WeightedLeastSquares(regMesh, alpha_s=1e-2, alpha_x=1.0)\n    opt = optimization.InexactGaussNewton(maxIter=5, LSshorten=0.5)\n    invProb = inverse_problem.BaseInvProblem(dmisfit, reg, opt)\n\n    # Create an inversion object\n    beta = directives.BetaSchedule(coolingFactor=5, coolingRate=2)\n    betaest = directives.BetaEstimate_ByEig(beta0_ratio=1e0)\n    inv = inversion.BaseInversion(invProb, directiveList=[beta, betaest])\n    m0 = np.log(np.ones(mtrue.size) * sig_half)\n    simulation.counter = opt.counter = utils.Counter()\n    opt.remember(\"xc\")\n\n    mopt = inv.run(m0)\n\n    if plotIt:\n        fig, ax = plt.subplots(1, 2, figsize=(10, 6))\n        ax[0].loglog(rx.times, -invProb.dpred, \"b.-\")\n        ax[0].loglog(rx.times, -data.dobs, \"r.-\")\n        ax[0].legend((\"Noisefree\", \"$d^{obs}$\"), fontsize=16)\n        ax[0].set_xlabel(\"Time (s)\", fontsize=14)\n        ax[0].set_ylabel(\"$B_z$ (T)\", fontsize=16)\n        ax[0].set_xlabel(\"Time (s)\", fontsize=14)\n        ax[0].grid(color=\"k\", alpha=0.5, linestyle=\"dashed\", linewidth=0.5)\n\n        plt.semilogx(sigma[active], mesh.cell_centers_z[active])\n        plt.semilogx(np.exp(mopt), mesh.cell_centers_z[active])\n        ax[1].set_ylim(-600, 0)\n        ax[1].set_xlim(1e-4, 1e-2)\n        ax[1].set_xlabel(\"Conductivity (S/m)\", fontsize=14)\n        ax[1].set_ylabel(\"Depth (m)\", fontsize=14)\n        ax[1].grid(color=\"k\", alpha=0.5, linestyle=\"dashed\", linewidth=0.5)\n        plt.legend([r\"$\\sigma_{true}$\", r\"$\\sigma_{pred}$\"])\n\n\nif __name__ == \"__main__\":\n    run()\n    plt.show()"
      ]
    }
  ],
  "metadata": {
    "kernelspec": {
      "display_name": "Python 3",
      "language": "python",
      "name": "python3"
    },
    "language_info": {
      "codemirror_mode": {
        "name": "ipython",
        "version": 3
      },
      "file_extension": ".py",
      "mimetype": "text/x-python",
      "name": "python",
      "nbconvert_exporter": "python",
      "pygments_lexer": "ipython3",
      "version": "3.8.19"
    }
  },
  "nbformat": 4,
  "nbformat_minor": 0
}