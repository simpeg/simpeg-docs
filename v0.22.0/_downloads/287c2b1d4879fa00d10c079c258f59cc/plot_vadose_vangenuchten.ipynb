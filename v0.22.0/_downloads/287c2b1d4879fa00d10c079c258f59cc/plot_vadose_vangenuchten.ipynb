{
  "cells": [
    {
      "cell_type": "markdown",
      "metadata": {},
      "source": [
        "\n# FLOW: Vadose: van Genuchten\n\nShows the water retention curve and the hydraulic conductivity\nfunction for a number of soil types.\n\nFor more information about the parameters used see:\n\nThe RETC code for quantifying the hydraulic functions of unsaturated\nsoils, Van Genuchten, M Th, Leij, F J, Yates, S R\n"
      ]
    },
    {
      "cell_type": "code",
      "execution_count": null,
      "metadata": {
        "collapsed": false
      },
      "outputs": [],
      "source": [
        "import matplotlib.pyplot as plt\n\nimport discretize\nfrom simpeg.flow import richards\n\n\ndef run(plotIt=True):\n    mesh = discretize.TensorMesh([10])\n    VGparams = richards.empirical.VanGenuchtenParams()\n    leg = []\n    for p in dir(VGparams):\n        if p[0] == \"_\":\n            continue\n        leg += [p]\n        params = getattr(VGparams, p)\n        k_fun, theta_fun = richards.empirical.van_genuchten(mesh, **params)\n        theta_fun.plot(ax=plt.subplot(121))\n        k_fun.plot(ax=plt.subplot(122))\n\n    plt.legend(leg, loc=3)\n\n\nif __name__ == \"__main__\":\n    run()\n    plt.show()"
      ]
    }
  ],
  "metadata": {
    "kernelspec": {
      "display_name": "Python 3",
      "language": "python",
      "name": "python3"
    },
    "language_info": {
      "codemirror_mode": {
        "name": "ipython",
        "version": 3
      },
      "file_extension": ".py",
      "mimetype": "text/x-python",
      "name": "python",
      "nbconvert_exporter": "python",
      "pygments_lexer": "ipython3",
      "version": "3.8.19"
    }
  },
  "nbformat": 4,
  "nbformat_minor": 0
}