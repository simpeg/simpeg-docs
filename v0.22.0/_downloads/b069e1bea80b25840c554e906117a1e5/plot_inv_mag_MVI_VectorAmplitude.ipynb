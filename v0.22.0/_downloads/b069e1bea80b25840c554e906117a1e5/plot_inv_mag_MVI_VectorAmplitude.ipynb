{
  "cells": [
    {
      "cell_type": "markdown",
      "metadata": {},
      "source": [
        "\n# Magnetic inversion on a TreeMesh\n\nIn this example, we demonstrate the use of a Magnetic Vector Inverison\non 3D TreeMesh for the inversion of magnetic data.\n\nThe inverse problem uses the :class:'simpeg.regularization.VectorAmplitude'\nregularization borrowed from ...\n"
      ]
    },
    {
      "cell_type": "code",
      "execution_count": null,
      "metadata": {
        "collapsed": false
      },
      "outputs": [],
      "source": [
        "from simpeg import (\n    data,\n    data_misfit,\n    directives,\n    maps,\n    inverse_problem,\n    optimization,\n    inversion,\n    regularization,\n)\n\nfrom simpeg import utils\nfrom simpeg.utils import mkvc, sdiag\n\nfrom discretize.utils import mesh_builder_xyz, refine_tree_xyz, active_from_xyz\nfrom simpeg.potential_fields import magnetics\nimport numpy as np\nimport matplotlib.pyplot as plt\n\n\n# sphinx_gallery_thumbnail_number = 3"
      ]
    },
    {
      "cell_type": "markdown",
      "metadata": {},
      "source": [
        "## Setup\n\nDefine the survey and model parameters\n\nFirst we need to define the direction of the inducing field\nAs a simple case, we pick a vertical inducing field of magnitude 50,000 nT.\n\n\n\n"
      ]
    },
    {
      "cell_type": "code",
      "execution_count": null,
      "metadata": {
        "collapsed": false
      },
      "outputs": [],
      "source": [
        "np.random.seed(1)\n# We will assume a vertical inducing field\nh0_amplitude, h0_inclination, h0_declination = (50000.0, 90.0, 0.0)\n\n# Create grid of points for topography\n# Lets create a simple Gaussian topo and set the active cells\n[xx, yy] = np.meshgrid(np.linspace(-200, 200, 50), np.linspace(-200, 200, 50))\nb = 100\nA = 50\nzz = A * np.exp(-0.5 * ((xx / b) ** 2.0 + (yy / b) ** 2.0))\ntopo = np.c_[utils.mkvc(xx), utils.mkvc(yy), utils.mkvc(zz)]\n\n# Create an array of observation points\nxr = np.linspace(-100.0, 100.0, 20)\nyr = np.linspace(-100.0, 100.0, 20)\nX, Y = np.meshgrid(xr, yr)\nZ = A * np.exp(-0.5 * ((X / b) ** 2.0 + (Y / b) ** 2.0)) + 5\n\n# Create a MAGsurvey\nxyzLoc = np.c_[mkvc(X.T), mkvc(Y.T), mkvc(Z.T)]\nrxLoc = magnetics.receivers.Point(xyzLoc)\nsrcField = magnetics.sources.UniformBackgroundField(\n    receiver_list=[rxLoc],\n    amplitude=h0_amplitude,\n    inclination=h0_inclination,\n    declination=h0_declination,\n)\nsurvey = magnetics.survey.Survey(srcField)"
      ]
    },
    {
      "cell_type": "markdown",
      "metadata": {},
      "source": [
        "## Inversion Mesh\n\nHere, we create a TreeMesh with base cell size of 5 m.\n\n\n"
      ]
    },
    {
      "cell_type": "code",
      "execution_count": null,
      "metadata": {
        "collapsed": false
      },
      "outputs": [],
      "source": [
        "# Create a mesh\nh = [5, 5, 5]\npadDist = np.ones((3, 2)) * 100\n\nmesh = mesh_builder_xyz(\n    xyzLoc, h, padding_distance=padDist, depth_core=100, mesh_type=\"tree\"\n)\nmesh = refine_tree_xyz(\n    mesh, topo, method=\"surface\", octree_levels=[2, 6], finalize=True\n)\n\n\n# Define an active cells from topo\nactv = active_from_xyz(mesh, topo)\nnC = int(actv.sum())"
      ]
    },
    {
      "cell_type": "markdown",
      "metadata": {},
      "source": [
        "## Forward modeling data\n\nWe can now create a magnetization model and generate data.\n\n\n"
      ]
    },
    {
      "cell_type": "code",
      "execution_count": null,
      "metadata": {
        "collapsed": false
      },
      "outputs": [],
      "source": [
        "model_azm_dip = np.zeros((mesh.nC, 2))\nmodel_amp = np.ones(mesh.nC) * 1e-8\nind = utils.model_builder.get_indices_block(\n    np.r_[-30, -20, -10],\n    np.r_[30, 20, 25],\n    mesh.gridCC,\n)[0]\nmodel_amp[ind] = 0.05\nmodel_azm_dip[ind, 0] = 45.0\nmodel_azm_dip[ind, 1] = 90.0\n\n# Remove air cells\nmodel_azm_dip = model_azm_dip[actv, :]\nmodel_amp = model_amp[actv]\nmodel = sdiag(model_amp) * utils.mat_utils.dip_azimuth2cartesian(\n    model_azm_dip[:, 0], model_azm_dip[:, 1]\n)\n\n# Create reduced identity map\nidenMap = maps.IdentityMap(nP=nC * 3)\n\n# Create the simulation\nsimulation = magnetics.simulation.Simulation3DIntegral(\n    survey=survey, mesh=mesh, chiMap=idenMap, ind_active=actv, model_type=\"vector\"\n)\n\n# Compute some data and add some random noise\nd = simulation.dpred(mkvc(model))\nstd = 10  # nT\nsynthetic_data = d + np.random.randn(len(d)) * std\nwd = np.ones(len(d)) * std\n\n# Assign data and uncertainties to the survey\ndata_object = data.Data(survey, dobs=synthetic_data, standard_deviation=wd)\n\n# Create a projection matrix for plotting later\nactv_plot = maps.InjectActiveCells(mesh, actv, np.nan)"
      ]
    },
    {
      "cell_type": "markdown",
      "metadata": {},
      "source": [
        "## Inversion\n\nWe can now attempt the inverse calculations.\n\n\n"
      ]
    },
    {
      "cell_type": "code",
      "execution_count": null,
      "metadata": {
        "collapsed": false
      },
      "outputs": [],
      "source": [
        "# Create sensitivity weights from our linear forward operator\nrxLoc = survey.source_field.receiver_list[0].locations\n\n# This Mapping connects the regularizations for the three-component\n# vector model\nwires = maps.Wires((\"p\", nC), (\"s\", nC), (\"t\", nC))\nm0 = np.ones(3 * nC) * 1e-4  # Starting model\n\n# Create the regularization on the amplitude of magnetization\nreg = regularization.VectorAmplitude(\n    mesh,\n    mapping=idenMap,\n    active_cells=actv,\n    reference_model_in_smooth=True,\n    norms=[0.0, 2.0, 2.0, 2.0],\n    gradient_type=\"total\",\n)\n\n# Data misfit function\ndmis = data_misfit.L2DataMisfit(simulation=simulation, data=data_object)\ndmis.W = 1.0 / data_object.standard_deviation\n\n# The optimization scheme\nopt = optimization.ProjectedGNCG(\n    maxIter=20, lower=-10, upper=10.0, maxIterLS=20, maxIterCG=20, tolCG=1e-4\n)\n\n# The inverse problem\ninvProb = inverse_problem.BaseInvProblem(dmis, reg, opt)\n\n# Estimate the initial beta factor\nbetaest = directives.BetaEstimate_ByEig(beta0_ratio=1e1)\n\n# Add sensitivity weights\nsensitivity_weights = directives.UpdateSensitivityWeights()\n\n# Here is where the norms are applied\nIRLS = directives.Update_IRLS(f_min_change=1e-3, max_irls_iterations=10, beta_tol=5e-1)\n\n# Pre-conditioner\nupdate_Jacobi = directives.UpdatePreconditioner()\n\n\ninv = inversion.BaseInversion(\n    invProb, directiveList=[sensitivity_weights, IRLS, update_Jacobi, betaest]\n)\n\n# Run the inversion\nmrec = inv.run(m0)"
      ]
    },
    {
      "cell_type": "markdown",
      "metadata": {},
      "source": [
        "## Final Plot\n\nLet's compare the smooth and compact model\n\n\n\n\n"
      ]
    },
    {
      "cell_type": "code",
      "execution_count": null,
      "metadata": {
        "collapsed": false
      },
      "outputs": [],
      "source": [
        "plt.figure(figsize=(12, 6))\nax = plt.subplot(2, 2, 1)\nim = utils.plot_utils.plot2Ddata(xyzLoc, synthetic_data, ax=ax)\nplt.colorbar(im[0])\nax.set_title(\"Predicted data.\")\nplt.gca().set_aspect(\"equal\", adjustable=\"box\")\n\nfor ii, (title, mvec) in enumerate(\n    [(\"True model\", model), (\"Smooth model\", invProb.l2model), (\"Sparse model\", mrec)]\n):\n    ax = plt.subplot(2, 2, ii + 2)\n    mesh.plot_slice(\n        actv_plot * mvec.reshape((-1, 3), order=\"F\"),\n        v_type=\"CCv\",\n        view=\"vec\",\n        ax=ax,\n        normal=\"Y\",\n        grid=True,\n        quiver_opts={\n            \"pivot\": \"mid\",\n            \"scale\": 8 * np.abs(mvec).max(),\n            \"scale_units\": \"inches\",\n        },\n    )\n    ax.set_xlim([-200, 200])\n    ax.set_ylim([-100, 75])\n    ax.set_title(title)\n    ax.set_xlabel(\"x\")\n    ax.set_ylabel(\"z\")\n    plt.gca().set_aspect(\"equal\", adjustable=\"box\")\n\nplt.show()\n\nprint(\"END\")\n# Plot the final predicted data and the residual\n# plt.figure()\n# ax = plt.subplot(1, 2, 1)\n# utils.plot_utils.plot2Ddata(xyzLoc, invProb.dpred, ax=ax)\n# ax.set_title(\"Predicted data.\")\n# plt.gca().set_aspect(\"equal\", adjustable=\"box\")\n#\n# ax = plt.subplot(1, 2, 2)\n# utils.plot_utils.plot2Ddata(xyzLoc, synthetic_data - invProb.dpred, ax=ax)\n# ax.set_title(\"Data residual.\")\n# plt.gca().set_aspect(\"equal\", adjustable=\"box\")"
      ]
    }
  ],
  "metadata": {
    "kernelspec": {
      "display_name": "Python 3",
      "language": "python",
      "name": "python3"
    },
    "language_info": {
      "codemirror_mode": {
        "name": "ipython",
        "version": 3
      },
      "file_extension": ".py",
      "mimetype": "text/x-python",
      "name": "python",
      "nbconvert_exporter": "python",
      "pygments_lexer": "ipython3",
      "version": "3.8.19"
    }
  },
  "nbformat": 4,
  "nbformat_minor": 0
}