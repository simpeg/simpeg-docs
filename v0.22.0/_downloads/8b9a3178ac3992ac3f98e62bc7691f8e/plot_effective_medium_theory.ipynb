{
  "cells": [
    {
      "cell_type": "markdown",
      "metadata": {},
      "source": [
        "\n# Effective Medium Theory Mapping\n\nThis example uses Self Consistent Effective Medium Theory to estimate the\nelectrical conductivity of a mixture of two phases of materials. Given\nthe electrical conductivity of each of the phases ($\\sigma_0$,\n$\\sigma_1$), the :class:`simpeg.maps.SelfConsistentEffectiveMedium`\nmap takes the concentration of phase-1 ($\\phi_1$) and maps this to an\nelectrical conductivity.\n\nThis mapping is used in chapter 2 of:\n\nHeagy, Lindsey J.(2018, in prep) *Electromagnetic methods for imaging\nsubsurface injections.* University of British Columbia\n\n:author: [@lheagy](https://github.com/lheagy)\n"
      ]
    },
    {
      "cell_type": "code",
      "execution_count": null,
      "metadata": {
        "collapsed": false
      },
      "outputs": [],
      "source": [
        "import numpy as np\nimport matplotlib.pyplot as plt\nfrom simpeg import maps\nfrom matplotlib import rcParams\n\nrcParams[\"font.size\"] = 12"
      ]
    },
    {
      "cell_type": "markdown",
      "metadata": {},
      "source": [
        "## Conductivities\n\nHere we consider a mixture composed of fluid (3 S/m) and conductive\nparticles which we will vary the conductivity of.\n\n\n"
      ]
    },
    {
      "cell_type": "code",
      "execution_count": null,
      "metadata": {
        "collapsed": false
      },
      "outputs": [],
      "source": [
        "sigma_fluid = 3\nsigma1 = np.logspace(1, 5, 5)  # look at a range of particle conductivities\nphi = np.linspace(0.0, 1, 1000)  # vary the volume of particles"
      ]
    },
    {
      "cell_type": "markdown",
      "metadata": {},
      "source": [
        "## Construct the Mapping\n\nWe set the conductivity of the phase-0 material to the conductivity of the\nfluid. The mapping will then take a concentration (by volume), of phase-1\nmaterial and compute the effective conductivity\n\n\n"
      ]
    },
    {
      "cell_type": "code",
      "execution_count": null,
      "metadata": {
        "collapsed": false
      },
      "outputs": [],
      "source": [
        "scemt = maps.SelfConsistentEffectiveMedium(sigma0=sigma_fluid, sigma1=1)"
      ]
    },
    {
      "cell_type": "markdown",
      "metadata": {},
      "source": [
        "## Loop over a range of particle conductivities\n\nWe loop over the values defined as `sigma1` and compute the effective\nconductivity of the mixture for each concentration in the `phi` vector\n\n\n"
      ]
    },
    {
      "cell_type": "code",
      "execution_count": null,
      "metadata": {
        "collapsed": false
      },
      "outputs": [],
      "source": [
        "sige = np.zeros([phi.size, sigma1.size])\n\nfor i, s in enumerate(sigma1):\n    scemt.sigma1 = s\n    sige[:, i] = scemt * phi"
      ]
    },
    {
      "cell_type": "markdown",
      "metadata": {},
      "source": [
        "## Plot the effective conductivity\n\nThe plot shows the effective conductivity of 5 difference mixtures. In all\ncases, the conductivity of the fluid, $\\sigma_0$, is 3 S/m. The\nconductivity of the particles is indicated in the legend\n\n\n"
      ]
    },
    {
      "cell_type": "code",
      "execution_count": null,
      "metadata": {
        "collapsed": false
      },
      "outputs": [],
      "source": [
        "fig, ax = plt.subplots(1, 1, figsize=(7, 4), dpi=350)\n\nax.semilogy(phi, sige)\nax.grid(which=\"both\", alpha=0.4)\nax.legend([\"{:1.0e} S/m\".format(s) for s in sigma1])\nax.set_xlabel(r\"Volume fraction of proppant $\\phi$\")\nax.set_ylabel(\"Effective conductivity (S/m)\")\n\nplt.tight_layout()"
      ]
    }
  ],
  "metadata": {
    "kernelspec": {
      "display_name": "Python 3",
      "language": "python",
      "name": "python3"
    },
    "language_info": {
      "codemirror_mode": {
        "name": "ipython",
        "version": 3
      },
      "file_extension": ".py",
      "mimetype": "text/x-python",
      "name": "python",
      "nbconvert_exporter": "python",
      "pygments_lexer": "ipython3",
      "version": "3.8.19"
    }
  },
  "nbformat": 4,
  "nbformat_minor": 0
}