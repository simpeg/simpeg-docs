{
  "cells": [
    {
      "cell_type": "markdown",
      "metadata": {},
      "source": [
        "\n# Response from a Homogeneous Layer for Different Waveforms\n\nHere we use the module *simpeg.electromagnetics.viscous_remanent_magnetization*\nto predict the characteristic VRM response over magnetically viscous layer.\nWe consider a small-loop, ground-based survey which uses a coincident loop\ngeometry. For this tutorial, we focus on the following:\n\n    - How to define the transmitters and receivers\n    - How to define the survey\n    - How to define a diagnostic physical property\n    - How to define the physics for the linear potential fields formulation\n    - How the VRM response depends on the transmitter waveform\n\n\nNote that for this tutorial, we are only modeling the VRM response. A separate\ntutorial have been developed for modeling both the inductive and VRM responses.\n"
      ]
    },
    {
      "cell_type": "markdown",
      "metadata": {},
      "source": [
        "## Import Modules\n\n\n"
      ]
    },
    {
      "cell_type": "code",
      "execution_count": null,
      "metadata": {
        "collapsed": false
      },
      "outputs": [],
      "source": [
        "import simpeg.electromagnetics.viscous_remanent_magnetization as vrm\n\nfrom discretize import TensorMesh\nfrom discretize.utils import mkvc\n\nimport numpy as np\nimport matplotlib.pyplot as plt\nimport matplotlib as mpl\n\n# sphinx_gallery_thumbnail_number = 2"
      ]
    },
    {
      "cell_type": "markdown",
      "metadata": {},
      "source": [
        "## Define Waveforms\n\nUnder *simpeg.electromagnetic.viscous_remanent_magnetization.waveform*\nthere are a multitude of waveforms that can be defined (Step-off, square-pulse,\npiecewise linear, ...). Here we define a specific waveform for each transmitter.\nEach waveform is defined with a diferent set of parameters.\n\n\n"
      ]
    },
    {
      "cell_type": "code",
      "execution_count": null,
      "metadata": {
        "collapsed": false
      },
      "outputs": [],
      "source": [
        "waveform_list = []\n\n# Step-off waveform\nwaveform_list.append(vrm.waveforms.StepOff(t0=0))\n\n# 20 ms square pulse with off-time at t = 0 s.\nwaveform_list.append(vrm.waveforms.SquarePulse(t0=0, delt=0.02))\n\n# 30 ms trapezoidal waveform with off-time at t = 0 s.\nt_wave = np.r_[-0.03, -0.02, -0.01, 0]\nI_wave = np.r_[0.0, 1.0, 1.0, 0]\nwaveform_list.append(vrm.waveforms.ArbitraryPiecewise(t_wave=t_wave, I_wave=I_wave))\n\n# 40 ms triangular waveform with off-time at t = 0 s.\nt_wave = np.r_[-0.04, -0.02, 0]\nI_wave = np.r_[0.0, 1.0, 0]\nwaveform_list.append(vrm.waveforms.ArbitraryPiecewise(t_wave=t_wave, I_wave=I_wave))\n\n# Plot waveforms\nfig = plt.figure(figsize=(8, 4))\nmpl.rcParams.update({\"font.size\": 12})\nax1 = fig.add_axes([0.1, 0.1, 0.85, 0.85])\nax1.plot(np.r_[-0.04, 0.0, 0.0, 0.02], np.r_[1, 1, 0, 0], \"b\", lw=2)\nax1.plot(np.r_[-0.04, -0.02, -0.02, 0.0, 0.0, 0.04], np.r_[0, 0, 1, 1, 0, 0], \"r\", lw=2)\nax1.plot(np.r_[-0.04, -0.03, -0.02, -0.01, 0, 0.04], np.r_[0, 0, 1, 1, 0, 0], \"k\", lw=2)\nax1.plot(np.r_[-0.04, -0.02, 0, 0.04], np.r_[0, 1, 0, 0], \"g\", lw=2)\nax1.set_xlim((-0.04, 0.04))\nax1.set_ylim((-0.01, 1.1))\nax1.set_xlabel(\"time [s]\")\nax1.set_ylabel(\"current [A]\")\nax1.set_title(\"Waveforms\")\nax1.legend(\n    [\"step-off\", \"20 ms square pulse\", \"30 ms trapezoidal\", \"40 ms triangular\"],\n    loc=\"upper right\",\n)"
      ]
    },
    {
      "cell_type": "markdown",
      "metadata": {},
      "source": [
        "## Survey\n\nHere we define the sources, the receivers and the survey. For this exercise,\nwe are modeling the response for single transmitter-receiver pair with\ndifferent transmitter waveforms.\n\n\n"
      ]
    },
    {
      "cell_type": "code",
      "execution_count": null,
      "metadata": {
        "collapsed": false
      },
      "outputs": [],
      "source": [
        "# Define the observation times for the receivers. It is VERY important to\n# define the first time channel AFTER the off-time.\ntime_channels = np.logspace(-4, -1, 31)\n\n# Define the location of the coincident loop transmitter and receiver.\n# In general, you can define the receiver locations as an (N, 3) numpy array.\nxyz = np.c_[0.0, 0.0, 0.5]\n\n# There are 4 parameters needed to define a receiver.\ndbdt_receivers = [\n    vrm.receivers.Point(xyz, times=time_channels, field_type=\"dbdt\", orientation=\"z\")\n]\n\n# Define sources\nsource_list = []\ndipole_moment = [0.0, 0.0, 1]\nfor pp in range(0, len(waveform_list)):\n    # Define the transmitter-receiver pair for each waveform\n    source_list.append(\n        vrm.sources.MagDipole(\n            dbdt_receivers, mkvc(xyz), dipole_moment, waveform_list[pp]\n        )\n    )\n\n# Define the survey\nsurvey = vrm.Survey(source_list)"
      ]
    },
    {
      "cell_type": "markdown",
      "metadata": {},
      "source": [
        "## Defining the Mesh\n\nHere we create the tensor mesh that will be used for this tutorial example.\nWe are modeling the response from a magnetically viscous layer. As a result,\nwe do not need to model the Earth at depth. For this example the layer is\n10 m thick.\n\n\n"
      ]
    },
    {
      "cell_type": "code",
      "execution_count": null,
      "metadata": {
        "collapsed": false
      },
      "outputs": [],
      "source": [
        "cs, ncx, ncy, ncz, npad = 2.0, 35, 35, 5, 5\nhx = [(cs, npad, -1.3), (cs, ncx), (cs, npad, 1.3)]\nhy = [(cs, npad, -1.3), (cs, ncy), (cs, npad, 1.3)]\nhz = [(cs, ncz)]\nmesh = TensorMesh([hx, hy, hz], \"CCN\")"
      ]
    },
    {
      "cell_type": "markdown",
      "metadata": {},
      "source": [
        "## Defining an Amalgamated Magnetic Property Model\n\nFor the linear potential field formulation, the magnetic viscosity\ncharacterizing each cell can be defined by an \"amalgamated magnetic property\"\n(see Cowan, 2016). Here we define an amalgamated magnetic property model.\nFor other formulations of the forward simulation, you may define the parameters\nassuming a log-uniform or log-normal distribution of time-relaxation constants.\n\n\n"
      ]
    },
    {
      "cell_type": "code",
      "execution_count": null,
      "metadata": {
        "collapsed": false
      },
      "outputs": [],
      "source": [
        "# Amalgamated magnetic property for the layer\nmodel_value = 0.0001\nmodel = model_value * np.ones(mesh.nC)\n\n# Define the active cells. These are the cells that exhibit magnetic viscosity\n# and/or lie below the surface topography.\nind_active = np.ones(mesh.nC, dtype=\"bool\")"
      ]
    },
    {
      "cell_type": "markdown",
      "metadata": {},
      "source": [
        "## Define the Simulation\n\nHere we define the formulation for solving Maxwell's equations. We have chosen\nto model the off-time VRM response. There are two important keyword arguments,\n*refinement_factor* and *refinement_distance*. These are used to refine the\nsensitivities of the cells near the transmitters. This improves the accuracy\nof the forward simulation without having to refine the mesh near transmitters.\n\n\n"
      ]
    },
    {
      "cell_type": "code",
      "execution_count": null,
      "metadata": {
        "collapsed": false
      },
      "outputs": [],
      "source": [
        "# For this example, cells lying within 2 m of a transmitter will be modeled\n# as if they are comprised of 4^3 equal smaller cells. Cells within 4 m of a\n# transmitter will be modeled as if they are comprised of 2^3 equal smaller\n# cells.\nsimulation = vrm.Simulation3DLinear(\n    mesh,\n    survey=survey,\n    indActive=ind_active,\n    refinement_factor=2,\n    refinement_distance=[2.0, 4.0],\n)"
      ]
    },
    {
      "cell_type": "markdown",
      "metadata": {},
      "source": [
        "## Predict Data and Plot\n\n\n"
      ]
    },
    {
      "cell_type": "code",
      "execution_count": null,
      "metadata": {
        "collapsed": false
      },
      "outputs": [],
      "source": [
        "# Predict VRM response\ndpred = simulation.dpred(model)\n\n# Reshape for plotting\nn_times = len(time_channels)\nn_waveforms = len(waveform_list)\ndpred = np.reshape(dpred, (n_waveforms, n_times)).T\n\n# Characteristic VRM decay for several waveforms.\nfig = plt.figure(figsize=(6, 7))\nax1 = fig.add_axes([0.15, 0.1, 0.8, 0.85])\nax1.loglog(time_channels, -dpred[:, 0], \"b\", lw=2)\nax1.loglog(time_channels, -dpred[:, 1], \"r\", lw=2)\nax1.loglog(time_channels, -dpred[:, 2], \"k\", lw=2)\nax1.loglog(time_channels, -dpred[:, 3], \"g\", lw=2)\nax1.set_xlim((np.min(time_channels), np.max(time_channels)))\nax1.set_xlabel(\"time [s]\")\nax1.set_ylabel(\"-dBz/dt [T/s]\")\nax1.set_title(\"Characteristic Decay\")\nax1.legend(\n    [\"step-off\", \"20 ms square pulse\", \"30 ms trapezoidal\", \"40 ms triangular\"],\n    loc=\"upper right\",\n)"
      ]
    }
  ],
  "metadata": {
    "kernelspec": {
      "display_name": "Python 3",
      "language": "python",
      "name": "python3"
    },
    "language_info": {
      "codemirror_mode": {
        "name": "ipython",
        "version": 3
      },
      "file_extension": ".py",
      "mimetype": "text/x-python",
      "name": "python",
      "nbconvert_exporter": "python",
      "pygments_lexer": "ipython3",
      "version": "3.8.19"
    }
  },
  "nbformat": 4,
  "nbformat_minor": 0
}