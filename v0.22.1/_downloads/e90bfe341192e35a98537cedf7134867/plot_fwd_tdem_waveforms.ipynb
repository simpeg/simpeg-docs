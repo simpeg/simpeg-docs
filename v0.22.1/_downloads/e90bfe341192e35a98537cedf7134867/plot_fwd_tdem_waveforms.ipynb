{
  "cells": [
    {
      "cell_type": "markdown",
      "metadata": {},
      "source": [
        "\n# TDEM: Waveforms\n\nIn this example, we plot the waveforms available in the TDEM module in addition\nto the `StepOffWaveform`\n"
      ]
    },
    {
      "cell_type": "code",
      "execution_count": null,
      "metadata": {
        "collapsed": false
      },
      "outputs": [],
      "source": [
        "import matplotlib.pyplot as plt\nimport numpy as np\nfrom simpeg.electromagnetics import time_domain as TDEM\nfrom simpeg.utils import mkvc\n\nnT = 1000\nmax_t = 5e-3\ntimes = max_t * np.arange(0, nT) / float(nT)\n\n# create the waveforms\nramp_off = TDEM.Src.RampOffWaveform(off_time=max_t)\nvtem = TDEM.Src.VTEMWaveform()\ntrapezoid = TDEM.Src.TrapezoidWaveform(\n    ramp_on=np.r_[0.0, 1.5e-3], ramp_off=max_t - np.r_[1.5e-3, 0]\n)\ntriangular = TDEM.Src.TriangularWaveform(\n    start_time=0.0, peak_time=max_t / 2, off_time=max_t\n)\nquarter_sine = TDEM.Src.QuarterSineRampOnWaveform(\n    ramp_on=np.r_[0.0, 1.5e-3], ramp_off=max_t - np.r_[1.5e-3, 0]\n)\nhalf_sine = TDEM.Src.HalfSineWaveform(\n    ramp_on=np.r_[0.0, 1.5e-3], ramp_off=max_t - np.r_[1.5e-3, 0]\n)\nexponential = TDEM.Src.ExponentialWaveform(\n    start_time=0.0, peak_time=0.003, off_time=0.005, ramp_on_tau=5e-4\n)\n\nwaveforms = dict(\n    zip(\n        [\n            \"RampOffWaveform\",\n            \"TrapezoidWaveform\",\n            \"QuarterSineRampOnWaveform\",\n            \"VTEMWaveform\",\n            \"TriangularWaveform\",\n            \"HalfSineWaveform\",\n            \"ExponentialWaveform\",\n        ],\n        [ramp_off, trapezoid, quarter_sine, vtem, triangular, half_sine, exponential],\n    )\n)\n\n# plot the waveforms\nfig, ax = plt.subplots(4, 2, figsize=(7, 10))\nax = mkvc(ax)\n\nfor a, key in zip(ax, waveforms):\n    wave = waveforms[key]\n    wave_plt = [wave.eval(t) for t in times]\n    a.plot(times, wave_plt)\n    a.set_title(key)\n    a.set_xlabel(\"time (s)\")\n# deactivate last subplot as it is empty\nax[-1].axis(\"off\")\nplt.tight_layout()\nplt.show()"
      ]
    }
  ],
  "metadata": {
    "kernelspec": {
      "display_name": "Python 3",
      "language": "python",
      "name": "python3"
    },
    "language_info": {
      "codemirror_mode": {
        "name": "ipython",
        "version": 3
      },
      "file_extension": ".py",
      "mimetype": "text/x-python",
      "name": "python",
      "nbconvert_exporter": "python",
      "pygments_lexer": "ipython3",
      "version": "3.8.19"
    }
  },
  "nbformat": 4,
  "nbformat_minor": 0
}