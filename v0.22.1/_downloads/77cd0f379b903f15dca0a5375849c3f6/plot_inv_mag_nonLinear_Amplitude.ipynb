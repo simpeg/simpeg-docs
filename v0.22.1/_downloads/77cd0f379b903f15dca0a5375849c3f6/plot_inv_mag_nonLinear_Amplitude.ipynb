{
  "cells": [
    {
      "cell_type": "markdown",
      "metadata": {},
      "source": [
        "\n# Magnetic Amplitude inversion on a TreeMesh\n\nIn this example, we demonstrate the use of magnetic amplitude\ninversion on 3D TreeMesh for the inversion of Total Magnetic Intensity\n(TMI) data affected by remanence. The original idea must be credited to\nShearer and Li (2005) @ CSM\n\nFirst we invert the TMI for an equivalent source layer, from which we\nrecover 3-component magnetic data. This data is then transformed to amplitude\n\nSecondly, we invert the non-linear inverse problem with\n:class:`simpeg.directives.UpdateSensitivityWeights`. We also\nuses the :class:`simpeg.regularization.Sparse` to apply sparsity\nassumption in order to improve the recovery of a compact prism.\n"
      ]
    },
    {
      "cell_type": "code",
      "execution_count": null,
      "metadata": {
        "collapsed": false
      },
      "outputs": [],
      "source": [
        "import scipy as sp\nimport numpy as np\nimport matplotlib.pyplot as plt\nfrom simpeg import (\n    data,\n    data_misfit,\n    directives,\n    maps,\n    inverse_problem,\n    optimization,\n    inversion,\n    regularization,\n)\n\nfrom simpeg.potential_fields import magnetics\nfrom simpeg import utils\nfrom simpeg.utils import mkvc\nfrom discretize.utils import mesh_builder_xyz, refine_tree_xyz, active_from_xyz\n\n# sphinx_gallery_thumbnail_number = 4"
      ]
    },
    {
      "cell_type": "markdown",
      "metadata": {},
      "source": [
        "## Setup\n\nDefine the survey and model parameters\n\nFirst we need to define the direction of the inducing field\nAs a simple case, we pick a vertical inducing field of magnitude 50,000 nT.\n\n\n\n"
      ]
    },
    {
      "cell_type": "code",
      "execution_count": null,
      "metadata": {
        "collapsed": false
      },
      "outputs": [],
      "source": [
        "# We will assume a vertical inducing field\nh0_amplitude, h0_inclination, h0_declination = (50000.0, 90.0, 0.0)\n\n# The magnetization is set along a different direction (induced + remanence)\nM = np.array([45.0, 90.0])\n\n# Block with an effective susceptibility\nchi_e = 0.05\n\n# Create grid of points for topography\n# Lets create a simple Gaussian topo and set the active cells\n[xx, yy] = np.meshgrid(np.linspace(-200, 200, 50), np.linspace(-200, 200, 50))\nb = 100\nA = 50\nzz = A * np.exp(-0.5 * ((xx / b) ** 2.0 + (yy / b) ** 2.0))\ntopo = np.c_[mkvc(xx), mkvc(yy), mkvc(zz)]\n\n# Create and array of observation points\nxr = np.linspace(-100.0, 100.0, 20)\nyr = np.linspace(-100.0, 100.0, 20)\nX, Y = np.meshgrid(xr, yr)\nZ = A * np.exp(-0.5 * ((X / b) ** 2.0 + (Y / b) ** 2.0)) + 10\n\n# Create a MAGsurvey\nrxLoc = np.c_[mkvc(X.T), mkvc(Y.T), mkvc(Z.T)]\nreceiver_list = magnetics.receivers.Point(rxLoc)\nsrcField = magnetics.sources.UniformBackgroundField(\n    receiver_list=[receiver_list],\n    amplitude=h0_amplitude,\n    inclination=h0_inclination,\n    declination=h0_declination,\n)\nsurvey = magnetics.survey.Survey(srcField)\n\n# Here how the topography looks with a quick interpolation, just a Gaussian...\ntri = sp.spatial.Delaunay(topo)\nfig = plt.figure()\nax = fig.add_subplot(1, 1, 1, projection=\"3d\")\nax.plot_trisurf(\n    topo[:, 0], topo[:, 1], topo[:, 2], triangles=tri.simplices, cmap=plt.cm.Spectral\n)\nax.scatter3D(rxLoc[:, 0], rxLoc[:, 1], rxLoc[:, 2], c=\"k\")\nplt.show()"
      ]
    },
    {
      "cell_type": "markdown",
      "metadata": {},
      "source": [
        "## Inversion Mesh\n\nHere, we create a TreeMesh with base cell size of 5 m. We created a small\nutility function to center the mesh around points and to figure out the\noutermost dimension for adequate padding distance.\nThe second stage allows us to refine the mesh around points or surfaces\n(point assumed to follow an horiontal interface such as topo)\n\n\n"
      ]
    },
    {
      "cell_type": "code",
      "execution_count": null,
      "metadata": {
        "collapsed": false
      },
      "outputs": [],
      "source": [
        "# Create a mesh\nh = [5, 5, 5]\npadDist = np.ones((3, 2)) * 100\n\nmesh = mesh_builder_xyz(\n    rxLoc, h, padding_distance=padDist, depth_core=100, mesh_type=\"tree\"\n)\nmesh = refine_tree_xyz(\n    mesh, topo, method=\"surface\", octree_levels=[4, 4], finalize=True\n)\n\n# Define the active cells from topo\nactv = active_from_xyz(mesh, topo)\nnC = int(actv.sum())"
      ]
    },
    {
      "cell_type": "markdown",
      "metadata": {},
      "source": [
        "## Forward modeling data\n\nWe can now generate TMI data\n\n\n"
      ]
    },
    {
      "cell_type": "code",
      "execution_count": null,
      "metadata": {
        "collapsed": false
      },
      "outputs": [],
      "source": [
        "# Convert the inclination and declination to vector in Cartesian\nM_xyz = utils.mat_utils.dip_azimuth2cartesian(np.ones(nC) * M[0], np.ones(nC) * M[1])\n\n# Get the indicies of the magnetized block\nind = utils.model_builder.get_indices_block(\n    np.r_[-20, -20, -10],\n    np.r_[20, 20, 25],\n    mesh.gridCC,\n)[0]\n\n# Assign magnetization value, inducing field strength will\n# be applied in by the :class:`simpeg.PF.Magnetics` problem\nmodel = np.zeros(mesh.nC)\nmodel[ind] = chi_e\n\n# Remove air cells\nmodel = model[actv]\n\n# Create reduced identity map\nidenMap = maps.IdentityMap(nP=nC)\n\n# Create the forward model operator\nsimulation = magnetics.simulation.Simulation3DIntegral(\n    survey=survey,\n    mesh=mesh,\n    chiMap=idenMap,\n    ind_active=actv,\n    store_sensitivities=\"forward_only\",\n)\nsimulation.M = M_xyz\n\n# Compute some data and add some random noise\nsynthetic_data = simulation.dpred(model)\n\n# Split the data in components\nnD = rxLoc.shape[0]\n\nstd = 5  # nT\nsynthetic_data += np.random.randn(nD) * std\nwd = np.ones(nD) * std\n\n# Assign data and uncertainties to the survey\ndata_object = data.Data(survey, dobs=synthetic_data, standard_deviation=wd)\n\n\n# Plot the model and data\nplt.figure(figsize=(8, 8))\nax = plt.subplot(2, 1, 1)\nim = utils.plot_utils.plot2Ddata(\n    rxLoc, synthetic_data, ax=ax, contourOpts={\"cmap\": \"RdBu_r\"}\n)\nplt.colorbar(im[0])\nax.set_title(\"Predicted data.\")\nplt.gca().set_aspect(\"equal\", adjustable=\"box\")\n\n# Plot the vector model\nax = plt.subplot(2, 1, 2)\n\n# Create active map to go from reduce set to full\nactvPlot = maps.InjectActiveCells(mesh, actv, np.nan)\nmesh.plot_slice(\n    actvPlot * model,\n    ax=ax,\n    normal=\"Y\",\n    ind=66,\n    pcolor_opts={\"vmin\": 0.0, \"vmax\": 0.01},\n    grid=True,\n)\nax.set_xlim([-200, 200])\nax.set_ylim([-100, 75])\nax.set_xlabel(\"x\")\nax.set_ylabel(\"y\")\nplt.gca().set_aspect(\"equal\", adjustable=\"box\")\n\nplt.show()"
      ]
    },
    {
      "cell_type": "markdown",
      "metadata": {},
      "source": [
        "## Equivalent Source\n\nWe first need to convert the TMI data into amplitude. We do this by\nan effective susceptibility layer, from which we can forward component\ndata\n\n\n"
      ]
    },
    {
      "cell_type": "code",
      "execution_count": null,
      "metadata": {
        "collapsed": false
      },
      "outputs": [],
      "source": [
        "# Get the active cells for equivalent source is the topo only\nsurf = active_from_xyz(mesh, topo)\nnC = np.count_nonzero(surf)  # Number of active cells\nmstart = np.ones(nC) * 1e-4\n\n# Create active map to go from reduce set to full\nsurfMap = maps.InjectActiveCells(mesh, surf, np.nan)\n\n# Create identity map\nidenMap = maps.IdentityMap(nP=nC)\n\n# Create static map\nsimulation = magnetics.simulation.Simulation3DIntegral(\n    mesh=mesh, survey=survey, chiMap=idenMap, ind_active=surf, store_sensitivities=\"ram\"\n)\n\nwr = simulation.getJtJdiag(mstart) ** 0.5\nwr = wr / np.max(np.abs(wr))\n\n# Create a regularization function, in this case l2l2\nreg = regularization.Sparse(\n    mesh, active_cells=surf, mapping=maps.IdentityMap(nP=nC), alpha_z=0\n)\nreg.reference_model = np.zeros(nC)\n\n# Specify how the optimization will proceed, set susceptibility bounds to inf\nopt = optimization.ProjectedGNCG(\n    maxIter=20, lower=-np.inf, upper=np.inf, maxIterLS=20, maxIterCG=20, tolCG=1e-3\n)\n\n# Define misfit function (obs-calc)\ndmis = data_misfit.L2DataMisfit(simulation=simulation, data=data_object)\n\n# Create the default L2 inverse problem from the above objects\ninvProb = inverse_problem.BaseInvProblem(dmis, reg, opt)\n\n# Specify how the initial beta is found\nbetaest = directives.BetaEstimate_ByEig(beta0_ratio=2)\n\n# Target misfit to stop the inversion,\n# try to fit as much as possible of the signal, we don't want to lose anything\nIRLS = directives.Update_IRLS(\n    f_min_change=1e-3, minGNiter=1, beta_tol=1e-1, max_irls_iterations=5\n)\nupdate_Jacobi = directives.UpdatePreconditioner()\n# Put all the parts together\ninv = inversion.BaseInversion(invProb, directiveList=[betaest, IRLS, update_Jacobi])\n\n# Run the equivalent source inversion\nmrec = inv.run(mstart)"
      ]
    },
    {
      "cell_type": "markdown",
      "metadata": {},
      "source": [
        "## Forward Amplitude Data\n\nNow that we have an equialent source layer, we can forward model all three\ncomponents of the field and add them up: $|B| = \\sqrt{( Bx^2 + Bx^2 + Bx^2 )}$\n\n\n"
      ]
    },
    {
      "cell_type": "code",
      "execution_count": null,
      "metadata": {
        "collapsed": false
      },
      "outputs": [],
      "source": [
        "receiver_list = magnetics.receivers.Point(rxLoc, components=[\"bx\", \"by\", \"bz\"])\nsrcField = magnetics.sources.UniformBackgroundField(\n    receiver_list=[receiver_list],\n    amplitude=h0_amplitude,\n    inclination=h0_inclination,\n    declination=h0_declination,\n)\nsurveyAmp = magnetics.survey.Survey(srcField)\n\nsimulation = magnetics.simulation.Simulation3DIntegral(\n    mesh=mesh, survey=surveyAmp, chiMap=idenMap, ind_active=surf, is_amplitude_data=True\n)\n\nbAmp = simulation.fields(mrec)\n\n# Plot the layer model and data\nplt.figure(figsize=(8, 8))\nax = plt.subplot(2, 2, 1)\nim = utils.plot_utils.plot2Ddata(\n    rxLoc, invProb.dpred, ax=ax, contourOpts={\"cmap\": \"RdBu_r\"}\n)\nplt.colorbar(im[0])\nax.set_title(\"Predicted data.\")\nplt.gca().set_aspect(\"equal\", adjustable=\"box\")\n\nax = plt.subplot(2, 2, 2)\nim = utils.plot_utils.plot2Ddata(rxLoc, bAmp, ax=ax, contourOpts={\"cmap\": \"RdBu_r\"})\nplt.colorbar(im[0])\nax.set_title(\"Calculated amplitude\")\nplt.gca().set_aspect(\"equal\", adjustable=\"box\")\n\n# Plot the equivalent layer model\nax = plt.subplot(2, 1, 2)\nmesh.plot_slice(\n    surfMap * mrec,\n    ax=ax,\n    normal=\"Y\",\n    ind=66,\n    pcolor_opts={\"vmin\": 0.0, \"vmax\": 0.01},\n    grid=True,\n)\nax.set_xlim([-200, 200])\nax.set_ylim([-100, 75])\nax.set_xlabel(\"x\")\nax.set_ylabel(\"y\")\nplt.gca().set_aspect(\"equal\", adjustable=\"box\")\n\nplt.show()"
      ]
    },
    {
      "cell_type": "markdown",
      "metadata": {},
      "source": [
        "## Amplitude Inversion\n\nNow that we have amplitude data, we can invert for an effective\nsusceptibility. This is a non-linear inversion.\n\n\n"
      ]
    },
    {
      "cell_type": "code",
      "execution_count": null,
      "metadata": {
        "collapsed": false
      },
      "outputs": [],
      "source": [
        "# Create active map to go from reduce space to full\nactvMap = maps.InjectActiveCells(mesh, actv, -100)\nnC = int(actv.sum())\n\n# Create identity map\nidenMap = maps.IdentityMap(nP=nC)\n\nmstart = np.ones(nC) * 1e-4\n\n# Create the forward model operator\nsimulation = magnetics.simulation.Simulation3DIntegral(\n    survey=surveyAmp, mesh=mesh, chiMap=idenMap, ind_active=actv, is_amplitude_data=True\n)\n\ndata_obj = data.Data(survey, dobs=bAmp, noise_floor=wd)\n\n# Create a sparse regularization\nreg = regularization.Sparse(mesh, active_cells=actv, mapping=idenMap)\nreg.norms = [1, 0, 0, 0]\nreg.reference_model = np.zeros(nC)\n\n# Data misfit function\ndmis = data_misfit.L2DataMisfit(simulation=simulation, data=data_obj)\n\n# Add directives to the inversion\nopt = optimization.ProjectedGNCG(\n    maxIter=30, lower=0.0, upper=1.0, maxIterLS=20, maxIterCG=20, tolCG=1e-3\n)\n\ninvProb = inverse_problem.BaseInvProblem(dmis, reg, opt)\n\n# Here is the list of directives\nbetaest = directives.BetaEstimate_ByEig(beta0_ratio=1)\n\n# Specify the sparse norms\nIRLS = directives.Update_IRLS(\n    max_irls_iterations=10,\n    f_min_change=1e-3,\n    minGNiter=1,\n    coolingRate=1,\n    beta_search=False,\n)\n\n# Special directive specific to the mag amplitude problem. The sensitivity\n# weights are updated between each iteration.\nupdate_SensWeight = directives.UpdateSensitivityWeights()\nupdate_Jacobi = directives.UpdatePreconditioner()\n\n# Put all together\ninv = inversion.BaseInversion(\n    invProb, directiveList=[update_SensWeight, betaest, IRLS, update_Jacobi]\n)\n\n# Invert\nmrec_Amp = inv.run(mstart)"
      ]
    },
    {
      "cell_type": "markdown",
      "metadata": {},
      "source": [
        "## Final Plot\n\nLet's compare the smooth and compact model\nNote that the recovered effective susceptibility block is slightly offset\nto the left of the true model. This is due to the wrong assumption of a\nvertical magnetization. Important to remember that the amplitude inversion\nis weakly sensitive to the magnetization direction, but can still have\nan impact.\n\n\n"
      ]
    },
    {
      "cell_type": "code",
      "execution_count": null,
      "metadata": {
        "collapsed": false
      },
      "outputs": [],
      "source": [
        "# Plot the layer model and data\nplt.figure(figsize=(12, 8))\nax = plt.subplot(3, 1, 1)\nim = utils.plot_utils.plot2Ddata(\n    rxLoc, invProb.dpred, ax=ax, contourOpts={\"cmap\": \"RdBu_r\"}\n)\nplt.colorbar(im[0])\nax.set_title(\"Predicted data.\")\nplt.gca().set_aspect(\"equal\", adjustable=\"box\")\n\n# Plot the l2 model\nax = plt.subplot(3, 1, 2)\nim = mesh.plot_slice(\n    actvPlot * invProb.l2model,\n    ax=ax,\n    normal=\"Y\",\n    ind=66,\n    pcolor_opts={\"vmin\": 0.0, \"vmax\": 0.01},\n    grid=True,\n)\nplt.colorbar(im[0])\nax.set_xlim([-200, 200])\nax.set_ylim([-100, 75])\nax.set_xlabel(\"x\")\nax.set_ylabel(\"y\")\nplt.gca().set_aspect(\"equal\", adjustable=\"box\")\n\n# Plot the lp model\nax = plt.subplot(3, 1, 3)\nim = mesh.plot_slice(\n    actvPlot * invProb.model,\n    ax=ax,\n    normal=\"Y\",\n    ind=66,\n    pcolor_opts={\"vmin\": 0.0, \"vmax\": 0.01},\n    grid=True,\n)\nplt.colorbar(im[0])\nax.set_xlim([-200, 200])\nax.set_ylim([-100, 75])\nax.set_xlabel(\"x\")\nax.set_ylabel(\"y\")\nplt.gca().set_aspect(\"equal\", adjustable=\"box\")\nplt.show()"
      ]
    }
  ],
  "metadata": {
    "kernelspec": {
      "display_name": "Python 3",
      "language": "python",
      "name": "python3"
    },
    "language_info": {
      "codemirror_mode": {
        "name": "ipython",
        "version": 3
      },
      "file_extension": ".py",
      "mimetype": "text/x-python",
      "name": "python",
      "nbconvert_exporter": "python",
      "pygments_lexer": "ipython3",
      "version": "3.8.19"
    }
  },
  "nbformat": 4,
  "nbformat_minor": 0
}