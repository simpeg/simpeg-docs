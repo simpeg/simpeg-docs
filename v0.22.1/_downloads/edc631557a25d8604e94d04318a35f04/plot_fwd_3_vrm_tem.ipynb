{
  "cells": [
    {
      "cell_type": "markdown",
      "metadata": {},
      "source": [
        "\n# Forward Simulation Including Inductive Response\n\nHere we use the modules *simpeg.electromagnetics.viscous_remanent_magnetization*\nand *simpeg.electromagnetics.time_domain* to simulation the transient response\nover a conductive and magnetically viscous Earth. We consider a small-loop,\nground-based survey which uses a coincident loop geometry. Earth is comprised\nof a conductive pipe and resistive surface layer as well as a magnetically\nviscous top-soil.\n\nWe will assume you have already viewed the previous VRM tutorials. For\nthis tutorial, we focus on the following:\n\n    - How to define the magnetic properties for a log-uniform relaxation model\n    - How the TDEM response is different near and far away from strong conductors\n\n\nTo first order, the total response is equal to the sum of the inductive and\nVRM responses. That is, we can model the inductive and VRM responses with\nseparate simulations, then add them together to compute the total response.\n"
      ]
    },
    {
      "cell_type": "markdown",
      "metadata": {},
      "source": [
        "## Import modules\n\n\n"
      ]
    },
    {
      "cell_type": "code",
      "execution_count": null,
      "metadata": {
        "collapsed": false
      },
      "outputs": [],
      "source": [
        "import simpeg.electromagnetics.viscous_remanent_magnetization as vrm\nimport simpeg.electromagnetics.time_domain as tdem\nfrom simpeg import maps\n\nfrom discretize import TensorMesh, CylindricalMesh\nfrom discretize.utils import mkvc\n\nimport numpy as np\nimport matplotlib.pyplot as plt\nimport matplotlib as mpl\n\ntry:\n    from pymatsolver import Pardiso as Solver\nexcept ImportError:\n    from simpeg import SolverLU as Solver\n\n# sphinx_gallery_thumbnail_number = 3"
      ]
    },
    {
      "cell_type": "markdown",
      "metadata": {},
      "source": [
        "## Transmitter Locations, Receiver Locations and Time Channels\n\nHere were define the properties of the survey that will be used in both the\nTDEM and VRM simulations.\n\n\n"
      ]
    },
    {
      "cell_type": "code",
      "execution_count": null,
      "metadata": {
        "collapsed": false
      },
      "outputs": [],
      "source": [
        "# Observation times for response (time channels)\ntime_channels = np.logspace(-4, -2, 11)\n\n# Defining transmitter locations\nxtx, ytx, ztx = np.meshgrid(np.linspace(0, 200, 41), [0], [55])\nsource_locations = np.c_[mkvc(xtx), mkvc(ytx), mkvc(ztx)]\nntx = np.size(xtx)\n\n# Define receiver locations\nxrx, yrx, zrx = np.meshgrid(np.linspace(0, 200, 41), [0], [50])\nreceiver_locations = np.c_[mkvc(xrx), mkvc(yrx), mkvc(zrx)]"
      ]
    },
    {
      "cell_type": "markdown",
      "metadata": {},
      "source": [
        "## Simulate Inductive Response\n\nHere, we simulate the transient response on a cylindrical mesh. This simulation\nis a copy of the *Time-Domain Electromagnetic* tutorial for\nsimulating the *Step-Off Response on a Cylindrical Mesh*.\n\n\n"
      ]
    },
    {
      "cell_type": "code",
      "execution_count": null,
      "metadata": {
        "collapsed": false
      },
      "outputs": [],
      "source": [
        "# Define the waveform object for tdem simulation. Here we use the step-off.\ntdem_waveform = tdem.sources.StepOffWaveform(off_time=0.0)\n\n# Define survey object\ntdem_source_list = []\nfor ii in range(ntx):\n    dbzdt_receiver = tdem.receivers.PointMagneticFluxTimeDerivative(\n        receiver_locations[ii, :], time_channels, \"z\"\n    )\n    tdem_receivers_list = [\n        dbzdt_receiver\n    ]  # Make a list containing all receivers even if just one\n\n    tdem_source_list.append(\n        tdem.sources.MagDipole(\n            tdem_receivers_list,\n            location=source_locations[ii],\n            waveform=tdem_waveform,\n            moment=1.0,\n            orientation=\"z\",\n        )\n    )\n\ntdem_survey = tdem.Survey(tdem_source_list)\n\n# Define cylindrical mesh\nhr = [(10.0, 50), (10.0, 10, 1.5)]\nhz = [(10.0, 10, -1.5), (10.0, 100), (10.0, 10, 1.5)]\nmesh = CylindricalMesh([hr, 1, hz], x0=\"00C\")\n\n# Define model\nair_conductivity = 1e-8\nbackground_conductivity = 1e-1\nlayer_conductivity = 1e-2\npipe_conductivity = 1e1\n\nind_active = mesh.gridCC[:, 2] < 0\nmodel_map = maps.InjectActiveCells(mesh, ind_active, air_conductivity)\n\nconductivity_model = background_conductivity * np.ones(ind_active.sum())\nind_layer = (mesh.gridCC[ind_active, 2] > -200.0) & (mesh.gridCC[ind_active, 2] < -0)\nconductivity_model[ind_layer] = layer_conductivity\nind_pipe = (\n    (mesh.gridCC[ind_active, 0] < 50.0)\n    & (mesh.gridCC[ind_active, 2] > -10000.0)\n    & (mesh.gridCC[ind_active, 2] < 0.0)\n)\nconductivity_model[ind_pipe] = pipe_conductivity\n\n# Plot conductivity model\nmpl.rcParams.update({\"font.size\": 12})\nfig = plt.figure(figsize=(5.5, 6))\n\nplotting_map = maps.InjectActiveCells(mesh, ind_active, np.nan)\nlog_model = np.log10(conductivity_model)  # So scaling is log-scale\n\nax1 = fig.add_axes([0.14, 0.1, 0.6, 0.85])\nmesh.plot_image(\n    plotting_map * log_model,\n    ax=ax1,\n    grid=False,\n    clim=(np.log10(layer_conductivity), np.log10(pipe_conductivity)),\n)\nax1.set_title(\"Conductivity Model (Survey in red)\")\n\nax1.plot(receiver_locations[:, 0], receiver_locations[:, 2], \"r.\")\n\nax2 = fig.add_axes([0.76, 0.1, 0.05, 0.85])\nnorm = mpl.colors.Normalize(\n    vmin=np.log10(layer_conductivity), vmax=np.log10(pipe_conductivity)\n)\ncbar = mpl.colorbar.ColorbarBase(\n    ax2, norm=norm, orientation=\"vertical\", format=\"$10^{%.1f}$\"\n)\ncbar.set_label(\"Conductivity [S/m]\", rotation=270, labelpad=15, size=12)\n\n# Simulate the inductive response\ntime_steps = [(5e-06, 20), (0.0001, 20), (0.001, 21)]\n\ntdem_simulation = tdem.simulation.Simulation3DMagneticFluxDensity(\n    mesh, survey=tdem_survey, sigmaMap=model_map, solver=Solver\n)\n\ntdem_simulation.time_steps = time_steps\n\ndpred_tdem = tdem_simulation.dpred(conductivity_model)"
      ]
    },
    {
      "cell_type": "markdown",
      "metadata": {},
      "source": [
        "## Define VRM Survey\n\nHere we define the sources, the receivers and the survey for the VRM simulation.\nA better description is provided in the tutorial\n*Response from a Magnetically Viscous Soil using OcTree*.\n\n\n"
      ]
    },
    {
      "cell_type": "code",
      "execution_count": null,
      "metadata": {
        "collapsed": false
      },
      "outputs": [],
      "source": [
        "# Define the transmitter waveform.\nvrm_waveform = vrm.waveforms.StepOff(t0=0)\n\nvrm_source_list = []\nfor pp in range(0, receiver_locations.shape[0]):\n    # Define the receivers\n    loc_pp = np.reshape(receiver_locations[pp, :], (1, 3))\n    vrm_receivers_list = [\n        vrm.receivers.Point(\n            loc_pp, times=time_channels, field_type=\"dbdt\", orientation=\"z\"\n        )\n    ]\n\n    # Define the source\n    dipole_moment = [0.0, 0.0, 1.0]\n    vrm_source_list.append(\n        vrm.sources.MagDipole(\n            vrm_receivers_list,\n            mkvc(source_locations[pp, :]),\n            dipole_moment,\n            vrm_waveform,\n        )\n    )\n\n# Define the VRM survey\nvrm_survey = vrm.Survey(vrm_source_list)"
      ]
    },
    {
      "cell_type": "markdown",
      "metadata": {},
      "source": [
        "## Defining the Mesh\n\nHere we create the tensor mesh that will be used to simulate the VRM response.\nWe are modeling the response from a magnetically viscous layer. As a result,\nwe do not need to model the Earth at depth. For this example the layer is\n20 m thick.\n\n\n"
      ]
    },
    {
      "cell_type": "code",
      "execution_count": null,
      "metadata": {
        "collapsed": false
      },
      "outputs": [],
      "source": [
        "hx, ncx = 20, 50\nhy, ncy = 20, 20\nhz, ncz = 2, 10\nnpad = 5\nhx = [(hx, npad, -1.3), (hx, ncx), (hx, npad, 1.3)]\nhy = [(hy, npad, -1.3), (hy, ncy), (hy, npad, 1.3)]\nhz = [(hz, ncz)]\nmesh = TensorMesh([hx, hy, hz], \"CCN\")"
      ]
    },
    {
      "cell_type": "markdown",
      "metadata": {},
      "source": [
        "## Defining the model\n\nFor a log-uniform distribution of time-relaxation constants, the magnetic\nviscosity is defined by 4 parameters: chi0, dchi, tau1 and tau2. We must\ndefine these values for each cell.\n\n\n"
      ]
    },
    {
      "cell_type": "code",
      "execution_count": null,
      "metadata": {
        "collapsed": false
      },
      "outputs": [],
      "source": [
        "# Amalgamated magnetic property for VRM (see Cowan, 2016)\nchi0_value = 0.0\ndchi_value = 0.5\ntau1_value = 1e-8\ntau2_value = 1e0\n\nchi0_model = chi0_value * np.ones(mesh.nC)\ndchi_model = dchi_value * np.ones(mesh.nC)\ntau1_model = tau1_value * np.ones(mesh.nC)\ntau2_model = tau2_value * np.ones(mesh.nC)\n\n# Cells below the Earth's surface and/or cells exhibiting magnetic viscosity.\nind_active = np.ones(mesh.nC, dtype=\"bool\")"
      ]
    },
    {
      "cell_type": "markdown",
      "metadata": {},
      "source": [
        "## Define the Simulation\n\nUnlike the previous VRM tutorials, we model the VRM response using the\n*Simulation3DLogUniform* formulation. For this simulation class, we must define\nthe 4 parameters for each cell.\n\n\n"
      ]
    },
    {
      "cell_type": "code",
      "execution_count": null,
      "metadata": {
        "collapsed": false
      },
      "outputs": [],
      "source": [
        "# Defining the problem\nvrm_simulation = vrm.Simulation3DLogUniform(\n    mesh,\n    survey=vrm_survey,\n    indActive=ind_active,\n    refinement_factor=1,\n    refinement_distance=[100.0],\n    chi0=chi0_model,\n    dchi=dchi_model,\n    tau1=tau1_model,\n    tau2=tau2_model,\n)"
      ]
    },
    {
      "cell_type": "markdown",
      "metadata": {},
      "source": [
        "## Predict Data and Plot\n\n\n"
      ]
    },
    {
      "cell_type": "code",
      "execution_count": null,
      "metadata": {
        "collapsed": false
      },
      "outputs": [],
      "source": [
        "# Predict VRM response. Right now, non of the properties for the log-uniform\n# simulation are invertible. As a result, a model is not entered as an\n# argument when predicting the data.\ndpred_vrm = vrm_simulation.dpred()\n\n# Reshape the data vectors for plotting.\nn_times = len(time_channels)\nn_loc = receiver_locations.shape[0]\ndpred_tdem = np.reshape(dpred_tdem, (n_loc, n_times))\ndpred_vrm = np.reshape(dpred_vrm, (n_loc, n_times))\ndpred_total = dpred_tdem + dpred_vrm\n\n# TDEM Profile\nfig = plt.figure(figsize=(5, 5))\nax1 = fig.add_subplot(111)\nfor ii in range(0, len(time_channels)):\n    ax1.plot(\n        receiver_locations[:, 0], -dpred_total[:, ii], \"k\"\n    )  # -ve sign to plot -dBz/dt\nax1.set_xlim((0, np.max(xtx)))\nax1.set_xlabel(\"Easting [m]\")\nax1.set_ylabel(\"-dBz/dt [T/s]\")\nax1.set_title(\"Airborne TDEM Profile\")\n\n\nfig = plt.figure(figsize=(10, 5))\n\n# Decays over the pipe\nax1 = fig.add_axes([0.1, 0.1, 0.35, 0.85])\nax1.loglog(time_channels, -dpred_tdem[0, :], \"r\", lw=2)\nax1.loglog(time_channels, -dpred_vrm[0, :], \"b\", lw=2)\nax1.loglog(time_channels, -dpred_total[0, :], \"k\", lw=2)\nax1.set_xlim((np.min(time_channels), np.max(time_channels)))\nax1.set_xlabel(\"time [s]\")\nax1.set_ylabel(\"-dBz/dt [T/s]\")\nax1.set_title(\"Response over the pipe (VRM negligible)\")\nax1.legend([\"Inductive\", \"VRM\", \"Total\"], loc=\"upper right\")\n\n# Decay away from pipe\nax2 = fig.add_axes([0.6, 0.1, 0.35, 0.85])\nax2.loglog(time_channels, -dpred_tdem[-1, :], \"r\", lw=2)\nax2.loglog(time_channels, -dpred_vrm[-1, :], \"b\", lw=2)\nax2.loglog(time_channels, -dpred_total[-1, :], \"k\", lw=2)\nax2.set_xlim((np.min(time_channels), np.max(time_channels)))\nax2.set_xlabel(\"time [s]\")\nax2.set_ylabel(\"-dBz/dt [T/s]\")\nax2.set_title(\"Response over background (VRM pollutes late time)\")\nax2.legend([\"Inductive\", \"VRM\", \"Total\"], loc=\"upper right\")"
      ]
    }
  ],
  "metadata": {
    "kernelspec": {
      "display_name": "Python 3",
      "language": "python",
      "name": "python3"
    },
    "language_info": {
      "codemirror_mode": {
        "name": "ipython",
        "version": 3
      },
      "file_extension": ".py",
      "mimetype": "text/x-python",
      "name": "python",
      "nbconvert_exporter": "python",
      "pygments_lexer": "ipython3",
      "version": "3.8.19"
    }
  },
  "nbformat": 4,
  "nbformat_minor": 0
}