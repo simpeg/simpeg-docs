{
  "cells": [
    {
      "cell_type": "markdown",
      "metadata": {},
      "source": [
        "\n# DC Resistivity Forward Simulation in 2.5D\n\nHere we use the module *simpeg.electromagnetics.static.resistivity* to predict\nDC resistivity data and plot using a pseudosection. In this tutorial, we focus\non the following:\n\n    - How to define the survey\n    - How to define the forward simulation\n    - How to predict normalized voltage data for a synthetic conductivity model\n    - How to include surface topography\n    - The units of the model and resulting data\n"
      ]
    },
    {
      "cell_type": "markdown",
      "metadata": {},
      "source": [
        "## Import modules\n\n\n"
      ]
    },
    {
      "cell_type": "code",
      "execution_count": null,
      "metadata": {
        "collapsed": false
      },
      "outputs": [],
      "source": [
        "from discretize import TreeMesh\nfrom discretize.utils import mkvc, active_from_xyz\n\nfrom simpeg.utils import model_builder\nfrom simpeg.utils.io_utils.io_utils_electromagnetics import write_dcip2d_ubc\nfrom simpeg import maps, data\nfrom simpeg.electromagnetics.static import resistivity as dc\nfrom simpeg.electromagnetics.static.utils.static_utils import (\n    generate_dcip_sources_line,\n    apparent_resistivity_from_voltage,\n    plot_pseudosection,\n)\n\nimport os\nimport numpy as np\nimport matplotlib as mpl\nimport matplotlib.pyplot as plt\nfrom matplotlib.colors import LogNorm\n\ntry:\n    from pymatsolver import Pardiso as Solver\nexcept ImportError:\n    from simpeg import SolverLU as Solver\n\nwrite_output = False\nmpl.rcParams.update({\"font.size\": 16})\n# sphinx_gallery_thumbnail_number = 3"
      ]
    },
    {
      "cell_type": "markdown",
      "metadata": {},
      "source": [
        "## Defining Topography\n\nHere we define surface topography as an (N, 3) numpy array. Topography could\nalso be loaded from a file. In our case, our survey takes place within a set\nof valleys that run North-South.\n\n\n"
      ]
    },
    {
      "cell_type": "code",
      "execution_count": null,
      "metadata": {
        "collapsed": false
      },
      "outputs": [],
      "source": [
        "x_topo, y_topo = np.meshgrid(\n    np.linspace(-3000, 3000, 601), np.linspace(-3000, 3000, 101)\n)\nz_topo = 40.0 * np.sin(2 * np.pi * x_topo / 800) - 40.0\nx_topo, y_topo, z_topo = mkvc(x_topo), mkvc(y_topo), mkvc(z_topo)\ntopo_xyz = np.c_[x_topo, y_topo, z_topo]\n\n# Create 2D topography. Since our 3D topography only changes in the x direction,\n# it is easy to define the 2D topography projected along the survey line. For\n# arbitrary topography and for an arbitrary survey orientation, the user must\n# define the 2D topography along the survey line.\ntopo_2d = np.unique(topo_xyz[:, [0, 2]], axis=0)"
      ]
    },
    {
      "cell_type": "markdown",
      "metadata": {},
      "source": [
        "## Create Dipole-Dipole Survey\n\nHere we define a single EW survey line that uses a dipole-dipole configuration.\nFor the source, we must define the AB electrode locations. For the receivers\nwe must define the MN electrode locations. Instead of creating the survey\nfrom scratch (see 1D example), we will use the *generat_dcip_survey_line* utility.\n\n\n"
      ]
    },
    {
      "cell_type": "code",
      "execution_count": null,
      "metadata": {
        "collapsed": false
      },
      "outputs": [],
      "source": [
        "# Define survey line parameters\nsurvey_type = \"dipole-dipole\"\ndimension_type = \"2D\"\ndata_type = \"volt\"\nend_locations = np.r_[-400.0, 400.0]\nstation_separation = 40.0\nnum_rx_per_src = 10\n\n# Generate source list for DC survey line\nsource_list = generate_dcip_sources_line(\n    survey_type,\n    data_type,\n    dimension_type,\n    end_locations,\n    topo_2d,\n    num_rx_per_src,\n    station_separation,\n)\n\n# Define survey\nsurvey = dc.survey.Survey(source_list)"
      ]
    },
    {
      "cell_type": "markdown",
      "metadata": {},
      "source": [
        "## Create Tree Mesh\n\nHere, we create the Tree mesh that will be used to predict DC data.\n\n\n"
      ]
    },
    {
      "cell_type": "code",
      "execution_count": null,
      "metadata": {
        "collapsed": false
      },
      "outputs": [],
      "source": [
        "dh = 4  # base cell width\ndom_width_x = 3200.0  # domain width x\ndom_width_z = 2400.0  # domain width z\nnbcx = 2 ** int(np.round(np.log(dom_width_x / dh) / np.log(2.0)))  # num. base cells x\nnbcz = 2 ** int(np.round(np.log(dom_width_z / dh) / np.log(2.0)))  # num. base cells z\n\n# Define the base mesh\nhx = [(dh, nbcx)]\nhz = [(dh, nbcz)]\nmesh = TreeMesh([hx, hz], x0=\"CN\")\n\n# Mesh refinement based on topography\nmesh.refine_surface(\n    topo_xyz[:, [0, 2]],\n    padding_cells_by_level=[0, 0, 4, 4],\n    finalize=False,\n)\n\n# Mesh refinement near transmitters and receivers. First we need to obtain the\n# set of unique electrode locations.\nelectrode_locations = np.c_[\n    survey.locations_a,\n    survey.locations_b,\n    survey.locations_m,\n    survey.locations_n,\n]\n\nunique_locations = np.unique(\n    np.reshape(electrode_locations, (4 * survey.nD, 2)), axis=0\n)\n\nmesh.refine_points(unique_locations, padding_cells_by_level=[4, 4], finalize=False)\n\n# Refine core mesh region\nxp, zp = np.meshgrid([-600.0, 600.0], [-400.0, 0.0])\nxyz = np.c_[mkvc(xp), mkvc(zp)]\nmesh.refine_bounding_box(xyz, padding_cells_by_level=[0, 0, 2, 8], finalize=False)\n\nmesh.finalize()"
      ]
    },
    {
      "cell_type": "markdown",
      "metadata": {},
      "source": [
        "## Create Conductivity Model and Mapping for Tree Mesh\n\nIt is important that electrodes are not modeled as being in the air. Even if the\nelectrodes are properly located along surface topography, they may lie above\nthe discretized topography. This step is carried out to ensure all electrodes\nlie on the discretized surface.\n\n\n"
      ]
    },
    {
      "cell_type": "code",
      "execution_count": null,
      "metadata": {
        "collapsed": false
      },
      "outputs": [],
      "source": [
        "# Define conductivity model in S/m (or resistivity model in Ohm m)\nair_conductivity = 1e-8\nbackground_conductivity = 1e-2\nconductor_conductivity = 1e-1\nresistor_conductivity = 1e-3\n\n# Find active cells in forward modeling (cell below surface)\nind_active = active_from_xyz(mesh, topo_xyz[:, [0, 2]])\n\n# Define mapping from model to active cells\nnC = int(ind_active.sum())\nconductivity_map = maps.InjectActiveCells(mesh, ind_active, air_conductivity)\n\n# Define model\nconductivity_model = background_conductivity * np.ones(nC)\n\nind_conductor = model_builder.get_indices_sphere(\n    np.r_[-120.0, -160.0], 60.0, mesh.gridCC\n)\nind_conductor = ind_conductor[ind_active]\nconductivity_model[ind_conductor] = conductor_conductivity\n\nind_resistor = model_builder.get_indices_sphere(np.r_[120.0, -100.0], 60.0, mesh.gridCC)\nind_resistor = ind_resistor[ind_active]\nconductivity_model[ind_resistor] = resistor_conductivity\n\n# Plot Conductivity Model\nfig = plt.figure(figsize=(9, 4))\n\nplotting_map = maps.InjectActiveCells(mesh, ind_active, np.nan)\nnorm = LogNorm(vmin=1e-3, vmax=1e-1)\n\nax1 = fig.add_axes([0.14, 0.17, 0.68, 0.7])\nmesh.plot_image(\n    plotting_map * conductivity_model, ax=ax1, grid=False, pcolor_opts={\"norm\": norm}\n)\nax1.set_xlim(-600, 600)\nax1.set_ylim(-600, 0)\nax1.set_title(\"Conductivity Model\")\nax1.set_xlabel(\"x (m)\")\nax1.set_ylabel(\"z (m)\")\n\nax2 = fig.add_axes([0.84, 0.17, 0.03, 0.7])\ncbar = mpl.colorbar.ColorbarBase(ax2, norm=norm, orientation=\"vertical\")\ncbar.set_label(r\"$\\sigma$ (S/m)\", rotation=270, labelpad=15, size=12)\n\nplt.show()"
      ]
    },
    {
      "cell_type": "markdown",
      "metadata": {},
      "source": [
        "## Project Survey to Discretized Topography\n\nIt is important that electrodes are not model as being in the air. Even if the\nelectrodes are properly located along surface topography, they may lie above\nthe discretized topography. This step is carried out to ensure all electrodes\nlike on the discretized surface.\n\n\n"
      ]
    },
    {
      "cell_type": "code",
      "execution_count": null,
      "metadata": {
        "collapsed": false
      },
      "outputs": [],
      "source": [
        "survey.drape_electrodes_on_topography(mesh, ind_active, option=\"top\")"
      ]
    },
    {
      "cell_type": "markdown",
      "metadata": {},
      "source": [
        "## Predict DC Resistivity Data\n\nHere we predict DC resistivity data. If the keyword argument *sigmaMap* is\ndefined, the simulation will expect a conductivity model. If the keyword\nargument *rhoMap* is defined, the simulation will expect a resistivity model.\n\n\n"
      ]
    },
    {
      "cell_type": "code",
      "execution_count": null,
      "metadata": {
        "collapsed": false
      },
      "outputs": [],
      "source": [
        "simulation = dc.simulation_2d.Simulation2DNodal(\n    mesh, survey=survey, sigmaMap=conductivity_map, solver=Solver\n)\n\n# Predict the data by running the simulation. The data are the raw voltage in\n# units of volts.\ndpred = simulation.dpred(conductivity_model)"
      ]
    },
    {
      "cell_type": "markdown",
      "metadata": {},
      "source": [
        "## Plotting in Pseudo-Section\n\nHere, we demonstrate how to plot 2D data in pseudo-section.\nFirst, we plot the voltages in pseudo-section as a scatter plot. This\nallows us to visualize the pseudo-sensitivity locations for our survey.\nNext, we plot the apparent conductivities in pseudo-section as a filled\ncontour plot.\n\n\n"
      ]
    },
    {
      "cell_type": "code",
      "execution_count": null,
      "metadata": {
        "collapsed": false
      },
      "outputs": [],
      "source": [
        "# Plot voltages pseudo-section\nfig = plt.figure(figsize=(12, 5))\nax1 = fig.add_axes([0.1, 0.15, 0.75, 0.78])\nplot_pseudosection(\n    survey,\n    dobs=np.abs(dpred),\n    plot_type=\"scatter\",\n    ax=ax1,\n    scale=\"log\",\n    cbar_label=\"V/A\",\n    scatter_opts={\"cmap\": mpl.cm.viridis},\n)\nax1.set_title(\"Normalized Voltages\")\nplt.show()\n\n# Get apparent conductivities from volts and survey geometry\napparent_conductivities = 1 / apparent_resistivity_from_voltage(survey, dpred)\n\n# Plot apparent conductivity pseudo-section\nfig = plt.figure(figsize=(12, 5))\nax1 = fig.add_axes([0.1, 0.15, 0.75, 0.78])\nplot_pseudosection(\n    survey,\n    dobs=apparent_conductivities,\n    plot_type=\"contourf\",\n    ax=ax1,\n    scale=\"log\",\n    cbar_label=\"S/m\",\n    mask_topography=True,\n    contourf_opts={\"levels\": 20, \"cmap\": mpl.cm.viridis},\n)\nax1.set_title(\"Apparent Conductivity\")\nplt.show()"
      ]
    },
    {
      "cell_type": "markdown",
      "metadata": {},
      "source": [
        "## Optional: Write out dpred\n\nWrite DC resistivity data, topography and true model\n\n\n"
      ]
    },
    {
      "cell_type": "code",
      "execution_count": null,
      "metadata": {
        "collapsed": false
      },
      "outputs": [],
      "source": [
        "if write_output:\n    dir_path = os.path.dirname(__file__).split(os.path.sep)\n    dir_path.extend([\"outputs\"])\n    dir_path = os.path.sep.join(dir_path) + os.path.sep\n\n    if not os.path.exists(dir_path):\n        os.mkdir(dir_path)\n\n    # Add 10% Gaussian noise to each datum\n    np.random.seed(225)\n    std = 0.05 * np.abs(dpred)\n    dc_noise = std * np.random.randn(len(dpred))\n    dobs = dpred + dc_noise\n\n    # Create a survey with the original electrode locations\n    # and not the shifted ones\n    # Generate source list for DC survey line\n    source_list = generate_dcip_sources_line(\n        survey_type,\n        data_type,\n        dimension_type,\n        end_locations,\n        topo_xyz,\n        num_rx_per_src,\n        station_separation,\n    )\n    survey_original = dc.survey.Survey(source_list)\n\n    # Write out data at their original electrode locations (not shifted)\n    data_obj = data.Data(survey_original, dobs=dobs, standard_deviation=std)\n    fname = dir_path + \"dc_data.obs\"\n    write_dcip2d_ubc(fname, data_obj, \"volt\", \"dobs\")\n\n    fname = dir_path + \"topo_xyz.txt\"\n    np.savetxt(fname, topo_xyz, fmt=\"%.4e\")"
      ]
    }
  ],
  "metadata": {
    "kernelspec": {
      "display_name": "Python 3",
      "language": "python",
      "name": "python3"
    },
    "language_info": {
      "codemirror_mode": {
        "name": "ipython",
        "version": 3
      },
      "file_extension": ".py",
      "mimetype": "text/x-python",
      "name": "python",
      "nbconvert_exporter": "python",
      "pygments_lexer": "ipython3",
      "version": "3.8.19"
    }
  },
  "nbformat": 4,
  "nbformat_minor": 0
}