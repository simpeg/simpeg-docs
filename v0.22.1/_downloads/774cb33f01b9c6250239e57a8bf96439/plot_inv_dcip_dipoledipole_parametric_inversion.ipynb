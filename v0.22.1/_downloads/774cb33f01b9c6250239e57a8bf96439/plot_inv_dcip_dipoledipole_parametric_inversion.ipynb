{
  "cells": [
    {
      "cell_type": "markdown",
      "metadata": {},
      "source": [
        "\n# Parametric DC inversion with Dipole Dipole array\n\nThis is an example for a parametric inversion with a DC survey.\nResistivity structure of the subsurface is parameterized as following\nparameters:\n\n    - sigma_background: background conductivity\n    - sigma_block: block conductivity\n    - block_x0: horizotontal location of the block (center)\n    - block_dx: width of the block\n    - block_y0: depth of the block (center)\n    - block_dy: thickness of the block\n\nUser is promoted to try different initial values of the parameterized model.\n"
      ]
    },
    {
      "cell_type": "code",
      "execution_count": null,
      "metadata": {
        "collapsed": false
      },
      "outputs": [],
      "source": [
        "from simpeg.electromagnetics.static import resistivity as DC, utils as DCutils\nfrom discretize import TensorMesh\nfrom discretize.utils import active_from_xyz\nfrom simpeg import (\n    maps,\n    utils,\n    data_misfit,\n    regularization,\n    optimization,\n    inversion,\n    inverse_problem,\n    directives,\n)\nimport matplotlib.pyplot as plt\nfrom matplotlib import colors\nimport numpy as np\nfrom pylab import hist\n\ntry:\n    from pymatsolver import PardisoSolver as Solver\nexcept ImportError:\n    from simpeg import SolverLU as Solver\n\n\ndef run(\n    plotIt=True,\n    survey_type=\"dipole-dipole\",\n    rho_background=1e3,\n    rho_block=1e2,\n    block_x0=100,\n    block_dx=10,\n    block_y0=-10,\n    block_dy=5,\n):\n    np.random.seed(1)\n    # Initiate I/O class for DC\n    IO = DC.IO()\n    # Obtain ABMN locations\n\n    xmin, xmax = 0.0, 200.0\n    ymin, ymax = 0.0, 0.0\n    zmin, zmax = 0, 0\n    endl = np.array([[xmin, ymin, zmin], [xmax, ymax, zmax]])\n    # Generate DC survey object\n    survey = DCutils.generate_dcip_survey(\n        endl, survey_type=survey_type, dim=2, a=10, b=10, n=10\n    )\n    survey = IO.from_abmn_locations_to_survey(\n        survey.locations_a,\n        survey.locations_b,\n        survey.locations_m,\n        survey.locations_n,\n        survey_type,\n        data_dc_type=\"volt\",\n    )\n\n    # Obtain 2D TensorMesh\n    mesh, actind = IO.set_mesh()\n    # Flat topography\n    actind = active_from_xyz(\n        mesh, np.c_[mesh.cell_centers_x, mesh.cell_centers_x * 0.0]\n    )\n    survey.drape_electrodes_on_topography(mesh, actind, option=\"top\")\n    # Use Exponential Map: m = log(rho)\n    parametric_block = maps.ParametricBlock(mesh, slopeFact=1e2)\n    mapping = maps.ExpMap(mesh) * parametric_block\n    # Set true model\n    # val_background,val_block, block_x0, block_dx, block_y0, block_dy\n    mtrue = np.r_[np.log(1e3), np.log(10), 100, 10, -20, 10]\n\n    # Set initial model\n    m0 = np.r_[\n        np.log(rho_background),\n        np.log(rho_block),\n        block_x0,\n        block_dx,\n        block_y0,\n        block_dy,\n    ]\n    rho = mapping * mtrue\n    rho0 = mapping * m0\n    # Show the true conductivity model\n    fig = plt.figure(figsize=(12, 3))\n    ax = plt.subplot(111)\n    temp = rho.copy()\n    temp[~actind] = np.nan\n    out = mesh.plot_image(\n        temp,\n        grid=False,\n        ax=ax,\n        grid_opts={\"alpha\": 0.2},\n        pcolor_opts={\"cmap\": \"viridis\", \"norm\": colors.LogNorm(10, 1000)},\n    )\n    ax.plot(\n        survey.unique_electrode_locations[:, 0],\n        survey.unique_electrode_locations[:, 1],\n        \"k.\",\n    )\n    ax.set_xlim(IO.grids[:, 0].min(), IO.grids[:, 0].max())\n    ax.set_ylim(-IO.grids[:, 1].max(), IO.grids[:, 1].min())\n    cb = plt.colorbar(out[0])\n    cb.set_label(\"Resistivity (ohm-m)\")\n    ax.set_aspect(\"equal\")\n    ax.set_title(\"True resistivity model\")\n    plt.show()\n    # Show the true conductivity model\n    fig = plt.figure(figsize=(12, 3))\n    ax = plt.subplot(111)\n    temp = rho0.copy()\n    temp[~actind] = np.nan\n    out = mesh.plot_image(\n        temp,\n        grid=False,\n        ax=ax,\n        grid_opts={\"alpha\": 0.2},\n        pcolor_opts={\"cmap\": \"viridis\", \"norm\": colors.LogNorm(10, 1000)},\n    )\n    ax.plot(\n        survey.unique_electrode_locations[:, 0],\n        survey.unique_electrode_locations[:, 1],\n        \"k.\",\n    )\n    ax.set_xlim(IO.grids[:, 0].min(), IO.grids[:, 0].max())\n    ax.set_ylim(-IO.grids[:, 1].max(), IO.grids[:, 1].min())\n    cb = plt.colorbar(out[0])\n    cb.set_label(\"Resistivity (ohm-m)\")\n    ax.set_aspect(\"equal\")\n    ax.set_title(\"Initial resistivity model\")\n    plt.show()\n\n    # Generate 2.5D DC problem\n    # \"N\" means potential is defined at nodes\n    prb = DC.Simulation2DNodal(\n        mesh, survey=survey, rhoMap=mapping, storeJ=True, solver=Solver\n    )\n\n    # Make synthetic DC data with 5% Gaussian noise\n    data = prb.make_synthetic_data(mtrue, relative_error=0.05, add_noise=True)\n\n    # Show apparent resisitivty pseudo-section\n    IO.plotPseudoSection(data=data.dobs / IO.G, data_type=\"apparent_resistivity\")\n\n    # Show apparent resisitivty histogram\n    fig = plt.figure()\n    out = hist(data.dobs / IO.G, bins=20)\n    plt.show()\n    # Set standard_deviation\n    # floor\n    eps = 10 ** (-3.2)\n    # percentage\n    relative = 0.05\n    dmisfit = data_misfit.L2DataMisfit(simulation=prb, data=data)\n    uncert = abs(data.dobs) * relative + eps\n    dmisfit.standard_deviation = uncert\n\n    # Map for a regularization\n    mesh_1d = TensorMesh([parametric_block.nP])\n    # Related to inversion\n    reg = regularization.WeightedLeastSquares(mesh_1d, alpha_x=0.0)\n    opt = optimization.InexactGaussNewton(maxIter=10)\n    invProb = inverse_problem.BaseInvProblem(dmisfit, reg, opt)\n    target = directives.TargetMisfit()\n    invProb.beta = 0.0\n    inv = inversion.BaseInversion(invProb, directiveList=[target])\n    prb.counter = opt.counter = utils.Counter()\n    opt.LSshorten = 0.5\n    opt.remember(\"xc\")\n\n    # Run inversion\n    mopt = inv.run(m0)\n\n    # Convert obtained inversion model to resistivity\n    # rho = M(m), where M(.) is a mapping\n\n    rho_est = mapping * mopt\n    rho_true = rho.copy()\n    # show recovered conductivity\n    fig, ax = plt.subplots(2, 1, figsize=(20, 6))\n    out1 = mesh.plot_image(\n        rho_true,\n        pcolor_opts={\"cmap\": \"viridis\", \"norm\": colors.LogNorm(10, 1000)},\n        ax=ax[0],\n    )\n    out2 = mesh.plot_image(\n        rho_est,\n        pcolor_opts={\"cmap\": \"viridis\", \"norm\": colors.LogNorm(10, 1000)},\n        ax=ax[1],\n    )\n    out = [out1, out2]\n    for i in range(2):\n        ax[i].plot(\n            survey.unique_electrode_locations[:, 0],\n            survey.unique_electrode_locations[:, 1],\n            \"kv\",\n        )\n        ax[i].set_xlim(IO.grids[:, 0].min(), IO.grids[:, 0].max())\n        ax[i].set_ylim(-IO.grids[:, 1].max(), IO.grids[:, 1].min())\n        cb = plt.colorbar(out[i][0], ax=ax[i])\n        cb.set_label(r\"Resistivity ($\\Omega$m)\")\n        ax[i].set_xlabel(\"Northing (m)\")\n        ax[i].set_ylabel(\"Elevation (m)\")\n        ax[i].set_aspect(\"equal\")\n    ax[0].set_title(\"True resistivity model\")\n    ax[1].set_title(\"Recovered resistivity model\")\n    plt.tight_layout()\n    plt.show()\n\n\nif __name__ == \"__main__\":\n    run()\n    plt.show()"
      ]
    }
  ],
  "metadata": {
    "kernelspec": {
      "display_name": "Python 3",
      "language": "python",
      "name": "python3"
    },
    "language_info": {
      "codemirror_mode": {
        "name": "ipython",
        "version": 3
      },
      "file_extension": ".py",
      "mimetype": "text/x-python",
      "name": "python",
      "nbconvert_exporter": "python",
      "pygments_lexer": "ipython3",
      "version": "3.8.19"
    }
  },
  "nbformat": 4,
  "nbformat_minor": 0
}