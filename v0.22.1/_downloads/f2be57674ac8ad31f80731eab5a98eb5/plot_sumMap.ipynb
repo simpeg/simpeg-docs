{
  "cells": [
    {
      "cell_type": "markdown",
      "metadata": {},
      "source": [
        "\n# Maps: ComboMaps\n\nInvert synthetic magnetic data with variable background values\nand a single block anomaly buried at depth. We will use the Sum Map\nto invert for both the background values and an heterogeneous susceptibiilty\nmodel.\n\n.. code-block:: python\n    :linenos:\n"
      ]
    },
    {
      "cell_type": "code",
      "execution_count": null,
      "metadata": {
        "collapsed": false
      },
      "outputs": [],
      "source": [
        "from discretize import TensorMesh\nfrom discretize.utils import active_from_xyz\nfrom simpeg import (\n    utils,\n    maps,\n    regularization,\n    data_misfit,\n    optimization,\n    inverse_problem,\n    directives,\n    inversion,\n)\nfrom simpeg.potential_fields import magnetics\nimport numpy as np\nimport matplotlib.pyplot as plt\n\n\ndef run(plotIt=True):\n    h0_amplitude, h0_inclination, h0_declination = (50000.0, 90.0, 0.0)\n\n    # Create a mesh\n    dx = 5.0\n\n    hxind = [(dx, 5, -1.3), (dx, 10), (dx, 5, 1.3)]\n    hyind = [(dx, 5, -1.3), (dx, 10), (dx, 5, 1.3)]\n    hzind = [(dx, 5, -1.3), (dx, 10)]\n\n    mesh = TensorMesh([hxind, hyind, hzind], \"CCC\")\n\n    # Lets create a simple Gaussian topo and set the active cells\n    [xx, yy] = np.meshgrid(mesh.nodes_x, mesh.nodes_y)\n    zz = -np.exp((xx**2 + yy**2) / 75**2) + mesh.nodes_z[-1]\n\n    # We would usually load a topofile\n    topo = np.c_[utils.mkvc(xx), utils.mkvc(yy), utils.mkvc(zz)]\n\n    # Go from topo to array of indices of active cells\n    actv = active_from_xyz(mesh, topo, \"N\")\n    nC = int(actv.sum())\n    # Create and array of observation points\n    xr = np.linspace(-20.0, 20.0, 20)\n    yr = np.linspace(-20.0, 20.0, 20)\n    X, Y = np.meshgrid(xr, yr)\n\n    # Move the observation points 5m above the topo\n    Z = -np.exp((X**2 + Y**2) / 75**2) + mesh.nodes_z[-1] + 5.0\n\n    # Create a MAGsurvey\n    rxLoc = np.c_[utils.mkvc(X.T), utils.mkvc(Y.T), utils.mkvc(Z.T)]\n    rxLoc = magnetics.Point(rxLoc)\n    srcField = magnetics.UniformBackgroundField(\n        receiver_list=[rxLoc],\n        amplitude=h0_amplitude,\n        inclination=h0_inclination,\n        declination=h0_declination,\n    )\n    survey = magnetics.Survey(srcField)\n\n    # We can now create a susceptibility model and generate data\n    model = np.zeros(mesh.nC)\n\n    # Change values in half the domain\n    model[mesh.gridCC[:, 0] < 0] = 0.01\n\n    # Add a block in half-space\n    model = utils.model_builder.add_block(\n        mesh.gridCC, model, np.r_[-10, -10, 20], np.r_[10, 10, 40], 0.05\n    )\n\n    model = utils.mkvc(model)\n    model = model[actv]\n\n    # Create active map to go from reduce set to full\n    actvMap = maps.InjectActiveCells(mesh, actv, np.nan)\n\n    # Create reduced identity map\n    idenMap = maps.IdentityMap(nP=nC)\n\n    # Create the forward model operator\n    prob = magnetics.Simulation3DIntegral(\n        mesh,\n        survey=survey,\n        chiMap=idenMap,\n        ind_active=actv,\n        store_sensitivities=\"forward_only\",\n    )\n\n    # Compute linear forward operator and compute some data\n    data = prob.make_synthetic_data(\n        model, relative_error=0.0, noise_floor=1, add_noise=True\n    )\n\n    # Create a homogenous maps for the two domains\n    domains = [mesh.gridCC[actv, 0] < 0, mesh.gridCC[actv, 0] >= 0]\n    homogMap = maps.SurjectUnits(domains)\n\n    # Create a wire map for a second model space, voxel based\n    wires = maps.Wires((\"homo\", len(domains)), (\"hetero\", nC))\n\n    # Create Sum map\n    sumMap = maps.SumMap([homogMap * wires.homo, wires.hetero])\n\n    # Create the forward model operator\n    prob = magnetics.Simulation3DIntegral(\n        mesh, survey=survey, chiMap=sumMap, ind_active=actv, store_sensitivities=\"ram\"\n    )\n\n    # Make sensitivity weighting\n    # Take the cell number out of the scaling.\n    # Want to keep high sens for large volumes\n    wr = (\n        prob.getJtJdiag(np.ones(sumMap.shape[1]))\n        / np.r_[homogMap.P.T * mesh.cell_volumes[actv], mesh.cell_volumes[actv]] ** 2.0\n    )\n    # Scale the model spaces independently\n    wr[wires.homo.index] /= np.max((wires.homo * wr)) * utils.mkvc(\n        homogMap.P.sum(axis=0).flatten()\n    )\n    wr[wires.hetero.index] /= np.max(wires.hetero * wr)\n    wr = wr**0.5\n\n    ## Create a regularization\n    # For the homogeneous model\n    regMesh = TensorMesh([len(domains)])\n\n    reg_m1 = regularization.Sparse(regMesh, mapping=wires.homo)\n    reg_m1.set_weights(weights=wires.homo * wr)\n\n    reg_m1.norms = [0, 2]\n    reg_m1.reference_model = np.zeros(sumMap.shape[1])\n\n    # Regularization for the voxel model\n    reg_m2 = regularization.Sparse(\n        mesh, active_cells=actv, mapping=wires.hetero, gradient_type=\"components\"\n    )\n    reg_m2.set_weights(weights=wires.hetero * wr)\n\n    reg_m2.norms = [0, 0, 0, 0]\n    reg_m2.reference_model = np.zeros(sumMap.shape[1])\n\n    reg = reg_m1 + reg_m2\n\n    # Data misfit function\n    dmis = data_misfit.L2DataMisfit(simulation=prob, data=data)\n\n    # Add directives to the inversion\n    opt = optimization.ProjectedGNCG(\n        maxIter=100,\n        lower=0.0,\n        upper=1.0,\n        maxIterLS=20,\n        maxIterCG=10,\n        tolCG=1e-3,\n        tolG=1e-3,\n        eps=1e-6,\n    )\n    invProb = inverse_problem.BaseInvProblem(dmis, reg, opt)\n    betaest = directives.BetaEstimate_ByEig(beta0_ratio=1e-2)\n\n    # Here is where the norms are applied\n    # Use pick a threshold parameter empirically based on the distribution of\n    #  model parameters\n    IRLS = directives.Update_IRLS(f_min_change=1e-3, minGNiter=1)\n    update_Jacobi = directives.UpdatePreconditioner()\n    inv = inversion.BaseInversion(invProb, directiveList=[IRLS, betaest, update_Jacobi])\n\n    # Run the inversion\n    m0 = np.ones(sumMap.shape[1]) * 1e-4  # Starting model\n    prob.model = m0\n    mrecSum = inv.run(m0)\n    if plotIt:\n        mesh.plot_3d_slicer(\n            actvMap * model,\n            aspect=\"equal\",\n            zslice=30,\n            pcolor_opts={\"cmap\": \"inferno_r\"},\n            transparent=\"slider\",\n        )\n\n        mesh.plot_3d_slicer(\n            actvMap * sumMap * mrecSum,\n            aspect=\"equal\",\n            zslice=30,\n            pcolor_opts={\"cmap\": \"inferno_r\"},\n            transparent=\"slider\",\n        )\n\n\nif __name__ == \"__main__\":\n    run()\n    plt.show()"
      ]
    }
  ],
  "metadata": {
    "kernelspec": {
      "display_name": "Python 3",
      "language": "python",
      "name": "python3"
    },
    "language_info": {
      "codemirror_mode": {
        "name": "ipython",
        "version": 3
      },
      "file_extension": ".py",
      "mimetype": "text/x-python",
      "name": "python",
      "nbconvert_exporter": "python",
      "pygments_lexer": "ipython3",
      "version": "3.8.19"
    }
  },
  "nbformat": 4,
  "nbformat_minor": 0
}