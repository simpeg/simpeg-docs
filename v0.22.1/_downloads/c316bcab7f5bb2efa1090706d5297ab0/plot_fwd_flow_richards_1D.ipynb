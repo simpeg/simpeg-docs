{
  "cells": [
    {
      "cell_type": "markdown",
      "metadata": {},
      "source": [
        "\n# FLOW: Richards: 1D: Forward Simulation\n\nThe example shows simulation of Richards equation in 1D with a\nheterogeneous hydraulic conductivity function.\n\nThe haverkamp model is used with the same parameters as Celia1990_\nthe boundary and initial conditions are also the same. The simulation\ndomain is 40cm deep and is run for an hour with an exponentially\nincreasing time step that has a maximum of one minute. The general\nsetup of the experiment is an infiltration front that advances\ndownward through the model over time.\n\nFigure (a) shows the heterogeneous saturated hydraulic conductivity\nparameter and the location of the data collection, which happens every\nminute from 30 seconds into the simulation. Note that the simulation\nmesh and the data locations are not aligned, and linear interpolation\nis used to collect the data. The points are sampled in pressure head\nand then transformed to saturation using the haverkamp model for\nthe water retention curve.\n\nFigure (b) shows the data collected from the simulation. No noise is\nadded to the data at this time. The various data locations register\nthe infiltration event through increasing saturation as the front moves\npast the receiver. Notice that the slope of the curves are not equal\nas the hydraulic conductivity function is heterogeneous.\n\nFigure (c) shows the saturation field over the entire experiment. Here\nyou can see that the timestep is not constant over time (5 seconds\nat the start of the simulation, 60 seconds at the end). You can also\nsee the effect of the highly conductive layer in the model between\n20 and 25 cm depth. The water drains straight through the conductive\nunit and piles up on the other side - advancing the fluid front\nfaster than the other layers.\n\nRowan Cockett - 21/12/2016\n\n"
      ]
    },
    {
      "cell_type": "code",
      "execution_count": null,
      "metadata": {
        "collapsed": false
      },
      "outputs": [],
      "source": [
        "import matplotlib\nimport matplotlib.pyplot as plt\nimport numpy as np\n\nimport discretize\nfrom simpeg import maps\nfrom simpeg.flow import richards\n\n\ndef run(plotIt=True):\n    M = discretize.TensorMesh([np.ones(40)], x0=\"N\")\n    M.set_cell_gradient_BC(\"dirichlet\")\n    # We will use the haverkamp empirical model with parameters from Celia1990\n    k_fun, theta_fun = richards.empirical.haverkamp(\n        M,\n        A=1.1750e06,\n        gamma=4.74,\n        alpha=1.6110e06,\n        theta_s=0.287,\n        theta_r=0.075,\n        beta=3.96,\n    )\n\n    # Here we are making saturated hydraulic conductivity\n    # an exponential mapping to the model (defined below)\n    k_fun.KsMap = maps.ExpMap(nP=M.nC)\n\n    # Setup the boundary and initial conditions\n    bc = np.array([-61.5, -20.7])\n    h = np.zeros(M.nC) + bc[0]\n    prob = richards.SimulationNDCellCentered(\n        M,\n        hydraulic_conductivity=k_fun,\n        water_retention=theta_fun,\n        boundary_conditions=bc,\n        initial_conditions=h,\n        do_newton=False,\n        method=\"mixed\",\n        debug=False,\n    )\n    prob.time_steps = [(5, 25, 1.1), (60, 40)]\n\n    # Create the survey\n    locs = -np.arange(2, 38, 4.0).reshape(-1, 1)\n    times = np.arange(30, prob.time_mesh.cell_centers_x[-1], 60)\n    rxSat = richards.receivers.Saturation(locs, times)\n    survey = richards.Survey([rxSat])\n    prob.survey = survey\n\n    # Create a simple model for Ks\n    Ks = 1e-3\n    mtrue = np.ones(M.nC) * np.log(Ks)\n    mtrue[15:20] = np.log(5e-2)\n    mtrue[20:35] = np.log(3e-3)\n    mtrue[35:40] = np.log(1e-2)\n\n    # Create some synthetic data and fields\n    Hs = prob.fields(mtrue)\n    data = prob.make_synthetic_data(mtrue, f=Hs)\n\n    if plotIt:\n        plt.figure(figsize=(14, 9))\n\n        plt.subplot(221)\n        plt.plot(np.log10(np.exp(mtrue)), M.gridCC)\n        plt.title(\"(a) True model and data locations\")\n        plt.ylabel(\"Depth, cm\")\n        plt.xlabel(\"Hydraulic conductivity, $log_{10}(K_s)$\")\n        plt.plot([-3.25] * len(locs), locs, \"ro\")\n        plt.legend((\"True model\", \"Data locations\"))\n\n        plt.subplot(222)\n        plt.plot(times / 60, data.dobs.reshape((-1, len(locs))))\n        plt.title(\"(b) True data over time at all depths\")\n        plt.xlabel(\"Time, minutes\")\n        plt.ylabel(\"Saturation\")\n\n        ax = plt.subplot(212)\n        mesh2d = discretize.TensorMesh([prob.time_mesh.h[0] / 60, prob.mesh.h[0]], \"0N\")\n        sats = [theta_fun(_) for _ in Hs]\n        clr = mesh2d.plot_image(np.c_[sats][1:, :], ax=ax)\n        cmap0 = matplotlib.cm.RdYlBu_r\n        clr[0].set_cmap(cmap0)\n        c = plt.colorbar(clr[0])\n        c.set_label(\"Saturation $\\\\theta$\")\n        plt.xlabel(\"Time, minutes\")\n        plt.ylabel(\"Depth, cm\")\n        plt.title(\"(c) Saturation over time\")\n\n        plt.tight_layout()\n\n\nif __name__ == \"__main__\":\n    run()\n    plt.show()"
      ]
    }
  ],
  "metadata": {
    "kernelspec": {
      "display_name": "Python 3",
      "language": "python",
      "name": "python3"
    },
    "language_info": {
      "codemirror_mode": {
        "name": "ipython",
        "version": 3
      },
      "file_extension": ".py",
      "mimetype": "text/x-python",
      "name": "python",
      "nbconvert_exporter": "python",
      "pygments_lexer": "ipython3",
      "version": "3.8.19"
    }
  },
  "nbformat": 4,
  "nbformat_minor": 0
}