{
  "cells": [
    {
      "cell_type": "code",
      "execution_count": null,
      "metadata": {
        "collapsed": false
      },
      "outputs": [],
      "source": [
        "%matplotlib inline"
      ]
    },
    {
      "cell_type": "markdown",
      "metadata": {},
      "source": [
        "\n# 3D DC inversion of Dipole Dipole array\n\nThis is an example for 3D DC inversion. The model consists of 2 spheres,\none conductive, the other one resistive compared to the background.\n\nWe restrain the inversion to the Core Mesh through the use an Active Cells\nmapping that we combine with an exponetial mapping to invert\nin log conductivity space. Here mapping,  $\\mathcal{M}$,\nindicates transformation of our model to a different space:\n\n\\begin{align}\\sigma = \\mathcal{M}(\\mathbf{m})\\end{align}\n\nFollowing example will show you how user can implement a 3D DC inversion.\n"
      ]
    },
    {
      "cell_type": "code",
      "execution_count": null,
      "metadata": {
        "collapsed": false
      },
      "outputs": [],
      "source": [
        "import discretize\nfrom SimPEG import (\n    maps,\n    utils,\n    data_misfit,\n    regularization,\n    optimization,\n    inverse_problem,\n    directives,\n    inversion,\n)\nfrom SimPEG.electromagnetics.static import resistivity as DC, utils as DCutils\nimport numpy as np\nimport matplotlib.pyplot as plt\n\ntry:\n    from pymatsolver import Pardiso as Solver\nexcept ImportError:\n    from SimPEG import SolverLU as Solver\n\nnp.random.seed(12345)\n\n# 3D Mesh\n#########\n\n# Cell sizes\ncsx, csy, csz = 1.0, 1.0, 0.5\n# Number of core cells in each direction\nncx, ncy, ncz = 41, 31, 21\n# Number of padding cells to add in each direction\nnpad = 7\n# Vectors of cell lengths in each direction with padding\nhx = [(csx, npad, -1.5), (csx, ncx), (csx, npad, 1.5)]\nhy = [(csy, npad, -1.5), (csy, ncy), (csy, npad, 1.5)]\nhz = [(csz, npad, -1.5), (csz, ncz)]\n# Create mesh and center it\nmesh = discretize.TensorMesh([hx, hy, hz], x0=\"CCN\")\n\n# 2-spheres Model Creation"
      ]
    },
    {
      "cell_type": "code",
      "execution_count": null,
      "metadata": {
        "collapsed": false
      },
      "outputs": [],
      "source": [
        "# Spheres parameters\nx0, y0, z0, r0 = -6.0, 0.0, -3.5, 3.0\nx1, y1, z1, r1 = 6.0, 0.0, -3.5, 3.0\n\n# ln conductivity\nln_sigback = -5.0\nln_sigc = -3.0\nln_sigr = -6.0\n\n# Define model\n# Background\nmtrue = ln_sigback * np.ones(mesh.nC)\n\n# Conductive sphere\ncsph = (\n    np.sqrt(\n        (mesh.gridCC[:, 0] - x0) ** 2.0\n        + (mesh.gridCC[:, 1] - y0) ** 2.0\n        + (mesh.gridCC[:, 2] - z0) ** 2.0\n    )\n) < r0\nmtrue[csph] = ln_sigc * np.ones_like(mtrue[csph])\n\n# Resistive Sphere\nrsph = (\n    np.sqrt(\n        (mesh.gridCC[:, 0] - x1) ** 2.0\n        + (mesh.gridCC[:, 1] - y1) ** 2.0\n        + (mesh.gridCC[:, 2] - z1) ** 2.0\n    )\n) < r1\nmtrue[rsph] = ln_sigr * np.ones_like(mtrue[rsph])\n\n# Extract Core Mesh\nxmin, xmax = -20.0, 20.0\nymin, ymax = -15.0, 15.0\nzmin, zmax = -10.0, 0.0\nxyzlim = np.r_[[[xmin, xmax], [ymin, ymax], [zmin, zmax]]]\nactind, meshCore = utils.mesh_utils.extract_core_mesh(xyzlim, mesh)\n\n\n# Function to plot cylinder border\ndef getCylinderPoints(xc, zc, r):\n    xLocOrig1 = np.arange(-r, r + r / 10.0, r / 10.0)\n    xLocOrig2 = np.arange(r, -r - r / 10.0, -r / 10.0)\n    # Top half of cylinder\n    zLoc1 = np.sqrt(-(xLocOrig1**2.0) + r**2.0) + zc\n    # Bottom half of cylinder\n    zLoc2 = -np.sqrt(-(xLocOrig2**2.0) + r**2.0) + zc\n    # Shift from x = 0 to xc\n    xLoc1 = xLocOrig1 + xc * np.ones_like(xLocOrig1)\n    xLoc2 = xLocOrig2 + xc * np.ones_like(xLocOrig2)\n\n    topHalf = np.vstack([xLoc1, zLoc1]).T\n    topHalf = topHalf[0:-1, :]\n    bottomHalf = np.vstack([xLoc2, zLoc2]).T\n    bottomHalf = bottomHalf[0:-1, :]\n\n    cylinderPoints = np.vstack([topHalf, bottomHalf])\n    cylinderPoints = np.vstack([cylinderPoints, topHalf[0, :]])\n    return cylinderPoints\n\n\n# Setup a synthetic Dipole-Dipole Survey\n# Line 1\nxmin, xmax = -15.0, 15.0\nymin, ymax = 0.0, 0.0\nzmin, zmax = 0, 0\nendl = np.array([[xmin, ymin, zmin], [xmax, ymax, zmax]])\nsurvey1 = DCutils.generate_dcip_survey(\n    endl, \"dipole-dipole\", dim=mesh.dim, a=3, b=3, n=8\n)\n\n# Line 2\nxmin, xmax = -15.0, 15.0\nymin, ymax = 5.0, 5.0\nzmin, zmax = 0, 0\nendl = np.array([[xmin, ymin, zmin], [xmax, ymax, zmax]])\nsurvey2 = DCutils.generate_dcip_survey(\n    endl, \"dipole-dipole\", dim=mesh.dim, a=3, b=3, n=8\n)\n\n# Line 3\nxmin, xmax = -15.0, 15.0\nymin, ymax = -5.0, -5.0\nzmin, zmax = 0, 0\nendl = np.array([[xmin, ymin, zmin], [xmax, ymax, zmax]])\nsurvey3 = DCutils.generate_dcip_survey(\n    endl, \"dipole-dipole\", dim=mesh.dim, a=3, b=3, n=8\n)\n\n# Concatenate lines\nsurvey = DC.Survey(survey1.source_list + survey2.source_list + survey3.source_list)\n\n# Setup Problem with exponential mapping and Active cells only in the core mesh\nexpmap = maps.ExpMap(mesh)\nmapactive = maps.InjectActiveCells(mesh=mesh, indActive=actind, valInactive=-5.0)\nmapping = expmap * mapactive\nproblem = DC.Simulation3DCellCentered(\n    mesh, survey=survey, sigmaMap=mapping, solver=Solver, bc_type=\"Neumann\"\n)\n\ndata = problem.make_synthetic_data(mtrue[actind], relative_error=0.05, add_noise=True)\n\n# Least Squares Inversion"
      ]
    },
    {
      "cell_type": "code",
      "execution_count": null,
      "metadata": {
        "collapsed": false
      },
      "outputs": [],
      "source": [
        "# Initial Model\nm0 = np.median(ln_sigback) * np.ones(mapping.nP)\n# Data Misfit\ndmis = data_misfit.L2DataMisfit(simulation=problem, data=data)\n# Regularization\nregT = regularization.WeightedLeastSquares(\n    mesh, active_cells=actind, alpha_s=1e-6, alpha_x=1.0, alpha_y=1.0, alpha_z=1.0\n)\n\n# Optimization Scheme\nopt = optimization.InexactGaussNewton(maxIter=10)\n\n# Form the problem\nopt.remember(\"xc\")\ninvProb = inverse_problem.BaseInvProblem(dmis, regT, opt)\n\n# Directives for Inversions\nbeta = directives.BetaEstimate_ByEig(beta0_ratio=1.0)\nTarget = directives.TargetMisfit()\nbetaSched = directives.BetaSchedule(coolingFactor=5.0, coolingRate=2)\n\ninv = inversion.BaseInversion(invProb, directiveList=[beta, Target, betaSched])\n# Run Inversion\nminv = inv.run(m0)\n\n# Final Plot\n############\n\nfig, ax = plt.subplots(2, 2, figsize=(12, 6))\nax = utils.mkvc(ax)\n\ncyl0v = getCylinderPoints(x0, z0, r0)\ncyl1v = getCylinderPoints(x1, z1, r1)\n\ncyl0h = getCylinderPoints(x0, y0, r0)\ncyl1h = getCylinderPoints(x1, y1, r1)\n\nclim = [(mtrue[actind]).min(), (mtrue[actind]).max()]\n\ndat = meshCore.plot_slice(\n    ((mtrue[actind])), ax=ax[0], normal=\"Y\", clim=clim, ind=int(ncy / 2)\n)\nax[0].set_title(\"Ground Truth, Vertical\")\nax[0].set_aspect(\"equal\")\n\nmeshCore.plot_slice((minv), ax=ax[1], normal=\"Y\", clim=clim, ind=int(ncy / 2))\nax[1].set_aspect(\"equal\")\nax[1].set_title(\"Inverted Model, Vertical\")\n\nmeshCore.plot_slice(\n    ((mtrue[actind])), ax=ax[2], normal=\"Z\", clim=clim, ind=int(ncz / 2)\n)\nax[2].set_title(\"Ground Truth, Horizontal\")\nax[2].set_aspect(\"equal\")\n\nmeshCore.plot_slice((minv), ax=ax[3], normal=\"Z\", clim=clim, ind=int(ncz / 2))\nax[3].set_title(\"Inverted Model, Horizontal\")\nax[3].set_aspect(\"equal\")\n\nfor i in range(2):\n    ax[i].plot(cyl0v[:, 0], cyl0v[:, 1], \"k--\")\n    ax[i].plot(cyl1v[:, 0], cyl1v[:, 1], \"k--\")\nfor i in range(2, 4):\n    ax[i].plot(cyl1h[:, 0], cyl1h[:, 1], \"k--\")\n    ax[i].plot(cyl0h[:, 0], cyl0h[:, 1], \"k--\")\n\nfig.subplots_adjust(right=0.8)\ncbar_ax = fig.add_axes([0.85, 0.15, 0.05, 0.7])\ncb = plt.colorbar(dat[0], ax=cbar_ax)\ncb.set_label(\"ln conductivity\")\n\ncbar_ax.axis(\"off\")\n\nplt.show()"
      ]
    }
  ],
  "metadata": {
    "kernelspec": {
      "display_name": "Python 3",
      "language": "python",
      "name": "python3"
    },
    "language_info": {
      "codemirror_mode": {
        "name": "ipython",
        "version": 3
      },
      "file_extension": ".py",
      "mimetype": "text/x-python",
      "name": "python",
      "nbconvert_exporter": "python",
      "pygments_lexer": "ipython3",
      "version": "3.8.16"
    }
  },
  "nbformat": 4,
  "nbformat_minor": 0
}