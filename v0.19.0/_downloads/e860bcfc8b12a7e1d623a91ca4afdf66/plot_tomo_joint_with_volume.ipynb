{
  "cells": [
    {
      "cell_type": "code",
      "execution_count": null,
      "metadata": {
        "collapsed": false
      },
      "outputs": [],
      "source": [
        "%matplotlib inline"
      ]
    },
    {
      "cell_type": "markdown",
      "metadata": {},
      "source": [
        "\n# Straight Ray with Volume Data Misfit Term\n\nBased on the SEG abstract Heagy, Cockett and Oldenburg, 2014.\n\nHeagy, L. J., Cockett, A. R., & Oldenburg, D. W. (2014, August 5).\nParametrized Inversion Framework for Proppant Volume in a Hydraulically\nFractured Reservoir. SEG Technical Program Expanded Abstracts 2014.\nSociety of Exploration Geophysicists. doi:10.1190/segam2014-1639.1\n\nThis example is a simple joint inversion that consists of a\n\n    - data misfit for the tomography problem\n    - data misfit for the volume of the inclusions\n      (uses the effective medium theory mapping)\n    - model regularization\n"
      ]
    },
    {
      "cell_type": "code",
      "execution_count": null,
      "metadata": {
        "collapsed": false
      },
      "outputs": [],
      "source": [
        "import numpy as np\nimport scipy.sparse as sp\nimport matplotlib.pyplot as plt\n\nfrom SimPEG.seismic import straight_ray_tomography as tomo\nimport discretize\nfrom SimPEG import (\n    maps,\n    utils,\n    regularization,\n    optimization,\n    inverse_problem,\n    inversion,\n    data_misfit,\n    objective_function,\n)\n\n\nclass Volume(objective_function.BaseObjectiveFunction):\n    r\"\"\"\n    A regularization on the volume integral of the model\n\n    .. math::\n\n        \\phi_v = \\frac{1}{2}|| \\int_V m dV - \\text{knownVolume} ||^2\n    \"\"\"\n\n    def __init__(self, mesh, knownVolume=0.0, **kwargs):\n        self.mesh = mesh\n        self.knownVolume = knownVolume\n        super().__init__(**kwargs)\n\n    @property\n    def knownVolume(self):\n        \"\"\"known volume\"\"\"\n        return self._knownVolume\n\n    @knownVolume.setter\n    def knownVolume(self, value):\n        self._knownVolume = utils.validate_float(\"knownVolume\", value, min_val=0.0)\n\n    def __call__(self, m):\n        return 0.5 * (self.estVol(m) - self.knownVolume) ** 2\n\n    def estVol(self, m):\n        return np.inner(self.mesh.cell_volumes, m)\n\n    def deriv(self, m):\n        # return (self.mesh.cell_volumes * np.inner(self.mesh.cell_volumes, m))\n        return self.mesh.cell_volumes * (\n            self.knownVolume - np.inner(self.mesh.cell_volumes, m)\n        )\n\n    def deriv2(self, m, v=None):\n        if v is not None:\n            return utils.mkvc(\n                self.mesh.cell_volumes * np.inner(self.mesh.cell_volumes, v)\n            )\n        else:\n            # TODO: this is inefficent. It is a fully dense matrix\n            return sp.csc_matrix(\n                np.outer(self.mesh.cell_volumes, self.mesh.cell_volumes)\n            )\n\n\ndef run(plotIt=True):\n    nC = 40\n    de = 1.0\n    h = np.ones(nC) * de / nC\n    M = discretize.TensorMesh([h, h])\n\n    y = np.linspace(M.cell_centers_y[0], M.cell_centers_x[-1], int(np.floor(nC / 4)))\n    rlocs = np.c_[0 * y + M.cell_centers_x[-1], y]\n    rx = tomo.Rx(rlocs)\n\n    source_list = [\n        tomo.Src(location=np.r_[M.cell_centers_x[0], yi], receiver_list=[rx])\n        for yi in y\n    ]\n\n    # phi model\n    phi0 = 0\n    phi1 = 0.65\n    phitrue = utils.model_builder.defineBlock(\n        M.gridCC, [0.4, 0.6], [0.6, 0.4], [phi1, phi0]\n    )\n\n    knownVolume = np.sum(phitrue * M.cell_volumes)\n    print(\"True Volume: {}\".format(knownVolume))\n\n    # Set up true conductivity model and plot the model transform\n    sigma0 = np.exp(1)\n    sigma1 = 1e4\n\n    if plotIt:\n        fig, ax = plt.subplots(1, 1)\n        sigmaMapTest = maps.SelfConsistentEffectiveMedium(\n            nP=1000, sigma0=sigma0, sigma1=sigma1, rel_tol=1e-1, maxIter=150\n        )\n        testphis = np.linspace(0.0, 1.0, 1000)\n\n        sigetest = sigmaMapTest * testphis\n        ax.semilogy(testphis, sigetest)\n        ax.set_title(\"Model Transform\")\n        ax.set_xlabel(r\"$\\varphi$\")\n        ax.set_ylabel(r\"$\\sigma$\")\n\n    sigmaMap = maps.SelfConsistentEffectiveMedium(M, sigma0=sigma0, sigma1=sigma1)\n\n    # scale the slowness so it is on a ~linear scale\n    slownessMap = maps.LogMap(M) * sigmaMap\n\n    # set up the problem and survey\n    survey = tomo.Survey(source_list)\n    problem = tomo.Simulation(M, survey=survey, slownessMap=slownessMap)\n\n    if plotIt:\n        _, ax = plt.subplots(1, 1)\n        cb = plt.colorbar(M.plot_image(phitrue, ax=ax)[0], ax=ax)\n        survey.plot(ax=ax)\n        cb.set_label(r\"$\\varphi$\")\n\n    # get observed data\n    data = problem.make_synthetic_data(phitrue, relative_error=0.03, add_noise=True)\n    dpred = problem.dpred(np.zeros(M.nC))\n\n    # objective function pieces\n    reg = regularization.WeightedLeastSquares(M)\n    dmis = data_misfit.L2DataMisfit(simulation=problem, data=data)\n    dmisVol = Volume(mesh=M, knownVolume=knownVolume)\n    beta = 0.25\n    maxIter = 15\n\n    # without the volume regularization\n    opt = optimization.ProjectedGNCG(maxIter=maxIter, lower=0.0, upper=1.0)\n    opt.remember(\"xc\")\n    invProb = inverse_problem.BaseInvProblem(dmis, reg, opt, beta=beta)\n    inv = inversion.BaseInversion(invProb)\n\n    mopt1 = inv.run(np.zeros(M.nC) + 1e-16)\n    print(\n        \"\\nTotal recovered volume (no vol misfit term in inversion): \"\n        \"{}\".format(dmisVol(mopt1))\n    )\n\n    # with the volume regularization\n    vol_multiplier = 9e4\n    reg2 = reg\n    dmis2 = dmis + vol_multiplier * dmisVol\n    opt2 = optimization.ProjectedGNCG(maxIter=maxIter, lower=0.0, upper=1.0)\n    opt2.remember(\"xc\")\n    invProb2 = inverse_problem.BaseInvProblem(dmis2, reg2, opt2, beta=beta)\n    inv2 = inversion.BaseInversion(invProb2)\n\n    mopt2 = inv2.run(np.zeros(M.nC) + 1e-16)\n    print(\"\\nTotal volume (vol misfit term in inversion): {}\".format(dmisVol(mopt2)))\n\n    # plot results\n\n    if plotIt:\n        fig, ax = plt.subplots(1, 1)\n        ax.plot(data.dobs)\n        ax.plot(dpred)\n        ax.plot(problem.dpred(mopt1), \"o\")\n        ax.plot(problem.dpred(mopt2), \"s\")\n        ax.legend([\"dobs\", \"dpred0\", \"dpred w/o Vol\", \"dpred with Vol\"])\n\n        fig, ax = plt.subplots(1, 3, figsize=(16, 4))\n        im0 = M.plot_image(phitrue, ax=ax[0])[0]\n        im1 = M.plot_image(mopt1, ax=ax[1])[0]\n        im2 = M.plot_image(mopt2, ax=ax[2])[0]\n\n        for im in [im0, im1, im2]:\n            im.set_clim([0.0, phi1])\n\n        plt.colorbar(im0, ax=ax[0])\n        plt.colorbar(im1, ax=ax[1])\n        plt.colorbar(im2, ax=ax[2])\n\n        ax[0].set_title(\"true, vol: {:1.3e}\".format(knownVolume))\n        ax[1].set_title(\n            \"recovered(no Volume term), vol: {:1.3e} \".format(dmisVol(mopt1))\n        )\n        ax[2].set_title(\n            \"recovered(with Volume term), vol: {:1.3e} \".format(dmisVol(mopt2))\n        )\n\n        plt.tight_layout()\n\n\nif __name__ == \"__main__\":\n    run()\n    plt.show()"
      ]
    }
  ],
  "metadata": {
    "kernelspec": {
      "display_name": "Python 3",
      "language": "python",
      "name": "python3"
    },
    "language_info": {
      "codemirror_mode": {
        "name": "ipython",
        "version": 3
      },
      "file_extension": ".py",
      "mimetype": "text/x-python",
      "name": "python",
      "nbconvert_exporter": "python",
      "pygments_lexer": "ipython3",
      "version": "3.8.16"
    }
  },
  "nbformat": 4,
  "nbformat_minor": 0
}