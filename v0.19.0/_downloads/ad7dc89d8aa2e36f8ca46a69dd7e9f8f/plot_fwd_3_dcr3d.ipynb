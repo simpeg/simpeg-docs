{
  "cells": [
    {
      "cell_type": "code",
      "execution_count": null,
      "metadata": {
        "collapsed": false
      },
      "outputs": [],
      "source": [
        "%matplotlib inline"
      ]
    },
    {
      "cell_type": "markdown",
      "metadata": {},
      "source": [
        "\n# DC Resistivity Forward Simulation in 3D\n\nHere we use the module *SimPEG.electromagnetics.static.resistivity* to predict\nDC resistivity data on an OcTree mesh. In this tutorial, we focus on the following:\n\n    - How to define the survey\n    - How to definine a tree mesh based on the survey geometry\n    - How to define the forward simulations\n    - How to predict DC data for a synthetic conductivity model\n    - How to include surface topography\n    - The units of the model and resulting data\n    - Plotting DC data in 3D\n\n\nIn this case, we simulate dipole-dipole data for three East-West lines and two\nNorth-South lines.\n"
      ]
    },
    {
      "cell_type": "markdown",
      "metadata": {},
      "source": [
        "## Import modules\n\n\n\n"
      ]
    },
    {
      "cell_type": "code",
      "execution_count": null,
      "metadata": {
        "collapsed": false
      },
      "outputs": [],
      "source": [
        "import os\nimport numpy as np\nimport matplotlib as mpl\nimport matplotlib.pyplot as plt\n\nfrom discretize import TreeMesh\nfrom discretize.utils import mkvc, refine_tree_xyz, active_from_xyz\n\nfrom SimPEG import maps, data\nfrom SimPEG.utils import model_builder\nfrom SimPEG.utils.io_utils.io_utils_electromagnetics import write_dcip_xyz\nfrom SimPEG.electromagnetics.static import resistivity as dc\nfrom SimPEG.electromagnetics.static.utils.static_utils import (\n    generate_dcip_sources_line,\n    apparent_resistivity_from_voltage,\n)\n\n# To plot DC data in 3D, the user must have the plotly package\ntry:\n    import plotly\n    from SimPEG.electromagnetics.static.utils.static_utils import plot_3d_pseudosection\n\n    has_plotly = True\nexcept ImportError:\n    has_plotly = False\n    pass\n\ntry:\n    from pymatsolver import Pardiso as Solver\nexcept ImportError:\n    from SimPEG import SolverLU as Solver\n\nmpl.rcParams.update({\"font.size\": 16})\nwrite_output = False\n\n# sphinx_gallery_thumbnail_number = 2"
      ]
    },
    {
      "cell_type": "markdown",
      "metadata": {},
      "source": [
        "## Defining Topography\n\nHere we define surface topography as an (N, 3) numpy array. Topography could\nalso be loaded from a file. In our case, our survey takes place within a circular\ndepression.\n\n\n"
      ]
    },
    {
      "cell_type": "code",
      "execution_count": null,
      "metadata": {
        "collapsed": false
      },
      "outputs": [],
      "source": [
        "x_topo, y_topo = np.meshgrid(\n    np.linspace(-2100, 2100, 141), np.linspace(-2000, 2000, 141)\n)\ns = np.sqrt(x_topo**2 + y_topo**2)\nz_topo = 10 + (1 / np.pi) * 140 * (-np.pi / 2 + np.arctan((s - 600.0) / 160.0))\nx_topo, y_topo, z_topo = mkvc(x_topo), mkvc(y_topo), mkvc(z_topo)\ntopo_xyz = np.c_[x_topo, y_topo, z_topo]"
      ]
    },
    {
      "cell_type": "markdown",
      "metadata": {},
      "source": [
        "## Construct the DC Survey\n\nHere we define 5 DC lines that use a dipole-dipole electrode configuration;\nthree lines along the East-West direction and 2 lines along the North-South direction.\nFor each source, we must define the AB electrode locations. For each receiver\nwe must define the MN electrode locations. Instead of creating the survey\nfrom scratch (see 1D example), we will use the *generat_dcip_sources_line* utility.\nThis utility will give us the source list for a given DC/IP line. We can append\nthe sources for multiple lines to create the survey.\n\n\n"
      ]
    },
    {
      "cell_type": "code",
      "execution_count": null,
      "metadata": {
        "collapsed": false
      },
      "outputs": [],
      "source": [
        "# Define the parameters for each survey line\nsurvey_type = \"dipole-dipole\"\ndata_type = \"volt\"\ndimension_type = \"3D\"\nend_locations_list = [\n    np.r_[-1000.0, 1000.0, 0.0, 0.0],\n    np.r_[-350.0, -350.0, -1000.0, 1000.0],\n    np.r_[350.0, 350.0, -1000.0, 1000.0],\n]\nstation_separation = 100.0\nnum_rx_per_src = 8\n\n# The source lists for each line can be appended to create the source\n# list for the whole survey.\nsource_list = []\nfor ii in range(0, len(end_locations_list)):\n    source_list += generate_dcip_sources_line(\n        survey_type,\n        data_type,\n        dimension_type,\n        end_locations_list[ii],\n        topo_xyz,\n        num_rx_per_src,\n        station_separation,\n    )\n\n# Define the survey\nsurvey = dc.survey.Survey(source_list)"
      ]
    },
    {
      "cell_type": "markdown",
      "metadata": {},
      "source": [
        "## Create OcTree Mesh\n\nHere, we create the OcTree mesh that will be used to predict DC data.\n\n\n\n"
      ]
    },
    {
      "cell_type": "code",
      "execution_count": null,
      "metadata": {
        "collapsed": false
      },
      "outputs": [],
      "source": [
        "# Defining domain side and minimum cell size\ndh = 25.0  # base cell width\ndom_width_x = 6000.0  # domain width x\ndom_width_y = 6000.0  # domain width y\ndom_width_z = 4000.0  # domain width z\nnbcx = 2 ** int(np.round(np.log(dom_width_x / dh) / np.log(2.0)))  # num. base cells x\nnbcy = 2 ** int(np.round(np.log(dom_width_y / dh) / np.log(2.0)))  # num. base cells y\nnbcz = 2 ** int(np.round(np.log(dom_width_z / dh) / np.log(2.0)))  # num. base cells z\n\n# Define the base mesh\nhx = [(dh, nbcx)]\nhy = [(dh, nbcy)]\nhz = [(dh, nbcz)]\nmesh = TreeMesh([hx, hy, hz], x0=\"CCN\")\n\n# Mesh refinement based on topography\nk = np.sqrt(np.sum(topo_xyz[:, 0:2] ** 2, axis=1)) < 1200\nmesh = refine_tree_xyz(\n    mesh, topo_xyz[k, :], octree_levels=[0, 6, 8], method=\"surface\", finalize=False\n)\n\n# Mesh refinement near sources and receivers.\nelectrode_locations = np.r_[\n    survey.locations_a, survey.locations_b, survey.locations_m, survey.locations_n\n]\nunique_locations = np.unique(electrode_locations, axis=0)\nmesh = refine_tree_xyz(\n    mesh, unique_locations, octree_levels=[4, 6, 4], method=\"radial\", finalize=False\n)\n\n# Finalize the mesh\nmesh.finalize()"
      ]
    },
    {
      "cell_type": "markdown",
      "metadata": {},
      "source": [
        "## Create Conductivity Model and Mapping for OcTree Mesh\n\nHere we define the conductivity model that will be used to predict DC\nresistivity data. The model consists of a conductive sphere and a\nresistive sphere within a moderately conductive background. Note that\nyou can carry through this work flow with a resistivity model if desired.\n\n\n"
      ]
    },
    {
      "cell_type": "code",
      "execution_count": null,
      "metadata": {
        "collapsed": false
      },
      "outputs": [],
      "source": [
        "# Define conductivity model in S/m (or resistivity model in Ohm m)\nair_value = 1e-8\nbackground_value = 1e-2\nconductor_value = 1e-1\nresistor_value = 1e-3\n\n# Find active cells in forward modeling (cell below surface)\nind_active = active_from_xyz(mesh, topo_xyz)\n\n# Define mapping from model to active cells\nnC = int(ind_active.sum())\nconductivity_map = maps.InjectActiveCells(mesh, ind_active, air_value)\n\n# Define model\nconductivity_model = background_value * np.ones(nC)\n\nind_conductor = model_builder.getIndicesSphere(\n    np.r_[-350.0, 0.0, -300.0], 160.0, mesh.cell_centers[ind_active, :]\n)\nconductivity_model[ind_conductor] = conductor_value\n\nind_resistor = model_builder.getIndicesSphere(\n    np.r_[350.0, 0.0, -300.0], 160.0, mesh.cell_centers[ind_active, :]\n)\nconductivity_model[ind_resistor] = resistor_value\n\n# Plot Conductivity Model\nfig = plt.figure(figsize=(10, 4))\n\nplotting_map = maps.InjectActiveCells(mesh, ind_active, np.nan)\nlog_mod = np.log10(conductivity_model)\n\nax1 = fig.add_axes([0.15, 0.15, 0.68, 0.75])\nmesh.plot_slice(\n    plotting_map * log_mod,\n    ax=ax1,\n    normal=\"Y\",\n    ind=int(len(mesh.h[1]) / 2),\n    grid=True,\n    clim=(np.log10(resistor_value), np.log10(conductor_value)),\n    pcolor_opts={\"cmap\": mpl.cm.viridis},\n)\nax1.set_title(\"Conductivity Model\")\nax1.set_xlabel(\"x (m)\")\nax1.set_ylabel(\"z (m)\")\nax1.set_xlim([-1000, 1000])\nax1.set_ylim([-1000, 0])\n\nax2 = fig.add_axes([0.84, 0.15, 0.03, 0.75])\nnorm = mpl.colors.Normalize(\n    vmin=np.log10(resistor_value), vmax=np.log10(conductor_value)\n)\ncbar = mpl.colorbar.ColorbarBase(\n    ax2, cmap=mpl.cm.viridis, norm=norm, orientation=\"vertical\", format=\"$10^{%.1f}$\"\n)\ncbar.set_label(\"Conductivity [S/m]\", rotation=270, labelpad=15, size=12)"
      ]
    },
    {
      "cell_type": "markdown",
      "metadata": {},
      "source": [
        "## Project Survey to Discretized Topography\n\nIt is important that electrodes are not modeled as being in the air. Even if the\nelectrodes are properly located along surface topography, they may lie above\nthe *discretized* topography. This step is carried out to ensure all electrodes\nlie on the discretized surface.\n\n\n\n"
      ]
    },
    {
      "cell_type": "code",
      "execution_count": null,
      "metadata": {
        "collapsed": false
      },
      "outputs": [],
      "source": [
        "survey.drape_electrodes_on_topography(mesh, ind_active, option=\"top\")"
      ]
    },
    {
      "cell_type": "markdown",
      "metadata": {},
      "source": [
        "## Predict DC Resistivity Data\n\nHere we predict DC resistivity data. If the keyword argument *sigmaMap* is\ndefined, the simulation will expect a conductivity model. If the keyword\nargument *rhoMap* is defined, the simulation will expect a resistivity model.\n\n\n\n\n"
      ]
    },
    {
      "cell_type": "code",
      "execution_count": null,
      "metadata": {
        "collapsed": false
      },
      "outputs": [],
      "source": [
        "# Define the DC simulation\nsimulation = dc.simulation.Simulation3DNodal(\n    mesh, survey=survey, sigmaMap=conductivity_map, solver=Solver\n)\n\n# Predict the data by running the simulation. The data are the measured voltage\n# normalized by the source current in units of V/A.\ndpred = simulation.dpred(conductivity_model)"
      ]
    },
    {
      "cell_type": "markdown",
      "metadata": {},
      "source": [
        "## Plot DC Data in 3D Pseudosection\n\nHere we demonstrate how 3D DC resistivity data can be represented on a 3D\npseudosection plot. To use this utility, you must have Python's *plotly*\npackage. Here, we represent the data as apparent conductivities.\n\nThe *plot_3d_pseudosection* utility allows the user to plot all pseudosection\npoints, or plot the pseudosection plots that lie within some distance of\none or more planes.\n\n\n"
      ]
    },
    {
      "cell_type": "code",
      "execution_count": null,
      "metadata": {
        "collapsed": false
      },
      "outputs": [],
      "source": [
        "# Since the data are normalized voltage, we must convert predicted\n# to apparent conductivities.\napparent_conductivity = 1 / apparent_resistivity_from_voltage(\n    survey,\n    dpred,\n)\n\n# For large datasets or for surveys with unconventional electrode geometry,\n# interpretation can be challenging if we plot every datum. Here, we plot\n# 3 out of the 5 survey lines to better image anomalous structures.\n# To plot ALL of the data, simply remove the keyword argument *plane_points*\n# when calling *plot_3d_pseudosection*.\nplane_points = []\np1, p2, p3 = np.array([-1000, 0, 0]), np.array([1000, 0, 0]), np.array([0, 0, -1000])\nplane_points.append([p1, p2, p3])\np1, p2, p3 = (\n    np.array([-350, -1000, 0]),\n    np.array([-350, 1000, 0]),\n    np.array([-350, 0, -1000]),\n)\nplane_points.append([p1, p2, p3])\np1, p2, p3 = (\n    np.array([350, -1000, 0]),\n    np.array([350, 1000, 0]),\n    np.array([350, 0, -1000]),\n)\nplane_points.append([p1, p2, p3])\n\nif has_plotly:\n    fig = plot_3d_pseudosection(\n        survey,\n        apparent_conductivity,\n        scale=\"log\",\n        units=\"S/m\",\n        plane_points=plane_points,\n        plane_distance=15,\n    )\n\n    fig.update_layout(\n        title_text=\"Apparent Conductivity\",\n        title_x=0.5,\n        title_font_size=24,\n        width=650,\n        height=500,\n        scene_camera=dict(center=dict(x=0.05, y=0, z=-0.4)),\n    )\n\n    plotly.io.show(fig)\n\nelse:\n    print(\"INSTALL 'PLOTLY' TO VISUALIZE 3D PSEUDOSECTIONS\")"
      ]
    },
    {
      "cell_type": "markdown",
      "metadata": {},
      "source": [
        "## Optional: Write Predicted DC Data\n\nWrite DC resistivity data, topography and true model\n\n\n"
      ]
    },
    {
      "cell_type": "code",
      "execution_count": null,
      "metadata": {
        "collapsed": false
      },
      "outputs": [],
      "source": [
        "if write_output:\n    dir_path = os.path.dirname(__file__).split(os.path.sep)\n    dir_path.extend([\"outputs\"])\n    dir_path = os.path.sep.join(dir_path) + os.path.sep\n\n    if not os.path.exists(dir_path):\n        os.mkdir(dir_path)\n\n    # Add 5% Gaussian noise to each datum\n    np.random.seed(433)\n    std = 0.1 * np.abs(dpred)\n    noise = std * np.random.rand(len(dpred))\n    dobs = dpred + noise\n\n    # Create dictionary that stores line IDs\n    N = int(survey.nD / len(end_locations_list))\n    lineID = np.r_[np.ones(N), 2 * np.ones(N), 3 * np.ones(N)]\n    out_dict = {\"LINEID\": lineID}\n\n    # Create a survey with the original electrode locations\n    # and not the shifted ones\n    source_list = []\n    for ii in range(0, len(end_locations_list)):\n        source_list += generate_dcip_sources_line(\n            survey_type,\n            data_type,\n            dimension_type,\n            end_locations_list[ii],\n            topo_xyz,\n            num_rx_per_src,\n            station_separation,\n        )\n    survey_original = dc.survey.Survey(source_list)\n\n    # Write out data at their original electrode locations (not shifted)\n    data_obj = data.Data(survey_original, dobs=dobs, standard_deviation=std)\n\n    fname = dir_path + \"dc_data.xyz\"\n    write_dcip_xyz(\n        fname,\n        data_obj,\n        data_header=\"V/A\",\n        uncertainties_header=\"UNCERT\",\n        out_dict=out_dict,\n    )\n\n    fname = dir_path + \"topo_xyz.txt\"\n    np.savetxt(fname, topo_xyz, fmt=\"%.4e\")"
      ]
    }
  ],
  "metadata": {
    "kernelspec": {
      "display_name": "Python 3",
      "language": "python",
      "name": "python3"
    },
    "language_info": {
      "codemirror_mode": {
        "name": "ipython",
        "version": 3
      },
      "file_extension": ".py",
      "mimetype": "text/x-python",
      "name": "python",
      "nbconvert_exporter": "python",
      "pygments_lexer": "ipython3",
      "version": "3.8.16"
    }
  },
  "nbformat": 4,
  "nbformat_minor": 0
}