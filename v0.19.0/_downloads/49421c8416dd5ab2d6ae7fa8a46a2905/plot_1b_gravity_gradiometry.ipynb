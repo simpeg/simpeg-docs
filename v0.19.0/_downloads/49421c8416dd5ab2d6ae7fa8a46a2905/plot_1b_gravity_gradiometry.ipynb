{
  "cells": [
    {
      "cell_type": "code",
      "execution_count": null,
      "metadata": {
        "collapsed": false
      },
      "outputs": [],
      "source": [
        "%matplotlib inline"
      ]
    },
    {
      "cell_type": "markdown",
      "metadata": {},
      "source": [
        "\n# Forward Simulation of Gradiometry Data on a Tree Mesh\n\nHere we use the module *SimPEG.potential_fields.gravity* to predict gravity\ngradiometry data for a synthetic density contrast model. The simulation is\ncarried out on a tree mesh. For this tutorial, we focus on the following:\n\n    - How to define the survey when we want multiple field components\n    - How to predict gravity gradiometry data for a density contrast model\n    - How to construct tree meshes based on topography and survey geometry\n    - The units of the density contrast model and resulting data\n"
      ]
    },
    {
      "cell_type": "markdown",
      "metadata": {},
      "source": [
        "## Import Modules\n\n\n"
      ]
    },
    {
      "cell_type": "code",
      "execution_count": null,
      "metadata": {
        "collapsed": false
      },
      "outputs": [],
      "source": [
        "import numpy as np\nfrom scipy.interpolate import LinearNDInterpolator\nimport matplotlib as mpl\nimport matplotlib.pyplot as plt\n\nfrom discretize import TreeMesh\nfrom discretize.utils import mkvc, refine_tree_xyz, active_from_xyz\nfrom SimPEG.utils import plot2Ddata, model_builder\nfrom SimPEG import maps\nfrom SimPEG.potential_fields import gravity\n\n# sphinx_gallery_thumbnail_number = 2"
      ]
    },
    {
      "cell_type": "markdown",
      "metadata": {},
      "source": [
        "## Defining Topography\n\nSurface topography is defined as an (N, 3) numpy array. We create it here but\nthe topography could also be loaded from a file.\n\n\n"
      ]
    },
    {
      "cell_type": "code",
      "execution_count": null,
      "metadata": {
        "collapsed": false
      },
      "outputs": [],
      "source": [
        "[x_topo, y_topo] = np.meshgrid(np.linspace(-200, 200, 41), np.linspace(-200, 200, 41))\nz_topo = -15 * np.exp(-(x_topo**2 + y_topo**2) / 80**2)\nx_topo, y_topo, z_topo = mkvc(x_topo), mkvc(y_topo), mkvc(z_topo)\nxyz_topo = np.c_[x_topo, y_topo, z_topo]"
      ]
    },
    {
      "cell_type": "markdown",
      "metadata": {},
      "source": [
        "## Defining the Survey\n\nHere, we define survey that will be used for the forward simulation. Gravity\nsurveys are simple to create. The user only needs an (N, 3) array to define\nthe xyz locations of the observation locations, and a list of field components\nwhich are to be measured.\n\n\n"
      ]
    },
    {
      "cell_type": "code",
      "execution_count": null,
      "metadata": {
        "collapsed": false
      },
      "outputs": [],
      "source": [
        "# Define the observation locations as an (N, 3) numpy array or load them\nx = np.linspace(-80.0, 80.0, 17)\ny = np.linspace(-80.0, 80.0, 17)\nx, y = np.meshgrid(x, y)\nx, y = mkvc(x.T), mkvc(y.T)\nfun_interp = LinearNDInterpolator(np.c_[x_topo, y_topo], z_topo)\nz = fun_interp(np.c_[x, y]) + 5\nreceiver_locations = np.c_[x, y, z]\n\n# Define the component(s) of the field we want to simulate as strings within\n# a list. Here we measure the x, y and z components of the gravity anomaly at\n# each observation location.\ncomponents = [\"gxz\", \"gyz\", \"gzz\"]\n\n# Use the observation locations and components to define the receivers. To\n# simulate data, the receivers must be defined as a list.\nreceiver_list = gravity.receivers.Point(receiver_locations, components=components)\n\nreceiver_list = [receiver_list]\n\n# Defining the source field.\nsource_field = gravity.sources.SourceField(receiver_list=receiver_list)\n\n# Defining the survey\nsurvey = gravity.survey.Survey(source_field)"
      ]
    },
    {
      "cell_type": "markdown",
      "metadata": {},
      "source": [
        "## Defining an OcTree Mesh\n\nHere, we create the OcTree mesh that will be used in the forward simulation.\n\n\n"
      ]
    },
    {
      "cell_type": "code",
      "execution_count": null,
      "metadata": {
        "collapsed": false
      },
      "outputs": [],
      "source": [
        "dx = 5  # minimum cell width (base mesh cell width) in x\ndy = 5  # minimum cell width (base mesh cell width) in y\ndz = 5  # minimum cell width (base mesh cell width) in z\n\nx_length = 240.0  # domain width in x\ny_length = 240.0  # domain width in y\nz_length = 120.0  # domain width in z\n\n# Compute number of base mesh cells required in x and y\nnbcx = 2 ** int(np.round(np.log(x_length / dx) / np.log(2.0)))\nnbcy = 2 ** int(np.round(np.log(y_length / dy) / np.log(2.0)))\nnbcz = 2 ** int(np.round(np.log(z_length / dz) / np.log(2.0)))\n\n# Define the base mesh\nhx = [(dx, nbcx)]\nhy = [(dy, nbcy)]\nhz = [(dz, nbcz)]\nmesh = TreeMesh([hx, hy, hz], x0=\"CCN\")\n\n# Refine based on surface topography\nmesh = refine_tree_xyz(\n    mesh, xyz_topo, octree_levels=[2, 2], method=\"surface\", finalize=False\n)\n\n# Refine box based on region of interest\nxp, yp, zp = np.meshgrid([-100.0, 100.0], [-100.0, 100.0], [-80.0, 0.0])\nxyz = np.c_[mkvc(xp), mkvc(yp), mkvc(zp)]\n\nmesh = refine_tree_xyz(mesh, xyz, octree_levels=[2, 2], method=\"box\", finalize=False)\n\nmesh.finalize()"
      ]
    },
    {
      "cell_type": "markdown",
      "metadata": {},
      "source": [
        "## Density Contrast Model and Mapping on OcTree Mesh\n\nHere, we create the density contrast model that will be used to simulate gravity\ngradiometry data and the mapping from the model to the mesh. The model\nconsists of a less dense block and a more dense sphere.\n\n\n"
      ]
    },
    {
      "cell_type": "code",
      "execution_count": null,
      "metadata": {
        "collapsed": false
      },
      "outputs": [],
      "source": [
        "# Define density contrast values for each unit in g/cc\nbackground_density = 0.0\nblock_density = -0.1\nsphere_density = 0.1\n\n# Find the indecies for the active mesh cells (e.g. cells below surface)\nind_active = active_from_xyz(mesh, xyz_topo)\n\n# Define mapping from model to active cells. The model consists of a value for\n# each cell below the Earth's surface.\nnC = int(ind_active.sum())\nmodel_map = maps.IdentityMap(nP=nC)  # model will be value of active cells\n\n# Define model. Models in SimPEG are vector arrays.\nmodel = background_density * np.ones(nC)\n\n# You could find the indicies of specific cells within the model and change their\n# value to add structures.\nind_block = (\n    (mesh.gridCC[ind_active, 0] > -50.0)\n    & (mesh.gridCC[ind_active, 0] < -20.0)\n    & (mesh.gridCC[ind_active, 1] > -15.0)\n    & (mesh.gridCC[ind_active, 1] < 15.0)\n    & (mesh.gridCC[ind_active, 2] > -50.0)\n    & (mesh.gridCC[ind_active, 2] < -30.0)\n)\nmodel[ind_block] = block_density\n\n# You can also use SimPEG utilities to add structures to the model more concisely\nind_sphere = model_builder.getIndicesSphere(np.r_[35.0, 0.0, -40.0], 15.0, mesh.gridCC)\nind_sphere = ind_sphere[ind_active]\nmodel[ind_sphere] = sphere_density\n\n# Plot Density Contrast Model\nfig = plt.figure(figsize=(9, 4))\nplotting_map = maps.InjectActiveCells(mesh, ind_active, np.nan)\n\nax1 = fig.add_axes([0.1, 0.12, 0.73, 0.78])\nmesh.plot_slice(\n    plotting_map * model,\n    normal=\"Y\",\n    ax=ax1,\n    ind=int(mesh.h[1].size / 2),\n    grid=True,\n    clim=(np.min(model), np.max(model)),\n    pcolor_opts={\"cmap\": \"viridis\"},\n)\nax1.set_title(\"Model slice at y = 0 m\")\nax1.set_xlabel(\"x (m)\")\nax1.set_ylabel(\"z (m)\")\n\nax2 = fig.add_axes([0.85, 0.12, 0.05, 0.78])\nnorm = mpl.colors.Normalize(vmin=np.min(model), vmax=np.max(model))\ncbar = mpl.colorbar.ColorbarBase(\n    ax2, norm=norm, orientation=\"vertical\", cmap=mpl.cm.viridis\n)\ncbar.set_label(\"$g/cm^3$\", rotation=270, labelpad=15, size=12)\n\nplt.show()"
      ]
    },
    {
      "cell_type": "markdown",
      "metadata": {},
      "source": [
        "## Simulation: Gravity Gradiometry Data on an OcTree Mesh\n\nHere we demonstrate how to predict gravity anomaly data using the integral\nformulation.\n\n\n"
      ]
    },
    {
      "cell_type": "code",
      "execution_count": null,
      "metadata": {
        "collapsed": false
      },
      "outputs": [],
      "source": [
        "# Define the forward simulation. By setting the 'store_sensitivities' keyword\n# argument to \"forward_only\", we simulate the data without storing the sensitivities\nsimulation = gravity.simulation.Simulation3DIntegral(\n    survey=survey,\n    mesh=mesh,\n    rhoMap=model_map,\n    ind_active=ind_active,\n    store_sensitivities=\"forward_only\",\n)\n\n# Compute predicted data for some model\ndpred = simulation.dpred(model)\nn_data = len(dpred)\n\n# Plot\nfig = plt.figure(figsize=(10, 3))\nn_locations = receiver_locations.shape[0]\nv_max = np.max(np.abs(dpred))\n\nax1 = fig.add_axes([0.1, 0.15, 0.25, 0.78])\ncplot1 = plot2Ddata(\n    receiver_locations,\n    dpred[0:n_data:3],\n    ax=ax1,\n    ncontour=30,\n    clim=(-v_max, v_max),\n    contourOpts={\"cmap\": \"bwr\"},\n)\ncplot1[0].set_clim((-v_max, v_max))\nax1.set_title(r\"$\\partial g /\\partial x$\")\nax1.set_xlabel(\"x (m)\")\nax1.set_ylabel(\"y (m)\")\n\nax2 = fig.add_axes([0.36, 0.15, 0.25, 0.78])\ncplot2 = plot2Ddata(\n    receiver_locations,\n    dpred[1:n_data:3],\n    ax=ax2,\n    ncontour=30,\n    clim=(-v_max, v_max),\n    contourOpts={\"cmap\": \"bwr\"},\n)\ncplot2[0].set_clim((-v_max, v_max))\nax2.set_title(r\"$\\partial g /\\partial y$\")\nax2.set_xlabel(\"x (m)\")\nax2.set_yticks([])\n\nax3 = fig.add_axes([0.62, 0.15, 0.25, 0.78])\ncplot3 = plot2Ddata(\n    receiver_locations,\n    dpred[2:n_data:3],\n    ax=ax3,\n    ncontour=30,\n    clim=(-v_max, v_max),\n    contourOpts={\"cmap\": \"bwr\"},\n)\ncplot3[0].set_clim((-v_max, v_max))\nax3.set_title(r\"$\\partial g /\\partial z$\")\nax3.set_xlabel(\"x (m)\")\nax3.set_yticks([])\n\nax4 = fig.add_axes([0.89, 0.13, 0.02, 0.79])\nnorm = mpl.colors.Normalize(vmin=-v_max, vmax=v_max)\ncbar = mpl.colorbar.ColorbarBase(\n    ax4, norm=norm, orientation=\"vertical\", cmap=mpl.cm.bwr\n)\ncbar.set_label(\"$mgal/m$\", rotation=270, labelpad=15, size=12)\n\nplt.show()"
      ]
    }
  ],
  "metadata": {
    "kernelspec": {
      "display_name": "Python 3",
      "language": "python",
      "name": "python3"
    },
    "language_info": {
      "codemirror_mode": {
        "name": "ipython",
        "version": 3
      },
      "file_extension": ".py",
      "mimetype": "text/x-python",
      "name": "python",
      "nbconvert_exporter": "python",
      "pygments_lexer": "ipython3",
      "version": "3.8.16"
    }
  },
  "nbformat": 4,
  "nbformat_minor": 0
}