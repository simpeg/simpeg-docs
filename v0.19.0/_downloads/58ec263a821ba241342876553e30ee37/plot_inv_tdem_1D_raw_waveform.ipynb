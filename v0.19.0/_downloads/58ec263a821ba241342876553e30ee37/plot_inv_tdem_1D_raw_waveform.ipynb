{
  "cells": [
    {
      "cell_type": "code",
      "execution_count": null,
      "metadata": {
        "collapsed": false
      },
      "outputs": [],
      "source": [
        "%matplotlib inline"
      ]
    },
    {
      "cell_type": "markdown",
      "metadata": {},
      "source": [
        "\n# EM: TDEM: 1D: Inversion with VTEM waveform\n\nHere we will create and run a TDEM 1D inversion,\nwith VTEM waveform of which initial condition\nis zero, but have some on- and off-time.\n"
      ]
    },
    {
      "cell_type": "code",
      "execution_count": null,
      "metadata": {
        "collapsed": false
      },
      "outputs": [],
      "source": [
        "import numpy as np\nimport discretize\nfrom SimPEG import (\n    maps,\n    data_misfit,\n    regularization,\n    optimization,\n    inverse_problem,\n    inversion,\n    directives,\n    utils,\n)\nfrom SimPEG.electromagnetics import time_domain as TDEM, utils as EMutils\nimport matplotlib.pyplot as plt\nfrom scipy.interpolate import interp1d\n\ntry:\n    from pymatsolver import Pardiso as Solver\nexcept ImportError:\n    from SimPEG import SolverLU as Solver\n\n\ndef run(plotIt=True):\n    cs, ncx, ncz, npad = 5.0, 25, 24, 15\n    hx = [(cs, ncx), (cs, npad, 1.3)]\n    hz = [(cs, npad, -1.3), (cs, ncz), (cs, npad, 1.3)]\n    mesh = discretize.CylindricalMesh([hx, 1, hz], \"00C\")\n\n    active = mesh.cell_centers_z < 0.0\n    layer = (mesh.cell_centers_z < -50.0) & (mesh.cell_centers_z >= -150.0)\n    actMap = maps.InjectActiveCells(mesh, active, np.log(1e-8), nC=mesh.shape_cells[2])\n    mapping = maps.ExpMap(mesh) * maps.SurjectVertical1D(mesh) * actMap\n    sig_half = 1e-3\n    sig_air = 1e-8\n    sig_layer = 1e-2\n    sigma = np.ones(mesh.shape_cells[2]) * sig_air\n    sigma[active] = sig_half\n    sigma[layer] = sig_layer\n    mtrue = np.log(sigma[active])\n\n    x = np.r_[30, 50, 70, 90]\n    rxloc = np.c_[x, x * 0.0, np.zeros_like(x)]\n\n    prb = TDEM.Simulation3DMagneticFluxDensity(mesh, sigmaMap=mapping, solver=Solver)\n    prb.time_steps = [\n        (1e-3, 5),\n        (1e-4, 5),\n        (5e-5, 10),\n        (5e-5, 5),\n        (1e-4, 10),\n        (5e-4, 10),\n    ]\n    # Use VTEM waveform\n    out = EMutils.VTEMFun(prb.times, 0.00595, 0.006, 100)\n\n    # Forming function handle for waveform using 1D linear interpolation\n    wavefun = interp1d(prb.times, out)\n    t0 = 0.006\n    waveform = TDEM.Src.RawWaveform(off_time=t0, waveform_function=wavefun)\n\n    rx = TDEM.Rx.PointMagneticFluxTimeDerivative(\n        rxloc, np.logspace(-4, -2.5, 11) + t0, \"z\"\n    )\n    src = TDEM.Src.CircularLoop(\n        [rx], waveform=waveform, location=np.array([0.0, 0.0, 0.0]), radius=10.0\n    )\n    survey = TDEM.Survey([src])\n    prb.survey = survey\n\n    # create observed data\n    data = prb.make_synthetic_data(mtrue, relative_error=0.02, noise_floor=1e-11)\n\n    dmisfit = data_misfit.L2DataMisfit(simulation=prb, data=data)\n    regMesh = discretize.TensorMesh([mesh.h[2][mapping.maps[-1].indActive]])\n    reg = regularization.WeightedLeastSquares(regMesh)\n    opt = optimization.InexactGaussNewton(maxIter=5, LSshorten=0.5)\n    invProb = inverse_problem.BaseInvProblem(dmisfit, reg, opt)\n    target = directives.TargetMisfit()\n    # Create an inversion object\n    beta = directives.BetaSchedule(coolingFactor=1.0, coolingRate=2.0)\n    invProb.beta = 1e2\n    inv = inversion.BaseInversion(invProb, directiveList=[beta, target])\n    m0 = np.log(np.ones(mtrue.size) * sig_half)\n    prb.counter = opt.counter = utils.Counter()\n    opt.remember(\"xc\")\n    mopt = inv.run(m0)\n\n    if plotIt:\n        fig, ax = plt.subplots(1, 2, figsize=(10, 6))\n        Dobs = data.dobs.reshape((len(rx.times), len(x)))\n        Dpred = invProb.dpred.reshape((len(rx.times), len(x)))\n        for i in range(len(x)):\n            ax[0].loglog(rx.times - t0, -Dobs[:, i].flatten(), \"k\")\n            ax[0].loglog(rx.times - t0, -Dpred[:, i].flatten(), \"k.\")\n            if i == 0:\n                ax[0].legend((\"$d^{obs}$\", \"$d^{pred}$\"), fontsize=16)\n        ax[0].set_xlabel(\"Time (s)\", fontsize=14)\n        ax[0].set_ylabel(\"$db_z / dt$ (nT/s)\", fontsize=16)\n        ax[0].set_xlabel(\"Time (s)\", fontsize=14)\n        ax[0].grid(color=\"k\", alpha=0.5, linestyle=\"dashed\", linewidth=0.5)\n\n        plt.semilogx(sigma[active], mesh.cell_centers_z[active])\n        plt.semilogx(np.exp(mopt), mesh.cell_centers_z[active])\n        ax[1].set_ylim(-600, 0)\n        ax[1].set_xlim(1e-4, 1e-1)\n        ax[1].set_xlabel(\"Conductivity (S/m)\", fontsize=14)\n        ax[1].set_ylabel(\"Depth (m)\", fontsize=14)\n        ax[1].grid(color=\"k\", alpha=0.5, linestyle=\"dashed\", linewidth=0.5)\n        plt.legend([r\"$\\sigma_{true}$\", r\"$\\sigma_{pred}$\"])\n\n\nif __name__ == \"__main__\":\n    run()\n    plt.show()"
      ]
    }
  ],
  "metadata": {
    "kernelspec": {
      "display_name": "Python 3",
      "language": "python",
      "name": "python3"
    },
    "language_info": {
      "codemirror_mode": {
        "name": "ipython",
        "version": 3
      },
      "file_extension": ".py",
      "mimetype": "text/x-python",
      "name": "python",
      "nbconvert_exporter": "python",
      "pygments_lexer": "ipython3",
      "version": "3.8.16"
    }
  },
  "nbformat": 4,
  "nbformat_minor": 0
}