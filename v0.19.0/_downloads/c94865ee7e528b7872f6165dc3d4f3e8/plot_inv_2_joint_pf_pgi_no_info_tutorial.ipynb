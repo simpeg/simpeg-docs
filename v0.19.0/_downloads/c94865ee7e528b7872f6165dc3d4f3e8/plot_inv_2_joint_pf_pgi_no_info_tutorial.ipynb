{
  "cells": [
    {
      "cell_type": "code",
      "execution_count": null,
      "metadata": {
        "collapsed": false
      },
      "outputs": [],
      "source": [
        "%matplotlib inline"
      ]
    },
    {
      "cell_type": "markdown",
      "metadata": {},
      "source": [
        "\n# Joint PGI of Gravity + Magnetic on an Octree mesh without petrophysical information\n\n\nThis tutorial shows through a joint inversion of Gravity and Magnetic data on an\nOctree mesh how to use the PGI framework introduced in Astic & Oldenburg (2019)\nand Astic et al. (2021) to make geologic assumptions and learn a suitable\npetrophysical distribution when no quantitative petrophysical information is\navailable.\n\nThibaut Astic, Douglas W. Oldenburg,\nA framework for petrophysically and geologically guided geophysical inversion\nusing a dynamic Gaussian mixture model prior, Geophysical Journal International,\nVolume 219, Issue 3, December 2019, Pages 1989\u20132012, DOI:\n[10.1093/gji/ggz389](https://doi.org/10.1093/gji/ggz389).\n\n\nThibaut Astic, Lindsey J. Heagy, Douglas W Oldenburg,\nPetrophysically and geologically guided multi-physics inversion using a dynamic\nGaussian mixture model, Geophysical Journal International,\nVolume 224, Issue 1, January 2021, Pages 40-68, DOI: [10.1093/gji/ggaa378](https://doi.org/10.1093/gji/ggaa378).\n"
      ]
    },
    {
      "cell_type": "markdown",
      "metadata": {},
      "source": [
        "## Import modules\n\n\n"
      ]
    },
    {
      "cell_type": "code",
      "execution_count": null,
      "metadata": {
        "collapsed": false
      },
      "outputs": [],
      "source": [
        "from discretize import TreeMesh\nfrom discretize.utils import active_from_xyz\nimport matplotlib.pyplot as plt\nimport numpy as np\nimport SimPEG.potential_fields as pf\nfrom SimPEG import (\n    data_misfit,\n    directives,\n    inverse_problem,\n    inversion,\n    maps,\n    optimization,\n    regularization,\n    utils,\n)\nfrom SimPEG.utils import io_utils\n\n# Reproducible science\nnp.random.seed(518936)"
      ]
    },
    {
      "cell_type": "markdown",
      "metadata": {},
      "source": [
        "## Setup\n\n\n"
      ]
    },
    {
      "cell_type": "code",
      "execution_count": null,
      "metadata": {
        "collapsed": false
      },
      "outputs": [],
      "source": [
        "# Load Mesh\nmesh_file = io_utils.download(\n    \"https://storage.googleapis.com/simpeg/pgi_tutorial_assets/mesh_tutorial.ubc\"\n)\nmesh = TreeMesh.read_UBC(mesh_file)\n\n# Load True geological model for comparison with inversion result\ntrue_geology_file = io_utils.download(\n    \"https://storage.googleapis.com/simpeg/pgi_tutorial_assets/geology_true.mod\"\n)\ntrue_geology = mesh.read_model_UBC(true_geology_file)\n\n# Plot true geology model\nfig, ax = plt.subplots(1, 4, figsize=(20, 4))\nticksize, labelsize = 14, 16\nfor _, axx in enumerate(ax):\n    axx.set_aspect(1)\n    axx.tick_params(labelsize=ticksize)\nmesh.plot_slice(\n    true_geology,\n    normal=\"X\",\n    ax=ax[0],\n    ind=-17,\n    clim=[0, 2],\n    pcolor_opts={\"cmap\": \"inferno_r\"},\n    grid=True,\n)\nmesh.plot_slice(\n    true_geology,\n    normal=\"Y\",\n    ax=ax[1],\n    clim=[0, 2],\n    pcolor_opts={\"cmap\": \"inferno_r\"},\n    grid=True,\n)\ngeoplot = mesh.plot_slice(\n    true_geology,\n    normal=\"Z\",\n    ax=ax[2],\n    clim=[0, 2],\n    ind=-10,\n    pcolor_opts={\"cmap\": \"inferno_r\"},\n    grid=True,\n)\ngeocb = plt.colorbar(geoplot[0], cax=ax[3], ticks=[0, 1, 2])\ngeocb.set_label(\n    \"True geology model\\n(classification/density/mag. susc.)\", fontsize=labelsize\n)\ngeocb.set_ticklabels(\n    [\"BCKGRD (0 g/cc; 0 SI)\", \"PK (-0.8 g/cc; 5e-3 SI)\", \"VK (-0.2 g/cc; 2e-2 SI)\"]\n)\ngeocb.ax.tick_params(labelsize=ticksize)\nax[3].set_aspect(10)\nplt.show()\n\n# Load geophysical data\ndata_grav_file = io_utils.download(\n    \"https://storage.googleapis.com/simpeg/pgi_tutorial_assets/gravity_data.obs\"\n)\ndata_grav = io_utils.read_grav3d_ubc(data_grav_file)\ndata_mag_file = io_utils.download(\n    \"https://storage.googleapis.com/simpeg/pgi_tutorial_assets/magnetic_data.obs\"\n)\ndata_mag = io_utils.read_mag3d_ubc(data_mag_file)\n\n# plot data and mesh\nfig, ax = plt.subplots(2, 2, figsize=(15, 10))\nax = ax.reshape(-1)\nplt.gca().set_aspect(\"equal\")\nplt.gca().set_xlim(\n    [\n        data_mag.survey.receiver_locations[:, 0].min(),\n        data_mag.survey.receiver_locations[:, 0].max(),\n    ],\n)\nplt.gca().set_ylim(\n    [\n        data_mag.survey.receiver_locations[:, 1].min(),\n        data_mag.survey.receiver_locations[:, 1].max(),\n    ]\n)\nmesh.plot_slice(\n    np.ones(mesh.nC),\n    normal=\"Z\",\n    ind=int(-10),\n    grid=True,\n    pcolor_opts={\"cmap\": \"Greys\"},\n    ax=ax[0],\n)\nmm = utils.plot2Ddata(\n    data_grav.survey.receiver_locations,\n    -data_grav.dobs,\n    ax=ax[0],\n    level=True,\n    nx=20,\n    ny=20,\n    dataloc=True,\n    ncontour=12,\n    shade=True,\n    contourOpts={\"cmap\": \"Blues_r\", \"alpha\": 0.8},\n    levelOpts={\"colors\": \"k\", \"linewidths\": 0.5, \"linestyles\": \"dashed\"},\n)\nax[0].set_aspect(1)\nax[0].set_title(\n    \"Gravity data values and locations,\\nwith mesh and geology overlays\", fontsize=16\n)\nplt.colorbar(mm[0], cax=ax[2], orientation=\"horizontal\")\nax[2].set_aspect(0.05)\nax[2].set_title(\"mGal\", fontsize=16)\nmesh.plot_slice(\n    np.ones(mesh.nC),\n    normal=\"Z\",\n    ind=int(-10),\n    grid=True,\n    pcolor_opts={\"cmap\": \"Greys\"},\n    ax=ax[1],\n)\nmm = utils.plot2Ddata(\n    data_mag.survey.receiver_locations,\n    data_mag.dobs,\n    ax=ax[1],\n    level=True,\n    nx=20,\n    ny=20,\n    dataloc=True,\n    ncontour=11,\n    shade=True,\n    contourOpts={\"cmap\": \"Reds\", \"alpha\": 0.8},\n    levelOpts={\"colors\": \"k\", \"linewidths\": 0.5, \"linestyles\": \"dashed\"},\n)\nax[1].set_aspect(1)\nax[1].set_title(\n    \"Magnetic data values and locations,\\nwith mesh and geology overlays\", fontsize=16\n)\nplt.colorbar(mm[0], cax=ax[3], orientation=\"horizontal\")\nax[3].set_aspect(0.05)\nax[3].set_title(\"nT\", fontsize=16)\n# overlay true geology model for comparison\nindz = -9\nindslicezplot = mesh.gridCC[:, 2] == mesh.cell_centers_z[indz]\nfor i in range(2):\n    utils.plot2Ddata(\n        mesh.gridCC[indslicezplot][:, [0, 1]],\n        true_geology[indslicezplot],\n        nx=200,\n        ny=200,\n        contourOpts={\"alpha\": 0},\n        clim=[0, 2],\n        ax=ax[i],\n        level=True,\n        ncontour=2,\n        levelOpts={\"colors\": \"k\", \"linewidths\": 2, \"linestyles\": \"--\"},\n        method=\"nearest\",\n    )\nplt.subplots_adjust(hspace=-0.25, wspace=0.1)\nplt.show()\n\n# Load Topo\ntopo_file = io_utils.download(\n    \"https://storage.googleapis.com/simpeg/pgi_tutorial_assets/CDED_Lake_warp.xyz\"\n)\ntopo = np.genfromtxt(topo_file, skip_header=1)\n# find the active cells\nactv = active_from_xyz(mesh, topo, \"CC\")\n# Create active map to go from reduce set to full\nndv = np.nan\nactvMap = maps.InjectActiveCells(mesh, actv, ndv)\nnactv = int(actv.sum())\n\n# Create simulations and data misfits\n# Wires mapping\nwires = maps.Wires((\"den\", actvMap.nP), (\"sus\", actvMap.nP))\ngravmap = actvMap * wires.den\nmagmap = actvMap * wires.sus\nidenMap = maps.IdentityMap(nP=nactv)\n# Grav problem\nsimulation_grav = pf.gravity.simulation.Simulation3DIntegral(\n    survey=data_grav.survey,\n    mesh=mesh,\n    rhoMap=wires.den,\n    ind_active=actv,\n)\ndmis_grav = data_misfit.L2DataMisfit(data=data_grav, simulation=simulation_grav)\n# Mag problem\nsimulation_mag = pf.magnetics.simulation.Simulation3DIntegral(\n    survey=data_mag.survey,\n    mesh=mesh,\n    chiMap=wires.sus,\n    ind_active=actv,\n)\ndmis_mag = data_misfit.L2DataMisfit(data=data_mag, simulation=simulation_mag)"
      ]
    },
    {
      "cell_type": "markdown",
      "metadata": {},
      "source": [
        "Create a joint Data Misfit\n\n\n"
      ]
    },
    {
      "cell_type": "code",
      "execution_count": null,
      "metadata": {
        "collapsed": false
      },
      "outputs": [],
      "source": [
        "# Joint data misfit\ndmis = 0.5 * dmis_grav + 0.5 * dmis_mag\n\n# initial model\nm0 = np.r_[-1e-4 * np.ones(actvMap.nP), 1e-4 * np.ones(actvMap.nP)]"
      ]
    },
    {
      "cell_type": "markdown",
      "metadata": {},
      "source": [
        "## Inversion with no petrophysical information about the means\n\nIn this scenario, we do not know the true petrophysical signature of each rock\nunit. We thus make geologic assumptions to design a coupling term and perform\na multi-physics inversion. in addition to a neutral background, we assume that\none rock unit is only less dense, and the third one is only magnetic. As we\ndo not know their mean petrophysical values. We start with an initial guess\n(-1 g/cc) for the updatable mean density-contrast value of the less dense unit\n(with a fixed susceptibility of 0 SI). The magnetic-contrasting unit's updatable\nsusceptibility is initialized at a value of 0.1 SI (with a fixed 0 g/cc density\ncontrast). We then let the algorithm learn a suitable set of means under the set\nconstrained (fixed or updatable value), through the kappa argument, denoting our\nconfidences in each initial mean value (high confidence: fixed value; low\nconfidence: updatable value).\n\n\n"
      ]
    },
    {
      "cell_type": "markdown",
      "metadata": {},
      "source": [
        "## Create a petrophysical GMM initial guess\n\nThe GMM is our representation of the petrophysical and geological information.\nHere, we focus on the petrophysical aspect, with the means and covariances of\nthe physical properties of each rock unit.\nTo generate the data above, the PK unit was populated with a density contrast\nof -0.8 g/cc and a magnetic susceptibility of 0.005 SI. The properties of the\nHK unit were set at -0.2 g/cc and 0.02 SI. But here, we assume we\ndo not have this information. Thus, we start with initial guess for the means\nand confidences kappa such that one unit is only less dense and one unit is only\nmagnetic, both embedded in a neutral background. The covariances matrices are set\nso that we assume petrophysical noise levels of around 0.05 g/cc and 0.001 SI\nfor both unit. The background unit is set at a fixed null contrasts (0 g/cc\n0 SI) with a petrophysical noise level of half of the above.\n\n\n"
      ]
    },
    {
      "cell_type": "code",
      "execution_count": null,
      "metadata": {
        "collapsed": false
      },
      "outputs": [],
      "source": [
        "gmmref = utils.WeightedGaussianMixture(\n    n_components=3,  # number of rock units: bckgrd, PK, HK\n    mesh=mesh,  # inversion mesh\n    actv=actv,  # actv cells\n    covariance_type=\"diag\",  # diagonal covariances\n)\n# required: initialization with fit\n# fake random samples, size of the mesh\n# number of physical properties: 2 (density and mag.susc)\ngmmref.fit(np.random.randn(nactv, 2))\n# set parameters manually\n# set phys. prop means for each unit\ngmmref.means_ = np.c_[\n    [0.0, 0.0],  # BCKGRD density contrast and mag. susc\n    [-1, 0.0],  # PK\n    [0, 0.1],  # HK\n].T\n# set phys. prop covariances for each unit\ngmmref.covariances_ = np.array(\n    [[6e-04, 3.175e-07], [2.4e-03, 1.5e-06], [2.4e-03, 1.5e-06]]\n)\n# important after setting cov. manually: compute precision matrices and cholesky\ngmmref.compute_clusters_precisions()\n# set global proportions; low-impact as long as not 0 or 1 (total=1)\ngmmref.weights_ = np.r_[0.9, 0.075, 0.025]\n\n# Plot the 2D GMM\nax = gmmref.plot_pdf(flag2d=True, plotting_precision=250)\nax[0].set_xlabel(\"Density contrast [g/cc]\")\nax[0].set_ylim([0, 5])\nax[2].set_ylabel(\"magnetic Susceptibility [SI]\")\nax[2].set_xlim([0, 100])\nplt.show()"
      ]
    },
    {
      "cell_type": "markdown",
      "metadata": {},
      "source": [
        "## Inverse problem with no mean information\n\n\n"
      ]
    },
    {
      "cell_type": "code",
      "execution_count": null,
      "metadata": {
        "collapsed": false
      },
      "outputs": [],
      "source": [
        "# Create PGI regularization\n# Sensitivity weighting\nwr_grav = np.sum(simulation_grav.G**2.0, axis=0) ** 0.5 / (mesh.cell_volumes[actv])\nwr_grav = wr_grav / np.max(wr_grav)\n\nwr_mag = np.sum(simulation_mag.G**2.0, axis=0) ** 0.5 / (mesh.cell_volumes[actv])\nwr_mag = wr_mag / np.max(wr_mag)\n\n# create joint PGI regularization with smoothness\nreg = regularization.PGI(\n    gmmref=gmmref,\n    mesh=mesh,\n    wiresmap=wires,\n    maplist=[idenMap, idenMap],\n    active_cells=actv,\n    alpha_pgi=1.0,\n    alpha_x=1.0,\n    alpha_y=1.0,\n    alpha_z=1.0,\n    alpha_xx=0.0,\n    alpha_yy=0.0,\n    alpha_zz=0.0,\n    # use the classification of the initial model (here, all background unit)\n    # as initial reference model\n    reference_model=utils.mkvc(\n        gmmref.means_[gmmref.predict(m0.reshape(actvMap.nP, -1))]\n    ),\n    weights_list=[wr_grav, wr_mag],  # weights each phys. prop. by correct sensW\n)\n\n# Directives\n# Add directives to the inversion\n# ratio to use for each phys prop. smoothness in each direction:\n# roughly the ratio of range of each phys. prop.\nalpha0_ratio = np.r_[\n    1e-2 * np.ones(len(reg.objfcts[1].objfcts[1:])),\n    1e-2 * 100.0 * np.ones(len(reg.objfcts[2].objfcts[1:])),\n]\nAlphas = directives.AlphasSmoothEstimate_ByEig(alpha0_ratio=alpha0_ratio, verbose=True)\n# initialize beta and beta/alpha_s schedule\nbeta = directives.BetaEstimate_ByEig(beta0_ratio=1e-4)\nbetaIt = directives.PGI_BetaAlphaSchedule(\n    verbose=True,\n    coolingFactor=2.0,\n    tolerance=0.2,\n    progress=0.2,\n)\n# geophy. and petro. target misfits\ntargets = directives.MultiTargetMisfits(\n    verbose=True,\n    chiSmall=0.5,  # ask for twice as much clustering (target value is /2)\n)\n# add learned mref in smooth once stable\nMrefInSmooth = directives.PGI_AddMrefInSmooth(\n    wait_till_stable=True,\n    verbose=True,\n)\n# update the parameters in smallness (L2-approx of PGI)\nupdate_smallness = directives.PGI_UpdateParameters(\n    update_gmm=True,  # update the GMM each iteration\n    kappa=np.c_[  # confidences in each mean phys. prop. of each cluster\n        1e10\n        * np.ones(\n            2\n        ),  # fixed background at 0 density, 0 mag. susc. (high confidences of 1e10)\n        [\n            0,\n            1e10,\n        ],  # density-contrasting cluster: updatable density mean, fixed mag. susc.\n        [\n            1e10,\n            0,\n        ],  # magnetic-contrasting cluster: fixed density mean, updatable mag. susc.\n    ].T,\n)\n# pre-conditioner\nupdate_Jacobi = directives.UpdatePreconditioner()\n# iteratively balance the scaling of the data misfits\nscaling_init = directives.ScalingMultipleDataMisfits_ByEig(chi0_ratio=[1.0, 100.0])\nscale_schedule = directives.JointScalingSchedule(verbose=True)\n\n# Create inverse problem\n# Optimization\n# set lower and upper bounds\nlowerbound = np.r_[-2.0 * np.ones(actvMap.nP), 0.0 * np.ones(actvMap.nP)]\nupperbound = np.r_[0.0 * np.ones(actvMap.nP), 1e-1 * np.ones(actvMap.nP)]\nopt = optimization.ProjectedGNCG(\n    maxIter=30,\n    lower=lowerbound,\n    upper=upperbound,\n    maxIterLS=20,\n    maxIterCG=100,\n    tolCG=1e-4,\n)\n# create inverse problem\ninvProb = inverse_problem.BaseInvProblem(dmis, reg, opt)\ninv = inversion.BaseInversion(\n    invProb,\n    # directives: evaluate alphas (and data misfits scales) before beta\n    directiveList=[\n        Alphas,\n        scaling_init,\n        beta,\n        update_smallness,\n        targets,\n        scale_schedule,\n        betaIt,\n        MrefInSmooth,\n        update_Jacobi,\n    ],\n)\n# Invert\npgi_model_no_info = inv.run(m0)\n\n\n# Plot the result with full petrophysical information\ndensity_model_no_info = gravmap * pgi_model_no_info\nmagsus_model_no_info = magmap * pgi_model_no_info\nlearned_gmm = reg.objfcts[0].gmm\nquasi_geology_model_no_info = actvMap * reg.objfcts[0].compute_quasi_geology_model()\n\nfig, ax = plt.subplots(3, 4, figsize=(15, 10))\nfor _, axx in enumerate(ax):\n    for _, axxx in enumerate(axx):\n        axxx.set_aspect(1)\n        axxx.tick_params(labelsize=ticksize)\n\nindx = 15\nindy = 17\nindz = -9\n# geology model\nmesh.plot_slice(\n    quasi_geology_model_no_info,\n    normal=\"X\",\n    ax=ax[0, 0],\n    clim=[0, 2],\n    ind=indx,\n    pcolor_opts={\"cmap\": \"inferno_r\"},\n)\nmesh.plot_slice(\n    quasi_geology_model_no_info,\n    normal=\"Y\",\n    ax=ax[0, 1],\n    clim=[0, 2],\n    ind=indy,\n    pcolor_opts={\"cmap\": \"inferno_r\"},\n)\ngeoplot = mesh.plot_slice(\n    quasi_geology_model_no_info,\n    normal=\"Z\",\n    ax=ax[0, 2],\n    clim=[0, 2],\n    ind=indz,\n    pcolor_opts={\"cmap\": \"inferno_r\"},\n)\ngeocb = plt.colorbar(geoplot[0], cax=ax[0, 3], ticks=[0, 1, 2])\ngeocb.set_ticklabels([\"BCK\", \"PK\", \"VK\"])\ngeocb.set_label(\"Quasi-Geology model\\n(Rock units classification)\", fontsize=16)\nax[0, 3].set_aspect(10)\n\n# gravity model\nmesh.plot_slice(\n    density_model_no_info,\n    normal=\"X\",\n    ax=ax[1, 0],\n    clim=[-1, 0],\n    ind=indx,\n    pcolor_opts={\"cmap\": \"Blues_r\"},\n)\nmesh.plot_slice(\n    density_model_no_info,\n    normal=\"Y\",\n    ax=ax[1, 1],\n    clim=[-1, 0],\n    ind=indy,\n    pcolor_opts={\"cmap\": \"Blues_r\"},\n)\ndenplot = mesh.plot_slice(\n    density_model_no_info,\n    normal=\"Z\",\n    ax=ax[1, 2],\n    clim=[-1, 0],\n    ind=indz,\n    pcolor_opts={\"cmap\": \"Blues_r\"},\n)\ndencb = plt.colorbar(denplot[0], cax=ax[1, 3])\ndencb.set_label(\"Density contrast\\nmodel (g/cc)\", fontsize=16)\nax[1, 3].set_aspect(10)\n\n# magnetic model\nmesh.plot_slice(\n    magsus_model_no_info,\n    normal=\"X\",\n    ax=ax[2, 0],\n    clim=[0, 0.025],\n    ind=indx,\n    pcolor_opts={\"cmap\": \"Reds\"},\n)\nmesh.plot_slice(\n    magsus_model_no_info,\n    normal=\"Y\",\n    ax=ax[2, 1],\n    clim=[0, 0.025],\n    ind=indy,\n    pcolor_opts={\"cmap\": \"Reds\"},\n)\nsusplot = mesh.plot_slice(\n    magsus_model_no_info,\n    normal=\"Z\",\n    ax=ax[2, 2],\n    clim=[0, 0.025],\n    ind=indz,\n    pcolor_opts={\"cmap\": \"Reds\"},\n)\nsuscb = plt.colorbar(susplot[0], cax=ax[2, 3])\nsuscb.set_label(\"Magnetic susceptibility\\nmodel (SI)\", fontsize=16)\nax[2, 3].set_aspect(10)\n\n# overlay true geology model for comparison\nindslicexplot = mesh.gridCC[:, 0] == mesh.cell_centers_x[indx]\nindsliceyplot = mesh.gridCC[:, 1] == mesh.cell_centers_y[indy]\nindslicezplot = mesh.gridCC[:, 2] == mesh.cell_centers_z[indz]\nfor i in range(3):\n    for j, (plane, indd) in enumerate(\n        zip([[1, 2], [0, 2], [0, 1]], [indslicexplot, indsliceyplot, indslicezplot])\n    ):\n        utils.plot2Ddata(\n            mesh.gridCC[indd][:, plane],\n            true_geology[indd],\n            nx=100,\n            ny=100,\n            contourOpts={\"alpha\": 0},\n            clim=[0, 2],\n            ax=ax[i, j],\n            level=True,\n            ncontour=2,\n            levelOpts={\"colors\": \"grey\", \"linewidths\": 2, \"linestyles\": \"--\"},\n            method=\"nearest\",\n        )\n\n# plot the locations of the cross-sections\nfor i in range(3):\n    ax[i, 0].plot(\n        mesh.cell_centers_y[indy] * np.ones(2), [-300, 500], c=\"k\", linestyle=\"dotted\"\n    )\n    ax[i, 0].plot(\n        [\n            data_mag.survey.receiver_locations[:, 1].min(),\n            data_mag.survey.receiver_locations[:, 1].max(),\n        ],\n        mesh.cell_centers_z[indz] * np.ones(2),\n        c=\"k\",\n        linestyle=\"dotted\",\n    )\n    ax[i, 0].set_xlim(\n        [\n            data_mag.survey.receiver_locations[:, 1].min(),\n            data_mag.survey.receiver_locations[:, 1].max(),\n        ],\n    )\n\n    ax[i, 1].plot(\n        mesh.cell_centers_x[indx] * np.ones(2), [-300, 500], c=\"k\", linestyle=\"dotted\"\n    )\n    ax[i, 1].plot(\n        [\n            data_mag.survey.receiver_locations[:, 0].min(),\n            data_mag.survey.receiver_locations[:, 0].max(),\n        ],\n        mesh.cell_centers_z[indz] * np.ones(2),\n        c=\"k\",\n        linestyle=\"dotted\",\n    )\n    ax[i, 1].set_xlim(\n        [\n            data_mag.survey.receiver_locations[:, 0].min(),\n            data_mag.survey.receiver_locations[:, 0].max(),\n        ],\n    )\n\n    ax[i, 2].plot(\n        mesh.cell_centers_x[indx] * np.ones(2),\n        [\n            data_mag.survey.receiver_locations[:, 1].min(),\n            data_mag.survey.receiver_locations[:, 1].max(),\n        ],\n        c=\"k\",\n        linestyle=\"dotted\",\n    )\n    ax[i, 2].plot(\n        [\n            data_mag.survey.receiver_locations[:, 0].min(),\n            data_mag.survey.receiver_locations[:, 0].max(),\n        ],\n        mesh.cell_centers_y[indy] * np.ones(2),\n        c=\"k\",\n        linestyle=\"dotted\",\n    )\n    ax[i, 2].set_xlim(\n        [\n            data_mag.survey.receiver_locations[:, 0].min(),\n            data_mag.survey.receiver_locations[:, 0].max(),\n        ],\n    )\n    ax[i, 2].set_ylim(\n        [\n            data_mag.survey.receiver_locations[:, 1].min(),\n            data_mag.survey.receiver_locations[:, 1].max(),\n        ],\n    )\n\nplt.tight_layout()\nplt.show()\n\n# Plot the learned 2D GMM\nfig = plt.figure(figsize=(10, 10))\nax0 = plt.subplot2grid((4, 4), (3, 1), colspan=3)\nax1 = plt.subplot2grid((4, 4), (0, 1), colspan=3, rowspan=3)\nax2 = plt.subplot2grid((4, 4), (0, 0), rowspan=3)\nax = [ax0, ax1, ax2]\nlearned_gmm.plot_pdf(flag2d=True, ax=ax, padding=1, plotting_precision=100)\nax[0].set_xlabel(\"Density contrast [g/cc]\")\nax[0].set_ylim([0, 5])\nax[2].set_xlim([0, 50])\nax[2].set_ylabel(\"magnetic Susceptibility [SI]\")\nax[1].scatter(\n    density_model_no_info[actv],\n    magsus_model_no_info[actv],\n    c=quasi_geology_model_no_info[actv],\n    cmap=\"inferno_r\",\n    edgecolors=\"k\",\n    label=\"recovered PGI model\",\n    alpha=0.5,\n)\nax[0].hist(density_model_no_info[actv], density=True, bins=50)\nax[2].hist(magsus_model_no_info[actv], density=True, bins=50, orientation=\"horizontal\")\nax[1].scatter(\n    [0, -0.8, -0.02],\n    [0, 0.005, 0.02],\n    label=\"True petrophysical means\",\n    cmap=\"inferno_r\",\n    c=[0, 1, 2],\n    marker=\"v\",\n    edgecolors=\"k\",\n    s=200,\n)\nax[1].legend()\nplt.show()"
      ]
    }
  ],
  "metadata": {
    "kernelspec": {
      "display_name": "Python 3",
      "language": "python",
      "name": "python3"
    },
    "language_info": {
      "codemirror_mode": {
        "name": "ipython",
        "version": 3
      },
      "file_extension": ".py",
      "mimetype": "text/x-python",
      "name": "python",
      "nbconvert_exporter": "python",
      "pygments_lexer": "ipython3",
      "version": "3.8.16"
    }
  },
  "nbformat": 4,
  "nbformat_minor": 0
}