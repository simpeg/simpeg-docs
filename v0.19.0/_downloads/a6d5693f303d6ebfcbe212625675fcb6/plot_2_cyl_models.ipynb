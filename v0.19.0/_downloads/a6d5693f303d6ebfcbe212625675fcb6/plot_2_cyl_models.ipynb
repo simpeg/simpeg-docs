{
  "cells": [
    {
      "cell_type": "code",
      "execution_count": null,
      "metadata": {
        "collapsed": false
      },
      "outputs": [],
      "source": [
        "%matplotlib inline"
      ]
    },
    {
      "cell_type": "markdown",
      "metadata": {},
      "source": [
        "\n# Cylindrical Meshes\n\nCylindrical meshes are useful when the geological problem demonstrates\nrotational symmetry. In this case, we need only define how the model changes\nas a funcion of the radial distance and elevation; thus limiting the number\nof model parameters. Here we demonstrate various ways that models can be\ndefined and mapped to cylindrical meshes. Some things we consider are:\n\n    - Adding structures of various shape to the model\n    - Parameterized models\n    - Models with 2 or more physical properties\n"
      ]
    },
    {
      "cell_type": "markdown",
      "metadata": {},
      "source": [
        "## Import modules\n\n\n"
      ]
    },
    {
      "cell_type": "code",
      "execution_count": null,
      "metadata": {
        "collapsed": false
      },
      "outputs": [],
      "source": [
        "from discretize import CylindricalMesh\nfrom SimPEG.utils import mkvc\nfrom SimPEG import maps\nimport numpy as np\nimport matplotlib.pyplot as plt"
      ]
    },
    {
      "cell_type": "markdown",
      "metadata": {},
      "source": [
        "## Defining the mesh\n\nHere, we create the tensor mesh that will be used for all examples.\n\n\n"
      ]
    },
    {
      "cell_type": "code",
      "execution_count": null,
      "metadata": {
        "collapsed": false
      },
      "outputs": [],
      "source": [
        "def make_example_mesh():\n    ncr = 20  # number of mesh cells in r\n    ncz = 20  # number of mesh cells in z\n    dh = 5.0  # cell width\n\n    hr = [(dh, ncr), (dh, 5, 1.3)]\n    hz = [(dh, 5, -1.3), (dh, ncz), (dh, 5, 1.3)]\n\n    # Use flag of 1 to denote perfect rotational symmetry\n    mesh = CylindricalMesh([hr, 1, hz], \"0CC\")\n\n    return mesh"
      ]
    },
    {
      "cell_type": "markdown",
      "metadata": {},
      "source": [
        "## Vertical Pipe and a 2 Layered Earth\n\nIn this example we create a model containing a vertical pipe and a layered\nEarth. We will see that we need only define the model as a function\nof r and z. Models of this type are plotted from the center of the mesh to\nthe total radial distance of the mesh. That is why pipes and rings look like\nblocks.\n\n\n"
      ]
    },
    {
      "cell_type": "code",
      "execution_count": null,
      "metadata": {
        "collapsed": false
      },
      "outputs": [],
      "source": [
        "mesh = make_example_mesh()\n\nbackground_value = 100.0\nlayer_value = 70.0\npipe_value = 40.0\n\n# Find cells below topography and define mapping\nair_value = 0.0\nind_active = mesh.gridCC[:, 2] < 0.0\nmodel_map = maps.InjectActiveCells(mesh, ind_active, air_value)\n\n# Define the model\nmodel = background_value * np.ones(ind_active.sum())\nind_layer = (mesh.gridCC[ind_active, 2] > -20.0) & (mesh.gridCC[ind_active, 2] < -0)\nmodel[ind_layer] = layer_value\nind_pipe = (\n    (mesh.gridCC[ind_active, 0] < 10.0)\n    & (mesh.gridCC[ind_active, 2] > -50.0)\n    & (mesh.gridCC[ind_active, 2] < 0.0)\n)\nmodel[ind_pipe] = pipe_value\n\n\n# Plotting\nfig = plt.figure(figsize=(5, 5))\nax = fig.add_subplot(111)\nmesh.plot_image(model_map * model, ax=ax, grid=True)\nax.set_title(\"Cylindrically Symmetric Model\")"
      ]
    },
    {
      "cell_type": "markdown",
      "metadata": {},
      "source": [
        "## Combo Maps\n\nHere we demonstrate how combo maps can be used to create a single mapping\nfrom the model to the mesh. In this case, our model consists of\nlog-conductivity values but we want to plot the resistivity. To accomplish\nthis we must take the exponent of our model values, then take the reciprocal,\nthen map from below surface cell to the mesh.\n\n\n"
      ]
    },
    {
      "cell_type": "code",
      "execution_count": null,
      "metadata": {
        "collapsed": false
      },
      "outputs": [],
      "source": [
        "mesh = make_example_mesh()\n\nbackground_value = np.log(1.0 / 100.0)\nlayer_value = np.log(1.0 / 70.0)\npipe_value = np.log(1.0 / 40.0)\n\n\n# Find cells below topography and define mapping\nair_value = 0.0\nind_active = mesh.gridCC[:, 2] < 0.0\nactive_map = maps.InjectActiveCells(mesh, ind_active, air_value)\n\n# Define the model\nmodel = background_value * np.ones(ind_active.sum())\nind_layer = (mesh.gridCC[ind_active, 2] > -20.0) & (mesh.gridCC[ind_active, 2] < -0)\nmodel[ind_layer] = layer_value\nind_pipe = (\n    (mesh.gridCC[ind_active, 0] < 10.0)\n    & (mesh.gridCC[ind_active, 2] > -50.0)\n    & (mesh.gridCC[ind_active, 2] < 0.0)\n)\nmodel[ind_pipe] = pipe_value\n\n# Define a single mapping from model to mesh\nexponential_map = maps.ExpMap()\nreciprocal_map = maps.ReciprocalMap()\nmodel_map = active_map * reciprocal_map * exponential_map\n\n# Plotting\nfig = plt.figure(figsize=(5, 5))\nax = fig.add_subplot(111)\nmesh.plot_image(model_map * model, ax=ax, grid=True)\nax.set_title(\"Cylindrically Symmetric Model\")"
      ]
    },
    {
      "cell_type": "markdown",
      "metadata": {},
      "source": [
        "## Parameterized pipe model\n\nInstead of defining a model value for each sub-surface cell, we can define\nthe model in terms of a small number of parameters. Here we parameterize the\nmodel as a block in a half-space. We then create a mapping which projects\nthis model onto the mesh.\n\n\n"
      ]
    },
    {
      "cell_type": "code",
      "execution_count": null,
      "metadata": {
        "collapsed": false
      },
      "outputs": [],
      "source": [
        "mesh = make_example_mesh()\n\nbackground_value = 100.0  # background value\npipe_value = 40.0  # pipe value\nrc, zc = 0.0, -25.0  # center of pipe\ndr, dz = 20.0, 50.0  # dimensions in r, z\n\n# Find cells below topography and define mapping\nair_value = 0.0\nind_active = mesh.gridCC[:, 2] < 0.0\nactive_map = maps.InjectActiveCells(mesh, ind_active, air_value)\n\n# Define the model on subsurface cells\nmodel = np.r_[\n    background_value, pipe_value, rc, dr, 0.0, 1.0, zc, dz\n]  # add dummy values for phi\nparametric_map = maps.ParametricBlock(mesh, indActive=ind_active, epsilon=1e-10, p=8.0)\n\n# Define a single mapping from model to mesh\nmodel_map = active_map * parametric_map\n\n# Plotting\nfig = plt.figure(figsize=(5, 5))\nax = fig.add_subplot(111)\nmesh.plot_image(model_map * model, ax=ax, grid=True)\nax.set_title(\"Cylindrically Symmetric Model\")"
      ]
    },
    {
      "cell_type": "markdown",
      "metadata": {},
      "source": [
        "## Using Wire Maps\n\nWire maps are needed when the model is comprised of two or more parameter\ntypes (e.g. conductivity and magnetic permeability). Because the model\nvector contains all values for all parameter types, we need to use \"wires\"\nto extract the values for a particular parameter type.\n\nHere we will define a model consisting of log-conductivity values and\nmagnetic permeability values. We wish to plot the conductivity and\npermeability on the mesh. Wires are used to keep track of the mapping\nbetween the model vector and a particular physical property type.\n\n\n"
      ]
    },
    {
      "cell_type": "code",
      "execution_count": null,
      "metadata": {
        "collapsed": false
      },
      "outputs": [],
      "source": [
        "mesh = make_example_mesh()\n\nbackground_sigma = np.log(100.0)\nlayer_sigma = np.log(70.0)\npipe_sigma = np.log(40.0)\nbackground_mu = 1.0\npipe_mu = 5.0\n\n# Find cells below topography and define mapping\nair_value = 0.0\nind_active = mesh.gridCC[:, 2] < 0.0\nactive_map = maps.InjectActiveCells(mesh, ind_active, air_value)\n\n# Define model for cells under the surface topography\nN = int(ind_active.sum())\nmodel = np.kron(np.ones((N, 1)), np.c_[background_sigma, background_mu])\n\n# Add a conductive and non-permeable layer\nind_layer = (mesh.gridCC[ind_active, 2] > -20.0) & (mesh.gridCC[ind_active, 2] < -0)\nmodel[ind_layer, 0] = layer_sigma\n\n# Add a conductive and permeable pipe\nind_pipe = (\n    (mesh.gridCC[ind_active, 0] < 10.0)\n    & (mesh.gridCC[ind_active, 2] > -50.0)\n    & (mesh.gridCC[ind_active, 2] < 0.0)\n)\nmodel[ind_pipe] = np.c_[pipe_sigma, pipe_mu]\n\n# Create model vector and wires\nmodel = mkvc(model)\nwire_map = maps.Wires((\"log_sigma\", N), (\"mu\", N))\n\n# Use combo maps to map from model to mesh\nsigma_map = active_map * maps.ExpMap() * wire_map.log_sigma\nmu_map = active_map * wire_map.mu\n\n# Plotting\nfig = plt.figure(figsize=(5, 5))\nax = fig.add_subplot(111)\nmesh.plot_image(sigma_map * model, ax=ax, grid=True)\nax.set_title(\"Cylindrically Symmetric Model\")"
      ]
    }
  ],
  "metadata": {
    "kernelspec": {
      "display_name": "Python 3",
      "language": "python",
      "name": "python3"
    },
    "language_info": {
      "codemirror_mode": {
        "name": "ipython",
        "version": 3
      },
      "file_extension": ".py",
      "mimetype": "text/x-python",
      "name": "python",
      "nbconvert_exporter": "python",
      "pygments_lexer": "ipython3",
      "version": "3.8.16"
    }
  },
  "nbformat": 4,
  "nbformat_minor": 0
}