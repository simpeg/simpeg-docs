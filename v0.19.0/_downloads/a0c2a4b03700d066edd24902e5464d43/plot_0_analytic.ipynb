{
  "cells": [
    {
      "cell_type": "code",
      "execution_count": null,
      "metadata": {
        "collapsed": false
      },
      "outputs": [],
      "source": [
        "%matplotlib inline"
      ]
    },
    {
      "cell_type": "markdown",
      "metadata": {},
      "source": [
        "\n# PF: Magnetics: Analytics\n\nComparing the magnetics field in Vancouver to Seoul\n"
      ]
    },
    {
      "cell_type": "code",
      "execution_count": null,
      "metadata": {
        "collapsed": false
      },
      "outputs": [],
      "source": [
        "import numpy as np\nfrom SimPEG.potential_fields.magnetics import analytics\nimport matplotlib.pyplot as plt\nfrom mpl_toolkits.axes_grid1 import make_axes_locatable\n\n\ndef run(plotIt=True):\n    xr = np.linspace(-300, 300, 41)\n    yr = np.linspace(-300, 300, 41)\n    X, Y = np.meshgrid(xr, yr)\n    Z = np.ones((np.size(xr), np.size(yr))) * 150\n\n    # Bz component in Korea\n    inckr = -8.0 + 3.0 / 60\n    deckr = 54.0 + 9.0 / 60\n    btotkr = 50898.6\n    Bokr = analytics.IDTtoxyz(inckr, deckr, btotkr)\n\n    bx, by, bz = analytics.MagSphereAnaFunA(\n        X, Y, Z, 100.0, 0.0, 0.0, 0.0, 0.01, Bokr, \"secondary\"\n    )\n    Bzkr = np.reshape(bz, (np.size(xr), np.size(yr)), order=\"F\")\n\n    # Bz component in Canada\n    incca = 16.0 + 49.0 / 60\n    decca = 70.0 + 19.0 / 60\n    btotca = 54692.1\n    Boca = analytics.IDTtoxyz(incca, decca, btotca)\n\n    bx, by, bz = analytics.MagSphereAnaFunA(\n        X, Y, Z, 100.0, 0.0, 0.0, 0.0, 0.01, Boca, \"secondary\"\n    )\n    Bzca = np.reshape(bz, (np.size(xr), np.size(yr)), order=\"F\")\n\n    if plotIt:\n        plt.figure(figsize=(14, 5))\n\n        ax1 = plt.subplot(121)\n        dat1 = plt.imshow(Bzkr, extent=[min(xr), max(xr), min(yr), max(yr)])\n        divider = make_axes_locatable(ax1)\n        cax1 = divider.append_axes(\"right\", size=\"5%\", pad=0.05)\n        ax1.set_xlabel(\"East-West (m)\")\n        ax1.set_ylabel(\"South-North (m)\")\n        plt.colorbar(dat1, cax=cax1)\n        ax1.set_title(\"$B_z$ field at Seoul, South Korea\")\n\n        ax2 = plt.subplot(122)\n        dat2 = plt.imshow(Bzca, extent=[min(xr), max(xr), min(yr), max(yr)])\n        divider = make_axes_locatable(ax2)\n        cax2 = divider.append_axes(\"right\", size=\"5%\", pad=0.05)\n        ax2.set_xlabel(\"East-West (m)\")\n        ax2.set_ylabel(\"South-North (m)\")\n        plt.colorbar(dat2, cax=cax2)\n        ax2.set_title(\"$B_z$ field at Vancouver, Canada\")\n\n\nif __name__ == \"__main__\":\n    run()\n    plt.show()"
      ]
    }
  ],
  "metadata": {
    "kernelspec": {
      "display_name": "Python 3",
      "language": "python",
      "name": "python3"
    },
    "language_info": {
      "codemirror_mode": {
        "name": "ipython",
        "version": 3
      },
      "file_extension": ".py",
      "mimetype": "text/x-python",
      "name": "python",
      "nbconvert_exporter": "python",
      "pygments_lexer": "ipython3",
      "version": "3.8.16"
    }
  },
  "nbformat": 4,
  "nbformat_minor": 0
}