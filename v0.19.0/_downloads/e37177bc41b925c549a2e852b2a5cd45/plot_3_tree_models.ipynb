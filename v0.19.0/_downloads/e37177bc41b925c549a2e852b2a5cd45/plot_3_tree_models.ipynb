{
  "cells": [
    {
      "cell_type": "code",
      "execution_count": null,
      "metadata": {
        "collapsed": false
      },
      "outputs": [],
      "source": [
        "%matplotlib inline"
      ]
    },
    {
      "cell_type": "markdown",
      "metadata": {},
      "source": [
        "\n# Tree Meshes\n\nHere we demonstrate various ways that models can be defined and mapped to\nOcTree meshes. Some things we consider are:\n\n    - Mesh refinement near surface topography\n    - Adding structures of various shape to the model\n    - Parameterized models\n    - Models with 2 or more physical properties\n"
      ]
    },
    {
      "cell_type": "markdown",
      "metadata": {},
      "source": [
        "## Import modules\n\n\n"
      ]
    },
    {
      "cell_type": "code",
      "execution_count": null,
      "metadata": {
        "collapsed": false
      },
      "outputs": [],
      "source": [
        "from discretize import TreeMesh\nfrom discretize.utils import refine_tree_xyz, active_from_xyz\nfrom SimPEG.utils import mkvc, model_builder\nfrom SimPEG import maps\nimport numpy as np\nimport matplotlib.pyplot as plt\n\n# sphinx_gallery_thumbnail_number = 3"
      ]
    },
    {
      "cell_type": "markdown",
      "metadata": {},
      "source": [
        "## Defining the mesh\n\nHere, we create the OcTree mesh that will be used for all examples.\n\n\n"
      ]
    },
    {
      "cell_type": "code",
      "execution_count": null,
      "metadata": {
        "collapsed": false
      },
      "outputs": [],
      "source": [
        "def make_example_mesh():\n    # Base mesh parameters\n    dh = 5.0  # base cell size\n    nbc = 32  # total width of mesh in terms of number of base mesh cells\n    h = dh * np.ones(nbc)\n\n    mesh = TreeMesh([h, h, h], x0=\"CCC\")\n\n    # Refine to largest possible cell size\n    mesh.refine(3, finalize=False)\n\n    return mesh\n\n\ndef refine_topography(mesh):\n    # Define topography and refine\n    [xx, yy] = np.meshgrid(mesh.nodes_x, mesh.nodes_y)\n    zz = -3 * np.exp((xx**2 + yy**2) / 60**2) + 45.0\n    topo = np.c_[mkvc(xx), mkvc(yy), mkvc(zz)]\n\n    mesh = refine_tree_xyz(\n        mesh, topo, octree_levels=[3, 2], method=\"surface\", finalize=False\n    )\n\n    return mesh\n\n\ndef refine_box(mesh):\n    # Refine for sphere\n    xp, yp, zp = np.meshgrid([-55.0, 50.0], [-50.0, 50.0], [-40.0, 20.0])\n    xyz = np.c_[mkvc(xp), mkvc(yp), mkvc(zp)]\n\n    mesh = refine_tree_xyz(mesh, xyz, octree_levels=[2], method=\"box\", finalize=False)\n\n    return mesh"
      ]
    },
    {
      "cell_type": "markdown",
      "metadata": {},
      "source": [
        "## Topography, a block and a vertical dyke\n\nIn this example we create a model containing a block and a vertical dyke\nthat strikes along the y direction. The utility *active_from_xyz* is used\nto find the cells which lie below a set of xyz points defining a surface.\nThe model consists of all cells which lie below the surface.\n\n\n"
      ]
    },
    {
      "cell_type": "code",
      "execution_count": null,
      "metadata": {
        "collapsed": false
      },
      "outputs": [],
      "source": [
        "mesh = make_example_mesh()\nmesh = refine_topography(mesh)\nmesh = refine_box(mesh)\nmesh.finalize()\n\nbackground_value = 100.0\ndyke_value = 40.0\nblock_value = 70.0\n\n# Define surface topography as an (N, 3) np.array. You could also load a file\n# containing the xyz points\n[xx, yy] = np.meshgrid(mesh.nodes_x, mesh.nodes_y)\nzz = -3 * np.exp((xx**2 + yy**2) / 60**2) + 45.0\ntopo = np.c_[mkvc(xx), mkvc(yy), mkvc(zz)]\n\n# Find cells below topography and define mapping\nair_value = 0.0\nind_active = active_from_xyz(mesh, topo)\nmodel_map = maps.InjectActiveCells(mesh, ind_active, air_value)\n\n# Define the model on subsurface cells\nmodel = background_value * np.ones(ind_active.sum())\nind_dyke = (mesh.gridCC[ind_active, 0] > 20.0) & (mesh.gridCC[ind_active, 0] < 40.0)\nmodel[ind_dyke] = dyke_value\nind_block = (\n    (mesh.gridCC[ind_active, 0] > -40.0)\n    & (mesh.gridCC[ind_active, 0] < -10.0)\n    & (mesh.gridCC[ind_active, 1] > -30.0)\n    & (mesh.gridCC[ind_active, 1] < 30.0)\n    & (mesh.gridCC[ind_active, 2] > -40.0)\n    & (mesh.gridCC[ind_active, 2] < 0.0)\n)\nmodel[ind_block] = block_value\n\n# We can plot a slice of the model at Y=-2.5\nfig = plt.figure(figsize=(5, 5))\nax = fig.add_subplot(111)\nind_slice = int(mesh.h[1].size / 2)\nmesh.plot_slice(model_map * model, normal=\"Y\", ax=ax, ind=ind_slice, grid=True)\nax.set_title(\n    \"Model slice at y = {} m\".format(mesh.x0[1] + np.sum(mesh.h[1][0:ind_slice]))\n)\nplt.show()"
      ]
    },
    {
      "cell_type": "markdown",
      "metadata": {},
      "source": [
        "## Combo Maps\n\nHere we demonstrate how combo maps can be used to create a single mapping\nfrom the model to the mesh. In this case, our model consists of\nlog-conductivity values but we want to plot the resistivity. To accomplish\nthis we must take the exponent of our model values, then take the reciprocal,\nthen map from below surface cell to the mesh.\n\n\n"
      ]
    },
    {
      "cell_type": "code",
      "execution_count": null,
      "metadata": {
        "collapsed": false
      },
      "outputs": [],
      "source": [
        "mesh = make_example_mesh()\nmesh = refine_topography(mesh)\nmesh = refine_box(mesh)\nmesh.finalize()\n\nbackground_value = np.log(1.0 / 100.0)\ndyke_value = np.log(1.0 / 40.0)\nblock_value = np.log(1.0 / 70.0)\n\n# Define surface topography\n[xx, yy] = np.meshgrid(mesh.nodes_x, mesh.nodes_y)\nzz = -3 * np.exp((xx**2 + yy**2) / 60**2) + 45.0\ntopo = np.c_[mkvc(xx), mkvc(yy), mkvc(zz)]\n\n# Find cells below topography\nair_value = 0.0\nind_active = active_from_xyz(mesh, topo)\nactive_map = maps.InjectActiveCells(mesh, ind_active, air_value)\n\n# Define the model on subsurface cells\nmodel = background_value * np.ones(ind_active.sum())\nind_dyke = (mesh.gridCC[ind_active, 0] > 20.0) & (mesh.gridCC[ind_active, 0] < 40.0)\nmodel[ind_dyke] = dyke_value\nind_block = (\n    (mesh.gridCC[ind_active, 0] > -40.0)\n    & (mesh.gridCC[ind_active, 0] < -10.0)\n    & (mesh.gridCC[ind_active, 1] > -30.0)\n    & (mesh.gridCC[ind_active, 1] < 30.0)\n    & (mesh.gridCC[ind_active, 2] > -40.0)\n    & (mesh.gridCC[ind_active, 2] < 0.0)\n)\nmodel[ind_block] = block_value\n\n# Define a single mapping from model to mesh\nexponential_map = maps.ExpMap()\nreciprocal_map = maps.ReciprocalMap()\nmodel_map = active_map * reciprocal_map * exponential_map\n\n# Plot\nfig = plt.figure(figsize=(5, 5))\nax = fig.add_subplot(111)\nind_slice = int(mesh.h[1].size / 2)\nmesh.plot_slice(model_map * model, normal=\"Y\", ax=ax, ind=ind_slice, grid=True)\nax.set_title(\n    \"Model slice at y = {} m\".format(mesh.x0[1] + np.sum(mesh.h[1][0:ind_slice]))\n)\nplt.show()"
      ]
    },
    {
      "cell_type": "markdown",
      "metadata": {},
      "source": [
        "## Models with arbitrary shapes\n\nHere we show how model building utilities are used to make more complicated\nstructural models. The process of adding a new unit is twofold: 1) we must\nfind the indicies for mesh cells that lie within the new unit, 2) we\nreplace the prexisting physical property value for those cells.\n\n\n"
      ]
    },
    {
      "cell_type": "code",
      "execution_count": null,
      "metadata": {
        "collapsed": false
      },
      "outputs": [],
      "source": [
        "mesh = make_example_mesh()\nmesh = refine_topography(mesh)\nmesh = refine_box(mesh)\nmesh.finalize()\n\nbackground_value = 100.0\ndyke_value = 40.0\nsphere_value = 70.0\n\n# Define surface topography\n[xx, yy] = np.meshgrid(mesh.nodes_x, mesh.nodes_y)\nzz = -3 * np.exp((xx**2 + yy**2) / 60**2) + 45.0\ntopo = np.c_[mkvc(xx), mkvc(yy), mkvc(zz)]\n\n# Set active cells and define unit values\nair_value = 0.0\nind_active = active_from_xyz(mesh, topo)\nmodel_map = maps.InjectActiveCells(mesh, ind_active, air_value)\n\n# Define model for cells under the surface topography\nmodel = background_value * np.ones(ind_active.sum())\n\n# Add a sphere\nind_sphere = model_builder.getIndicesSphere(np.r_[-25.0, 0.0, -15.0], 20.0, mesh.gridCC)\nind_sphere = ind_sphere[ind_active]  # So same size and order as model\nmodel[ind_sphere] = sphere_value\n\n# Add dyke defined by a set of points\nxp = np.kron(np.ones((2)), [-10.0, 10.0, 55.0, 35.0])\nyp = np.kron([-1000.0, 1000.0], np.ones((4)))\nzp = np.kron(np.ones((2)), [-120.0, -120.0, 45.0, 45.0])\nxyz_pts = np.c_[mkvc(xp), mkvc(yp), mkvc(zp)]\nind_polygon = model_builder.get_indices_polygon(mesh, xyz_pts)\nind_polygon = ind_polygon[ind_active]  # So same size and order as model\nmodel[ind_polygon] = dyke_value\n\n# Plot\nfig = plt.figure(figsize=(5, 5))\nax = fig.add_subplot(111)\nind_slice = int(mesh.h[1].size / 2)\nmesh.plot_slice(model_map * model, normal=\"Y\", ax=ax, ind=ind_slice, grid=True)\nax.set_title(\n    \"Model slice at y = {} m\".format(mesh.x0[1] + np.sum(mesh.h[1][0:ind_slice]))\n)\nplt.show()"
      ]
    },
    {
      "cell_type": "markdown",
      "metadata": {},
      "source": [
        "## Parameterized block model\n\nInstead of defining a model value for each sub-surface cell, we can define\nthe model in terms of a small number of parameters. Here we parameterize the\nmodel as a block in a half-space. We then create a mapping which projects\nthis model onto the mesh.\n\n\n"
      ]
    },
    {
      "cell_type": "code",
      "execution_count": null,
      "metadata": {
        "collapsed": false
      },
      "outputs": [],
      "source": [
        "mesh = make_example_mesh()\nmesh = refine_topography(mesh)\nmesh = refine_box(mesh)\nmesh.finalize()\n\nbackground_value = 100.0  # background value\nblock_value = 40.0  # block value\nxc, yc, zc = -20.0, 0.0, -20.0  # center of block\ndx, dy, dz = 25.0, 40.0, 30.0  # dimensions in x,y,z\n\n# Define surface topography\n[xx, yy] = np.meshgrid(mesh.nodes_x, mesh.nodes_y)\nzz = -3 * np.exp((xx**2 + yy**2) / 60**2) + 45.0\ntopo = np.c_[mkvc(xx), mkvc(yy), mkvc(zz)]\n\n# Set active cells and define unit values\nair_value = 0.0\nind_active = active_from_xyz(mesh, topo)\nactive_map = maps.InjectActiveCells(mesh, ind_active, air_value)\n\n# Define the model on subsurface cells\nmodel = np.r_[background_value, block_value, xc, dx, yc, dy, zc, dz]\nparametric_map = maps.ParametricBlock(mesh, indActive=ind_active, epsilon=1e-10, p=5.0)\n\n# Define a single mapping from model to mesh\nmodel_map = active_map * parametric_map\n\n# Plot\nfig = plt.figure(figsize=(5, 5))\nax = fig.add_subplot(111)\nind_slice = int(mesh.h[1].size / 2)\nmesh.plot_slice(model_map * model, normal=\"Y\", ax=ax, ind=ind_slice, grid=True)\nax.set_title(\n    \"Model slice at y = {} m\".format(mesh.x0[1] + np.sum(mesh.h[1][0:ind_slice]))\n)\nplt.show()"
      ]
    },
    {
      "cell_type": "markdown",
      "metadata": {},
      "source": [
        "## Using Wire Maps\n\nWire maps are needed when the model is comprised of two or more parameter\ntypes (e.g. conductivity and magnetic permeability). Because the model\nvector contains all values for all parameter types, we need to use \"wires\"\nto extract the values for a particular parameter type.\n\nHere we will define a model consisting of log-conductivity values and\nmagnetic permeability values. We wish to plot the conductivity and\npermeability on the mesh. Wires are used to keep track of the mapping\nbetween the model vector and a particular physical property type.\n\n\n"
      ]
    },
    {
      "cell_type": "code",
      "execution_count": null,
      "metadata": {
        "collapsed": false
      },
      "outputs": [],
      "source": [
        "mesh = make_example_mesh()\nmesh = refine_topography(mesh)\nmesh = refine_box(mesh)\nmesh.finalize()\n\nbackground_sigma_value = np.log(100.0)\nsphere_sigma_value = np.log(70.0)\ndyke_sigma_value = np.log(40.0)\nbackground_mu_value = 1.0\nsphere_mu_value = 1.25\n\n# Define surface topography\n[xx, yy] = np.meshgrid(mesh.nodes_x, mesh.nodes_y)\nzz = -3 * np.exp((xx**2 + yy**2) / 60**2) + 45.0\ntopo = np.c_[mkvc(xx), mkvc(yy), mkvc(zz)]\n\n# Set active cells\nair_value = 0.0\nind_active = active_from_xyz(mesh, topo)\nactive_map = maps.InjectActiveCells(mesh, ind_active, air_value)\n\n# Define model for cells under the surface topography\nN = int(ind_active.sum())\nmodel = np.kron(np.ones((N, 1)), np.c_[background_sigma_value, background_mu_value])\n\n# Add a conductive and permeable sphere\nind_sphere = model_builder.getIndicesSphere(np.r_[-20.0, 0.0, -15.0], 20.0, mesh.gridCC)\nind_sphere = ind_sphere[ind_active]  # So same size and order as model\nmodel[ind_sphere, :] = np.c_[sphere_sigma_value, sphere_mu_value]\n\n# Add a conductive and non-permeable dyke\nxp = np.kron(np.ones((2)), [-10.0, 10.0, 55.0, 35.0])\nyp = np.kron([-1000.0, 1000.0], np.ones((4)))\nzp = np.kron(np.ones((2)), [-120.0, -120.0, 45.0, 45.0])\nxyz_pts = np.c_[mkvc(xp), mkvc(yp), mkvc(zp)]\nind_polygon = model_builder.get_indices_polygon(mesh, xyz_pts)\nind_polygon = ind_polygon[ind_active]  # So same size and order as model\nmodel[ind_polygon, 0] = dyke_sigma_value\n\n# Create model vector and wires\nmodel = mkvc(model)\nwire_map = maps.Wires((\"log_sigma\", N), (\"mu\", N))\n\n# Use combo maps to map from model to mesh\nsigma_map = active_map * maps.ExpMap() * wire_map.log_sigma\nmu_map = active_map * wire_map.mu\n\n# Plot\nfig = plt.figure(figsize=(5, 5))\nax = fig.add_subplot(111)\nind_slice = int(mesh.h[1].size / 2)\nmesh.plot_slice(sigma_map * model, normal=\"Y\", ax=ax, ind=ind_slice, grid=True)\nax.set_title(\n    \"Model slice at y = {} m\".format(mesh.x0[1] + np.sum(mesh.h[1][0:ind_slice]))\n)\nplt.show()"
      ]
    }
  ],
  "metadata": {
    "kernelspec": {
      "display_name": "Python 3",
      "language": "python",
      "name": "python3"
    },
    "language_info": {
      "codemirror_mode": {
        "name": "ipython",
        "version": 3
      },
      "file_extension": ".py",
      "mimetype": "text/x-python",
      "name": "python",
      "nbconvert_exporter": "python",
      "pygments_lexer": "ipython3",
      "version": "3.8.16"
    }
  },
  "nbformat": 4,
  "nbformat_minor": 0
}