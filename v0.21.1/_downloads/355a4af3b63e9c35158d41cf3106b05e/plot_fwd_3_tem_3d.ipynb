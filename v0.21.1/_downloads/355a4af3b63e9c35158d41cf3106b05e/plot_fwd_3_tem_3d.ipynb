{
  "cells": [
    {
      "cell_type": "markdown",
      "metadata": {},
      "source": [
        "\n# 3D Forward Simulation with User-Defined Waveforms\n\nHere we use the module *SimPEG.electromagnetics.time_domain* to predict the\nTDEM response for a trapezoidal waveform. We consider an airborne survey\nwhich uses a horizontal coplanar geometry. For this tutorial, we focus\non the following:\n\n    - How to define the transmitters and receivers\n    - How to define more complicated transmitter waveforms\n    - How to define the time-stepping\n    - How to define the survey\n    - How to solve TDEM problems on an OcTree mesh\n    - How to include topography\n    - The units of the conductivity model and resulting data\n\n\nPlease note that we have used a coarse mesh and larger time-stepping to shorten\nthe time of the simulation. Proper discretization in space and time is required\nto simulate the fields at each time channel with sufficient accuracy.\n"
      ]
    },
    {
      "cell_type": "markdown",
      "metadata": {},
      "source": [
        "## Import Modules\n\n\n"
      ]
    },
    {
      "cell_type": "code",
      "execution_count": null,
      "metadata": {
        "collapsed": false
      },
      "outputs": [],
      "source": [
        "from discretize import TreeMesh\nfrom discretize.utils import mkvc, refine_tree_xyz, active_from_xyz\n\nfrom SimPEG.utils import plot2Ddata\nfrom SimPEG import maps\nimport SimPEG.electromagnetics.time_domain as tdem\n\nimport numpy as np\nimport matplotlib as mpl\nimport matplotlib.pyplot as plt\nimport os\n\ntry:\n    from pymatsolver import Pardiso as Solver\nexcept ImportError:\n    from SimPEG import SolverLU as Solver\n\nsave_file = False\n\n# sphinx_gallery_thumbnail_number = 3"
      ]
    },
    {
      "cell_type": "markdown",
      "metadata": {},
      "source": [
        "## Defining Topography\n\nHere we define surface topography as an (N, 3) numpy array. Topography could\nalso be loaded from a file. Here we define flat topography, however more\ncomplex topographies can be considered.\n\n\n"
      ]
    },
    {
      "cell_type": "code",
      "execution_count": null,
      "metadata": {
        "collapsed": false
      },
      "outputs": [],
      "source": [
        "xx, yy = np.meshgrid(np.linspace(-3000, 3000, 101), np.linspace(-3000, 3000, 101))\nzz = np.zeros(np.shape(xx))\ntopo_xyz = np.c_[mkvc(xx), mkvc(yy), mkvc(zz)]"
      ]
    },
    {
      "cell_type": "markdown",
      "metadata": {},
      "source": [
        "## Defining the Waveform\n\nUnder *SimPEG.electromagnetic.time_domain.sources*\nthere are a multitude of waveforms that can be defined (VTEM, Ramp-off etc...).\nHere, we consider a trapezoidal waveform, which consists of a\nlinear ramp-on followed by a linear ramp-off. For each waveform, it\nis important you are cognizant of the off time!!!\n\n\n"
      ]
    },
    {
      "cell_type": "code",
      "execution_count": null,
      "metadata": {
        "collapsed": false
      },
      "outputs": [],
      "source": [
        "# Define a discrete set of times for which your transmitter is 'on'. Here\n# the waveform is on from -0.002 s to 0 s.\nwaveform_times = np.linspace(-0.002, 0, 21)\n\n# For each waveform type, you must define the necessary set of kwargs.\n# For the trapezoidal waveform we define the ramp on interval, the\n# ramp-off interval and the off-time.\nwaveform = tdem.sources.TrapezoidWaveform(\n    ramp_on=np.r_[-0.002, -0.001], ramp_off=np.r_[-0.001, 0.0], off_time=0.0\n)\n\n# Uncomment to try a quarter sine wave ramp on, followed by a linear ramp-off.\n# waveform = tdem.sources.QuarterSineRampOnWaveform(\n#     ramp_on=np.r_[-0.002, -0.001],  ramp_off=np.r_[-0.001, 0.], off_time=0.\n# )\n\n# Uncomment to try a custom waveform (just a linear ramp-off). This requires\n# defining a function for your waveform.\n# def wave_function(t):\n#     return - t/(np.max(waveform_times) - np.min(waveform_times))\n#\n# waveform = tdem.sources.RawWaveform(waveform_function=wave_function, off_time=0.)\n\n# Evaluate the waveform for each on time.\nwaveform_value = [waveform.eval(t) for t in waveform_times]\n\n# Plot the waveform\nfig = plt.figure(figsize=(10, 4))\nax1 = fig.add_subplot(111)\nax1.plot(waveform_times, waveform_value, lw=2)\nax1.set_xlabel(\"Times [s]\")\nax1.set_ylabel(\"Waveform value\")\nax1.set_title(\"Waveform\")"
      ]
    },
    {
      "cell_type": "markdown",
      "metadata": {},
      "source": [
        "## Create Airborne Survey\n\nHere we define the survey used in our simulation. For time domain\nsimulations, we must define the geometry of the source and its waveform. For\nthe receivers, we define their geometry, the type of field they measure and\nthe time channels at which they measure the field. For this example,\nthe survey consists of a uniform grid of airborne measurements.\n\n\n"
      ]
    },
    {
      "cell_type": "code",
      "execution_count": null,
      "metadata": {
        "collapsed": false
      },
      "outputs": [],
      "source": [
        "# Observation times for response (time channels)\nn_times = 3\ntime_channels = np.logspace(-4, -3, n_times)\n\n# Defining transmitter locations\nn_tx = 11\nxtx, ytx, ztx = np.meshgrid(\n    np.linspace(-200, 200, n_tx), np.linspace(-200, 200, n_tx), [50]\n)\nsource_locations = np.c_[mkvc(xtx), mkvc(ytx), mkvc(ztx)]\nntx = np.size(xtx)\n\n# Define receiver locations\nxrx, yrx, zrx = np.meshgrid(\n    np.linspace(-200, 200, n_tx), np.linspace(-190, 190, n_tx), [30]\n)\nreceiver_locations = np.c_[mkvc(xrx), mkvc(yrx), mkvc(zrx)]\n\nsource_list = []  # Create empty list to store sources\n\n# Each unique location defines a new transmitter\nfor ii in range(ntx):\n    # Here we define receivers that measure the h-field in A/m\n    dbzdt_receiver = tdem.receivers.PointMagneticFluxTimeDerivative(\n        receiver_locations[ii, :], time_channels, \"z\"\n    )\n    receivers_list = [\n        dbzdt_receiver\n    ]  # Make a list containing all receivers even if just one\n\n    # Must define the transmitter properties and associated receivers\n    source_list.append(\n        tdem.sources.MagDipole(\n            receivers_list,\n            location=source_locations[ii],\n            waveform=waveform,\n            moment=1.0,\n            orientation=\"z\",\n        )\n    )\n\nsurvey = tdem.Survey(source_list)"
      ]
    },
    {
      "cell_type": "markdown",
      "metadata": {},
      "source": [
        "## Create OcTree Mesh\n\nHere we define the OcTree mesh that is used for this example.\nWe chose to design a coarser mesh to decrease the run time.\nWhen designing a mesh to solve practical time domain problems:\n\n    - Your smallest cell size should be 10%-20% the size of your smallest diffusion distance\n    - The thickness of your padding needs to be 2-3 times biggest than your largest diffusion distance\n    - The diffusion distance is ~1260*np.sqrt(rho*t)\n\n\n\n"
      ]
    },
    {
      "cell_type": "code",
      "execution_count": null,
      "metadata": {
        "collapsed": false
      },
      "outputs": [],
      "source": [
        "dh = 25.0  # base cell width\ndom_width = 1600.0  # domain width\nnbc = 2 ** int(np.round(np.log(dom_width / dh) / np.log(2.0)))  # num. base cells\n\n# Define the base mesh\nh = [(dh, nbc)]\nmesh = TreeMesh([h, h, h], x0=\"CCC\")\n\n# Mesh refinement based on topography\nmesh = refine_tree_xyz(\n    mesh, topo_xyz, octree_levels=[0, 0, 0, 1], method=\"surface\", finalize=False\n)\n\n# Mesh refinement near transmitters and receivers\nmesh = refine_tree_xyz(\n    mesh, receiver_locations, octree_levels=[2, 4], method=\"radial\", finalize=False\n)\n\n# Refine core mesh region\nxp, yp, zp = np.meshgrid([-250.0, 250.0], [-250.0, 250.0], [-250.0, 0.0])\nxyz = np.c_[mkvc(xp), mkvc(yp), mkvc(zp)]\nmesh = refine_tree_xyz(mesh, xyz, octree_levels=[0, 2, 4], method=\"box\", finalize=False)\n\nmesh.finalize()"
      ]
    },
    {
      "cell_type": "markdown",
      "metadata": {},
      "source": [
        "## Create Conductivity Model and Mapping for OcTree Mesh\n\nHere, we define the electrical properties of the Earth as a conductivity\nmodel. The model consists of a conductive block within a more\nresistive background.\n\n\n"
      ]
    },
    {
      "cell_type": "code",
      "execution_count": null,
      "metadata": {
        "collapsed": false
      },
      "outputs": [],
      "source": [
        "# Conductivity in S/m\nair_conductivity = 1e-8\nbackground_conductivity = 2e-3\nblock_conductivity = 2e0\n\n# Active cells are cells below the surface.\nind_active = active_from_xyz(mesh, topo_xyz)\nmodel_map = maps.InjectActiveCells(mesh, ind_active, air_conductivity)\n\n# Define the model\nmodel = background_conductivity * np.ones(ind_active.sum())\nind_block = (\n    (mesh.gridCC[ind_active, 0] < 100.0)\n    & (mesh.gridCC[ind_active, 0] > -100.0)\n    & (mesh.gridCC[ind_active, 1] < 100.0)\n    & (mesh.gridCC[ind_active, 1] > -100.0)\n    & (mesh.gridCC[ind_active, 2] > -200.0)\n    & (mesh.gridCC[ind_active, 2] < -50.0)\n)\nmodel[ind_block] = block_conductivity\n\n# Plot log-conductivity model\nmpl.rcParams.update({\"font.size\": 12})\nfig = plt.figure(figsize=(7, 6))\n\nlog_model = np.log10(model)\n\nplotting_map = maps.InjectActiveCells(mesh, ind_active, np.nan)\n\nax1 = fig.add_axes([0.13, 0.1, 0.6, 0.85])\nmesh.plot_slice(\n    plotting_map * log_model,\n    normal=\"Y\",\n    ax=ax1,\n    ind=int(mesh.h[0].size / 2),\n    grid=True,\n    clim=(np.min(log_model), np.max(log_model)),\n)\nax1.set_title(\"Conductivity Model at Y = 0 m\")\n\nax2 = fig.add_axes([0.75, 0.1, 0.05, 0.85])\nnorm = mpl.colors.Normalize(vmin=np.min(log_model), vmax=np.max(log_model))\ncbar = mpl.colorbar.ColorbarBase(\n    ax2, norm=norm, orientation=\"vertical\", format=\"$10^{%.1f}$\"\n)\ncbar.set_label(\"Conductivity [S/m]\", rotation=270, labelpad=15, size=12)"
      ]
    },
    {
      "cell_type": "markdown",
      "metadata": {},
      "source": [
        "## Define the Time-Stepping\n\nStuff about time-stepping and some rule of thumb\n\n\n"
      ]
    },
    {
      "cell_type": "code",
      "execution_count": null,
      "metadata": {
        "collapsed": false
      },
      "outputs": [],
      "source": [
        "time_steps = [(1e-4, 20), (1e-5, 10), (1e-4, 10)]"
      ]
    },
    {
      "cell_type": "markdown",
      "metadata": {},
      "source": [
        "## Simulation: Time-Domain Response\n\nHere we define the formulation for solving Maxwell's equations. Since we are\nmeasuring the time-derivative of the magnetic flux density and working with\na resistivity model, the EB formulation is the most natural. We must also\nremember to define the mapping for the conductivity model.\nWe defined a waveform 'on-time' is from -0.002 s to 0 s. As a result, we need\nto set the start time for the simulation to be at -0.002 s.\n\n\n"
      ]
    },
    {
      "cell_type": "code",
      "execution_count": null,
      "metadata": {
        "collapsed": false
      },
      "outputs": [],
      "source": [
        "simulation = tdem.simulation.Simulation3DMagneticFluxDensity(\n    mesh, survey=survey, sigmaMap=model_map, solver=Solver, t0=-0.002\n)\n\n# Set the time-stepping for the simulation\nsimulation.time_steps = time_steps"
      ]
    },
    {
      "cell_type": "markdown",
      "metadata": {},
      "source": [
        "## Predict Data and Plot\n\n\n"
      ]
    },
    {
      "cell_type": "code",
      "execution_count": null,
      "metadata": {
        "collapsed": false
      },
      "outputs": [],
      "source": [
        "# Predict data for a given model\ndpred = simulation.dpred(model)\n\n# Data were organized by location, then by time channel\ndpred_plotting = np.reshape(dpred, (n_tx**2, n_times))\n\n# Plot\nfig = plt.figure(figsize=(10, 4))\n\n# dB/dt at early time\nv_max = np.max(np.abs(dpred_plotting[:, 0]))\nax11 = fig.add_axes([0.05, 0.05, 0.35, 0.9])\nplot2Ddata(\n    receiver_locations[:, 0:2],\n    dpred_plotting[:, 0],\n    ax=ax11,\n    ncontour=30,\n    clim=(-v_max, v_max),\n    contourOpts={\"cmap\": \"bwr\"},\n)\nax11.set_title(\"dBz/dt at 0.0001 s\")\n\nax12 = fig.add_axes([0.42, 0.05, 0.02, 0.9])\nnorm1 = mpl.colors.Normalize(vmin=-v_max, vmax=v_max)\ncbar1 = mpl.colorbar.ColorbarBase(\n    ax12, norm=norm1, orientation=\"vertical\", cmap=mpl.cm.bwr\n)\ncbar1.set_label(\"$T/s$\", rotation=270, labelpad=15, size=12)\n\n# dB/dt at later times\nv_max = np.max(np.abs(dpred_plotting[:, -1]))\nax21 = fig.add_axes([0.55, 0.05, 0.35, 0.9])\nplot2Ddata(\n    receiver_locations[:, 0:2],\n    dpred_plotting[:, -1],\n    ax=ax21,\n    ncontour=30,\n    clim=(-v_max, v_max),\n    contourOpts={\"cmap\": \"bwr\"},\n)\nax21.set_title(\"dBz/dt at 0.001 s\")\n\nax22 = fig.add_axes([0.92, 0.05, 0.02, 0.9])\nnorm2 = mpl.colors.Normalize(vmin=-v_max, vmax=v_max)\ncbar2 = mpl.colorbar.ColorbarBase(\n    ax22, norm=norm2, orientation=\"vertical\", cmap=mpl.cm.bwr\n)\ncbar2.set_label(\"$T/s$\", rotation=270, labelpad=15, size=12)\n\nplt.show()"
      ]
    },
    {
      "cell_type": "markdown",
      "metadata": {},
      "source": [
        "## Optional: Export Data\n\nWrite the true model, data and topography\n\n\n"
      ]
    },
    {
      "cell_type": "code",
      "execution_count": null,
      "metadata": {
        "collapsed": false
      },
      "outputs": [],
      "source": [
        "if save_file:\n    dir_path = os.path.dirname(tdem.__file__).split(os.path.sep)[:-3]\n    dir_path.extend([\"tutorials\", \"assets\", \"tdem\"])\n    dir_path = os.path.sep.join(dir_path) + os.path.sep\n\n    fname = dir_path + \"tdem_topo.txt\"\n    np.savetxt(fname, np.c_[topo_xyz], fmt=\"%.4e\")\n\n    # Write data with 2% noise added\n    fname = dir_path + \"tdem_data.obs\"\n    dpred = dpred + 0.02 * np.abs(dpred) * np.random.randn(len(dpred))\n    t_vec = np.kron(np.ones(ntx), time_channels)\n    receiver_locations = np.kron(receiver_locations, np.ones((len(time_channels), 1)))\n\n    np.savetxt(fname, np.c_[receiver_locations, t_vec, dpred], fmt=\"%.4e\")\n\n    # Plot true model\n    output_model = plotting_map * model\n    output_model[np.isnan(output_model)] = 1e-8\n\n    fname = dir_path + \"true_model.txt\"\n    np.savetxt(fname, output_model, fmt=\"%.4e\")"
      ]
    }
  ],
  "metadata": {
    "kernelspec": {
      "display_name": "Python 3",
      "language": "python",
      "name": "python3"
    },
    "language_info": {
      "codemirror_mode": {
        "name": "ipython",
        "version": 3
      },
      "file_extension": ".py",
      "mimetype": "text/x-python",
      "name": "python",
      "nbconvert_exporter": "python",
      "pygments_lexer": "ipython3",
      "version": "3.8.19"
    }
  },
  "nbformat": 4,
  "nbformat_minor": 0
}