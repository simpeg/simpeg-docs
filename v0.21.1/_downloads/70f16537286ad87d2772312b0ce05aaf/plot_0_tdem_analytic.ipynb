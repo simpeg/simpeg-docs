{
  "cells": [
    {
      "cell_type": "markdown",
      "metadata": {},
      "source": [
        "\n# Simulation with Analytic TDEM Solutions\n\nHere, the module *SimPEG.electromagnetics.analytics.TDEM* is used to simulate\ntransient electric and magnetic field for both electric and magnetic dipole\nsources in a wholespace.\n"
      ]
    },
    {
      "cell_type": "markdown",
      "metadata": {},
      "source": [
        "## Import modules\n\n\n"
      ]
    },
    {
      "cell_type": "code",
      "execution_count": null,
      "metadata": {
        "collapsed": false
      },
      "outputs": [],
      "source": [
        "import numpy as np\nfrom SimPEG import utils\nfrom SimPEG.electromagnetics.analytics.TDEM import (\n    TransientElectricDipoleWholeSpace,\n    TransientMagneticDipoleWholeSpace,\n)\n\nimport matplotlib.pyplot as plt\nfrom matplotlib.colors import LogNorm"
      ]
    },
    {
      "cell_type": "markdown",
      "metadata": {},
      "source": [
        "## Magnetic Fields for a Transient Magnetic Dipole Source\n\nHere, we compute the magnetic field and its time-derivative for a transient\nmagnetic dipole source in the z direction. Based on the geometry of the problem, we\nexpect magnetic fields in the x and z directions, but none in the y\ndirection.\n\n\n"
      ]
    },
    {
      "cell_type": "code",
      "execution_count": null,
      "metadata": {
        "collapsed": false
      },
      "outputs": [],
      "source": [
        "# Defining electric dipole location and frequency\nsource_location = np.r_[0, 0, 0]\nt = [1e-4, 1e-3, 1e-2]\n\n# Defining observation locations (avoid placing observation at source)\nx = np.arange(-201, 201, step=2.0)\ny = np.r_[0]\nz = x\nobservation_locations = utils.ndgrid(x, y, z)\n\n# Define wholespace conductivity\nsig = 1e0\n\n# Plot the magnetic field\nfig = plt.figure(figsize=(14, 3))\nax = 3 * [None]\ncb = 3 * [None]\npc = 3 * [None]\n\nfor ii in range(0, 3):\n    # Compute the fields\n    Hx, Hy, Hz = TransientMagneticDipoleWholeSpace(\n        observation_locations,\n        source_location,\n        sig,\n        t[ii],\n        moment=\"Z\",\n        fieldType=\"h\",\n        mu_r=1,\n    )\n\n    hxplt = Hx.reshape(x.size, z.size)\n    hzplt = Hz.reshape(x.size, z.size)\n\n    ax[ii] = fig.add_axes([0.1 + 0.28 * ii, 0.1, 0.2, 0.8])\n    absH = np.sqrt(Hx**2 + Hy**2 + Hz**2)\n    pc[ii] = ax[ii].pcolor(x, z, absH.reshape(x.size, z.size), norm=LogNorm())\n    ax[ii].streamplot(x, z, hxplt.real, hzplt.real, color=\"k\", density=1)\n    ax[ii].set_xlim([x.min(), x.max()])\n    ax[ii].set_ylim([z.min(), z.max()])\n    ax[ii].set_title(\"H at t = {} s\".format(t[ii]))\n    ax[ii].set_xlabel(\"x\")\n    ax[ii].set_ylabel(\"z\")\n    cb[ii] = plt.colorbar(pc[ii], ax=ax[ii])\n    cb[ii].set_label(\"H (A/m)\")\n\n# Plot the time-derivative\nfig = plt.figure(figsize=(14, 3))\nax = 3 * [None]\ncb = 3 * [None]\npc = 3 * [None]\n\nfor ii in range(0, 3):\n    # Compute the fields\n    dHdtx, dHdty, dHdtz = TransientMagneticDipoleWholeSpace(\n        observation_locations,\n        source_location,\n        sig,\n        t[ii],\n        moment=\"Z\",\n        fieldType=\"dhdt\",\n        mu_r=1,\n    )\n\n    dhdtxplt = dHdtx.reshape(x.size, z.size)\n    dhdtzplt = dHdtz.reshape(x.size, z.size)\n\n    ax[ii] = fig.add_axes([0.1 + 0.28 * ii, 0.1, 0.2, 0.8])\n    absdHdt = np.sqrt(dHdtx**2 + dHdty**2 + dHdtz**2)\n    pc[ii] = ax[ii].pcolor(x, z, absdHdt.reshape(x.size, z.size), norm=LogNorm())\n    ax[ii].streamplot(x, z, dhdtxplt.real, dhdtzplt.real, color=\"k\", density=1)\n    ax[ii].set_xlim([x.min(), x.max()])\n    ax[ii].set_ylim([z.min(), z.max()])\n    ax[ii].set_title(\"dH/dt at t = {} s\".format(t[ii]))\n    ax[ii].set_xlabel(\"x\")\n    ax[ii].set_ylabel(\"z\")\n    cb[ii] = plt.colorbar(pc[ii], ax=ax[ii])\n    cb[ii].set_label(\"dH/dt (A/m*s)\")"
      ]
    },
    {
      "cell_type": "markdown",
      "metadata": {},
      "source": [
        "## Electric Field from a Transient Electric Current Dipole Source\n\nHere, we compute the electric fields for a transient electric current dipole\nsource in the z direction. Based on the geometry of the problem, we\nexpect electric fields in the x and z directions, but none in the y\ndirection.\n\n\n"
      ]
    },
    {
      "cell_type": "code",
      "execution_count": null,
      "metadata": {
        "collapsed": false
      },
      "outputs": [],
      "source": [
        "# Defining electric dipole location and frequency\nsource_location = np.r_[0, 0, 0]\nt = [1e-4, 1e-3, 1e-2]\n\n# Defining observation locations (avoid placing observation at source)\nx = np.arange(-201, 201, step=2.0)\ny = np.r_[0]\nz = x\nobservation_locations = utils.ndgrid(x, y, z)\n\n# Define wholespace conductivity\nsig = 1e0\n\nfig = plt.figure(figsize=(14, 3))\nax = 3 * [None]\ncb = 3 * [None]\npc = 3 * [None]\n\nfor ii in range(0, 3):\n    # Compute the fields\n    Ex, Ey, Ez = TransientElectricDipoleWholeSpace(\n        observation_locations,\n        source_location,\n        sig,\n        t[ii],\n        moment=\"Z\",\n        fieldType=\"e\",\n        mu_r=1,\n    )\n\n    explt = Ex.reshape(x.size, z.size)\n    ezplt = Ez.reshape(x.size, z.size)\n\n    ax[ii] = fig.add_axes([0.1 + 0.28 * ii, 0.1, 0.2, 0.8])\n    absE = np.sqrt(Ex**2 + Ey**2 + Ez**2)\n    pc[ii] = ax[ii].pcolor(x, z, absE.reshape(x.size, z.size), norm=LogNorm())\n    ax[ii].streamplot(x, z, explt.real, ezplt.real, color=\"k\", density=1)\n    ax[ii].set_xlim([x.min(), x.max()])\n    ax[ii].set_ylim([z.min(), z.max()])\n    ax[ii].set_title(\"E at t = {} s\".format(t[ii]))\n    ax[ii].set_xlabel(\"x\")\n    ax[ii].set_ylabel(\"z\")\n    cb[ii] = plt.colorbar(pc[ii], ax=ax[ii])\n    cb[ii].set_label(\"E (V/m)\")"
      ]
    },
    {
      "cell_type": "markdown",
      "metadata": {},
      "source": [
        "## Magnetic Field from a Transient Electric Dipole Source\n\nHere, we compute the magnetic fields for a transient electric current dipole\nsource in the y direction. Based on the geometry of the problem, we\nexpect rotational magnetic fields in the x and z directions, but no fields\nin the y direction.\n\n\n"
      ]
    },
    {
      "cell_type": "code",
      "execution_count": null,
      "metadata": {
        "collapsed": false
      },
      "outputs": [],
      "source": [
        "# Defining electric dipole location and frequency\nsource_location = np.r_[0, 0, 0]\nt = [1e-4, 1e-3, 1e-2]\n\n# Defining observation locations (avoid placing observation at source)\nx = np.arange(-201, 201, step=2.0)\ny = np.r_[0]\nz = x\nobservation_locations = utils.ndgrid(x, y, z)\n\n# Define wholespace conductivity\nsig = 1e0\n\nfig = plt.figure(figsize=(14, 3))\nax = 3 * [None]\ncb = 3 * [None]\npc = 3 * [None]\n\nfor ii in range(0, 3):\n    # Compute the fields\n    Hx, Hy, Hz = TransientElectricDipoleWholeSpace(\n        observation_locations,\n        source_location,\n        sig,\n        t[ii],\n        moment=\"Y\",\n        fieldType=\"h\",\n        mu_r=1,\n    )\n\n    hxplt = Hx.reshape(x.size, z.size)\n    hzplt = Hz.reshape(x.size, z.size)\n\n    ax[ii] = fig.add_axes([0.1 + 0.28 * ii, 0.1, 0.2, 0.8])\n    absH = np.sqrt(Hx**2 + Hy**2 + Hz**2)\n    pc[ii] = ax[ii].pcolor(x, z, absH.reshape(x.size, z.size), norm=LogNorm())\n    ax[ii].streamplot(x, z, hxplt.real, hzplt.real, color=\"k\", density=1)\n    ax[ii].set_xlim([x.min(), x.max()])\n    ax[ii].set_ylim([z.min(), z.max()])\n    ax[ii].set_title(\"H at t = {} s\".format(t[ii]))\n    ax[ii].set_xlabel(\"x\")\n    ax[ii].set_ylabel(\"z\")\n    cb[ii] = plt.colorbar(pc[ii], ax=ax[ii])\n    cb[ii].set_label(\"H (A/m)\")"
      ]
    }
  ],
  "metadata": {
    "kernelspec": {
      "display_name": "Python 3",
      "language": "python",
      "name": "python3"
    },
    "language_info": {
      "codemirror_mode": {
        "name": "ipython",
        "version": 3
      },
      "file_extension": ".py",
      "mimetype": "text/x-python",
      "name": "python",
      "nbconvert_exporter": "python",
      "pygments_lexer": "ipython3",
      "version": "3.8.19"
    }
  },
  "nbformat": 4,
  "nbformat_minor": 0
}